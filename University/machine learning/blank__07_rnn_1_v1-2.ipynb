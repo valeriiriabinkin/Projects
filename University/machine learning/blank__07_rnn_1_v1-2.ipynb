{
 "cells": [
  {
   "cell_type": "markdown",
   "metadata": {
    "id": "0cg0g4cwY2ai"
   },
   "source": [
    "## Загрузка библиотек"
   ]
  },
  {
   "cell_type": "code",
   "execution_count": null,
   "metadata": {
    "colab": {
     "base_uri": "https://localhost:8080/"
    },
    "id": "jYqRRotKxK7X",
    "outputId": "96576bff-89a8-4c05-e663-c967a98e8eb9"
   },
   "outputs": [
    {
     "name": "stdout",
     "output_type": "stream",
     "text": [
      "Looking in indexes: https://pypi.org/simple, https://us-python.pkg.dev/colab-wheels/public/simple/\n",
      "Collecting w3lib\n",
      "  Downloading w3lib-2.1.1-py3-none-any.whl (21 kB)\n"
     ]
    }
   ],
   "source": [
    "pip install w3lib"
   ]
  },
  {
   "cell_type": "code",
   "execution_count": null,
   "metadata": {
    "colab": {
     "base_uri": "https://localhost:8080/"
    },
    "id": "zKMq7dp2W15Y",
    "outputId": "ed8f0f0d-a6cc-48a3-afe2-eeefbb37e4ad"
   },
   "outputs": [
    {
     "name": "stderr",
     "output_type": "stream",
     "text": [
      "[nltk_data] Downloading package punkt to /root/nltk_data...\n",
      "[nltk_data]   Package punkt is already up-to-date!\n",
      "[nltk_data] Downloading package stopwords to /root/nltk_data...\n",
      "[nltk_data]   Package stopwords is already up-to-date!\n"
     ]
    },
    {
     "data": {
      "text/plain": [
       "True"
      ]
     },
     "execution_count": 2,
     "metadata": {},
     "output_type": "execute_result"
    }
   ],
   "source": [
    "import re\n",
    "import nltk\n",
    "\n",
    "import torch\n",
    "from torch.utils.data import Dataset, DataLoader\n",
    "import torch.nn as nn\n",
    "import torch.optim as optim\n",
    "\n",
    "import pandas as pd\n",
    "from sklearn.model_selection import train_test_split\n",
    "from sklearn.metrics import accuracy_score\n",
    "from nltk.tokenize import word_tokenize\n",
    "from sklearn.preprocessing import LabelEncoder\n",
    "\n",
    "# Доп. библиотеки\n",
    "import numpy as np\n",
    "import torch.nn.functional as F\n",
    "import matplotlib.pyplot as plt\n",
    "import seaborn as sns\n",
    "import os\n",
    "from google.colab import drive\n",
    "import copy\n",
    "from tqdm import tqdm\n",
    "from nltk.corpus import stopwords\n",
    "nltk.download('punkt')\n",
    "nltk.download(\"stopwords\")"
   ]
  },
  {
   "cell_type": "code",
   "execution_count": null,
   "metadata": {
    "colab": {
     "base_uri": "https://localhost:8080/"
    },
    "id": "hBkqaK5bawXN",
    "outputId": "9649ecad-91cf-4d7d-b682-43832a7898af"
   },
   "outputs": [
    {
     "name": "stdout",
     "output_type": "stream",
     "text": [
      "Drive already mounted at /content/drive/; to attempt to forcibly remount, call drive.mount(\"/content/drive/\", force_remount=True).\n"
     ]
    }
   ],
   "source": [
    "device = torch.device(\"cuda\" if torch.cuda.is_available() else \"cpu\")\n",
    "\n",
    "drive.mount('/content/drive/')\n",
    "main_path = \"/content/drive/MyDrive/Университет/ТОБД/2 семестр/Задание 7/\"\n",
    "os.chdir(main_path)"
   ]
  },
  {
   "cell_type": "markdown",
   "metadata": {
    "id": "z6RchKVkY6g3"
   },
   "source": [
    "## Объявление функций"
   ]
  },
  {
   "cell_type": "code",
   "execution_count": null,
   "metadata": {
    "id": "O4f1OsBjM9ua"
   },
   "outputs": [],
   "source": [
    "# v2\n",
    "\n",
    "def number_of_correct_ans(y_hat, y):\n",
    "  # Считаем кол-во верных ответов (работает для ответов - векторов)\n",
    "  y_hat = y_hat.argmax(axis=1)\n",
    "  correct_mask = y_hat == y\n",
    "  return correct_mask.sum()\n",
    "\n",
    "\n",
    "def evaluate_accuracy(net, test_iter):\n",
    "\n",
    "  # Выставляем режим оценки модели\n",
    "  net.eval()\n",
    "\n",
    "  total_samples = len(test_iter.dataset) #Общее кол-во элементво в выборке\n",
    "  correct_ans = 0\n",
    "\n",
    "  with torch.no_grad():\n",
    "    for X, y in test_iter:\n",
    "      X, y = X.to(device), y.to(device)\n",
    "\n",
    "      y_hat = net(X)\n",
    "      correct_ans += number_of_correct_ans(y_hat, y)\n",
    "\n",
    "  return correct_ans / total_samples\n",
    "\n",
    "\n",
    "def train_epoch(net, train_iter, loss, updater, clip_value):\n",
    "\n",
    "  # Выставляем режим обучения модели\n",
    "  net.train()\n",
    "\n",
    "  total_samples = len(train_iter.dataset)\n",
    "  correct_samples = 0\n",
    "  total_loss = 0\n",
    "\n",
    "  for X, y in train_iter:\n",
    "    X, y = X.to(device), y.to(device)\n",
    "\n",
    "    y_hat = net(X)\n",
    "    l = loss(y_hat, y)\n",
    "\n",
    "    updater.zero_grad()\n",
    "    l.backward()\n",
    "    if clip_value:\n",
    "      torch.nn.utils.clip_grad_norm_(net.parameters(), clip_value)\n",
    "    updater.step()\n",
    "\n",
    "    total_loss += l\n",
    "    correct_samples += number_of_correct_ans(y_hat, y)\n",
    "\n",
    "  return total_loss / total_samples, correct_samples / total_samples\n",
    "\n",
    "\n",
    "class Model_metrics:\n",
    "  def __init__(self):\n",
    "    self.train_loss = []\n",
    "    self.train_accuracy = []\n",
    "    self.test_accuracy = []\n",
    "\n",
    "  def add(self, train_loss, train_accuracy, test_accuracy):\n",
    "      self.train_loss.append(train_loss.cpu().item())\n",
    "      self.train_accuracy.append(train_accuracy.cpu().item())\n",
    "      self.test_accuracy.append(test_accuracy.cpu().item())\n",
    "\n",
    "  def plot(self):\n",
    "      plt.rcParams.update({'font.size': 12})\n",
    "      fig, ax = plt.subplots(nrows=1, ncols=2, figsize=(15, 5))\n",
    "      epochs = np.arange(len(self.train_loss))\n",
    "\n",
    "      # График функции потерь\n",
    "      ax[0].plot(epochs, self.train_loss, label=\"train loss\")\n",
    "      ax[0].set_xticks(epochs)\n",
    "      ax[0].grid()\n",
    "      ax[0].legend()\n",
    "\n",
    "      # График точности на обучении и тесте\n",
    "      ax[1].plot(epochs, self.train_accuracy, label=\"train accuracy\")\n",
    "      ax[1].plot(epochs, self.test_accuracy, label=\"test accuracy\")\n",
    "      ax[1].set_xticks(epochs)\n",
    "      ax[1].grid()\n",
    "      ax[1].legend()\n",
    "\n",
    "      plt.show()\n",
    "\n",
    "\n",
    "  def return_dict(self):\n",
    "    res = {\n",
    "        \"train_loss\": self.train_loss,\n",
    "        \"train_accuracy\": self.train_accuracy,\n",
    "        \"test_accuracy\": self.test_accuracy\n",
    "    }\n",
    "    return res\n",
    "\n",
    "\n",
    "def saving(net, model_metrics, path):\n",
    "  state = {\"state_dict\": net.state_dict()}\n",
    "  metrics_dict = model_metrics.return_dict()\n",
    "  state = {**state, **metrics_dict}\n",
    "  torch.save(state, path)\n",
    "\n",
    "\n",
    "def train_rnn_model(net, train_iter, test_iter, loss,\n",
    "                num_epochs, updater, clip_value = None, path=None):\n",
    "\n",
    "  model_metrics = Model_metrics()\n",
    "  for epoch in tqdm(range(num_epochs)):\n",
    "    train_loss, train_accuracy = train_epoch(net, train_iter, loss, updater, clip_value)\n",
    "    test_accuracy = evaluate_accuracy(net, test_iter)\n",
    "    model_metrics.add(train_loss, train_accuracy, test_accuracy)\n",
    "    print (f': Loss: {train_loss:.4f}, Train acc: {train_accuracy:.4f}, Test acc: {test_accuracy:.4f}')\n",
    "  model_metrics.plot()\n",
    "  if path:\n",
    "    saving(net, model_metrics, path)\n"
   ]
  },
  {
   "cell_type": "markdown",
   "metadata": {
    "id": "Jm-QilGISxkt"
   },
   "source": [
    "## 1. Классификация фамилий (RNN)\n",
    "\n",
    "Датасет: https://disk.yandex.ru/d/frNchuaBQVLxyA?w=1"
   ]
  },
  {
   "cell_type": "markdown",
   "metadata": {
    "id": "YdPr92i6k-If"
   },
   "source": [
    "1.1 Используя класс `nn.RNNCell` (абстракцию для отдельного временного шага RNN), реализуйте простейшую рекуррентную сеть Элмана в виде класса `RNN`. Используя созданный класс `RNN`, решите задачу классификации фамилий. \n"
   ]
  },
  {
   "cell_type": "code",
   "execution_count": null,
   "metadata": {
    "id": "ir6UUkl6l4tp"
   },
   "outputs": [],
   "source": [
    "class RNN(nn.Module):\n",
    "  def __init__(self, input_size, hidden_size):\n",
    "      super().__init__()\n",
    "      self.rnn_cell=nn.RNNCell(input_size,hidden_size)\n",
    "      self.hidden_size=hidden_size\n",
    "      self.input_size=input_size\n",
    "  def forward(self, x, h=None):\n",
    "    batch_size,seq_size,emb_size=x.shape\n",
    "    # инициализация тензора скрытых состояний\n",
    "    # h = ...\n",
    "    if h is None:\n",
    "        h=torch.zeros(batch_size, self.hidden_size).to(device=x.device)\n",
    "    output = torch.zeros(batch_size, seq_size, self.hidden_size).to(device=x.device)\n",
    "    # проход по каждому элементу последовательностей s в батче и обновление скрытого состояния\n",
    "    for t in range(seq_size):\n",
    "         h = self.rnn_cell(x[:, t, :], h)\n",
    "         output[:, t, :] = h\n",
    "    return (output, h)\n",
    "    # вернуть тензор всех наблюдавшихся скрытых состояний размера (batch_size, seq_len, hidden_size) и тензор скрытых состояний в последний момент времени"
   ]
  },
  {
   "cell_type": "code",
   "execution_count": null,
   "metadata": {
    "id": "cMn3GkKojwih"
   },
   "outputs": [],
   "source": [
    "batch_size, seq_len, embedding_size, hidden_size = 5, 5, 7, 10\n",
    "X = torch.rand(batch_size, seq_len, embedding_size)\n",
    "rnn = RNN(embedding_size, hidden_size)"
   ]
  },
  {
   "cell_type": "code",
   "execution_count": null,
   "metadata": {
    "id": "8r2GiCx7kCBM"
   },
   "outputs": [],
   "source": [
    "train_surnames = pd.read_csv(\"../Задание 5/data/surnames.csv\")\n",
    "class_encoder = LabelEncoder()\n",
    "train_surnames['nationality'] = class_encoder.fit_transform(train_surnames['nationality'])\n",
    "\n",
    "X = train_surnames['surname'].str.lower()\n",
    "y = train_surnames['nationality']\n",
    "n_classes = y.nunique()\n",
    "\n",
    "X_train, X_test, y_train, y_test = train_test_split(X, y, test_size=0.2, random_state=1)"
   ]
  },
  {
   "cell_type": "code",
   "execution_count": null,
   "metadata": {
    "colab": {
     "base_uri": "https://localhost:8080/"
    },
    "id": "yBmt4JDcmroA",
    "outputId": "71c39bd9-d65e-4b0e-83d9-d24391318acd"
   },
   "outputs": [
    {
     "name": "stdout",
     "output_type": "stream",
     "text": [
      "18\n"
     ]
    }
   ],
   "source": [
    "print(n_classes)"
   ]
  },
  {
   "cell_type": "code",
   "execution_count": null,
   "metadata": {
    "id": "qt5N16ZfmxuP"
   },
   "outputs": [],
   "source": [
    "class Vocab:\n",
    "     def __init__(self, data):\n",
    "        tokens = set()\n",
    "        self.max_seq_len = 0\n",
    "        for item in data:\n",
    "            tokens.update(item)\n",
    "            self.max_seq_len = max(self.max_seq_len, len(item))\n",
    "        self.unk_token = '<UNK>'\n",
    "        self.pad_token = '<PAD>'\n",
    "        self.idx_to_token = dict(enumerate(tokens, 2))\n",
    "        self.idx_to_token[1] = self.unk_token\n",
    "        self.idx_to_token[0] = self.pad_token\n",
    "        self.token_to_idx = {token: idx for idx, token in self.idx_to_token.items()}\n",
    "        self.vocab_len = len(self.idx_to_token)\n",
    "class SurnamesDataset(Dataset):\n",
    "    def __init__(self, X, y, vocab):\n",
    "                     self.X = X\n",
    "                     self.y = y\n",
    "                     self.vocab = vocab\n",
    "    def to_sequence(self, surname):\n",
    "        tok_seq = [self.vocab.token_to_idx[tok] for tok in surname]\n",
    "        padds_len = self.vocab.max_seq_len - len(tok_seq)\n",
    "        pad_idx = self.vocab.token_to_idx[self.vocab.pad_token]\n",
    "        padds = [pad_idx] * padds_len\n",
    "        return torch.LongTensor(tok_seq + padds)\n",
    "    def __len__(self):\n",
    "      return len(self.X)\n",
    "    def __getitem__(self, idx):\n",
    "      return self.to_sequence(self.X.iloc[idx]), self.y.iloc[idx]\n"
   ]
  },
  {
   "cell_type": "code",
   "execution_count": null,
   "metadata": {
    "id": "yaSHtEtitnWC"
   },
   "outputs": [],
   "source": [
    "vocab = Vocab(X)\n",
    "train_dataset = SurnamesDataset(X_train, y_train, vocab)\n",
    "test_dataset = SurnamesDataset(X_test, y_test, vocab)\n",
    "train_loader = DataLoader(train_dataset, batch_size=128, shuffle=True)\n",
    "test_loader = DataLoader(test_dataset, batch_size=128, shuffle=True)"
   ]
  },
  {
   "cell_type": "markdown",
   "metadata": {
    "id": "rTuB7XXKe8eD"
   },
   "source": [
    "### Custom RNN"
   ]
  },
  {
   "cell_type": "code",
   "execution_count": null,
   "metadata": {
    "id": "9Ijj4UtgvIx_"
   },
   "outputs": [],
   "source": [
    "class RNNClassifierCustomRNN(nn.Module):\n",
    "  def __init__(self, vocab_len, embedding_size, rnn_hidden_size, num_classes):\n",
    "    super().__init__()\n",
    "    self.embedding = nn.Embedding(vocab_len, embedding_size, padding_idx=0)\n",
    "    self.rnn = RNN(embedding_size, rnn_hidden_size)\n",
    "    self.classifier = nn.Sequential(nn.Linear(rnn_hidden_size, rnn_hidden_size),nn.ReLU(), nn.Dropout(0.5), nn.Linear(rnn_hidden_size, num_classes))\n",
    "    self.dropout = nn.Dropout(0.5)\n",
    "  \n",
    "  def forward(self, X):\n",
    "    out = self.embedding(X) # batch x seq x emb\n",
    "    out = torch.squeeze(self.rnn(out)[1]) # batch x rnn_hidden\n",
    "    out = self.dropout(out) # batch x rnn_hidden\n",
    "    out = self.classifier(out) # batch x num_classes\n",
    "    return out\n"
   ]
  },
  {
   "cell_type": "code",
   "execution_count": null,
   "metadata": {
    "id": "KFw6Omr_2ohO"
   },
   "outputs": [],
   "source": [
    "vocab_len = vocab.vocab_len\n",
    "embedding_size = 30\n",
    "rnn_hidden_size = 256\n",
    "num_classes = n_classes\n",
    "net = RNNClassifierCustomRNN(vocab_len, embedding_size, rnn_hidden_size, num_classes)\n",
    "net.to(device)\n",
    "\n",
    "loss = nn.CrossEntropyLoss()  \n",
    "lr = 0.001\n",
    "updater = optim.Adam(net.parameters(), lr=lr)\n",
    "\n",
    "task_path = \"./Saved models/\"\n",
    "file_name = \"Surname_task_main.pt\"\n",
    "num_epochs = 20 "
   ]
  },
  {
   "cell_type": "code",
   "execution_count": null,
   "metadata": {
    "colab": {
     "base_uri": "https://localhost:8080/",
     "height": 429
    },
    "id": "Ij8tdtqPOq1O",
    "outputId": "7213cec6-2a3f-40d2-b25b-4e62ff851610"
   },
   "outputs": [
    {
     "name": "stderr",
     "output_type": "stream",
     "text": [
      " 20%|██        | 1/5 [00:03<00:13,  3.36s/it]"
     ]
    },
    {
     "name": "stdout",
     "output_type": "stream",
     "text": [
      ": Loss: 0.0104, Train acc: 0.6457, Test acc: 0.6471\n"
     ]
    },
    {
     "name": "stderr",
     "output_type": "stream",
     "text": [
      "\r",
      " 40%|████      | 2/5 [00:06<00:09,  3.23s/it]"
     ]
    },
    {
     "name": "stdout",
     "output_type": "stream",
     "text": [
      ": Loss: 0.0098, Train acc: 0.6658, Test acc: 0.6585\n"
     ]
    },
    {
     "name": "stderr",
     "output_type": "stream",
     "text": [
      "\r",
      " 60%|██████    | 3/5 [00:09<00:05,  2.90s/it]"
     ]
    },
    {
     "name": "stdout",
     "output_type": "stream",
     "text": [
      ": Loss: 0.0093, Train acc: 0.6770, Test acc: 0.6607\n"
     ]
    },
    {
     "name": "stderr",
     "output_type": "stream",
     "text": [
      "\r",
      " 80%|████████  | 4/5 [00:11<00:02,  2.72s/it]"
     ]
    },
    {
     "name": "stdout",
     "output_type": "stream",
     "text": [
      ": Loss: 0.0090, Train acc: 0.6876, Test acc: 0.6708\n"
     ]
    },
    {
     "name": "stderr",
     "output_type": "stream",
     "text": [
      "100%|██████████| 5/5 [00:13<00:00,  2.78s/it]"
     ]
    },
    {
     "name": "stdout",
     "output_type": "stream",
     "text": [
      ": Loss: 0.0088, Train acc: 0.6915, Test acc: 0.6790\n"
     ]
    },
    {
     "name": "stderr",
     "output_type": "stream",
     "text": [
      "\n"
     ]
    },
    {
     "data": {
      "image/png": "[encoded data removed]",
      "text/plain": [
       "<Figure size 1080x360 with 2 Axes>"
      ]
     },
     "metadata": {
      "needs_background": "light"
     },
     "output_type": "display_data"
    }
   ],
   "source": [
    "#Обучение сети\n",
    "path = \"./Saved models/Surname_task_main.pt\"\n",
    "num_epochs = 5\n",
    "train_model(net, train_loader, test_loader, loss, num_epochs, updater, path)"
   ]
  },
  {
   "cell_type": "code",
   "execution_count": null,
   "metadata": {
    "colab": {
     "base_uri": "https://localhost:8080/",
     "height": 680
    },
    "id": "gR0KcNYY0tja",
    "outputId": "762076d9-0a5a-44d6-faa9-cda2910b8584"
   },
   "outputs": [
    {
     "name": "stderr",
     "output_type": "stream",
     "text": [
      "  5%|▌         | 1/20 [00:02<00:50,  2.68s/it]"
     ]
    },
    {
     "name": "stdout",
     "output_type": "stream",
     "text": [
      ": Loss: 0.0183, Train acc: 0.2509, Test acc: 0.2582\n"
     ]
    },
    {
     "name": "stderr",
     "output_type": "stream",
     "text": [
      "\r",
      " 10%|█         | 2/20 [00:05<00:47,  2.62s/it]"
     ]
    },
    {
     "name": "stdout",
     "output_type": "stream",
     "text": [
      ": Loss: 0.0176, Train acc: 0.2645, Test acc: 0.2582\n"
     ]
    },
    {
     "name": "stderr",
     "output_type": "stream",
     "text": [
      "\r",
      " 15%|█▌        | 3/20 [00:07<00:44,  2.62s/it]"
     ]
    },
    {
     "name": "stdout",
     "output_type": "stream",
     "text": [
      ": Loss: 0.0167, Train acc: 0.3319, Test acc: 0.4290\n"
     ]
    },
    {
     "name": "stderr",
     "output_type": "stream",
     "text": [
      "\r",
      " 20%|██        | 4/20 [00:10<00:41,  2.60s/it]"
     ]
    },
    {
     "name": "stdout",
     "output_type": "stream",
     "text": [
      ": Loss: 0.0146, Train acc: 0.4664, Test acc: 0.5009\n"
     ]
    },
    {
     "name": "stderr",
     "output_type": "stream",
     "text": [
      "\r",
      " 25%|██▌       | 5/20 [00:12<00:38,  2.58s/it]"
     ]
    },
    {
     "name": "stdout",
     "output_type": "stream",
     "text": [
      ": Loss: 0.0137, Train acc: 0.5052, Test acc: 0.4991\n"
     ]
    },
    {
     "name": "stderr",
     "output_type": "stream",
     "text": [
      "\r",
      " 30%|███       | 6/20 [00:15<00:35,  2.57s/it]"
     ]
    },
    {
     "name": "stdout",
     "output_type": "stream",
     "text": [
      ": Loss: 0.0130, Train acc: 0.5434, Test acc: 0.5533\n"
     ]
    },
    {
     "name": "stderr",
     "output_type": "stream",
     "text": [
      "\r",
      " 35%|███▌      | 7/20 [00:18<00:33,  2.58s/it]"
     ]
    },
    {
     "name": "stdout",
     "output_type": "stream",
     "text": [
      ": Loss: 0.0120, Train acc: 0.5857, Test acc: 0.6043\n"
     ]
    },
    {
     "name": "stderr",
     "output_type": "stream",
     "text": [
      "\r",
      " 40%|████      | 8/20 [00:20<00:30,  2.58s/it]"
     ]
    },
    {
     "name": "stdout",
     "output_type": "stream",
     "text": [
      ": Loss: 0.0111, Train acc: 0.6190, Test acc: 0.6175\n"
     ]
    },
    {
     "name": "stderr",
     "output_type": "stream",
     "text": [
      "\r",
      " 45%|████▌     | 9/20 [00:23<00:28,  2.58s/it]"
     ]
    },
    {
     "name": "stdout",
     "output_type": "stream",
     "text": [
      ": Loss: 0.0103, Train acc: 0.6426, Test acc: 0.6339\n"
     ]
    },
    {
     "name": "stderr",
     "output_type": "stream",
     "text": [
      "\r",
      " 50%|█████     | 10/20 [00:25<00:25,  2.57s/it]"
     ]
    },
    {
     "name": "stdout",
     "output_type": "stream",
     "text": [
      ": Loss: 0.0098, Train acc: 0.6629, Test acc: 0.6557\n"
     ]
    },
    {
     "name": "stderr",
     "output_type": "stream",
     "text": [
      "\r",
      " 55%|█████▌    | 11/20 [00:28<00:23,  2.57s/it]"
     ]
    },
    {
     "name": "stdout",
     "output_type": "stream",
     "text": [
      ": Loss: 0.0090, Train acc: 0.6815, Test acc: 0.6653\n"
     ]
    },
    {
     "name": "stderr",
     "output_type": "stream",
     "text": [
      "\r",
      " 60%|██████    | 12/20 [00:30<00:20,  2.56s/it]"
     ]
    },
    {
     "name": "stdout",
     "output_type": "stream",
     "text": [
      ": Loss: 0.0085, Train acc: 0.6926, Test acc: 0.6903\n"
     ]
    },
    {
     "name": "stderr",
     "output_type": "stream",
     "text": [
      "\r",
      " 65%|██████▌   | 13/20 [00:33<00:17,  2.57s/it]"
     ]
    },
    {
     "name": "stdout",
     "output_type": "stream",
     "text": [
      ": Loss: 0.0083, Train acc: 0.6995, Test acc: 0.6749\n"
     ]
    },
    {
     "name": "stderr",
     "output_type": "stream",
     "text": [
      "\r",
      " 70%|███████   | 14/20 [00:36<00:15,  2.56s/it]"
     ]
    },
    {
     "name": "stdout",
     "output_type": "stream",
     "text": [
      ": Loss: 0.0079, Train acc: 0.7106, Test acc: 0.6944\n"
     ]
    },
    {
     "name": "stderr",
     "output_type": "stream",
     "text": [
      "\r",
      " 75%|███████▌  | 15/20 [00:38<00:12,  2.57s/it]"
     ]
    },
    {
     "name": "stdout",
     "output_type": "stream",
     "text": [
      ": Loss: 0.0074, Train acc: 0.7300, Test acc: 0.6981\n"
     ]
    },
    {
     "name": "stderr",
     "output_type": "stream",
     "text": [
      "\r",
      " 80%|████████  | 16/20 [00:41<00:10,  2.56s/it]"
     ]
    },
    {
     "name": "stdout",
     "output_type": "stream",
     "text": [
      ": Loss: 0.0072, Train acc: 0.7327, Test acc: 0.6990\n"
     ]
    },
    {
     "name": "stderr",
     "output_type": "stream",
     "text": [
      "\r",
      " 85%|████████▌ | 17/20 [00:43<00:07,  2.56s/it]"
     ]
    },
    {
     "name": "stdout",
     "output_type": "stream",
     "text": [
      ": Loss: 0.0070, Train acc: 0.7480, Test acc: 0.7036\n"
     ]
    },
    {
     "name": "stderr",
     "output_type": "stream",
     "text": [
      "\r",
      " 90%|█████████ | 18/20 [00:46<00:05,  2.56s/it]"
     ]
    },
    {
     "name": "stdout",
     "output_type": "stream",
     "text": [
      ": Loss: 0.0068, Train acc: 0.7472, Test acc: 0.6972\n"
     ]
    },
    {
     "name": "stderr",
     "output_type": "stream",
     "text": [
      "\r",
      " 95%|█████████▌| 19/20 [00:48<00:02,  2.57s/it]"
     ]
    },
    {
     "name": "stdout",
     "output_type": "stream",
     "text": [
      ": Loss: 0.0065, Train acc: 0.7601, Test acc: 0.7122\n"
     ]
    },
    {
     "name": "stderr",
     "output_type": "stream",
     "text": [
      "100%|██████████| 20/20 [00:51<00:00,  2.58s/it]"
     ]
    },
    {
     "name": "stdout",
     "output_type": "stream",
     "text": [
      ": Loss: 0.0062, Train acc: 0.7638, Test acc: 0.7086\n"
     ]
    },
    {
     "name": "stderr",
     "output_type": "stream",
     "text": [
      "\n"
     ]
    },
    {
     "data": {
      "image/png": "[encoded data removed]",
      "text/plain": [
       "<Figure size 1080x360 with 2 Axes>"
      ]
     },
     "metadata": {
      "needs_background": "light"
     },
     "output_type": "display_data"
    }
   ],
   "source": [
    "#Обучение сети\n",
    "train_model(net, train_loader, test_loader, loss, num_epochs, updater, task_path, file_name)"
   ]
  },
  {
   "cell_type": "markdown",
   "metadata": {
    "id": "a2MIErKTo9aO"
   },
   "source": [
    "1.2 Замените модуль `RNN` из 1.1 на модули `nn.RNN`, `nn.LSTM` и `nn.GRU` (не забудьте указать аргумент `batch_first=True`). Сравните результаты работы."
   ]
  },
  {
   "cell_type": "markdown",
   "metadata": {
    "id": "86yRqbHZfCFC"
   },
   "source": [
    "### nn.RNN"
   ]
  },
  {
   "cell_type": "code",
   "execution_count": null,
   "metadata": {
    "id": "JHQqFVcAbTio"
   },
   "outputs": [],
   "source": [
    "class RNNClassifierCustomRNN(nn.Module):\n",
    " def __init__(self, vocab_len, embedding_size, rnn_hidden_size, num_classes):\n",
    "    super().__init__()\n",
    "    self.embedding = nn.Embedding(vocab_len, embedding_size, padding_idx=0)\n",
    "    self.rnn = nn.RNN(embedding_size, rnn_hidden_size, batch_first=True)\n",
    "    self.classifier = nn.Sequential(nn.Linear(rnn_hidden_size, rnn_hidden_size),nn.ReLU(), nn.Dropout(0.5), nn.Linear(rnn_hidden_size, num_classes))\n",
    "    self.dropout = nn.Dropout(0.5)\n",
    " def forward(self, X):\n",
    "  out = self.embedding(X) # batch x seq x emb\n",
    "  out = torch.squeeze(self.rnn(out)[1]) # batch x rnn_hidden\n",
    "  out = self.dropout(out) # batch x rnn_hidden\n",
    "  out = self.classifier(out) # batch x num_classes\n",
    "  return out\n",
    "\n",
    "\n",
    "vocab_len = vocab.vocab_len\n",
    "embedding_size = 30\n",
    "rnn_hidden_size = 256\n",
    "num_classes = n_classes\n",
    "net = RNNClassifierCustomRNN(vocab_len, embedding_size, rnn_hidden_size, num_classes)\n",
    "net.to(device)\n",
    "\n",
    "loss = nn.CrossEntropyLoss()  \n",
    "lr = 0.001\n",
    "updater = optim.Adam(net.parameters(), lr=lr)\n",
    "\n",
    "task_path = \"./Saved models/\"\n",
    "file_name = \"Surname_task_nn_RNN.pt\"\n",
    "num_epochs = 25 "
   ]
  },
  {
   "cell_type": "code",
   "execution_count": null,
   "metadata": {
    "colab": {
     "base_uri": "https://localhost:8080/",
     "height": 765
    },
    "id": "hRGtzqhs1XHY",
    "outputId": "ccf4b673-deb4-4a29-db1e-cd8a03d72f09"
   },
   "outputs": [
    {
     "name": "stderr",
     "output_type": "stream",
     "text": [
      "  4%|▍         | 1/25 [00:02<01:10,  2.92s/it]"
     ]
    },
    {
     "name": "stdout",
     "output_type": "stream",
     "text": [
      ": Loss: 0.0184, Train acc: 0.2436, Test acc: 0.2582\n"
     ]
    },
    {
     "name": "stderr",
     "output_type": "stream",
     "text": [
      "\r",
      "  8%|▊         | 2/25 [00:05<01:06,  2.91s/it]"
     ]
    },
    {
     "name": "stdout",
     "output_type": "stream",
     "text": [
      ": Loss: 0.0177, Train acc: 0.2642, Test acc: 0.2582\n"
     ]
    },
    {
     "name": "stderr",
     "output_type": "stream",
     "text": [
      "\r",
      " 12%|█▏        | 3/25 [00:08<01:03,  2.90s/it]"
     ]
    },
    {
     "name": "stdout",
     "output_type": "stream",
     "text": [
      ": Loss: 0.0176, Train acc: 0.2671, Test acc: 0.2618\n"
     ]
    },
    {
     "name": "stderr",
     "output_type": "stream",
     "text": [
      "\r",
      " 16%|█▌        | 4/25 [00:11<01:00,  2.90s/it]"
     ]
    },
    {
     "name": "stdout",
     "output_type": "stream",
     "text": [
      ": Loss: 0.0167, Train acc: 0.3166, Test acc: 0.3866\n"
     ]
    },
    {
     "name": "stderr",
     "output_type": "stream",
     "text": [
      "\r",
      " 20%|██        | 5/25 [00:14<00:57,  2.90s/it]"
     ]
    },
    {
     "name": "stdout",
     "output_type": "stream",
     "text": [
      ": Loss: 0.0150, Train acc: 0.4472, Test acc: 0.4991\n"
     ]
    },
    {
     "name": "stderr",
     "output_type": "stream",
     "text": [
      "\r",
      " 24%|██▍       | 6/25 [00:17<00:55,  2.91s/it]"
     ]
    },
    {
     "name": "stdout",
     "output_type": "stream",
     "text": [
      ": Loss: 0.0135, Train acc: 0.5305, Test acc: 0.5556\n"
     ]
    },
    {
     "name": "stderr",
     "output_type": "stream",
     "text": [
      "\r",
      " 28%|██▊       | 7/25 [00:20<00:52,  2.90s/it]"
     ]
    },
    {
     "name": "stdout",
     "output_type": "stream",
     "text": [
      ": Loss: 0.0124, Train acc: 0.5693, Test acc: 0.6120\n"
     ]
    },
    {
     "name": "stderr",
     "output_type": "stream",
     "text": [
      "\r",
      " 32%|███▏      | 8/25 [00:23<00:49,  2.89s/it]"
     ]
    },
    {
     "name": "stdout",
     "output_type": "stream",
     "text": [
      ": Loss: 0.0112, Train acc: 0.6133, Test acc: 0.6216\n"
     ]
    },
    {
     "name": "stderr",
     "output_type": "stream",
     "text": [
      "\r",
      " 36%|███▌      | 9/25 [00:26<00:46,  2.89s/it]"
     ]
    },
    {
     "name": "stdout",
     "output_type": "stream",
     "text": [
      ": Loss: 0.0104, Train acc: 0.6438, Test acc: 0.6576\n"
     ]
    },
    {
     "name": "stderr",
     "output_type": "stream",
     "text": [
      "\r",
      " 40%|████      | 10/25 [00:28<00:43,  2.88s/it]"
     ]
    },
    {
     "name": "stdout",
     "output_type": "stream",
     "text": [
      ": Loss: 0.0096, Train acc: 0.6668, Test acc: 0.6603\n"
     ]
    },
    {
     "name": "stderr",
     "output_type": "stream",
     "text": [
      "\r",
      " 44%|████▍     | 11/25 [00:31<00:40,  2.89s/it]"
     ]
    },
    {
     "name": "stdout",
     "output_type": "stream",
     "text": [
      ": Loss: 0.0091, Train acc: 0.6824, Test acc: 0.6671\n"
     ]
    },
    {
     "name": "stderr",
     "output_type": "stream",
     "text": [
      "\r",
      " 48%|████▊     | 12/25 [00:34<00:37,  2.88s/it]"
     ]
    },
    {
     "name": "stdout",
     "output_type": "stream",
     "text": [
      ": Loss: 0.0086, Train acc: 0.6950, Test acc: 0.6781\n"
     ]
    },
    {
     "name": "stderr",
     "output_type": "stream",
     "text": [
      "\r",
      " 52%|█████▏    | 13/25 [00:37<00:34,  2.88s/it]"
     ]
    },
    {
     "name": "stdout",
     "output_type": "stream",
     "text": [
      ": Loss: 0.0084, Train acc: 0.6956, Test acc: 0.6926\n"
     ]
    },
    {
     "name": "stderr",
     "output_type": "stream",
     "text": [
      "\r",
      " 56%|█████▌    | 14/25 [00:40<00:31,  2.89s/it]"
     ]
    },
    {
     "name": "stdout",
     "output_type": "stream",
     "text": [
      ": Loss: 0.0079, Train acc: 0.7157, Test acc: 0.6931\n"
     ]
    },
    {
     "name": "stderr",
     "output_type": "stream",
     "text": [
      "\r",
      " 60%|██████    | 15/25 [00:43<00:28,  2.90s/it]"
     ]
    },
    {
     "name": "stdout",
     "output_type": "stream",
     "text": [
      ": Loss: 0.0076, Train acc: 0.7294, Test acc: 0.6881\n"
     ]
    },
    {
     "name": "stderr",
     "output_type": "stream",
     "text": [
      "\r",
      " 64%|██████▍   | 16/25 [00:46<00:26,  2.89s/it]"
     ]
    },
    {
     "name": "stdout",
     "output_type": "stream",
     "text": [
      ": Loss: 0.0074, Train acc: 0.7311, Test acc: 0.6990\n"
     ]
    },
    {
     "name": "stderr",
     "output_type": "stream",
     "text": [
      "\r",
      " 68%|██████▊   | 17/25 [00:49<00:23,  2.89s/it]"
     ]
    },
    {
     "name": "stdout",
     "output_type": "stream",
     "text": [
      ": Loss: 0.0073, Train acc: 0.7321, Test acc: 0.6922\n"
     ]
    },
    {
     "name": "stderr",
     "output_type": "stream",
     "text": [
      "\r",
      " 72%|███████▏  | 18/25 [00:52<00:20,  2.88s/it]"
     ]
    },
    {
     "name": "stdout",
     "output_type": "stream",
     "text": [
      ": Loss: 0.0070, Train acc: 0.7403, Test acc: 0.7090\n"
     ]
    },
    {
     "name": "stderr",
     "output_type": "stream",
     "text": [
      "\r",
      " 76%|███████▌  | 19/25 [00:54<00:17,  2.89s/it]"
     ]
    },
    {
     "name": "stdout",
     "output_type": "stream",
     "text": [
      ": Loss: 0.0068, Train acc: 0.7474, Test acc: 0.7049\n"
     ]
    },
    {
     "name": "stderr",
     "output_type": "stream",
     "text": [
      "\r",
      " 80%|████████  | 20/25 [00:57<00:14,  2.88s/it]"
     ]
    },
    {
     "name": "stdout",
     "output_type": "stream",
     "text": [
      ": Loss: 0.0066, Train acc: 0.7583, Test acc: 0.6995\n"
     ]
    },
    {
     "name": "stderr",
     "output_type": "stream",
     "text": [
      "\r",
      " 84%|████████▍ | 21/25 [01:00<00:11,  2.87s/it]"
     ]
    },
    {
     "name": "stdout",
     "output_type": "stream",
     "text": [
      ": Loss: 0.0063, Train acc: 0.7643, Test acc: 0.6926\n"
     ]
    },
    {
     "name": "stderr",
     "output_type": "stream",
     "text": [
      "\r",
      " 88%|████████▊ | 22/25 [01:03<00:08,  2.88s/it]"
     ]
    },
    {
     "name": "stdout",
     "output_type": "stream",
     "text": [
      ": Loss: 0.0062, Train acc: 0.7709, Test acc: 0.7054\n"
     ]
    },
    {
     "name": "stderr",
     "output_type": "stream",
     "text": [
      "\r",
      " 92%|█████████▏| 23/25 [01:06<00:05,  2.87s/it]"
     ]
    },
    {
     "name": "stdout",
     "output_type": "stream",
     "text": [
      ": Loss: 0.0059, Train acc: 0.7793, Test acc: 0.7067\n"
     ]
    },
    {
     "name": "stderr",
     "output_type": "stream",
     "text": [
      "\r",
      " 96%|█████████▌| 24/25 [01:09<00:02,  2.88s/it]"
     ]
    },
    {
     "name": "stdout",
     "output_type": "stream",
     "text": [
      ": Loss: 0.0057, Train acc: 0.7842, Test acc: 0.7067\n"
     ]
    },
    {
     "name": "stderr",
     "output_type": "stream",
     "text": [
      "100%|██████████| 25/25 [01:12<00:00,  2.89s/it]"
     ]
    },
    {
     "name": "stdout",
     "output_type": "stream",
     "text": [
      ": Loss: 0.0054, Train acc: 0.7964, Test acc: 0.7199\n"
     ]
    },
    {
     "name": "stderr",
     "output_type": "stream",
     "text": [
      "\n"
     ]
    },
    {
     "data": {
      "image/png": "[encoded data removed]",
      "text/plain": [
       "<Figure size 1080x360 with 2 Axes>"
      ]
     },
     "metadata": {
      "needs_background": "light"
     },
     "output_type": "display_data"
    }
   ],
   "source": [
    "#Обучение сети\n",
    "train_model(net, train_loader, test_loader, loss, num_epochs, updater, task_path, file_name)"
   ]
  },
  {
   "cell_type": "code",
   "execution_count": null,
   "metadata": {
    "id": "Gou7Olx4U6fD"
   },
   "outputs": [],
   "source": []
  },
  {
   "cell_type": "markdown",
   "metadata": {
    "id": "k00Pr_Iy26Ih"
   },
   "source": [
    "### nn.LSTM"
   ]
  },
  {
   "cell_type": "code",
   "execution_count": null,
   "metadata": {
    "id": "MYuNrwnR28xr"
   },
   "outputs": [],
   "source": [
    "class RNNClassifierCustomRNN(nn.Module):\n",
    " def __init__(self, vocab_len, embedding_size, rnn_hidden_size, num_classes):\n",
    "    super().__init__()\n",
    "    self.embedding = nn.Embedding(vocab_len, embedding_size, padding_idx=0)\n",
    "    self.rnn = nn.LSTM(embedding_size, rnn_hidden_size, batch_first=True)\n",
    "    self.classifier = nn.Sequential(nn.Linear(rnn_hidden_size, rnn_hidden_size),nn.ReLU(), nn.Dropout(0.5), nn.Linear(rnn_hidden_size, num_classes))\n",
    "    self.dropout = nn.Dropout(0.5)\n",
    " def forward(self, X):\n",
    "  out = self.embedding(X) # batch x seq x emb\n",
    "  out = torch.squeeze(self.rnn(out)[1][0]) # batch x rnn_hidden\n",
    "  out = self.dropout(out) # batch x rnn_hidden\n",
    "  out = self.classifier(out) # batch x num_classes\n",
    "  return out\n",
    "\n",
    "\n",
    "vocab_len = vocab.vocab_len\n",
    "embedding_size = 30\n",
    "rnn_hidden_size = 256\n",
    "num_classes = n_classes\n",
    "net = RNNClassifierCustomRNN(vocab_len, embedding_size, rnn_hidden_size, num_classes)\n",
    "net.to(device)\n",
    "\n",
    "loss = nn.CrossEntropyLoss()  \n",
    "lr = 0.001\n",
    "updater = optim.Adam(net.parameters(), lr=lr)\n",
    "\n",
    "task_path = \"./Saved models/\"\n",
    "file_name = \"Surname_task_nn_LSTM.pt\"\n",
    "num_epochs = 25 "
   ]
  },
  {
   "cell_type": "code",
   "execution_count": null,
   "metadata": {
    "colab": {
     "base_uri": "https://localhost:8080/",
     "height": 765
    },
    "id": "6vOT_IRe3MXt",
    "outputId": "17fc070e-d9ee-4e2e-ad7f-4983ae757677"
   },
   "outputs": [
    {
     "name": "stderr",
     "output_type": "stream",
     "text": [
      "  4%|▍         | 1/25 [00:08<03:25,  8.56s/it]"
     ]
    },
    {
     "name": "stdout",
     "output_type": "stream",
     "text": [
      ": Loss: 0.0184, Train acc: 0.2531, Test acc: 0.2582\n"
     ]
    },
    {
     "name": "stderr",
     "output_type": "stream",
     "text": [
      "\r",
      "  8%|▊         | 2/25 [00:16<03:06,  8.13s/it]"
     ]
    },
    {
     "name": "stdout",
     "output_type": "stream",
     "text": [
      ": Loss: 0.0165, Train acc: 0.3386, Test acc: 0.4053\n"
     ]
    },
    {
     "name": "stderr",
     "output_type": "stream",
     "text": [
      "\r",
      " 12%|█▏        | 3/25 [00:24<03:00,  8.18s/it]"
     ]
    },
    {
     "name": "stdout",
     "output_type": "stream",
     "text": [
      ": Loss: 0.0149, Train acc: 0.4277, Test acc: 0.4795\n"
     ]
    },
    {
     "name": "stderr",
     "output_type": "stream",
     "text": [
      "\r",
      " 16%|█▌        | 4/25 [00:32<02:51,  8.17s/it]"
     ]
    },
    {
     "name": "stdout",
     "output_type": "stream",
     "text": [
      ": Loss: 0.0130, Train acc: 0.5242, Test acc: 0.5679\n"
     ]
    },
    {
     "name": "stderr",
     "output_type": "stream",
     "text": [
      "\r",
      " 20%|██        | 5/25 [00:41<02:45,  8.29s/it]"
     ]
    },
    {
     "name": "stdout",
     "output_type": "stream",
     "text": [
      ": Loss: 0.0119, Train acc: 0.5729, Test acc: 0.5902\n"
     ]
    },
    {
     "name": "stderr",
     "output_type": "stream",
     "text": [
      "\r",
      " 24%|██▍       | 6/25 [00:49<02:37,  8.27s/it]"
     ]
    },
    {
     "name": "stdout",
     "output_type": "stream",
     "text": [
      ": Loss: 0.0107, Train acc: 0.6132, Test acc: 0.6234\n"
     ]
    },
    {
     "name": "stderr",
     "output_type": "stream",
     "text": [
      "\r",
      " 28%|██▊       | 7/25 [00:57<02:29,  8.33s/it]"
     ]
    },
    {
     "name": "stdout",
     "output_type": "stream",
     "text": [
      ": Loss: 0.0099, Train acc: 0.6467, Test acc: 0.6448\n"
     ]
    },
    {
     "name": "stderr",
     "output_type": "stream",
     "text": [
      "\r",
      " 32%|███▏      | 8/25 [01:06<02:21,  8.32s/it]"
     ]
    },
    {
     "name": "stdout",
     "output_type": "stream",
     "text": [
      ": Loss: 0.0092, Train acc: 0.6712, Test acc: 0.6762\n"
     ]
    },
    {
     "name": "stderr",
     "output_type": "stream",
     "text": [
      "\r",
      " 36%|███▌      | 9/25 [01:14<02:14,  8.43s/it]"
     ]
    },
    {
     "name": "stdout",
     "output_type": "stream",
     "text": [
      ": Loss: 0.0087, Train acc: 0.6889, Test acc: 0.6781\n"
     ]
    },
    {
     "name": "stderr",
     "output_type": "stream",
     "text": [
      "\r",
      " 40%|████      | 10/25 [01:23<02:07,  8.49s/it]"
     ]
    },
    {
     "name": "stdout",
     "output_type": "stream",
     "text": [
      ": Loss: 0.0083, Train acc: 0.7015, Test acc: 0.6917\n"
     ]
    },
    {
     "name": "stderr",
     "output_type": "stream",
     "text": [
      "\r",
      " 44%|████▍     | 11/25 [01:31<01:57,  8.41s/it]"
     ]
    },
    {
     "name": "stdout",
     "output_type": "stream",
     "text": [
      ": Loss: 0.0078, Train acc: 0.7160, Test acc: 0.6862\n"
     ]
    },
    {
     "name": "stderr",
     "output_type": "stream",
     "text": [
      "\r",
      " 48%|████▊     | 12/25 [01:39<01:48,  8.34s/it]"
     ]
    },
    {
     "name": "stdout",
     "output_type": "stream",
     "text": [
      ": Loss: 0.0075, Train acc: 0.7250, Test acc: 0.7099\n"
     ]
    },
    {
     "name": "stderr",
     "output_type": "stream",
     "text": [
      "\r",
      " 52%|█████▏    | 13/25 [01:48<01:40,  8.40s/it]"
     ]
    },
    {
     "name": "stdout",
     "output_type": "stream",
     "text": [
      ": Loss: 0.0072, Train acc: 0.7368, Test acc: 0.7281\n"
     ]
    },
    {
     "name": "stderr",
     "output_type": "stream",
     "text": [
      "\r",
      " 56%|█████▌    | 14/25 [01:56<01:32,  8.37s/it]"
     ]
    },
    {
     "name": "stdout",
     "output_type": "stream",
     "text": [
      ": Loss: 0.0071, Train acc: 0.7423, Test acc: 0.7377\n"
     ]
    },
    {
     "name": "stderr",
     "output_type": "stream",
     "text": [
      "\r",
      " 60%|██████    | 15/25 [02:05<01:23,  8.38s/it]"
     ]
    },
    {
     "name": "stdout",
     "output_type": "stream",
     "text": [
      ": Loss: 0.0066, Train acc: 0.7532, Test acc: 0.7386\n"
     ]
    },
    {
     "name": "stderr",
     "output_type": "stream",
     "text": [
      "\r",
      " 64%|██████▍   | 16/25 [02:13<01:15,  8.41s/it]"
     ]
    },
    {
     "name": "stdout",
     "output_type": "stream",
     "text": [
      ": Loss: 0.0065, Train acc: 0.7582, Test acc: 0.7327\n"
     ]
    },
    {
     "name": "stderr",
     "output_type": "stream",
     "text": [
      "\r",
      " 68%|██████▊   | 17/25 [02:21<01:06,  8.30s/it]"
     ]
    },
    {
     "name": "stdout",
     "output_type": "stream",
     "text": [
      ": Loss: 0.0062, Train acc: 0.7667, Test acc: 0.7559\n"
     ]
    },
    {
     "name": "stderr",
     "output_type": "stream",
     "text": [
      "\r",
      " 72%|███████▏  | 18/25 [02:30<00:58,  8.33s/it]"
     ]
    },
    {
     "name": "stdout",
     "output_type": "stream",
     "text": [
      ": Loss: 0.0060, Train acc: 0.7747, Test acc: 0.7354\n"
     ]
    },
    {
     "name": "stderr",
     "output_type": "stream",
     "text": [
      "\r",
      " 76%|███████▌  | 19/25 [02:38<00:50,  8.38s/it]"
     ]
    },
    {
     "name": "stdout",
     "output_type": "stream",
     "text": [
      ": Loss: 0.0060, Train acc: 0.7750, Test acc: 0.7368\n"
     ]
    },
    {
     "name": "stderr",
     "output_type": "stream",
     "text": [
      "\r",
      " 80%|████████  | 20/25 [02:46<00:41,  8.36s/it]"
     ]
    },
    {
     "name": "stdout",
     "output_type": "stream",
     "text": [
      ": Loss: 0.0057, Train acc: 0.7823, Test acc: 0.7505\n"
     ]
    },
    {
     "name": "stderr",
     "output_type": "stream",
     "text": [
      "\r",
      " 84%|████████▍ | 21/25 [02:56<00:34,  8.65s/it]"
     ]
    },
    {
     "name": "stdout",
     "output_type": "stream",
     "text": [
      ": Loss: 0.0054, Train acc: 0.7943, Test acc: 0.7582\n"
     ]
    },
    {
     "name": "stderr",
     "output_type": "stream",
     "text": [
      "\r",
      " 88%|████████▊ | 22/25 [03:04<00:25,  8.48s/it]"
     ]
    },
    {
     "name": "stdout",
     "output_type": "stream",
     "text": [
      ": Loss: 0.0053, Train acc: 0.7997, Test acc: 0.7404\n"
     ]
    },
    {
     "name": "stderr",
     "output_type": "stream",
     "text": [
      "\r",
      " 92%|█████████▏| 23/25 [03:12<00:16,  8.35s/it]"
     ]
    },
    {
     "name": "stdout",
     "output_type": "stream",
     "text": [
      ": Loss: 0.0050, Train acc: 0.8058, Test acc: 0.7564\n"
     ]
    },
    {
     "name": "stderr",
     "output_type": "stream",
     "text": [
      "\r",
      " 96%|█████████▌| 24/25 [03:20<00:08,  8.30s/it]"
     ]
    },
    {
     "name": "stdout",
     "output_type": "stream",
     "text": [
      ": Loss: 0.0048, Train acc: 0.8114, Test acc: 0.7450\n"
     ]
    },
    {
     "name": "stderr",
     "output_type": "stream",
     "text": [
      "100%|██████████| 25/25 [03:28<00:00,  8.35s/it]"
     ]
    },
    {
     "name": "stdout",
     "output_type": "stream",
     "text": [
      ": Loss: 0.0047, Train acc: 0.8131, Test acc: 0.7400\n"
     ]
    },
    {
     "name": "stderr",
     "output_type": "stream",
     "text": [
      "\n"
     ]
    },
    {
     "data": {
      "image/png": "[encoded data removed]",
      "text/plain": [
       "<Figure size 1080x360 with 2 Axes>"
      ]
     },
     "metadata": {
      "needs_background": "light"
     },
     "output_type": "display_data"
    }
   ],
   "source": [
    "#Обучение сети\n",
    "train_model(net, train_loader, test_loader, loss, num_epochs, updater, task_path, file_name)"
   ]
  },
  {
   "cell_type": "markdown",
   "metadata": {
    "id": "mYWPnpM74nfO"
   },
   "source": [
    "### GRU - last state"
   ]
  },
  {
   "cell_type": "code",
   "execution_count": null,
   "metadata": {
    "id": "1G5BojEN4bEb"
   },
   "outputs": [],
   "source": [
    "class RNNClassifierCustomRNN(nn.Module):\n",
    " def __init__(self, vocab_len, embedding_size, rnn_hidden_size, num_classes):\n",
    "    super().__init__()\n",
    "    self.embedding = nn.Embedding(vocab_len, embedding_size, padding_idx=0)\n",
    "    self.rnn = nn.GRU(embedding_size, rnn_hidden_size, batch_first=True)\n",
    "    self.classifier = nn.Sequential(nn.Linear(rnn_hidden_size, rnn_hidden_size),nn.ReLU(), nn.Dropout(0.5), nn.Linear(rnn_hidden_size, num_classes))\n",
    "    self.dropout = nn.Dropout(0.5)\n",
    " def forward(self, X):\n",
    "  out = self.embedding(X) # batch x seq x emb\n",
    "  out = torch.squeeze(self.rnn(out)[1]) # batch x rnn_hidden\n",
    "  out = self.dropout(out) # batch x rnn_hidden\n",
    "  out = self.classifier(out) # batch x num_classes\n",
    "  return out\n",
    "\n",
    "\n",
    "vocab_len = vocab.vocab_len\n",
    "embedding_size = 30\n",
    "rnn_hidden_size = 256\n",
    "num_classes = n_classes\n",
    "net = RNNClassifierCustomRNN(vocab_len, embedding_size, rnn_hidden_size, num_classes)\n",
    "net.to(device)\n",
    "\n",
    "loss = nn.CrossEntropyLoss()  \n",
    "lr = 0.001\n",
    "updater = optim.Adam(net.parameters(), lr=lr)\n",
    "\n",
    "task_path = \"./Saved models/\"\n",
    "file_name = \"Surname_task_nn_GRU.pt\"\n",
    "num_epochs = 25 "
   ]
  },
  {
   "cell_type": "code",
   "execution_count": null,
   "metadata": {
    "colab": {
     "base_uri": "https://localhost:8080/",
     "height": 765
    },
    "id": "E2wf8_BR4rX5",
    "outputId": "65575458-ec8c-49de-ba01-1825079a95c2"
   },
   "outputs": [
    {
     "name": "stderr",
     "output_type": "stream",
     "text": [
      "  4%|▍         | 1/25 [00:06<02:43,  6.82s/it]"
     ]
    },
    {
     "name": "stdout",
     "output_type": "stream",
     "text": [
      ": Loss: 0.0180, Train acc: 0.2548, Test acc: 0.2996\n"
     ]
    },
    {
     "name": "stderr",
     "output_type": "stream",
     "text": [
      "\r",
      "  8%|▊         | 2/25 [00:13<02:32,  6.64s/it]"
     ]
    },
    {
     "name": "stdout",
     "output_type": "stream",
     "text": [
      ": Loss: 0.0152, Train acc: 0.4076, Test acc: 0.5100\n"
     ]
    },
    {
     "name": "stderr",
     "output_type": "stream",
     "text": [
      "\r",
      " 12%|█▏        | 3/25 [00:19<02:21,  6.41s/it]"
     ]
    },
    {
     "name": "stdout",
     "output_type": "stream",
     "text": [
      ": Loss: 0.0128, Train acc: 0.5331, Test acc: 0.5874\n"
     ]
    },
    {
     "name": "stderr",
     "output_type": "stream",
     "text": [
      "\r",
      " 16%|█▌        | 4/25 [00:25<02:14,  6.38s/it]"
     ]
    },
    {
     "name": "stdout",
     "output_type": "stream",
     "text": [
      ": Loss: 0.0115, Train acc: 0.5846, Test acc: 0.6052\n"
     ]
    },
    {
     "name": "stderr",
     "output_type": "stream",
     "text": [
      "\r",
      " 20%|██        | 5/25 [00:32<02:09,  6.48s/it]"
     ]
    },
    {
     "name": "stdout",
     "output_type": "stream",
     "text": [
      ": Loss: 0.0104, Train acc: 0.6206, Test acc: 0.6516\n"
     ]
    },
    {
     "name": "stderr",
     "output_type": "stream",
     "text": [
      "\r",
      " 24%|██▍       | 6/25 [00:39<02:03,  6.50s/it]"
     ]
    },
    {
     "name": "stdout",
     "output_type": "stream",
     "text": [
      ": Loss: 0.0092, Train acc: 0.6663, Test acc: 0.6644\n"
     ]
    },
    {
     "name": "stderr",
     "output_type": "stream",
     "text": [
      "\r",
      " 28%|██▊       | 7/25 [00:46<02:05,  6.96s/it]"
     ]
    },
    {
     "name": "stdout",
     "output_type": "stream",
     "text": [
      ": Loss: 0.0086, Train acc: 0.6849, Test acc: 0.6758\n"
     ]
    },
    {
     "name": "stderr",
     "output_type": "stream",
     "text": [
      "\r",
      " 32%|███▏      | 8/25 [00:53<01:54,  6.75s/it]"
     ]
    },
    {
     "name": "stdout",
     "output_type": "stream",
     "text": [
      ": Loss: 0.0080, Train acc: 0.7081, Test acc: 0.6949\n"
     ]
    },
    {
     "name": "stderr",
     "output_type": "stream",
     "text": [
      "\r",
      " 36%|███▌      | 9/25 [00:59<01:46,  6.67s/it]"
     ]
    },
    {
     "name": "stdout",
     "output_type": "stream",
     "text": [
      ": Loss: 0.0074, Train acc: 0.7251, Test acc: 0.7045\n"
     ]
    },
    {
     "name": "stderr",
     "output_type": "stream",
     "text": [
      "\r",
      " 40%|████      | 10/25 [01:06<01:40,  6.71s/it]"
     ]
    },
    {
     "name": "stdout",
     "output_type": "stream",
     "text": [
      ": Loss: 0.0070, Train acc: 0.7362, Test acc: 0.7113\n"
     ]
    },
    {
     "name": "stderr",
     "output_type": "stream",
     "text": [
      "\r",
      " 44%|████▍     | 11/25 [01:14<01:41,  7.25s/it]"
     ]
    },
    {
     "name": "stdout",
     "output_type": "stream",
     "text": [
      ": Loss: 0.0068, Train acc: 0.7450, Test acc: 0.7300\n"
     ]
    },
    {
     "name": "stderr",
     "output_type": "stream",
     "text": [
      "\r",
      " 48%|████▊     | 12/25 [01:21<01:31,  7.01s/it]"
     ]
    },
    {
     "name": "stdout",
     "output_type": "stream",
     "text": [
      ": Loss: 0.0064, Train acc: 0.7577, Test acc: 0.7354\n"
     ]
    },
    {
     "name": "stderr",
     "output_type": "stream",
     "text": [
      "\r",
      " 52%|█████▏    | 13/25 [01:27<01:22,  6.87s/it]"
     ]
    },
    {
     "name": "stdout",
     "output_type": "stream",
     "text": [
      ": Loss: 0.0059, Train acc: 0.7740, Test acc: 0.7441\n"
     ]
    },
    {
     "name": "stderr",
     "output_type": "stream",
     "text": [
      "\r",
      " 56%|█████▌    | 14/25 [01:34<01:13,  6.68s/it]"
     ]
    },
    {
     "name": "stdout",
     "output_type": "stream",
     "text": [
      ": Loss: 0.0057, Train acc: 0.7828, Test acc: 0.7395\n"
     ]
    },
    {
     "name": "stderr",
     "output_type": "stream",
     "text": [
      "\r",
      " 60%|██████    | 15/25 [01:40<01:05,  6.54s/it]"
     ]
    },
    {
     "name": "stdout",
     "output_type": "stream",
     "text": [
      ": Loss: 0.0054, Train acc: 0.7936, Test acc: 0.7491\n"
     ]
    },
    {
     "name": "stderr",
     "output_type": "stream",
     "text": [
      "\r",
      " 64%|██████▍   | 16/25 [01:46<00:58,  6.45s/it]"
     ]
    },
    {
     "name": "stdout",
     "output_type": "stream",
     "text": [
      ": Loss: 0.0051, Train acc: 0.7992, Test acc: 0.7587\n"
     ]
    },
    {
     "name": "stderr",
     "output_type": "stream",
     "text": [
      "\r",
      " 68%|██████▊   | 17/25 [01:53<00:51,  6.45s/it]"
     ]
    },
    {
     "name": "stdout",
     "output_type": "stream",
     "text": [
      ": Loss: 0.0047, Train acc: 0.8117, Test acc: 0.7555\n"
     ]
    },
    {
     "name": "stderr",
     "output_type": "stream",
     "text": [
      "\r",
      " 72%|███████▏  | 18/25 [01:59<00:45,  6.53s/it]"
     ]
    },
    {
     "name": "stdout",
     "output_type": "stream",
     "text": [
      ": Loss: 0.0045, Train acc: 0.8229, Test acc: 0.7596\n"
     ]
    },
    {
     "name": "stderr",
     "output_type": "stream",
     "text": [
      "\r",
      " 76%|███████▌  | 19/25 [02:06<00:39,  6.52s/it]"
     ]
    },
    {
     "name": "stdout",
     "output_type": "stream",
     "text": [
      ": Loss: 0.0042, Train acc: 0.8352, Test acc: 0.7605\n"
     ]
    },
    {
     "name": "stderr",
     "output_type": "stream",
     "text": [
      "\r",
      " 80%|████████  | 20/25 [02:12<00:32,  6.49s/it]"
     ]
    },
    {
     "name": "stdout",
     "output_type": "stream",
     "text": [
      ": Loss: 0.0040, Train acc: 0.8436, Test acc: 0.7591\n"
     ]
    },
    {
     "name": "stderr",
     "output_type": "stream",
     "text": [
      "\r",
      " 84%|████████▍ | 21/25 [02:19<00:25,  6.48s/it]"
     ]
    },
    {
     "name": "stdout",
     "output_type": "stream",
     "text": [
      ": Loss: 0.0037, Train acc: 0.8508, Test acc: 0.7628\n"
     ]
    },
    {
     "name": "stderr",
     "output_type": "stream",
     "text": [
      "\r",
      " 88%|████████▊ | 22/25 [02:25<00:19,  6.46s/it]"
     ]
    },
    {
     "name": "stdout",
     "output_type": "stream",
     "text": [
      ": Loss: 0.0034, Train acc: 0.8627, Test acc: 0.7527\n"
     ]
    },
    {
     "name": "stderr",
     "output_type": "stream",
     "text": [
      "\r",
      " 92%|█████████▏| 23/25 [02:31<00:12,  6.41s/it]"
     ]
    },
    {
     "name": "stdout",
     "output_type": "stream",
     "text": [
      ": Loss: 0.0032, Train acc: 0.8718, Test acc: 0.7514\n"
     ]
    },
    {
     "name": "stderr",
     "output_type": "stream",
     "text": [
      "\r",
      " 96%|█████████▌| 24/25 [02:38<00:06,  6.31s/it]"
     ]
    },
    {
     "name": "stdout",
     "output_type": "stream",
     "text": [
      ": Loss: 0.0031, Train acc: 0.8770, Test acc: 0.7477\n"
     ]
    },
    {
     "name": "stderr",
     "output_type": "stream",
     "text": [
      "100%|██████████| 25/25 [02:44<00:00,  6.59s/it]"
     ]
    },
    {
     "name": "stdout",
     "output_type": "stream",
     "text": [
      ": Loss: 0.0030, Train acc: 0.8818, Test acc: 0.7477\n"
     ]
    },
    {
     "name": "stderr",
     "output_type": "stream",
     "text": [
      "\n"
     ]
    },
    {
     "data": {
      "image/png": "[encoded data removed]",
      "text/plain": [
       "<Figure size 1080x360 with 2 Axes>"
      ]
     },
     "metadata": {
      "needs_background": "light"
     },
     "output_type": "display_data"
    }
   ],
   "source": [
    "#Обучение сети\n",
    "train_model(net, train_loader, test_loader, loss, num_epochs, updater, task_path, file_name)"
   ]
  },
  {
   "cell_type": "markdown",
   "metadata": {
    "id": "clFFUyT0k38z"
   },
   "source": [
    "### GRU - concat"
   ]
  },
  {
   "cell_type": "code",
   "execution_count": null,
   "metadata": {
    "id": "fbpUn0QJk3ov"
   },
   "outputs": [],
   "source": [
    "class RNNClassifierCustomRNN(nn.Module):\n",
    "  def __init__(self, vocab_len, embedding_size, rnn_hidden_size, num_classes, seq_len):\n",
    "    super().__init__()\n",
    "    self.hidden_dim = rnn_hidden_size\n",
    "    self.seq_len = seq_len\n",
    "    self.embedding = nn.Embedding(vocab_len, embedding_size, padding_idx=0)\n",
    "    self.rnn = nn.GRU(embedding_size, rnn_hidden_size, batch_first=True)\n",
    "    self.classifier = nn.Sequential(nn.Linear(rnn_hidden_size * seq_len, rnn_hidden_size),nn.ReLU(), nn.Dropout(0.5), nn.Linear(rnn_hidden_size, num_classes))\n",
    "    self.dropout = nn.Dropout(0.5)\n",
    "    \n",
    "  def forward(self, X):\n",
    "    h0 = torch.zeros(1, X.size(0), self.hidden_dim).to(device)\n",
    "    batch_size = X.shape[0]\n",
    "\n",
    "    emb = self.embedding(X) # batch x seq x emb\n",
    "    out, hidden = self.rnn(emb, h0)\n",
    "    out = out.reshape(batch_size, self.hidden_dim * self.seq_len)\n",
    "    out = self.dropout(out) # batch x rnn_hidden\n",
    "    out = self.classifier(out) # batch x num_classes\n",
    "    return out\n",
    "\n",
    "\n",
    "vocab_len = vocab.vocab_len\n",
    "embedding_size = 30\n",
    "rnn_hidden_size = 256\n",
    "num_classes = n_classes\n",
    "seq_len = vocab.max_seq_len\n",
    "net = RNNClassifierCustomRNN(vocab_len, embedding_size, rnn_hidden_size, num_classes, seq_len)\n",
    "net.to(device)\n",
    "\n",
    "loss = nn.CrossEntropyLoss()  \n",
    "lr = 0.001\n",
    "updater = optim.Adam(net.parameters(), lr=lr)\n",
    "clip_value = 5\n",
    "\n",
    "path = \"./Saved models/Surname_task_nn_GRU.pt\"\n",
    "num_epochs = 15"
   ]
  },
  {
   "cell_type": "code",
   "execution_count": null,
   "metadata": {
    "colab": {
     "base_uri": "https://localhost:8080/",
     "height": 583
    },
    "id": "WQfcvxXKoazA",
    "outputId": "50cea215-a114-4b3c-bcf0-c5dee85773bb"
   },
   "outputs": [
    {
     "name": "stderr",
     "output_type": "stream",
     "text": [
      "  7%|▋         | 1/15 [00:10<02:24, 10.31s/it]"
     ]
    },
    {
     "name": "stdout",
     "output_type": "stream",
     "text": [
      ": Loss: 0.0142, Train acc: 0.4837, Test acc: 0.5974\n"
     ]
    },
    {
     "name": "stderr",
     "output_type": "stream",
     "text": [
      "\r",
      " 13%|█▎        | 2/15 [00:19<02:01,  9.38s/it]"
     ]
    },
    {
     "name": "stdout",
     "output_type": "stream",
     "text": [
      ": Loss: 0.0102, Train acc: 0.6179, Test acc: 0.6557\n"
     ]
    },
    {
     "name": "stderr",
     "output_type": "stream",
     "text": [
      "\r",
      " 20%|██        | 3/15 [00:27<01:48,  9.03s/it]"
     ]
    },
    {
     "name": "stdout",
     "output_type": "stream",
     "text": [
      ": Loss: 0.0086, Train acc: 0.6755, Test acc: 0.7081\n"
     ]
    },
    {
     "name": "stderr",
     "output_type": "stream",
     "text": [
      "\r",
      " 27%|██▋       | 4/15 [00:38<01:48,  9.87s/it]"
     ]
    },
    {
     "name": "stdout",
     "output_type": "stream",
     "text": [
      ": Loss: 0.0074, Train acc: 0.7198, Test acc: 0.7327\n"
     ]
    },
    {
     "name": "stderr",
     "output_type": "stream",
     "text": [
      "\r",
      " 33%|███▎      | 5/15 [00:47<01:34,  9.42s/it]"
     ]
    },
    {
     "name": "stdout",
     "output_type": "stream",
     "text": [
      ": Loss: 0.0065, Train acc: 0.7474, Test acc: 0.7564\n"
     ]
    },
    {
     "name": "stderr",
     "output_type": "stream",
     "text": [
      "\r",
      " 40%|████      | 6/15 [00:56<01:22,  9.14s/it]"
     ]
    },
    {
     "name": "stdout",
     "output_type": "stream",
     "text": [
      ": Loss: 0.0059, Train acc: 0.7674, Test acc: 0.7655\n"
     ]
    },
    {
     "name": "stderr",
     "output_type": "stream",
     "text": [
      "\r",
      " 47%|████▋     | 7/15 [01:04<01:11,  8.94s/it]"
     ]
    },
    {
     "name": "stdout",
     "output_type": "stream",
     "text": [
      ": Loss: 0.0054, Train acc: 0.7873, Test acc: 0.7682\n"
     ]
    },
    {
     "name": "stderr",
     "output_type": "stream",
     "text": [
      "\r",
      " 53%|█████▎    | 8/15 [01:13<01:02,  8.91s/it]"
     ]
    },
    {
     "name": "stdout",
     "output_type": "stream",
     "text": [
      ": Loss: 0.0050, Train acc: 0.7994, Test acc: 0.7587\n"
     ]
    },
    {
     "name": "stderr",
     "output_type": "stream",
     "text": [
      "\r",
      " 60%|██████    | 9/15 [01:23<00:56,  9.40s/it]"
     ]
    },
    {
     "name": "stdout",
     "output_type": "stream",
     "text": [
      ": Loss: 0.0045, Train acc: 0.8124, Test acc: 0.7696\n"
     ]
    },
    {
     "name": "stderr",
     "output_type": "stream",
     "text": [
      "\r",
      " 67%|██████▋   | 10/15 [01:32<00:45,  9.18s/it]"
     ]
    },
    {
     "name": "stdout",
     "output_type": "stream",
     "text": [
      ": Loss: 0.0042, Train acc: 0.8234, Test acc: 0.7728\n"
     ]
    },
    {
     "name": "stderr",
     "output_type": "stream",
     "text": [
      "\r",
      " 73%|███████▎  | 11/15 [01:41<00:36,  9.02s/it]"
     ]
    },
    {
     "name": "stdout",
     "output_type": "stream",
     "text": [
      ": Loss: 0.0039, Train acc: 0.8375, Test acc: 0.7760\n"
     ]
    },
    {
     "name": "stderr",
     "output_type": "stream",
     "text": [
      "\r",
      " 80%|████████  | 12/15 [01:52<00:28,  9.62s/it]"
     ]
    },
    {
     "name": "stdout",
     "output_type": "stream",
     "text": [
      ": Loss: 0.0036, Train acc: 0.8495, Test acc: 0.7773\n"
     ]
    },
    {
     "name": "stderr",
     "output_type": "stream",
     "text": [
      "\r",
      " 87%|████████▋ | 13/15 [02:00<00:18,  9.34s/it]"
     ]
    },
    {
     "name": "stdout",
     "output_type": "stream",
     "text": [
      ": Loss: 0.0033, Train acc: 0.8591, Test acc: 0.7796\n"
     ]
    },
    {
     "name": "stderr",
     "output_type": "stream",
     "text": [
      "\r",
      " 93%|█████████▎| 14/15 [02:09<00:09,  9.15s/it]"
     ]
    },
    {
     "name": "stdout",
     "output_type": "stream",
     "text": [
      ": Loss: 0.0031, Train acc: 0.8615, Test acc: 0.7878\n"
     ]
    },
    {
     "name": "stderr",
     "output_type": "stream",
     "text": [
      "100%|██████████| 15/15 [02:18<00:00,  9.21s/it]"
     ]
    },
    {
     "name": "stdout",
     "output_type": "stream",
     "text": [
      ": Loss: 0.0028, Train acc: 0.8772, Test acc: 0.7823\n"
     ]
    },
    {
     "name": "stderr",
     "output_type": "stream",
     "text": [
      "\n"
     ]
    },
    {
     "data": {
      "image/png": "[encoded data removed]",
      "text/plain": [
       "<Figure size 1080x360 with 2 Axes>"
      ]
     },
     "metadata": {
      "needs_background": "light"
     },
     "output_type": "display_data"
    }
   ],
   "source": [
    "#Обучение сети\n",
    "train_rnn_model(net, train_loader, test_loader, loss, num_epochs, updater, clip_value)"
   ]
  },
  {
   "cell_type": "markdown",
   "metadata": {
    "id": "9TB7dhmryA2X"
   },
   "source": [
    "### GRU - concat - 2"
   ]
  },
  {
   "cell_type": "code",
   "execution_count": null,
   "metadata": {
    "id": "NE1ivbSJv7N8"
   },
   "outputs": [],
   "source": [
    "class RNNClassifierCustomRNN(nn.Module):\n",
    "  def __init__(self, vocab_len, embedding_size, rnn_hidden_size,\n",
    "               num_classes, seq_len, num_layers=1, bidir=False):\n",
    "    super().__init__()\n",
    "    self.hidden_dim = rnn_hidden_size\n",
    "    self.seq_len = seq_len\n",
    "    self.num_layers = num_layers\n",
    "    self.bidir = bidir\n",
    "    self.embedding = nn.Embedding(vocab_len, embedding_size, padding_idx=0)\n",
    "    self.rnn = nn.GRU(embedding_size, rnn_hidden_size,\n",
    "                      num_layers = num_layers, batch_first=True, bidirectional = bidir)\n",
    "    self.classifier = nn.Sequential(nn.Linear(rnn_hidden_size * seq_len * (1 + self.bidir), \n",
    "                                              rnn_hidden_size),nn.ReLU(), nn.Dropout(0.5),\n",
    "                                     nn.Linear(rnn_hidden_size, num_classes))\n",
    "    self.dropout = nn.Dropout(0.5)\n",
    "    \n",
    "  def forward(self, X):\n",
    "    #h0 = torch.zeros((1 + self.bidir) * numm, X.size(0), self.hidden_dim).to(device)\n",
    "    batch_size = X.shape[0]\n",
    "    \n",
    "    emb = self.embedding(X) # batch x seq x emb\n",
    "    out, hidden = self.rnn(emb)\n",
    "    out = out.reshape(batch_size, -1)\n",
    "    out = self.dropout(out) # batch x rnn_hidden\n",
    "    out = self.classifier(out) # batch x num_classes\n",
    "    return out\n",
    "\n",
    "\n",
    "vocab_len = vocab.vocab_len\n",
    "embedding_size = 30\n",
    "rnn_hidden_size = 256\n",
    "num_classes = n_classes\n",
    "seq_len = vocab.max_seq_len\n",
    "net = RNNClassifierCustomRNN(vocab_len, embedding_size, rnn_hidden_size,\n",
    "                             num_classes, seq_len, num_layers = 2, bidir=True)\n",
    "net.to(device)\n",
    "\n",
    "loss = nn.CrossEntropyLoss()  \n",
    "lr = 0.001\n",
    "updater = optim.Adam(net.parameters(), lr=lr)\n",
    "clip_value = 5\n",
    "\n",
    "path = \"./Saved models/Surname_task_nn_GRU.pt\"\n",
    "num_epochs = 15"
   ]
  },
  {
   "cell_type": "code",
   "execution_count": null,
   "metadata": {
    "colab": {
     "base_uri": "https://localhost:8080/",
     "height": 375
    },
    "id": "eulrUgYcwAsE",
    "outputId": "5d587b4d-80bc-4f03-e784-d6e712f11c0f"
   },
   "outputs": [
    {
     "name": "stderr",
     "output_type": "stream",
     "text": [
      "  7%|▋         | 1/15 [00:49<11:37, 49.85s/it]"
     ]
    },
    {
     "name": "stdout",
     "output_type": "stream",
     "text": [
      ": Loss: 0.0134, Train acc: 0.5072, Test acc: 0.5943\n"
     ]
    },
    {
     "name": "stderr",
     "output_type": "stream",
     "text": [
      "\r",
      "  7%|▋         | 1/15 [01:15<17:32, 75.19s/it]\n"
     ]
    },
    {
     "ename": "KeyboardInterrupt",
     "evalue": "ignored",
     "output_type": "error",
     "traceback": [
      "\u001b[0;31m---------------------------------------------------------------------------\u001b[0m",
      "\u001b[0;31mKeyboardInterrupt\u001b[0m                         Traceback (most recent call last)",
      "\u001b[0;32m<ipython-input-82-a72f7a4de9eb>\u001b[0m in \u001b[0;36m<module>\u001b[0;34m\u001b[0m\n\u001b[1;32m      1\u001b[0m \u001b[0;31m#Обучение сети\u001b[0m\u001b[0;34m\u001b[0m\u001b[0;34m\u001b[0m\u001b[0;34m\u001b[0m\u001b[0m\n\u001b[0;32m----> 2\u001b[0;31m \u001b[0mtrain_rnn_model\u001b[0m\u001b[0;34m(\u001b[0m\u001b[0mnet\u001b[0m\u001b[0;34m,\u001b[0m \u001b[0mtrain_loader\u001b[0m\u001b[0;34m,\u001b[0m \u001b[0mtest_loader\u001b[0m\u001b[0;34m,\u001b[0m \u001b[0mloss\u001b[0m\u001b[0;34m,\u001b[0m \u001b[0mnum_epochs\u001b[0m\u001b[0;34m,\u001b[0m \u001b[0mupdater\u001b[0m\u001b[0;34m,\u001b[0m \u001b[0mclip_value\u001b[0m\u001b[0;34m)\u001b[0m\u001b[0;34m\u001b[0m\u001b[0;34m\u001b[0m\u001b[0m\n\u001b[0m",
      "\u001b[0;32m<ipython-input-4-3e5bc7cc1efb>\u001b[0m in \u001b[0;36mtrain_rnn_model\u001b[0;34m(net, train_iter, test_iter, loss, num_epochs, updater, clip_value, path)\u001b[0m\n\u001b[1;32m    106\u001b[0m   \u001b[0mmodel_metrics\u001b[0m \u001b[0;34m=\u001b[0m \u001b[0mModel_metrics\u001b[0m\u001b[0;34m(\u001b[0m\u001b[0;34m)\u001b[0m\u001b[0;34m\u001b[0m\u001b[0;34m\u001b[0m\u001b[0m\n\u001b[1;32m    107\u001b[0m   \u001b[0;32mfor\u001b[0m \u001b[0mepoch\u001b[0m \u001b[0;32min\u001b[0m \u001b[0mtqdm\u001b[0m\u001b[0;34m(\u001b[0m\u001b[0mrange\u001b[0m\u001b[0;34m(\u001b[0m\u001b[0mnum_epochs\u001b[0m\u001b[0;34m)\u001b[0m\u001b[0;34m)\u001b[0m\u001b[0;34m:\u001b[0m\u001b[0;34m\u001b[0m\u001b[0;34m\u001b[0m\u001b[0m\n\u001b[0;32m--> 108\u001b[0;31m     \u001b[0mtrain_loss\u001b[0m\u001b[0;34m,\u001b[0m \u001b[0mtrain_accuracy\u001b[0m \u001b[0;34m=\u001b[0m \u001b[0mtrain_epoch\u001b[0m\u001b[0;34m(\u001b[0m\u001b[0mnet\u001b[0m\u001b[0;34m,\u001b[0m \u001b[0mtrain_iter\u001b[0m\u001b[0;34m,\u001b[0m \u001b[0mloss\u001b[0m\u001b[0;34m,\u001b[0m \u001b[0mupdater\u001b[0m\u001b[0;34m,\u001b[0m \u001b[0mclip_value\u001b[0m\u001b[0;34m)\u001b[0m\u001b[0;34m\u001b[0m\u001b[0;34m\u001b[0m\u001b[0m\n\u001b[0m\u001b[1;32m    109\u001b[0m     \u001b[0mtest_accuracy\u001b[0m \u001b[0;34m=\u001b[0m \u001b[0mevaluate_accuracy\u001b[0m\u001b[0;34m(\u001b[0m\u001b[0mnet\u001b[0m\u001b[0;34m,\u001b[0m \u001b[0mtest_iter\u001b[0m\u001b[0;34m)\u001b[0m\u001b[0;34m\u001b[0m\u001b[0;34m\u001b[0m\u001b[0m\n\u001b[1;32m    110\u001b[0m     \u001b[0mmodel_metrics\u001b[0m\u001b[0;34m.\u001b[0m\u001b[0madd\u001b[0m\u001b[0;34m(\u001b[0m\u001b[0mtrain_loss\u001b[0m\u001b[0;34m,\u001b[0m \u001b[0mtrain_accuracy\u001b[0m\u001b[0;34m,\u001b[0m \u001b[0mtest_accuracy\u001b[0m\u001b[0;34m)\u001b[0m\u001b[0;34m\u001b[0m\u001b[0;34m\u001b[0m\u001b[0m\n",
      "\u001b[0;32m<ipython-input-4-3e5bc7cc1efb>\u001b[0m in \u001b[0;36mtrain_epoch\u001b[0;34m(net, train_iter, loss, updater, clip_value)\u001b[0m\n\u001b[1;32m     38\u001b[0m     \u001b[0mX\u001b[0m\u001b[0;34m,\u001b[0m \u001b[0my\u001b[0m \u001b[0;34m=\u001b[0m \u001b[0mX\u001b[0m\u001b[0;34m.\u001b[0m\u001b[0mto\u001b[0m\u001b[0;34m(\u001b[0m\u001b[0mdevice\u001b[0m\u001b[0;34m)\u001b[0m\u001b[0;34m,\u001b[0m \u001b[0my\u001b[0m\u001b[0;34m.\u001b[0m\u001b[0mto\u001b[0m\u001b[0;34m(\u001b[0m\u001b[0mdevice\u001b[0m\u001b[0;34m)\u001b[0m\u001b[0;34m\u001b[0m\u001b[0;34m\u001b[0m\u001b[0m\n\u001b[1;32m     39\u001b[0m \u001b[0;34m\u001b[0m\u001b[0m\n\u001b[0;32m---> 40\u001b[0;31m     \u001b[0my_hat\u001b[0m \u001b[0;34m=\u001b[0m \u001b[0mnet\u001b[0m\u001b[0;34m(\u001b[0m\u001b[0mX\u001b[0m\u001b[0;34m)\u001b[0m\u001b[0;34m\u001b[0m\u001b[0;34m\u001b[0m\u001b[0m\n\u001b[0m\u001b[1;32m     41\u001b[0m     \u001b[0ml\u001b[0m \u001b[0;34m=\u001b[0m \u001b[0mloss\u001b[0m\u001b[0;34m(\u001b[0m\u001b[0my_hat\u001b[0m\u001b[0;34m,\u001b[0m \u001b[0my\u001b[0m\u001b[0;34m)\u001b[0m\u001b[0;34m\u001b[0m\u001b[0;34m\u001b[0m\u001b[0m\n\u001b[1;32m     42\u001b[0m \u001b[0;34m\u001b[0m\u001b[0m\n",
      "\u001b[0;32m/usr/local/lib/python3.8/dist-packages/torch/nn/modules/module.py\u001b[0m in \u001b[0;36m_call_impl\u001b[0;34m(self, *input, **kwargs)\u001b[0m\n\u001b[1;32m   1188\u001b[0m         if not (self._backward_hooks or self._forward_hooks or self._forward_pre_hooks or _global_backward_hooks\n\u001b[1;32m   1189\u001b[0m                 or _global_forward_hooks or _global_forward_pre_hooks):\n\u001b[0;32m-> 1190\u001b[0;31m             \u001b[0;32mreturn\u001b[0m \u001b[0mforward_call\u001b[0m\u001b[0;34m(\u001b[0m\u001b[0;34m*\u001b[0m\u001b[0minput\u001b[0m\u001b[0;34m,\u001b[0m \u001b[0;34m**\u001b[0m\u001b[0mkwargs\u001b[0m\u001b[0;34m)\u001b[0m\u001b[0;34m\u001b[0m\u001b[0;34m\u001b[0m\u001b[0m\n\u001b[0m\u001b[1;32m   1191\u001b[0m         \u001b[0;31m# Do not call functions when jit is used\u001b[0m\u001b[0;34m\u001b[0m\u001b[0;34m\u001b[0m\u001b[0;34m\u001b[0m\u001b[0m\n\u001b[1;32m   1192\u001b[0m         \u001b[0mfull_backward_hooks\u001b[0m\u001b[0;34m,\u001b[0m \u001b[0mnon_full_backward_hooks\u001b[0m \u001b[0;34m=\u001b[0m \u001b[0;34m[\u001b[0m\u001b[0;34m]\u001b[0m\u001b[0;34m,\u001b[0m \u001b[0;34m[\u001b[0m\u001b[0;34m]\u001b[0m\u001b[0;34m\u001b[0m\u001b[0;34m\u001b[0m\u001b[0m\n",
      "\u001b[0;32m<ipython-input-81-94d629d24b28>\u001b[0m in \u001b[0;36mforward\u001b[0;34m(self, X)\u001b[0m\n\u001b[1;32m     20\u001b[0m \u001b[0;34m\u001b[0m\u001b[0m\n\u001b[1;32m     21\u001b[0m     \u001b[0memb\u001b[0m \u001b[0;34m=\u001b[0m \u001b[0mself\u001b[0m\u001b[0;34m.\u001b[0m\u001b[0membedding\u001b[0m\u001b[0;34m(\u001b[0m\u001b[0mX\u001b[0m\u001b[0;34m)\u001b[0m \u001b[0;31m# batch x seq x emb\u001b[0m\u001b[0;34m\u001b[0m\u001b[0;34m\u001b[0m\u001b[0m\n\u001b[0;32m---> 22\u001b[0;31m     \u001b[0mout\u001b[0m\u001b[0;34m,\u001b[0m \u001b[0mhidden\u001b[0m \u001b[0;34m=\u001b[0m \u001b[0mself\u001b[0m\u001b[0;34m.\u001b[0m\u001b[0mrnn\u001b[0m\u001b[0;34m(\u001b[0m\u001b[0memb\u001b[0m\u001b[0;34m)\u001b[0m\u001b[0;34m\u001b[0m\u001b[0;34m\u001b[0m\u001b[0m\n\u001b[0m\u001b[1;32m     23\u001b[0m     \u001b[0mout\u001b[0m \u001b[0;34m=\u001b[0m \u001b[0mout\u001b[0m\u001b[0;34m.\u001b[0m\u001b[0mreshape\u001b[0m\u001b[0;34m(\u001b[0m\u001b[0mbatch_size\u001b[0m\u001b[0;34m,\u001b[0m \u001b[0;34m-\u001b[0m\u001b[0;36m1\u001b[0m\u001b[0;34m)\u001b[0m\u001b[0;34m\u001b[0m\u001b[0;34m\u001b[0m\u001b[0m\n\u001b[1;32m     24\u001b[0m     \u001b[0mout\u001b[0m \u001b[0;34m=\u001b[0m \u001b[0mself\u001b[0m\u001b[0;34m.\u001b[0m\u001b[0mdropout\u001b[0m\u001b[0;34m(\u001b[0m\u001b[0mout\u001b[0m\u001b[0;34m)\u001b[0m \u001b[0;31m# batch x rnn_hidden\u001b[0m\u001b[0;34m\u001b[0m\u001b[0;34m\u001b[0m\u001b[0m\n",
      "\u001b[0;32m/usr/local/lib/python3.8/dist-packages/torch/nn/modules/module.py\u001b[0m in \u001b[0;36m_call_impl\u001b[0;34m(self, *input, **kwargs)\u001b[0m\n\u001b[1;32m   1188\u001b[0m         if not (self._backward_hooks or self._forward_hooks or self._forward_pre_hooks or _global_backward_hooks\n\u001b[1;32m   1189\u001b[0m                 or _global_forward_hooks or _global_forward_pre_hooks):\n\u001b[0;32m-> 1190\u001b[0;31m             \u001b[0;32mreturn\u001b[0m \u001b[0mforward_call\u001b[0m\u001b[0;34m(\u001b[0m\u001b[0;34m*\u001b[0m\u001b[0minput\u001b[0m\u001b[0;34m,\u001b[0m \u001b[0;34m**\u001b[0m\u001b[0mkwargs\u001b[0m\u001b[0;34m)\u001b[0m\u001b[0;34m\u001b[0m\u001b[0;34m\u001b[0m\u001b[0m\n\u001b[0m\u001b[1;32m   1191\u001b[0m         \u001b[0;31m# Do not call functions when jit is used\u001b[0m\u001b[0;34m\u001b[0m\u001b[0;34m\u001b[0m\u001b[0;34m\u001b[0m\u001b[0m\n\u001b[1;32m   1192\u001b[0m         \u001b[0mfull_backward_hooks\u001b[0m\u001b[0;34m,\u001b[0m \u001b[0mnon_full_backward_hooks\u001b[0m \u001b[0;34m=\u001b[0m \u001b[0;34m[\u001b[0m\u001b[0;34m]\u001b[0m\u001b[0;34m,\u001b[0m \u001b[0;34m[\u001b[0m\u001b[0;34m]\u001b[0m\u001b[0;34m\u001b[0m\u001b[0;34m\u001b[0m\u001b[0m\n",
      "\u001b[0;32m/usr/local/lib/python3.8/dist-packages/torch/nn/modules/rnn.py\u001b[0m in \u001b[0;36mforward\u001b[0;34m(self, input, hx)\u001b[0m\n\u001b[1;32m    953\u001b[0m         \u001b[0mself\u001b[0m\u001b[0;34m.\u001b[0m\u001b[0mcheck_forward_args\u001b[0m\u001b[0;34m(\u001b[0m\u001b[0minput\u001b[0m\u001b[0;34m,\u001b[0m \u001b[0mhx\u001b[0m\u001b[0;34m,\u001b[0m \u001b[0mbatch_sizes\u001b[0m\u001b[0;34m)\u001b[0m\u001b[0;34m\u001b[0m\u001b[0;34m\u001b[0m\u001b[0m\n\u001b[1;32m    954\u001b[0m         \u001b[0;32mif\u001b[0m \u001b[0mbatch_sizes\u001b[0m \u001b[0;32mis\u001b[0m \u001b[0;32mNone\u001b[0m\u001b[0;34m:\u001b[0m\u001b[0;34m\u001b[0m\u001b[0;34m\u001b[0m\u001b[0m\n\u001b[0;32m--> 955\u001b[0;31m             result = _VF.gru(input, hx, self._flat_weights, self.bias, self.num_layers,\n\u001b[0m\u001b[1;32m    956\u001b[0m                              self.dropout, self.training, self.bidirectional, self.batch_first)\n\u001b[1;32m    957\u001b[0m         \u001b[0;32melse\u001b[0m\u001b[0;34m:\u001b[0m\u001b[0;34m\u001b[0m\u001b[0;34m\u001b[0m\u001b[0m\n",
      "\u001b[0;31mKeyboardInterrupt\u001b[0m: "
     ]
    }
   ],
   "source": [
    "#Обучение сети\n",
    "train_rnn_model(net, train_loader, test_loader, loss, num_epochs, updater, clip_value)"
   ]
  },
  {
   "cell_type": "markdown",
   "metadata": {
    "id": "cRzfquSf-TIl"
   },
   "source": [
    "### GRU - Agg"
   ]
  },
  {
   "cell_type": "code",
   "execution_count": null,
   "metadata": {
    "colab": {
     "base_uri": "https://localhost:8080/"
    },
    "id": "FYt2CLJErvCM",
    "outputId": "2eeca243-8179-4a8b-f0a1-f89f847db0a3"
   },
   "outputs": [
    {
     "data": {
      "text/plain": [
       "tensor([[[-1.8426,  0.4063, -1.2871, -0.1339,  0.8992],\n",
       "         [-0.0618, -2.1222, -0.3630,  1.2895, -1.4533],\n",
       "         [ 1.4204, -0.7981, -1.6971,  0.4383,  0.4343],\n",
       "         [ 1.9838, -1.9653, -0.2086,  0.2404,  0.4370]],\n",
       "\n",
       "        [[ 1.0293, -1.6937,  0.5294,  1.1419,  0.9387],\n",
       "         [ 0.5328, -2.0560, -1.1607,  0.3442,  1.1116],\n",
       "         [-0.5335, -0.2079, -2.6095, -1.5665, -1.0858],\n",
       "         [ 0.6119,  0.2198,  0.8738, -2.3508,  0.2340]],\n",
       "\n",
       "        [[ 0.2689, -1.5889, -0.5631,  1.1674,  1.6456],\n",
       "         [-0.4633,  0.8441,  1.3646, -1.1029,  0.0565],\n",
       "         [ 0.4823, -0.4987, -0.5740, -0.1286,  0.2068],\n",
       "         [ 1.5307, -1.3915, -1.8140, -0.6440,  0.0613]]])"
      ]
     },
     "execution_count": 19,
     "metadata": {},
     "output_type": "execute_result"
    }
   ],
   "source": [
    "a = torch.randn((3, 4, 5))\n",
    "a"
   ]
  },
  {
   "cell_type": "code",
   "execution_count": null,
   "metadata": {
    "colab": {
     "base_uri": "https://localhost:8080/"
    },
    "id": "RGOKiPVXr1WE",
    "outputId": "a2d12b1c-4d63-4233-94af-d2003dfa52b0"
   },
   "outputs": [
    {
     "data": {
      "text/plain": [
       "tensor([[ 1.4999, -4.4794, -3.5559,  1.8343,  0.3171],\n",
       "        [ 1.6405, -3.7378, -2.3669, -2.4312,  1.1986],\n",
       "        [ 1.8187, -2.6351, -1.5865, -0.7082,  1.9703]])"
      ]
     },
     "execution_count": 22,
     "metadata": {},
     "output_type": "execute_result"
    }
   ],
   "source": [
    "a.sum(axis=1)"
   ]
  },
  {
   "cell_type": "code",
   "execution_count": null,
   "metadata": {
    "id": "0aNxAy_z-WWg"
   },
   "outputs": [],
   "source": [
    "class RNNClassifierCustomRNN(nn.Module):\n",
    "  def __init__(self, vocab_len, embedding_size, rnn_hidden_size, num_classes):\n",
    "    super().__init__()\n",
    "    self.hidden_dim = rnn_hidden_size\n",
    "    self.embedding = nn.Embedding(vocab_len, embedding_size, padding_idx=0)\n",
    "    self.rnn = nn.GRU(embedding_size, rnn_hidden_size, batch_first=True)\n",
    "    self.classifier = nn.Sequential(nn.Linear(rnn_hidden_size, rnn_hidden_size),nn.ReLU(), nn.Dropout(0.5), nn.Linear(rnn_hidden_size, num_classes))\n",
    "    self.dropout = nn.Dropout(0.5)\n",
    "    \n",
    "  def forward(self, X):\n",
    "    h0 = torch.zeros(1, X.size(0), self.hidden_dim).to(device)\n",
    "    batch_size = X.shape[0]\n",
    "    \n",
    "    emb = self.embedding(X) # batch x seq x emb\n",
    "    out, hidden = self.rnn(emb, h0)\n",
    "    out = out.sum(axis=1)\n",
    "    out = self.dropout(out) # batch x rnn_hidden\n",
    "    out = self.classifier(out) # batch x num_classes\n",
    "    return out\n",
    "\n",
    "\n",
    "vocab_len = vocab.vocab_len\n",
    "embedding_size = 30\n",
    "rnn_hidden_size = 256\n",
    "num_classes = n_classes\n",
    "net = RNNClassifierCustomRNN(vocab_len, embedding_size, rnn_hidden_size, num_classes)\n",
    "net.to(device)\n",
    "\n",
    "loss = nn.CrossEntropyLoss()  \n",
    "lr = 0.001\n",
    "updater = optim.Adam(net.parameters(), lr=lr)\n",
    "clip_value = 5\n",
    "\n",
    "path = \"./Saved models/Surname_task_nn_GRU.pt\"\n",
    "num_epochs = 15"
   ]
  },
  {
   "cell_type": "code",
   "execution_count": null,
   "metadata": {
    "colab": {
     "base_uri": "https://localhost:8080/",
     "height": 583
    },
    "id": "cJTClbczEnnk",
    "outputId": "188a6af3-cb43-4974-cf3e-dc5ee206e4d0"
   },
   "outputs": [
    {
     "name": "stderr",
     "output_type": "stream",
     "text": [
      "  7%|▋         | 1/15 [00:06<01:34,  6.78s/it]"
     ]
    },
    {
     "name": "stdout",
     "output_type": "stream",
     "text": [
      ": Loss: 0.0150, Train acc: 0.4483, Test acc: 0.5383\n"
     ]
    },
    {
     "name": "stderr",
     "output_type": "stream",
     "text": [
      "\r",
      " 13%|█▎        | 2/15 [00:13<01:27,  6.73s/it]"
     ]
    },
    {
     "name": "stdout",
     "output_type": "stream",
     "text": [
      ": Loss: 0.0124, Train acc: 0.5454, Test acc: 0.5838\n"
     ]
    },
    {
     "name": "stderr",
     "output_type": "stream",
     "text": [
      "\r",
      " 20%|██        | 3/15 [00:20<01:21,  6.76s/it]"
     ]
    },
    {
     "name": "stdout",
     "output_type": "stream",
     "text": [
      ": Loss: 0.0109, Train acc: 0.5913, Test acc: 0.6321\n"
     ]
    },
    {
     "name": "stderr",
     "output_type": "stream",
     "text": [
      "\r",
      " 27%|██▋       | 4/15 [00:27<01:14,  6.75s/it]"
     ]
    },
    {
     "name": "stdout",
     "output_type": "stream",
     "text": [
      ": Loss: 0.0099, Train acc: 0.6330, Test acc: 0.6708\n"
     ]
    },
    {
     "name": "stderr",
     "output_type": "stream",
     "text": [
      "\r",
      " 33%|███▎      | 5/15 [00:33<01:07,  6.73s/it]"
     ]
    },
    {
     "name": "stdout",
     "output_type": "stream",
     "text": [
      ": Loss: 0.0090, Train acc: 0.6676, Test acc: 0.6976\n"
     ]
    },
    {
     "name": "stderr",
     "output_type": "stream",
     "text": [
      "\r",
      " 40%|████      | 6/15 [00:40<01:00,  6.74s/it]"
     ]
    },
    {
     "name": "stdout",
     "output_type": "stream",
     "text": [
      ": Loss: 0.0082, Train acc: 0.6906, Test acc: 0.7204\n"
     ]
    },
    {
     "name": "stderr",
     "output_type": "stream",
     "text": [
      "\r",
      " 47%|████▋     | 7/15 [00:47<00:54,  6.79s/it]"
     ]
    },
    {
     "name": "stdout",
     "output_type": "stream",
     "text": [
      ": Loss: 0.0077, Train acc: 0.7081, Test acc: 0.7236\n"
     ]
    },
    {
     "name": "stderr",
     "output_type": "stream",
     "text": [
      "\r",
      " 53%|█████▎    | 8/15 [00:54<00:47,  6.79s/it]"
     ]
    },
    {
     "name": "stdout",
     "output_type": "stream",
     "text": [
      ": Loss: 0.0072, Train acc: 0.7264, Test acc: 0.7350\n"
     ]
    },
    {
     "name": "stderr",
     "output_type": "stream",
     "text": [
      "\r",
      " 60%|██████    | 9/15 [01:00<00:40,  6.81s/it]"
     ]
    },
    {
     "name": "stdout",
     "output_type": "stream",
     "text": [
      ": Loss: 0.0069, Train acc: 0.7355, Test acc: 0.7436\n"
     ]
    },
    {
     "name": "stderr",
     "output_type": "stream",
     "text": [
      "\r",
      " 67%|██████▋   | 10/15 [01:07<00:33,  6.78s/it]"
     ]
    },
    {
     "name": "stdout",
     "output_type": "stream",
     "text": [
      ": Loss: 0.0065, Train acc: 0.7478, Test acc: 0.7486\n"
     ]
    },
    {
     "name": "stderr",
     "output_type": "stream",
     "text": [
      "\r",
      " 73%|███████▎  | 11/15 [01:16<00:30,  7.54s/it]"
     ]
    },
    {
     "name": "stdout",
     "output_type": "stream",
     "text": [
      ": Loss: 0.0061, Train acc: 0.7637, Test acc: 0.7641\n"
     ]
    },
    {
     "name": "stderr",
     "output_type": "stream",
     "text": [
      "\r",
      " 80%|████████  | 12/15 [01:23<00:21,  7.29s/it]"
     ]
    },
    {
     "name": "stdout",
     "output_type": "stream",
     "text": [
      ": Loss: 0.0059, Train acc: 0.7719, Test acc: 0.7596\n"
     ]
    },
    {
     "name": "stderr",
     "output_type": "stream",
     "text": [
      "\r",
      " 87%|████████▋ | 13/15 [01:30<00:14,  7.13s/it]"
     ]
    },
    {
     "name": "stdout",
     "output_type": "stream",
     "text": [
      ": Loss: 0.0057, Train acc: 0.7773, Test acc: 0.7573\n"
     ]
    },
    {
     "name": "stderr",
     "output_type": "stream",
     "text": [
      "\r",
      " 93%|█████████▎| 14/15 [01:37<00:07,  7.00s/it]"
     ]
    },
    {
     "name": "stdout",
     "output_type": "stream",
     "text": [
      ": Loss: 0.0054, Train acc: 0.7860, Test acc: 0.7577\n"
     ]
    },
    {
     "name": "stderr",
     "output_type": "stream",
     "text": [
      "100%|██████████| 15/15 [01:43<00:00,  6.93s/it]"
     ]
    },
    {
     "name": "stdout",
     "output_type": "stream",
     "text": [
      ": Loss: 0.0051, Train acc: 0.7980, Test acc: 0.7623\n"
     ]
    },
    {
     "name": "stderr",
     "output_type": "stream",
     "text": [
      "\n"
     ]
    },
    {
     "data": {
      "image/png": "[encoded data removed]",
      "text/plain": [
       "<Figure size 1080x360 with 2 Axes>"
      ]
     },
     "metadata": {
      "needs_background": "light"
     },
     "output_type": "display_data"
    }
   ],
   "source": [
    "#Обучение сети\n",
    "train_rnn_model(net, train_loader, test_loader, loss, num_epochs, updater, clip_value)"
   ]
  },
  {
   "cell_type": "markdown",
   "metadata": {
    "id": "_6YBam_3t-fO"
   },
   "source": [
    "### 1.3 Загрузите предобученные эмбеддинги в модуль `nn.Embedding` и обучите модели из 1.2."
   ]
  },
  {
   "cell_type": "markdown",
   "metadata": {
    "id": "XbXq7jCYGK_V"
   },
   "source": [
    "(https://disk.yandex.ru/d/BHuT2tEXr_yBOQ?w=1)"
   ]
  },
  {
   "cell_type": "code",
   "execution_count": null,
   "metadata": {
    "id": "Uge3FGyd8vKu"
   },
   "outputs": [],
   "source": [
    "words = []\n",
    "emb = []\n",
    "with open(\"./embeddings/glove.6B.50d.txt\") as f:\n",
    "    while True:\n",
    "      line = f.readline()\n",
    "      if not line:\n",
    "        break\n",
    "      words.append(line.split(' ')[0])\n",
    "      emb.append([float(x) for x in line.split(' ')[1:]])"
   ]
  },
  {
   "cell_type": "code",
   "execution_count": null,
   "metadata": {
    "id": "8M58ige8Odjn"
   },
   "outputs": [],
   "source": [
    "class Vocab:\n",
    "     def __init__(self, data):\n",
    "        tokens = set()\n",
    "        self.max_seq_len = 0\n",
    "        for item in data:\n",
    "            tokens.update(item)\n",
    "            self.max_seq_len = max(self.max_seq_len, len(item))\n",
    "        self.unk_token = '<UNK>'\n",
    "        self.pad_token = '<PAD>'\n",
    "        self.idx_to_token = dict(enumerate(tokens, 2))\n",
    "        self.idx_to_token[1] = self.unk_token\n",
    "        self.idx_to_token[0] = self.pad_token\n",
    "        self.token_to_idx = {token: idx for idx, token in self.idx_to_token.items()}\n",
    "        self.vocab_len = len(self.idx_to_token)\n",
    "class SurnamesDataset(Dataset):\n",
    "    def __init__(self, X, y, vocab):\n",
    "                     self.X = X\n",
    "                     self.y = y\n",
    "                     self.vocab = vocab\n",
    "    def to_sequence(self, surname):\n",
    "        tok_seq = [self.vocab.token_to_idx[tok] for tok in surname]\n",
    "        padds_len = self.vocab.max_seq_len - len(tok_seq)\n",
    "        pad_idx = self.vocab.token_to_idx[self.vocab.pad_token]\n",
    "        padds = [pad_idx] * padds_len\n",
    "        return torch.LongTensor(tok_seq + padds)\n",
    "    def __len__(self):\n",
    "      return len(self.X)\n",
    "    def __getitem__(self, idx):\n",
    "      return self.to_sequence(self.X.iloc[idx]), self.y.iloc[idx]\n"
   ]
  },
  {
   "cell_type": "code",
   "execution_count": null,
   "metadata": {
    "colab": {
     "base_uri": "https://localhost:8080/"
    },
    "id": "Nh44Q7YYLLuY",
    "outputId": "543bcc73-c0c1-4642-a193-28ef790c84ca"
   },
   "outputs": [
    {
     "data": {
      "text/plain": [
       "400000"
      ]
     },
     "execution_count": 101,
     "metadata": {},
     "output_type": "execute_result"
    }
   ],
   "source": [
    "len(words)"
   ]
  },
  {
   "cell_type": "markdown",
   "metadata": {
    "id": "f7kf990U9Do-"
   },
   "source": [
    "## 2. Классификация обзоров на фильмы (RNN)\n",
    "\n",
    "Датасет: https://disk.yandex.ru/d/tdinpb0nN_Dsrg\n",
    "\n",
    "2.1 Создайте набор данных на основе файлов polarity/positive_reviews.csv (положительные отзывы) и polarity/negative_reviews.csv (отрицательные отзывы). Разбейте на обучающую и тестовую выборку.\n",
    "  * токен = __слово__\n",
    "  * данные для обучения в датасете представляются в виде последовательности индексов токенов\n",
    "  * словарь создается на основе _только_ обучающей выборки. Для корректной обработки ситуаций, когда в тестовой выборке встретится токен, который не хранится в словаре, добавьте в словарь специальный токен `<UNK>`\n",
    "  * добавьте предобработку текста\n",
    "\n",
    "2.2. Обучите классификатор.\n",
    "  \n",
    "  * Для преобразования последовательности индексов в последовательность векторов используйте `nn.Embedding` \n",
    "    - подберите адекватную размерность вектора эмбеддинга: \n",
    "    - модуль `nn.Embedding` обучается\n",
    "\n",
    "  * Используйте рекуррентные слои (`nn.RNN`, `nn.LSTM`, `nn.GRU`)\n",
    "\n",
    "\n",
    "2.3 Измерить точность на тестовой выборке. Проверить работоспособность модели: придумать небольшой отзыв, прогнать его через модель и вывести номер предсказанного класса (сделать это для явно позитивного и явно негативного отзыва)\n",
    "* Целевое значение accuracy на валидации - 70+%"
   ]
  },
  {
   "cell_type": "code",
   "execution_count": null,
   "metadata": {
    "colab": {
     "base_uri": "https://localhost:8080/",
     "height": 204
    },
    "id": "Ci9l5p6ZOa20",
    "outputId": "644fcaae-7803-4f16-dd35-ff4de7c0db07"
   },
   "outputs": [
    {
     "data": {
      "text/html": [
       "\n",
       "  <div id=\"df-8408a5a8-9b21-49ee-b913-f6306c2171ac\">\n",
       "    <div class=\"colab-df-container\">\n",
       "      <div>\n",
       "<style scoped>\n",
       "    .dataframe tbody tr th:only-of-type {\n",
       "        vertical-align: middle;\n",
       "    }\n",
       "\n",
       "    .dataframe tbody tr th {\n",
       "        vertical-align: top;\n",
       "    }\n",
       "\n",
       "    .dataframe thead th {\n",
       "        text-align: right;\n",
       "    }\n",
       "</style>\n",
       "<table border=\"1\" class=\"dataframe\">\n",
       "  <thead>\n",
       "    <tr style=\"text-align: right;\">\n",
       "      <th></th>\n",
       "      <th>Review</th>\n",
       "      <th>Mood</th>\n",
       "    </tr>\n",
       "  </thead>\n",
       "  <tbody>\n",
       "    <tr>\n",
       "      <th>5916</th>\n",
       "      <td>this is an ungainly movie , ill-fitting , with...</td>\n",
       "      <td>0</td>\n",
       "    </tr>\n",
       "    <tr>\n",
       "      <th>4806</th>\n",
       "      <td>a real audience-pleaser that will strike a cho...</td>\n",
       "      <td>1</td>\n",
       "    </tr>\n",
       "    <tr>\n",
       "      <th>2390</th>\n",
       "      <td>it's soulful and unslick , and that's apparent...</td>\n",
       "      <td>1</td>\n",
       "    </tr>\n",
       "    <tr>\n",
       "      <th>5808</th>\n",
       "      <td>. . . what a banal bore the preachy circuit t...</td>\n",
       "      <td>0</td>\n",
       "    </tr>\n",
       "    <tr>\n",
       "      <th>3412</th>\n",
       "      <td>although devoid of objectivity and full of nos...</td>\n",
       "      <td>1</td>\n",
       "    </tr>\n",
       "  </tbody>\n",
       "</table>\n",
       "</div>\n",
       "      <button class=\"colab-df-convert\" onclick=\"convertToInteractive('df-8408a5a8-9b21-49ee-b913-f6306c2171ac')\"\n",
       "              title=\"Convert this dataframe to an interactive table.\"\n",
       "              style=\"display:none;\">\n",
       "        \n",
       "  <svg xmlns=\"http://www.w3.org/2000/svg\" height=\"24px\"viewBox=\"0 0 24 24\"\n",
       "       width=\"24px\">\n",
       "    <path d=\"M0 0h24v24H0V0z\" fill=\"none\"/>\n",
       "    <path d=\"M18.56 5.44l.94 2.06.94-2.06 2.06-.94-2.06-.94-.94-2.06-.94 2.06-2.06.94zm-11 1L8.5 8.5l.94-2.06 2.06-.94-2.06-.94L8.5 2.5l-.94 2.06-2.06.94zm10 10l.94 2.06.94-2.06 2.06-.94-2.06-.94-.94-2.06-.94 2.06-2.06.94z\"/><path d=\"M17.41 7.96l-1.37-1.37c-.4-.4-.92-.59-1.43-.59-.52 0-1.04.2-1.43.59L10.3 9.45l-7.72 7.72c-.78.78-.78 2.05 0 2.83L4 21.41c.39.39.9.59 1.41.59.51 0 1.02-.2 1.41-.59l7.78-7.78 2.81-2.81c.8-.78.8-2.07 0-2.86zM5.41 20L4 18.59l7.72-7.72 1.47 1.35L5.41 20z\"/>\n",
       "  </svg>\n",
       "      </button>\n",
       "      \n",
       "  <style>\n",
       "    .colab-df-container {\n",
       "      display:flex;\n",
       "      flex-wrap:wrap;\n",
       "      gap: 12px;\n",
       "    }\n",
       "\n",
       "    .colab-df-convert {\n",
       "      background-color: #E8F0FE;\n",
       "      border: none;\n",
       "      border-radius: 50%;\n",
       "      cursor: pointer;\n",
       "      display: none;\n",
       "      fill: #1967D2;\n",
       "      height: 32px;\n",
       "      padding: 0 0 0 0;\n",
       "      width: 32px;\n",
       "    }\n",
       "\n",
       "    .colab-df-convert:hover {\n",
       "      background-color: #E2EBFA;\n",
       "      box-shadow: 0px 1px 2px rgba(60, 64, 67, 0.3), 0px 1px 3px 1px rgba(60, 64, 67, 0.15);\n",
       "      fill: #174EA6;\n",
       "    }\n",
       "\n",
       "    [theme=dark] .colab-df-convert {\n",
       "      background-color: #3B4455;\n",
       "      fill: #D2E3FC;\n",
       "    }\n",
       "\n",
       "    [theme=dark] .colab-df-convert:hover {\n",
       "      background-color: #434B5C;\n",
       "      box-shadow: 0px 1px 3px 1px rgba(0, 0, 0, 0.15);\n",
       "      filter: drop-shadow(0px 1px 2px rgba(0, 0, 0, 0.3));\n",
       "      fill: #FFFFFF;\n",
       "    }\n",
       "  </style>\n",
       "\n",
       "      <script>\n",
       "        const buttonEl =\n",
       "          document.querySelector('#df-8408a5a8-9b21-49ee-b913-f6306c2171ac button.colab-df-convert');\n",
       "        buttonEl.style.display =\n",
       "          google.colab.kernel.accessAllowed ? 'block' : 'none';\n",
       "\n",
       "        async function convertToInteractive(key) {\n",
       "          const element = document.querySelector('#df-8408a5a8-9b21-49ee-b913-f6306c2171ac');\n",
       "          const dataTable =\n",
       "            await google.colab.kernel.invokeFunction('convertToInteractive',\n",
       "                                                     [key], {});\n",
       "          if (!dataTable) return;\n",
       "\n",
       "          const docLinkHtml = 'Like what you see? Visit the ' +\n",
       "            '<a target=\"_blank\" href=https://colab.research.google.com/notebooks/data_table.ipynb>data table notebook</a>'\n",
       "            + ' to learn more about interactive tables.';\n",
       "          element.innerHTML = '';\n",
       "          dataTable['output_type'] = 'display_data';\n",
       "          await google.colab.output.renderOutput(dataTable, element);\n",
       "          const docLink = document.createElement('div');\n",
       "          docLink.innerHTML = docLinkHtml;\n",
       "          element.appendChild(docLink);\n",
       "        }\n",
       "      </script>\n",
       "    </div>\n",
       "  </div>\n",
       "  "
      ],
      "text/plain": [
       "                                                 Review  Mood\n",
       "5916  this is an ungainly movie , ill-fitting , with...     0\n",
       "4806  a real audience-pleaser that will strike a cho...     1\n",
       "2390  it's soulful and unslick , and that's apparent...     1\n",
       "5808   . . . what a banal bore the preachy circuit t...     0\n",
       "3412  although devoid of objectivity and full of nos...     1"
      ]
     },
     "execution_count": 83,
     "metadata": {},
     "output_type": "execute_result"
    }
   ],
   "source": [
    "review_path = \"../Задание 6/\"\n",
    "pos_rev = pd.read_csv(review_path + \"data/negative_reviews.txt\", sep=\"\\n\", header=None, names=[\"Review\"])\n",
    "pos_rev[\"Mood\"] = 1\n",
    "neg_rev = pd.read_csv(review_path + \"data/positive_reviews.txt\", sep=\"\\n\", header=None, names=[\"Review\"])\n",
    "neg_rev[\"Mood\"] = 0\n",
    "rev_data = pd.concat([pos_rev, neg_rev], ignore_index=True)\n",
    "rev_data.sample(5)"
   ]
  },
  {
   "cell_type": "code",
   "execution_count": null,
   "metadata": {
    "id": "VVqCL-Dfi9MF"
   },
   "outputs": [],
   "source": [
    "X, y = rev_data.Review, rev_data.Mood\n",
    "X_train, X_test, y_train, y_test = train_test_split(X, y, test_size=0.3, random_state=42, shuffle=True)"
   ]
  },
  {
   "cell_type": "code",
   "execution_count": null,
   "metadata": {
    "id": "VXUXF1vykF-N"
   },
   "outputs": [],
   "source": [
    "def preprocess_text_2(s):\n",
    "    # Remove all non-word characters (everything except numbers and letters)\n",
    "    s = re.sub(r\"[^\\w\\s]\", '', s)\n",
    "    # replace digits with no space\n",
    "    s = re.sub(r\"\\d\", '', s)\n",
    "    # Replace repetative spaces with only one space\n",
    "    s = re.sub(r\"\\s+\", ' ', s)\n",
    "\n",
    "    return s"
   ]
  },
  {
   "cell_type": "code",
   "execution_count": null,
   "metadata": {
    "id": "MoAxn9b4qnIn"
   },
   "outputs": [],
   "source": [
    "def preprocess_text(text: str):\n",
    "  s = re.sub(\"[^a-z]\", \" \", text.lower())\n",
    "  s = re.sub(r\"\\s+\", ' ', s)\n",
    "  return s"
   ]
  },
  {
   "cell_type": "code",
   "execution_count": null,
   "metadata": {
    "id": "8KXAA1zDXMkC"
   },
   "outputs": [],
   "source": [
    "def preprocess_text_3(text: str):\n",
    "  return re.sub(r\"[^a-zA-Z0-9\\\\]\", \" \", text)"
   ]
  },
  {
   "cell_type": "code",
   "execution_count": null,
   "metadata": {
    "id": "FiaI1bkmj56j"
   },
   "outputs": [],
   "source": [
    "class Vocab:\n",
    "  def __init__(self, data: list):\n",
    "    st = set()\n",
    "    self.max_seq_len = 0\n",
    "    for x in data:\n",
    "      rev = preprocess_text(x)\n",
    "      rev = nltk.word_tokenize(rev)\n",
    "      self.max_seq_len = max(self.max_seq_len, len(rev))\n",
    "      st.update(rev)\n",
    "    self.unk_token = '<UNK>'\n",
    "    self.pad_token = '<PAD>'\n",
    "    #unique_words = [self.pad_token, self.unk_token] + sorted(list(st - set(stopwords.words('english'))))\n",
    "    unique_words = [self.pad_token, self.unk_token] + sorted(list(st))\n",
    "    word_ind = list(np.arange(len(unique_words)))\n",
    "    self.idx_to_token = dict(zip(word_ind, unique_words))\n",
    "    self.token_to_idx = dict(zip(unique_words, word_ind))\n",
    "    self.vocab_len = len(unique_words)\n",
    "\n",
    "\n",
    "class ReviewDataset(Dataset):\n",
    "  def __init__(self, X, y, vocab: Vocab):\n",
    "    self.X = X\n",
    "    self.y = y\n",
    "    self.vocab = vocab\n",
    "\n",
    "  def get_idx(self, review):\n",
    "    review = preprocess_text(review)\n",
    "    review = nltk.word_tokenize(review)\n",
    "    pad_idx = self.vocab.token_to_idx[vocab.pad_token]\n",
    "    unk_idx = self.vocab.token_to_idx[vocab.unk_token]\n",
    "    idx = [pad_idx] * self.vocab.max_seq_len\n",
    "    n = min(len(review), self.vocab.max_seq_len)\n",
    "    for i in range(n):\n",
    "      idx[i] = self.vocab.token_to_idx.get(review[i], unk_idx)\n",
    "\n",
    "    \n",
    "    return torch.tensor(idx, dtype=torch.int64)\n",
    "\n",
    "\n",
    "  def __len__(self):\n",
    "    return len(self.X)\n",
    "\n",
    "  def __getitem__(self, idx):\n",
    "    #return self.X.iloc[idx], self.get_idx(self.X.iloc[idx]), self.y.iloc[idx]\n",
    "    return self.get_idx(self.X.iloc[idx]), self.y.iloc[idx]"
   ]
  },
  {
   "cell_type": "code",
   "execution_count": null,
   "metadata": {
    "id": "jFUFTpjZmweJ"
   },
   "outputs": [],
   "source": [
    "vocab = Vocab(X_train.tolist())\n",
    "review_train = ReviewDataset(X_train, y_train, vocab)\n",
    "review_test = ReviewDataset(X_test, y_test, vocab)\n",
    "\n",
    "batch_size = 32\n",
    "train_iter = DataLoader(review_train, batch_size, shuffle=True)\n",
    "test_iter = DataLoader(review_test, batch_size, shuffle=False)"
   ]
  },
  {
   "cell_type": "code",
   "execution_count": null,
   "metadata": {
    "colab": {
     "base_uri": "https://localhost:8080/",
     "height": 37
    },
    "id": "ZqymeQ40NWyc",
    "outputId": "c70a283b-f89d-4b39-b91e-5952d314d1e8"
   },
   "outputs": [
    {
     "data": {
      "application/vnd.google.colaboratory.intrinsic+json": {
       "type": "string"
      },
      "text/plain": [
       "\"i can't recommend it . but it's surprisingly harmless .\""
      ]
     },
     "execution_count": 161,
     "metadata": {},
     "output_type": "execute_result"
    }
   ],
   "source": [
    "a = next(iter(train_iter))\n",
    "a[0][2]"
   ]
  },
  {
   "cell_type": "code",
   "execution_count": null,
   "metadata": {
    "id": "2DqrIqqlaeOH"
   },
   "outputs": [],
   "source": [
    "def idx_to_text(idx, vocab):\n",
    "  text = []\n",
    "  for x in idx.tolist():\n",
    "    if x == 0:\n",
    "      break\n",
    "    text.append(vocab.idx_to_token[x])\n",
    "  return text"
   ]
  },
  {
   "cell_type": "code",
   "execution_count": null,
   "metadata": {
    "colab": {
     "base_uri": "https://localhost:8080/"
    },
    "id": "NiPuzB6AZQ0H",
    "outputId": "a02b71ee-43bb-4000-a088-479f657f19ab"
   },
   "outputs": [
    {
     "data": {
      "text/plain": [
       "tensor([ 6579,  1869, 13431, 10917,  7210,  1786,  7210, 11575, 13319,  6129,\n",
       "            0,     0,     0,     0,     0,     0,     0,     0,     0,     0,\n",
       "            0,     0,     0,     0,     0,     0,     0,     0,     0,     0,\n",
       "            0,     0,     0,     0,     0,     0,     0,     0,     0,     0,\n",
       "            0,     0,     0,     0,     0,     0,     0,     0,     0,     0,\n",
       "            0,     0])"
      ]
     },
     "execution_count": 162,
     "metadata": {},
     "output_type": "execute_result"
    }
   ],
   "source": [
    "a[1][2]"
   ]
  },
  {
   "cell_type": "code",
   "execution_count": null,
   "metadata": {
    "colab": {
     "base_uri": "https://localhost:8080/"
    },
    "id": "Y4nu3HIUaxjZ",
    "outputId": "1102a5d9-e1d9-4c36-869d-6ee81fd01b58"
   },
   "outputs": [
    {
     "data": {
      "text/plain": [
       "['i',\n",
       " 'can',\n",
       " 't',\n",
       " 'recommend',\n",
       " 'it',\n",
       " 'but',\n",
       " 'it',\n",
       " 's',\n",
       " 'surprisingly',\n",
       " 'harmless']"
      ]
     },
     "execution_count": 164,
     "metadata": {},
     "output_type": "execute_result"
    }
   ],
   "source": [
    "idx_to_text(a[1][2], vocab)"
   ]
  },
  {
   "cell_type": "code",
   "execution_count": null,
   "metadata": {
    "colab": {
     "base_uri": "https://localhost:8080/"
    },
    "id": "Y_QRdyfdm2v1",
    "outputId": "e7d43f02-4f53-4958-e870-5f75ebe4f78b"
   },
   "outputs": [
    {
     "data": {
      "text/plain": [
       "15408"
      ]
     },
     "execution_count": 163,
     "metadata": {},
     "output_type": "execute_result"
    }
   ],
   "source": [
    "vocab.vocab_len"
   ]
  },
  {
   "cell_type": "code",
   "execution_count": null,
   "metadata": {
    "colab": {
     "base_uri": "https://localhost:8080/"
    },
    "id": "CvD3TEiGuvuG",
    "outputId": "ae9e0c4e-cad3-4482-aa10-55e7ad81f3a1"
   },
   "outputs": [
    {
     "data": {
      "text/plain": [
       "2"
      ]
     },
     "execution_count": 34,
     "metadata": {},
     "output_type": "execute_result"
    }
   ],
   "source": [
    "True + 1"
   ]
  },
  {
   "cell_type": "code",
   "execution_count": null,
   "metadata": {
    "id": "g9YGyZB4ncka"
   },
   "outputs": [],
   "source": [
    "class GRU_model(nn.Module):\n",
    "  def __init__(self, vocab_len, embedding_size, rnn_hidden_size,\n",
    "               num_classes, seq_len, num_layers=1, bidir=False):\n",
    "    super().__init__()\n",
    "    self.hidden_dim = rnn_hidden_size\n",
    "    self.seq_len = seq_len\n",
    "    self.num_layers = num_layers\n",
    "    self.bidir = bidir\n",
    "    self.embedding = nn.Embedding(vocab_len, embedding_size, padding_idx=0)\n",
    "    self.rnn = nn.GRU(embedding_size, rnn_hidden_size,\n",
    "                      num_layers = num_layers, batch_first=True, bidirectional = bidir)\n",
    "    self.classifier = nn.Sequential(nn.Linear(rnn_hidden_size * seq_len * (1 + self.bidir), \n",
    "                                              rnn_hidden_size),nn.ReLU(), nn.Dropout(0.5),\n",
    "                                     nn.Linear(rnn_hidden_size, num_classes))\n",
    "    self.dropout = nn.Dropout(0.5)\n",
    "    \n",
    "  def forward(self, X):\n",
    "    #h0 = torch.zeros((1 + self.bidir) * numm, X.size(0), self.hidden_dim).to(device)\n",
    "    batch_size = X.shape[0]\n",
    "    \n",
    "    emb = self.embedding(X) # batch x seq x emb\n",
    "    out, hidden = self.rnn(emb)\n",
    "    out = out.reshape(batch_size, -1)\n",
    "    out = self.dropout(out) # batch x rnn_hidden\n",
    "    out = self.classifier(out) # batch x num_classes\n",
    "    return out\n",
    "\n",
    "\n",
    "vocab_len = vocab.vocab_len\n",
    "embedding_size = 50\n",
    "rnn_hidden_size = 128\n",
    "num_classes = 2\n",
    "seq_len = vocab.max_seq_len\n",
    "net = GRU_model(vocab_len, embedding_size, rnn_hidden_size,\n",
    "                num_classes, seq_len, num_layers = 2)\n",
    "net.to(device)\n",
    "\n",
    "loss = nn.CrossEntropyLoss()  \n",
    "lr = 0.001\n",
    "updater = optim.Adam(net.parameters(), lr=lr)\n",
    "clip_value = 5\n",
    "\n",
    "path = \"./Saved models/Review_task_main.pt\"\n",
    "num_epochs = 15 "
   ]
  },
  {
   "cell_type": "code",
   "execution_count": null,
   "metadata": {
    "colab": {
     "base_uri": "https://localhost:8080/",
     "height": 566
    },
    "id": "-9Bsd-YYoAei",
    "outputId": "de56888e-fa0a-4eef-f035-b59b83895c21"
   },
   "outputs": [
    {
     "name": "stderr",
     "output_type": "stream",
     "text": [
      " 13%|█▎        | 2/15 [00:53<05:46, 26.66s/it]"
     ]
    },
    {
     "name": "stdout",
     "output_type": "stream",
     "text": [
      ": Loss: 0.0199, Train acc: 0.6471, Test acc: 0.6311\n"
     ]
    },
    {
     "name": "stderr",
     "output_type": "stream",
     "text": [
      "\r",
      " 20%|██        | 3/15 [01:19<05:16, 26.34s/it]"
     ]
    },
    {
     "name": "stdout",
     "output_type": "stream",
     "text": [
      ": Loss: 0.0171, Train acc: 0.7301, Test acc: 0.6699\n"
     ]
    },
    {
     "name": "stderr",
     "output_type": "stream",
     "text": [
      "\r",
      " 27%|██▋       | 4/15 [01:44<04:47, 26.13s/it]"
     ]
    },
    {
     "name": "stdout",
     "output_type": "stream",
     "text": [
      ": Loss: 0.0136, Train acc: 0.8064, Test acc: 0.6827\n"
     ]
    },
    {
     "name": "stderr",
     "output_type": "stream",
     "text": [
      "\r",
      " 33%|███▎      | 5/15 [02:11<04:22, 26.29s/it]"
     ]
    },
    {
     "name": "stdout",
     "output_type": "stream",
     "text": [
      ": Loss: 0.0098, Train acc: 0.8643, Test acc: 0.6974\n"
     ]
    },
    {
     "name": "stderr",
     "output_type": "stream",
     "text": [
      "\r",
      " 40%|████      | 6/15 [02:39<04:01, 26.80s/it]"
     ]
    },
    {
     "name": "stdout",
     "output_type": "stream",
     "text": [
      ": Loss: 0.0063, Train acc: 0.9188, Test acc: 0.7052\n"
     ]
    },
    {
     "name": "stderr",
     "output_type": "stream",
     "text": [
      "\r",
      " 47%|████▋     | 7/15 [03:05<03:33, 26.69s/it]"
     ]
    },
    {
     "name": "stdout",
     "output_type": "stream",
     "text": [
      ": Loss: 0.0040, Train acc: 0.9514, Test acc: 0.6987\n"
     ]
    },
    {
     "name": "stderr",
     "output_type": "stream",
     "text": [
      "\r",
      " 53%|█████▎    | 8/15 [03:32<03:05, 26.56s/it]"
     ]
    },
    {
     "name": "stdout",
     "output_type": "stream",
     "text": [
      ": Loss: 0.0021, Train acc: 0.9745, Test acc: 0.7024\n"
     ]
    },
    {
     "name": "stderr",
     "output_type": "stream",
     "text": [
      "\r",
      " 60%|██████    | 9/15 [03:58<02:39, 26.58s/it]"
     ]
    },
    {
     "name": "stdout",
     "output_type": "stream",
     "text": [
      ": Loss: 0.0016, Train acc: 0.9819, Test acc: 0.7049\n"
     ]
    },
    {
     "name": "stderr",
     "output_type": "stream",
     "text": [
      "\r",
      " 67%|██████▋   | 10/15 [04:24<02:12, 26.42s/it]"
     ]
    },
    {
     "name": "stdout",
     "output_type": "stream",
     "text": [
      ": Loss: 0.0011, Train acc: 0.9885, Test acc: 0.7043\n"
     ]
    },
    {
     "name": "stderr",
     "output_type": "stream",
     "text": [
      "\r",
      " 73%|███████▎  | 11/15 [04:50<01:45, 26.31s/it]"
     ]
    },
    {
     "name": "stdout",
     "output_type": "stream",
     "text": [
      ": Loss: 0.0007, Train acc: 0.9926, Test acc: 0.7033\n"
     ]
    },
    {
     "name": "stderr",
     "output_type": "stream",
     "text": [
      "\r",
      " 80%|████████  | 12/15 [05:16<01:18, 26.22s/it]"
     ]
    },
    {
     "name": "stdout",
     "output_type": "stream",
     "text": [
      ": Loss: 0.0008, Train acc: 0.9890, Test acc: 0.7102\n"
     ]
    },
    {
     "name": "stderr",
     "output_type": "stream",
     "text": [
      "\r",
      " 87%|████████▋ | 13/15 [05:43<00:52, 26.28s/it]"
     ]
    },
    {
     "name": "stdout",
     "output_type": "stream",
     "text": [
      ": Loss: 0.0008, Train acc: 0.9925, Test acc: 0.6996\n"
     ]
    },
    {
     "name": "stderr",
     "output_type": "stream",
     "text": [
      "\r",
      " 93%|█████████▎| 14/15 [06:10<00:26, 26.51s/it]"
     ]
    },
    {
     "name": "stdout",
     "output_type": "stream",
     "text": [
      ": Loss: 0.0005, Train acc: 0.9944, Test acc: 0.7077\n"
     ]
    },
    {
     "name": "stderr",
     "output_type": "stream",
     "text": [
      "100%|██████████| 15/15 [06:39<00:00, 26.63s/it]"
     ]
    },
    {
     "name": "stdout",
     "output_type": "stream",
     "text": [
      ": Loss: 0.0004, Train acc: 0.9952, Test acc: 0.7146\n"
     ]
    },
    {
     "name": "stderr",
     "output_type": "stream",
     "text": [
      "\n"
     ]
    },
    {
     "data": {
      "image/png": "[encoded data removed]",
      "text/plain": [
       "<Figure size 1080x360 with 2 Axes>"
      ]
     },
     "metadata": {
      "needs_background": "light"
     },
     "output_type": "display_data"
    }
   ],
   "source": [
    "#Обучение сети\n",
    "train_rnn_model(net, train_iter, test_iter, loss, num_epochs, updater, clip_value)"
   ]
  },
  {
   "cell_type": "markdown",
   "metadata": {
    "id": "2k2iSnp9_Kvu"
   },
   "source": [
    "### Версия - 2"
   ]
  },
  {
   "cell_type": "code",
   "execution_count": null,
   "metadata": {
    "id": "UXzYbW0YkjcQ"
   },
   "outputs": [],
   "source": [
    "class GRU_model(nn.Module):\n",
    "  def __init__(self, vocab_len, embedding_size, rnn_hidden_size,\n",
    "               num_classes, seq_len, num_layers=1, bidir=False):\n",
    "    super().__init__()\n",
    "    self.hidden_dim = rnn_hidden_size\n",
    "    self.seq_len = seq_len\n",
    "    self.num_layers = num_layers\n",
    "    self.bidir = bidir\n",
    "    self.embedding = nn.Embedding(vocab_len, embedding_size, padding_idx=0)\n",
    "    self.rnn = nn.GRU(embedding_size, rnn_hidden_size,\n",
    "                      num_layers = num_layers, batch_first=True, bidirectional = bidir)\n",
    "    self.classifier = nn.Sequential(nn.Linear(rnn_hidden_size  * (1 + self.bidir), \n",
    "                                              rnn_hidden_size),nn.ReLU(), nn.Dropout(0.5),\n",
    "                                     nn.Linear(rnn_hidden_size, num_classes))\n",
    "    self.dropout = nn.Dropout(0.5)\n",
    "    \n",
    "  def forward(self, X):\n",
    "    #h0 = torch.zeros((1 + self.bidir) * numm, X.size(0), self.hidden_dim).to(device)\n",
    "    batch_size = X.shape[0]\n",
    "    \n",
    "    emb = self.embedding(X) # batch x seq x emb\n",
    "    out, hidden = self.rnn(emb)\n",
    "    out = out.sum(axis=1)\n",
    "    out = self.dropout(out) # batch x rnn_hidden\n",
    "    out = self.classifier(out) # batch x num_classes\n",
    "    return out\n",
    "\n",
    "\n",
    "vocab_len = vocab.vocab_len\n",
    "embedding_size = 50\n",
    "rnn_hidden_size = 128\n",
    "num_classes = 2\n",
    "seq_len = vocab.max_seq_len\n",
    "net = GRU_model(vocab_len, embedding_size, rnn_hidden_size,\n",
    "                num_classes, seq_len, num_layers = 2)\n",
    "net.to(device)\n",
    "\n",
    "loss = nn.CrossEntropyLoss()  \n",
    "lr = 0.001\n",
    "updater = optim.Adam(net.parameters(), lr=lr)\n",
    "clip_value = 5\n",
    "\n",
    "path = \"./Saved models/Review_task_main.pt\"\n",
    "num_epochs = 15 "
   ]
  },
  {
   "cell_type": "code",
   "execution_count": null,
   "metadata": {
    "colab": {
     "base_uri": "https://localhost:8080/",
     "height": 583
    },
    "id": "tvyIp1aRClrg",
    "outputId": "25fd4c07-7118-4514-8323-148b97e03f05"
   },
   "outputs": [
    {
     "name": "stderr",
     "output_type": "stream",
     "text": [
      "  7%|▋         | 1/15 [00:24<05:36, 24.04s/it]"
     ]
    },
    {
     "name": "stdout",
     "output_type": "stream",
     "text": [
      ": Loss: 0.0230, Train acc: 0.5224, Test acc: 0.5761\n"
     ]
    },
    {
     "name": "stderr",
     "output_type": "stream",
     "text": [
      "\r",
      " 13%|█▎        | 2/15 [00:47<05:08, 23.76s/it]"
     ]
    },
    {
     "name": "stdout",
     "output_type": "stream",
     "text": [
      ": Loss: 0.0214, Train acc: 0.5676, Test acc: 0.6255\n"
     ]
    },
    {
     "name": "stderr",
     "output_type": "stream",
     "text": [
      "\r",
      " 20%|██        | 3/15 [01:11<04:44, 23.71s/it]"
     ]
    },
    {
     "name": "stdout",
     "output_type": "stream",
     "text": [
      ": Loss: 0.0199, Train acc: 0.6421, Test acc: 0.6633\n"
     ]
    },
    {
     "name": "stderr",
     "output_type": "stream",
     "text": [
      "\r",
      " 27%|██▋       | 4/15 [01:34<04:20, 23.70s/it]"
     ]
    },
    {
     "name": "stdout",
     "output_type": "stream",
     "text": [
      ": Loss: 0.0171, Train acc: 0.7327, Test acc: 0.6862\n"
     ]
    },
    {
     "name": "stderr",
     "output_type": "stream",
     "text": [
      "\r",
      " 33%|███▎      | 5/15 [01:58<03:56, 23.66s/it]"
     ]
    },
    {
     "name": "stdout",
     "output_type": "stream",
     "text": [
      ": Loss: 0.0138, Train acc: 0.8053, Test acc: 0.7099\n"
     ]
    },
    {
     "name": "stderr",
     "output_type": "stream",
     "text": [
      "\r",
      " 40%|████      | 6/15 [02:22<03:32, 23.62s/it]"
     ]
    },
    {
     "name": "stdout",
     "output_type": "stream",
     "text": [
      ": Loss: 0.0110, Train acc: 0.8525, Test acc: 0.7224\n"
     ]
    },
    {
     "name": "stderr",
     "output_type": "stream",
     "text": [
      "\r",
      " 47%|████▋     | 7/15 [02:45<03:08, 23.57s/it]"
     ]
    },
    {
     "name": "stdout",
     "output_type": "stream",
     "text": [
      ": Loss: 0.0082, Train acc: 0.8972, Test acc: 0.7305\n"
     ]
    },
    {
     "name": "stderr",
     "output_type": "stream",
     "text": [
      "\r",
      " 53%|█████▎    | 8/15 [03:10<02:48, 24.06s/it]"
     ]
    },
    {
     "name": "stdout",
     "output_type": "stream",
     "text": [
      ": Loss: 0.0057, Train acc: 0.9345, Test acc: 0.7215\n"
     ]
    },
    {
     "name": "stderr",
     "output_type": "stream",
     "text": [
      "\r",
      " 60%|██████    | 9/15 [03:34<02:23, 23.88s/it]"
     ]
    },
    {
     "name": "stdout",
     "output_type": "stream",
     "text": [
      ": Loss: 0.0034, Train acc: 0.9611, Test acc: 0.7234\n"
     ]
    },
    {
     "name": "stderr",
     "output_type": "stream",
     "text": [
      "\r",
      " 67%|██████▋   | 10/15 [03:57<01:58, 23.77s/it]"
     ]
    },
    {
     "name": "stdout",
     "output_type": "stream",
     "text": [
      ": Loss: 0.0022, Train acc: 0.9731, Test acc: 0.7284\n"
     ]
    },
    {
     "name": "stderr",
     "output_type": "stream",
     "text": [
      "\r",
      " 73%|███████▎  | 11/15 [04:21<01:35, 23.80s/it]"
     ]
    },
    {
     "name": "stdout",
     "output_type": "stream",
     "text": [
      ": Loss: 0.0013, Train acc: 0.9874, Test acc: 0.7234\n"
     ]
    },
    {
     "name": "stderr",
     "output_type": "stream",
     "text": [
      "\r",
      " 80%|████████  | 12/15 [04:50<01:16, 25.48s/it]"
     ]
    },
    {
     "name": "stdout",
     "output_type": "stream",
     "text": [
      ": Loss: 0.0006, Train acc: 0.9941, Test acc: 0.7171\n"
     ]
    },
    {
     "name": "stderr",
     "output_type": "stream",
     "text": [
      "\r",
      " 87%|████████▋ | 13/15 [05:19<00:52, 26.36s/it]"
     ]
    },
    {
     "name": "stdout",
     "output_type": "stream",
     "text": [
      ": Loss: 0.0005, Train acc: 0.9948, Test acc: 0.7146\n"
     ]
    },
    {
     "name": "stderr",
     "output_type": "stream",
     "text": [
      "\r",
      " 93%|█████████▎| 14/15 [05:48<00:27, 27.10s/it]"
     ]
    },
    {
     "name": "stdout",
     "output_type": "stream",
     "text": [
      ": Loss: 0.0004, Train acc: 0.9962, Test acc: 0.7243\n"
     ]
    },
    {
     "name": "stderr",
     "output_type": "stream",
     "text": [
      "100%|██████████| 15/15 [06:18<00:00, 25.22s/it]"
     ]
    },
    {
     "name": "stdout",
     "output_type": "stream",
     "text": [
      ": Loss: 0.0004, Train acc: 0.9956, Test acc: 0.7265\n"
     ]
    },
    {
     "name": "stderr",
     "output_type": "stream",
     "text": [
      "\n"
     ]
    },
    {
     "data": {
      "image/png": "[encoded data removed]",
      "text/plain": [
       "<Figure size 1080x360 with 2 Axes>"
      ]
     },
     "metadata": {
      "needs_background": "light"
     },
     "output_type": "display_data"
    }
   ],
   "source": [
    "#Обучение сети\n",
    "train_rnn_model(net, train_iter, test_iter, loss, num_epochs, updater, clip_value)"
   ]
  },
  {
   "cell_type": "markdown",
   "metadata": {
    "id": "ZKkLNgWyEFHS"
   },
   "source": [
    "### Версия 3"
   ]
  },
  {
   "cell_type": "code",
   "execution_count": null,
   "metadata": {
    "id": "jcWcdJ_bESgN"
   },
   "outputs": [],
   "source": [
    "class GRU_model(nn.Module):\n",
    "  def __init__(self, vocab_len, embedding_size, rnn_hidden_size,\n",
    "               num_classes, seq_len, num_layers=1, bidir=False):\n",
    "    super().__init__()\n",
    "    self.hidden_dim = rnn_hidden_size\n",
    "    self.seq_len = seq_len\n",
    "    self.num_layers = num_layers\n",
    "    self.bidir = bidir\n",
    "    self.embedding = nn.Embedding(vocab_len, embedding_size, padding_idx=0)\n",
    "    self.rnn = nn.GRU(embedding_size, rnn_hidden_size,\n",
    "                      num_layers = num_layers, batch_first=True, bidirectional = bidir)\n",
    "    self.classifier = nn.Sequential(nn.Linear(rnn_hidden_size  * (1 + self.bidir), \n",
    "                                              rnn_hidden_size),nn.ReLU(), nn.Dropout(0.5),\n",
    "                                     nn.Linear(rnn_hidden_size, num_classes))\n",
    "    self.dropout = nn.Dropout(0.5)\n",
    "    \n",
    "  def forward(self, X):\n",
    "    #h0 = torch.zeros((1 + self.bidir) * numm, X.size(0), self.hidden_dim).to(device)\n",
    "    batch_size = X.shape[0]\n",
    "    \n",
    "    emb = self.embedding(X) # batch x seq x emb\n",
    "    out, hidden = self.rnn(emb)\n",
    "    out = out.sum(axis=1)\n",
    "    out = self.dropout(out) # batch x rnn_hidden\n",
    "    out = self.classifier(out) # batch x num_classes\n",
    "    return out\n",
    "\n",
    "\n",
    "vocab_len = vocab.vocab_len\n",
    "embedding_size = 64\n",
    "rnn_hidden_size = 256\n",
    "num_classes = 2\n",
    "seq_len = vocab.max_seq_len\n",
    "net = GRU_model(vocab_len, embedding_size, rnn_hidden_size,\n",
    "                num_classes, seq_len, num_layers = 2)\n",
    "net.to(device)\n",
    "\n",
    "loss = nn.CrossEntropyLoss()  \n",
    "lr = 0.001\n",
    "updater = optim.Adam(net.parameters(), lr=lr)\n",
    "clip_value = 5\n",
    "\n",
    "path = \"./Saved models/Review_task_main.pt\"\n",
    "num_epochs = 15 "
   ]
  },
  {
   "cell_type": "code",
   "execution_count": null,
   "metadata": {
    "colab": {
     "base_uri": "https://localhost:8080/",
     "height": 426
    },
    "id": "leNKYxlUEU-J",
    "outputId": "26e4412d-b0e2-478f-81c5-6304fb3e53df"
   },
   "outputs": [
    {
     "name": "stderr",
     "output_type": "stream",
     "text": [
      "  7%|▋         | 1/15 [00:59<13:49, 59.27s/it]"
     ]
    },
    {
     "name": "stdout",
     "output_type": "stream",
     "text": [
      ": Loss: 0.0226, Train acc: 0.5482, Test acc: 0.5914\n"
     ]
    },
    {
     "name": "stderr",
     "output_type": "stream",
     "text": [
      "\r",
      " 13%|█▎        | 2/15 [01:57<12:39, 58.42s/it]"
     ]
    },
    {
     "name": "stdout",
     "output_type": "stream",
     "text": [
      ": Loss: 0.0205, Train acc: 0.6181, Test acc: 0.6364\n"
     ]
    },
    {
     "name": "stderr",
     "output_type": "stream",
     "text": [
      "\r",
      " 13%|█▎        | 2/15 [02:39<17:14, 79.59s/it]\n"
     ]
    },
    {
     "ename": "KeyboardInterrupt",
     "evalue": "ignored",
     "output_type": "error",
     "traceback": [
      "\u001b[0;31m---------------------------------------------------------------------------\u001b[0m",
      "\u001b[0;31mKeyboardInterrupt\u001b[0m                         Traceback (most recent call last)",
      "\u001b[0;32m<ipython-input-111-fb6e55b70b73>\u001b[0m in \u001b[0;36m<module>\u001b[0;34m\u001b[0m\n\u001b[1;32m      1\u001b[0m \u001b[0;31m#Обучение сети\u001b[0m\u001b[0;34m\u001b[0m\u001b[0;34m\u001b[0m\u001b[0;34m\u001b[0m\u001b[0m\n\u001b[0;32m----> 2\u001b[0;31m \u001b[0mtrain_rnn_model\u001b[0m\u001b[0;34m(\u001b[0m\u001b[0mnet\u001b[0m\u001b[0;34m,\u001b[0m \u001b[0mtrain_iter\u001b[0m\u001b[0;34m,\u001b[0m \u001b[0mtest_iter\u001b[0m\u001b[0;34m,\u001b[0m \u001b[0mloss\u001b[0m\u001b[0;34m,\u001b[0m \u001b[0mnum_epochs\u001b[0m\u001b[0;34m,\u001b[0m \u001b[0mupdater\u001b[0m\u001b[0;34m,\u001b[0m \u001b[0mclip_value\u001b[0m\u001b[0;34m)\u001b[0m\u001b[0;34m\u001b[0m\u001b[0;34m\u001b[0m\u001b[0m\n\u001b[0m",
      "\u001b[0;32m<ipython-input-4-3e5bc7cc1efb>\u001b[0m in \u001b[0;36mtrain_rnn_model\u001b[0;34m(net, train_iter, test_iter, loss, num_epochs, updater, clip_value, path)\u001b[0m\n\u001b[1;32m    106\u001b[0m   \u001b[0mmodel_metrics\u001b[0m \u001b[0;34m=\u001b[0m \u001b[0mModel_metrics\u001b[0m\u001b[0;34m(\u001b[0m\u001b[0;34m)\u001b[0m\u001b[0;34m\u001b[0m\u001b[0;34m\u001b[0m\u001b[0m\n\u001b[1;32m    107\u001b[0m   \u001b[0;32mfor\u001b[0m \u001b[0mepoch\u001b[0m \u001b[0;32min\u001b[0m \u001b[0mtqdm\u001b[0m\u001b[0;34m(\u001b[0m\u001b[0mrange\u001b[0m\u001b[0;34m(\u001b[0m\u001b[0mnum_epochs\u001b[0m\u001b[0;34m)\u001b[0m\u001b[0;34m)\u001b[0m\u001b[0;34m:\u001b[0m\u001b[0;34m\u001b[0m\u001b[0;34m\u001b[0m\u001b[0m\n\u001b[0;32m--> 108\u001b[0;31m     \u001b[0mtrain_loss\u001b[0m\u001b[0;34m,\u001b[0m \u001b[0mtrain_accuracy\u001b[0m \u001b[0;34m=\u001b[0m \u001b[0mtrain_epoch\u001b[0m\u001b[0;34m(\u001b[0m\u001b[0mnet\u001b[0m\u001b[0;34m,\u001b[0m \u001b[0mtrain_iter\u001b[0m\u001b[0;34m,\u001b[0m \u001b[0mloss\u001b[0m\u001b[0;34m,\u001b[0m \u001b[0mupdater\u001b[0m\u001b[0;34m,\u001b[0m \u001b[0mclip_value\u001b[0m\u001b[0;34m)\u001b[0m\u001b[0;34m\u001b[0m\u001b[0;34m\u001b[0m\u001b[0m\n\u001b[0m\u001b[1;32m    109\u001b[0m     \u001b[0mtest_accuracy\u001b[0m \u001b[0;34m=\u001b[0m \u001b[0mevaluate_accuracy\u001b[0m\u001b[0;34m(\u001b[0m\u001b[0mnet\u001b[0m\u001b[0;34m,\u001b[0m \u001b[0mtest_iter\u001b[0m\u001b[0;34m)\u001b[0m\u001b[0;34m\u001b[0m\u001b[0;34m\u001b[0m\u001b[0m\n\u001b[1;32m    110\u001b[0m     \u001b[0mmodel_metrics\u001b[0m\u001b[0;34m.\u001b[0m\u001b[0madd\u001b[0m\u001b[0;34m(\u001b[0m\u001b[0mtrain_loss\u001b[0m\u001b[0;34m,\u001b[0m \u001b[0mtrain_accuracy\u001b[0m\u001b[0;34m,\u001b[0m \u001b[0mtest_accuracy\u001b[0m\u001b[0;34m)\u001b[0m\u001b[0;34m\u001b[0m\u001b[0;34m\u001b[0m\u001b[0m\n",
      "\u001b[0;32m<ipython-input-4-3e5bc7cc1efb>\u001b[0m in \u001b[0;36mtrain_epoch\u001b[0;34m(net, train_iter, loss, updater, clip_value)\u001b[0m\n\u001b[1;32m     42\u001b[0m \u001b[0;34m\u001b[0m\u001b[0m\n\u001b[1;32m     43\u001b[0m     \u001b[0mupdater\u001b[0m\u001b[0;34m.\u001b[0m\u001b[0mzero_grad\u001b[0m\u001b[0;34m(\u001b[0m\u001b[0;34m)\u001b[0m\u001b[0;34m\u001b[0m\u001b[0;34m\u001b[0m\u001b[0m\n\u001b[0;32m---> 44\u001b[0;31m     \u001b[0ml\u001b[0m\u001b[0;34m.\u001b[0m\u001b[0mbackward\u001b[0m\u001b[0;34m(\u001b[0m\u001b[0;34m)\u001b[0m\u001b[0;34m\u001b[0m\u001b[0;34m\u001b[0m\u001b[0m\n\u001b[0m\u001b[1;32m     45\u001b[0m     \u001b[0;32mif\u001b[0m \u001b[0mclip_value\u001b[0m\u001b[0;34m:\u001b[0m\u001b[0;34m\u001b[0m\u001b[0;34m\u001b[0m\u001b[0m\n\u001b[1;32m     46\u001b[0m       \u001b[0mtorch\u001b[0m\u001b[0;34m.\u001b[0m\u001b[0mnn\u001b[0m\u001b[0;34m.\u001b[0m\u001b[0mutils\u001b[0m\u001b[0;34m.\u001b[0m\u001b[0mclip_grad_norm_\u001b[0m\u001b[0;34m(\u001b[0m\u001b[0mnet\u001b[0m\u001b[0;34m.\u001b[0m\u001b[0mparameters\u001b[0m\u001b[0;34m(\u001b[0m\u001b[0;34m)\u001b[0m\u001b[0;34m,\u001b[0m \u001b[0mclip_value\u001b[0m\u001b[0;34m)\u001b[0m\u001b[0;34m\u001b[0m\u001b[0;34m\u001b[0m\u001b[0m\n",
      "\u001b[0;32m/usr/local/lib/python3.8/dist-packages/torch/_tensor.py\u001b[0m in \u001b[0;36mbackward\u001b[0;34m(self, gradient, retain_graph, create_graph, inputs)\u001b[0m\n\u001b[1;32m    485\u001b[0m                 \u001b[0minputs\u001b[0m\u001b[0;34m=\u001b[0m\u001b[0minputs\u001b[0m\u001b[0;34m,\u001b[0m\u001b[0;34m\u001b[0m\u001b[0;34m\u001b[0m\u001b[0m\n\u001b[1;32m    486\u001b[0m             )\n\u001b[0;32m--> 487\u001b[0;31m         torch.autograd.backward(\n\u001b[0m\u001b[1;32m    488\u001b[0m             \u001b[0mself\u001b[0m\u001b[0;34m,\u001b[0m \u001b[0mgradient\u001b[0m\u001b[0;34m,\u001b[0m \u001b[0mretain_graph\u001b[0m\u001b[0;34m,\u001b[0m \u001b[0mcreate_graph\u001b[0m\u001b[0;34m,\u001b[0m \u001b[0minputs\u001b[0m\u001b[0;34m=\u001b[0m\u001b[0minputs\u001b[0m\u001b[0;34m\u001b[0m\u001b[0;34m\u001b[0m\u001b[0m\n\u001b[1;32m    489\u001b[0m         )\n",
      "\u001b[0;32m/usr/local/lib/python3.8/dist-packages/torch/autograd/__init__.py\u001b[0m in \u001b[0;36mbackward\u001b[0;34m(tensors, grad_tensors, retain_graph, create_graph, grad_variables, inputs)\u001b[0m\n\u001b[1;32m    195\u001b[0m     \u001b[0;31m# some Python versions print out the first line of a multi-line function\u001b[0m\u001b[0;34m\u001b[0m\u001b[0;34m\u001b[0m\u001b[0;34m\u001b[0m\u001b[0m\n\u001b[1;32m    196\u001b[0m     \u001b[0;31m# calls in the traceback and some print out the last line\u001b[0m\u001b[0;34m\u001b[0m\u001b[0;34m\u001b[0m\u001b[0;34m\u001b[0m\u001b[0m\n\u001b[0;32m--> 197\u001b[0;31m     Variable._execution_engine.run_backward(  # Calls into the C++ engine to run the backward pass\n\u001b[0m\u001b[1;32m    198\u001b[0m         \u001b[0mtensors\u001b[0m\u001b[0;34m,\u001b[0m \u001b[0mgrad_tensors_\u001b[0m\u001b[0;34m,\u001b[0m \u001b[0mretain_graph\u001b[0m\u001b[0;34m,\u001b[0m \u001b[0mcreate_graph\u001b[0m\u001b[0;34m,\u001b[0m \u001b[0minputs\u001b[0m\u001b[0;34m,\u001b[0m\u001b[0;34m\u001b[0m\u001b[0;34m\u001b[0m\u001b[0m\n\u001b[1;32m    199\u001b[0m         allow_unreachable=True, accumulate_grad=True)  # Calls into the C++ engine to run the backward pass\n",
      "\u001b[0;31mKeyboardInterrupt\u001b[0m: "
     ]
    }
   ],
   "source": [
    "#Обучение сети\n",
    "train_rnn_model(net, train_iter, test_iter, loss, num_epochs, updater, clip_value)"
   ]
  },
  {
   "cell_type": "markdown",
   "metadata": {
    "id": "75bMpd7fkhg5"
   },
   "source": [
    "### Другое"
   ]
  },
  {
   "cell_type": "code",
   "execution_count": null,
   "metadata": {
    "id": "-YErjgvloMLj"
   },
   "outputs": [],
   "source": [
    "class GRU_model(nn.Module):\n",
    "  def __init__(self, vocab_len, embedding_size, rnn_hidden_size, num_classes):\n",
    "    super().__init__()\n",
    "    self.embedding = nn.Embedding(vocab_len, embedding_size, padding_idx=0)\n",
    "    self.rnn = nn.GRU(embedding_size, rnn_hidden_size, batch_first=True)\n",
    "    self.classifier = nn.Sequential(nn.Linear(rnn_hidden_size, rnn_hidden_size),nn.ReLU(), nn.Dropout(0.5), nn.Linear(rnn_hidden_size, num_classes))\n",
    "    self.dropout = nn.Dropout(0.5)\n",
    "\n",
    "    \n",
    "  def forward(self, X):\n",
    "    out = self.embedding(X) # batch x seq x emb\n",
    "    out = torch.squeeze(self.rnn(out)[1]) # batch x rnn_hidden\n",
    "    out = self.dropout(out) # batch x rnn_hidden\n",
    "    out = self.classifier(out) # batch x num_classes\n",
    "    return out\n",
    "\n",
    "\n",
    "vocab_len = vocab.vocab_len\n",
    "embedding_size = 128\n",
    "rnn_hidden_size = 256\n",
    "num_classes = 2\n",
    "net = GRU_model(vocab_len, embedding_size, rnn_hidden_size, num_classes)\n",
    "net.to(device)\n",
    "\n",
    "loss = nn.CrossEntropyLoss()  \n",
    "lr = 0.001\n",
    "updater = optim.Adam(net.parameters(), lr=lr)\n",
    "\n",
    "task_path = \"./Saved models/\"\n",
    "file_name = \"Review_task_extra.pt\"\n",
    "num_epochs = 25 "
   ]
  },
  {
   "cell_type": "code",
   "execution_count": null,
   "metadata": {
    "id": "f49gEstohwTG"
   },
   "outputs": [],
   "source": [
    "def compute_accuracy(y_hat, y):\n",
    "  # Считаем кол-во верных ответов (работает для ответов - векторов)\n",
    "  y_hat = y_hat.argmax(axis=1)\n",
    "  correct_mask = y_hat == y\n",
    "  return correct_mask.sum()\n",
    "\n",
    "def evaluate_accuracy(net, test_iter):\n",
    "  # Выставляем режим оценки модели\n",
    "  net.eval()\n",
    "\n",
    "  total_samples = len(test_iter.dataset) #Общее кол-во элементво в выборке\n",
    "  correct_samples = 0 \n",
    "\n",
    "  with torch.no_grad():\n",
    "    for X, y in test_iter:\n",
    "      X, y = X.to(device), y.to(device)\n",
    "\n",
    "      y_hat = net(X)\n",
    "      correct_samples += compute_accuracy(y_hat, y)\n",
    "\n",
    "  return correct_samples / total_samples\n",
    "\n",
    "\n",
    "def train_epoch(net, train_iter, loss, updater, clip = 5):\n",
    "  # Выставляем режим обучения модели\n",
    "  net.train()\n",
    "\n",
    "  total_samples = len(train_iter.dataset)\n",
    "  correct_samples = 0\n",
    "  total_loss = 0\n",
    "\n",
    "  for X, y in train_iter:\n",
    "    X, y = X.to(device), y.to(device)\n",
    "\n",
    "    y_hat = net(X)\n",
    "    l = loss(y_hat, y)\n",
    "\n",
    "    updater.zero_grad()\n",
    "    l.backward()\n",
    "    nn.utils.clip_grad_norm_(net.parameters(), clip)\n",
    "    updater.step()\n",
    "\n",
    "    total_loss += l\n",
    "    correct_samples += compute_accuracy(y_hat, y)\n",
    "    \n",
    "  return total_loss / total_samples, correct_samples / total_samples\n",
    "\n",
    "\n",
    "class Model_metrics:\n",
    "  def __init__(self):\n",
    "    self.train_loss = []\n",
    "    self.train_accuracy = []\n",
    "    self.test_accuracy = []\n",
    "  \n",
    "  def add(self, train_loss, train_accuracy, test_accuracy):\n",
    "      self.train_loss.append(train_loss.cpu().item())\n",
    "      self.train_accuracy.append(train_accuracy.cpu().item())\n",
    "      self.test_accuracy.append(test_accuracy.cpu().item())\n",
    "  \n",
    "  def plot(self):\n",
    "      plt.rcParams.update({'font.size': 12})\n",
    "      fig, ax = plt.subplots(nrows=1, ncols=2, figsize=(15, 5))\n",
    "      epochs = np.arange(len(self.train_loss))\n",
    "\n",
    "      # График функции потерь\n",
    "      ax[0].plot(epochs, self.train_loss, label=\"train loss\")\n",
    "      ax[0].set_xticks(epochs)\n",
    "      ax[0].grid()\n",
    "      ax[0].legend()\n",
    "\n",
    "      # График точности на обучении и тесте\n",
    "      ax[1].plot(epochs, self.train_accuracy, label=\"train accuracy\")\n",
    "      ax[1].plot(epochs, self.test_accuracy, label=\"test accuracy\")\n",
    "      ax[1].set_xticks(epochs)\n",
    "      ax[1].grid()\n",
    "      ax[1].legend()\n",
    "\n",
    "      plt.show()\n",
    "\n",
    "\n",
    "  def return_dict(self):\n",
    "    res = {\n",
    "        \"train_loss\": self.train_loss,\n",
    "        \"train_accuracy\": self.train_accuracy,\n",
    "        \"test_accuracy\": self.test_accuracy\n",
    "    }\n",
    "    return res\n",
    "\n",
    "\n",
    "def saving(net, model_metrics, task_path, file_name):\n",
    "  state = {\"state_dict\": net.state_dict()}\n",
    "  metrics_dict = model_metrics.return_dict()\n",
    "  state = {**state, **metrics_dict}\n",
    "  torch.save(state, task_path + file_name)\n",
    "\n",
    "\n",
    "def train_model_rnn(net, train_iter, test_iter, loss, \n",
    "                num_epochs, updater, task_path, file_name):\n",
    "    \n",
    "  model_metrics = Model_metrics()\n",
    "  for epoch in tqdm(range(num_epochs)):\n",
    "    train_loss, train_accuracy = train_epoch(net, train_iter, loss, updater)\n",
    "    test_accuracy = evaluate_accuracy(net, test_iter)\n",
    "    model_metrics.add(train_loss, train_accuracy, test_accuracy)\n",
    "    #if epoch % 5 == 0:\n",
    "    #print (f'Epoch [{epoch+1}/{num_epochs}], Loss: {train_loss:.4f}, Train acc: {train_accuracy:.4f}, Test acc: {test_accuracy:.4f}')\n",
    "    print (f': Loss: {train_loss:.4f}, Train acc: {train_accuracy:.4f}, Test acc: {test_accuracy:.4f}')\n",
    "  model_metrics.plot()\n",
    "  saving(net, model_metrics, task_path, file_name)"
   ]
  },
  {
   "cell_type": "code",
   "execution_count": null,
   "metadata": {
    "colab": {
     "base_uri": "https://localhost:8080/",
     "height": 562
    },
    "id": "XCagM4o_ihRd",
    "outputId": "4627dfc6-e180-4739-d9d3-0dbdd44010c4"
   },
   "outputs": [
    {
     "name": "stderr",
     "output_type": "stream",
     "text": [
      "  4%|▍         | 1/25 [00:35<14:14, 35.61s/it]"
     ]
    },
    {
     "name": "stdout",
     "output_type": "stream",
     "text": [
      ": Loss: 0.0218, Train acc: 0.4994, Test acc: 0.4952\n"
     ]
    },
    {
     "name": "stderr",
     "output_type": "stream",
     "text": [
      "\r",
      "  8%|▊         | 2/25 [01:10<13:30, 35.26s/it]"
     ]
    },
    {
     "name": "stdout",
     "output_type": "stream",
     "text": [
      ": Loss: 0.0218, Train acc: 0.4837, Test acc: 0.5055\n"
     ]
    },
    {
     "name": "stderr",
     "output_type": "stream",
     "text": [
      "\r",
      " 12%|█▏        | 3/25 [01:45<12:47, 34.88s/it]"
     ]
    },
    {
     "name": "stdout",
     "output_type": "stream",
     "text": [
      ": Loss: 0.0217, Train acc: 0.5003, Test acc: 0.5052\n"
     ]
    },
    {
     "name": "stderr",
     "output_type": "stream",
     "text": [
      "\r",
      " 16%|█▌        | 4/25 [02:18<12:04, 34.49s/it]"
     ]
    },
    {
     "name": "stdout",
     "output_type": "stream",
     "text": [
      ": Loss: 0.0217, Train acc: 0.5025, Test acc: 0.4952\n"
     ]
    },
    {
     "name": "stderr",
     "output_type": "stream",
     "text": [
      "\r",
      " 20%|██        | 5/25 [02:52<11:25, 34.26s/it]"
     ]
    },
    {
     "name": "stdout",
     "output_type": "stream",
     "text": [
      ": Loss: 0.0217, Train acc: 0.4991, Test acc: 0.4948\n"
     ]
    },
    {
     "name": "stderr",
     "output_type": "stream",
     "text": [
      "\r",
      " 24%|██▍       | 6/25 [03:26<10:46, 34.02s/it]"
     ]
    },
    {
     "name": "stdout",
     "output_type": "stream",
     "text": [
      ": Loss: 0.0217, Train acc: 0.4979, Test acc: 0.5048\n"
     ]
    },
    {
     "name": "stderr",
     "output_type": "stream",
     "text": [
      "\r",
      " 28%|██▊       | 7/25 [04:00<10:10, 33.91s/it]"
     ]
    },
    {
     "name": "stdout",
     "output_type": "stream",
     "text": [
      ": Loss: 0.0217, Train acc: 0.5052, Test acc: 0.4952\n"
     ]
    },
    {
     "name": "stderr",
     "output_type": "stream",
     "text": [
      "\r",
      " 32%|███▏      | 8/25 [04:33<09:35, 33.83s/it]"
     ]
    },
    {
     "name": "stdout",
     "output_type": "stream",
     "text": [
      ": Loss: 0.0217, Train acc: 0.4932, Test acc: 0.5045\n"
     ]
    },
    {
     "name": "stderr",
     "output_type": "stream",
     "text": [
      "\r",
      " 36%|███▌      | 9/25 [05:07<09:00, 33.79s/it]"
     ]
    },
    {
     "name": "stdout",
     "output_type": "stream",
     "text": [
      ": Loss: 0.0216, Train acc: 0.5152, Test acc: 0.5023\n"
     ]
    },
    {
     "name": "stderr",
     "output_type": "stream",
     "text": [
      "\r",
      " 40%|████      | 10/25 [05:41<08:26, 33.75s/it]"
     ]
    },
    {
     "name": "stdout",
     "output_type": "stream",
     "text": [
      ": Loss: 0.0216, Train acc: 0.5113, Test acc: 0.4961\n"
     ]
    },
    {
     "name": "stderr",
     "output_type": "stream",
     "text": [
      "\r",
      " 44%|████▍     | 11/25 [06:14<07:52, 33.76s/it]"
     ]
    },
    {
     "name": "stdout",
     "output_type": "stream",
     "text": [
      ": Loss: 0.0215, Train acc: 0.5109, Test acc: 0.4942\n"
     ]
    },
    {
     "name": "stderr",
     "output_type": "stream",
     "text": [
      "\r",
      " 48%|████▊     | 12/25 [06:48<07:18, 33.71s/it]"
     ]
    },
    {
     "name": "stdout",
     "output_type": "stream",
     "text": [
      ": Loss: 0.0214, Train acc: 0.5186, Test acc: 0.5052\n"
     ]
    },
    {
     "name": "stderr",
     "output_type": "stream",
     "text": [
      "\r",
      " 52%|█████▏    | 13/25 [07:22<06:44, 33.69s/it]"
     ]
    },
    {
     "name": "stdout",
     "output_type": "stream",
     "text": [
      ": Loss: 0.0213, Train acc: 0.5236, Test acc: 0.5027\n"
     ]
    },
    {
     "name": "stderr",
     "output_type": "stream",
     "text": [
      "\r",
      " 52%|█████▏    | 13/25 [07:46<07:10, 35.88s/it]\n"
     ]
    },
    {
     "ename": "KeyboardInterrupt",
     "evalue": "ignored",
     "output_type": "error",
     "traceback": [
      "\u001b[0;31m---------------------------------------------------------------------------\u001b[0m",
      "\u001b[0;31mKeyboardInterrupt\u001b[0m                         Traceback (most recent call last)",
      "\u001b[0;32m<ipython-input-179-effe8dcf3969>\u001b[0m in \u001b[0;36m<module>\u001b[0;34m\u001b[0m\n\u001b[1;32m      1\u001b[0m \u001b[0;31m#Обучение сети\u001b[0m\u001b[0;34m\u001b[0m\u001b[0;34m\u001b[0m\u001b[0;34m\u001b[0m\u001b[0m\n\u001b[0;32m----> 2\u001b[0;31m \u001b[0mtrain_model_rnn\u001b[0m\u001b[0;34m(\u001b[0m\u001b[0mnet\u001b[0m\u001b[0;34m,\u001b[0m \u001b[0mtrain_iter\u001b[0m\u001b[0;34m,\u001b[0m \u001b[0mtest_iter\u001b[0m\u001b[0;34m,\u001b[0m \u001b[0mloss\u001b[0m\u001b[0;34m,\u001b[0m \u001b[0mnum_epochs\u001b[0m\u001b[0;34m,\u001b[0m \u001b[0mupdater\u001b[0m\u001b[0;34m,\u001b[0m \u001b[0mtask_path\u001b[0m\u001b[0;34m,\u001b[0m \u001b[0mfile_name\u001b[0m\u001b[0;34m)\u001b[0m\u001b[0;34m\u001b[0m\u001b[0;34m\u001b[0m\u001b[0m\n\u001b[0m",
      "\u001b[0;32m<ipython-input-178-02448c05a789>\u001b[0m in \u001b[0;36mtrain_model_rnn\u001b[0;34m(net, train_iter, test_iter, loss, num_epochs, updater, task_path, file_name)\u001b[0m\n\u001b[1;32m    100\u001b[0m   \u001b[0mmodel_metrics\u001b[0m \u001b[0;34m=\u001b[0m \u001b[0mModel_metrics\u001b[0m\u001b[0;34m(\u001b[0m\u001b[0;34m)\u001b[0m\u001b[0;34m\u001b[0m\u001b[0;34m\u001b[0m\u001b[0m\n\u001b[1;32m    101\u001b[0m   \u001b[0;32mfor\u001b[0m \u001b[0mepoch\u001b[0m \u001b[0;32min\u001b[0m \u001b[0mtqdm\u001b[0m\u001b[0;34m(\u001b[0m\u001b[0mrange\u001b[0m\u001b[0;34m(\u001b[0m\u001b[0mnum_epochs\u001b[0m\u001b[0;34m)\u001b[0m\u001b[0;34m)\u001b[0m\u001b[0;34m:\u001b[0m\u001b[0;34m\u001b[0m\u001b[0;34m\u001b[0m\u001b[0m\n\u001b[0;32m--> 102\u001b[0;31m     \u001b[0mtrain_loss\u001b[0m\u001b[0;34m,\u001b[0m \u001b[0mtrain_accuracy\u001b[0m \u001b[0;34m=\u001b[0m \u001b[0mtrain_epoch\u001b[0m\u001b[0;34m(\u001b[0m\u001b[0mnet\u001b[0m\u001b[0;34m,\u001b[0m \u001b[0mtrain_iter\u001b[0m\u001b[0;34m,\u001b[0m \u001b[0mloss\u001b[0m\u001b[0;34m,\u001b[0m \u001b[0mupdater\u001b[0m\u001b[0;34m)\u001b[0m\u001b[0;34m\u001b[0m\u001b[0;34m\u001b[0m\u001b[0m\n\u001b[0m\u001b[1;32m    103\u001b[0m     \u001b[0mtest_accuracy\u001b[0m \u001b[0;34m=\u001b[0m \u001b[0mevaluate_accuracy\u001b[0m\u001b[0;34m(\u001b[0m\u001b[0mnet\u001b[0m\u001b[0;34m,\u001b[0m \u001b[0mtest_iter\u001b[0m\u001b[0;34m)\u001b[0m\u001b[0;34m\u001b[0m\u001b[0;34m\u001b[0m\u001b[0m\n\u001b[1;32m    104\u001b[0m     \u001b[0mmodel_metrics\u001b[0m\u001b[0;34m.\u001b[0m\u001b[0madd\u001b[0m\u001b[0;34m(\u001b[0m\u001b[0mtrain_loss\u001b[0m\u001b[0;34m,\u001b[0m \u001b[0mtrain_accuracy\u001b[0m\u001b[0;34m,\u001b[0m \u001b[0mtest_accuracy\u001b[0m\u001b[0;34m)\u001b[0m\u001b[0;34m\u001b[0m\u001b[0;34m\u001b[0m\u001b[0m\n",
      "\u001b[0;32m<ipython-input-178-02448c05a789>\u001b[0m in \u001b[0;36mtrain_epoch\u001b[0;34m(net, train_iter, loss, updater, clip)\u001b[0m\n\u001b[1;32m     33\u001b[0m     \u001b[0mX\u001b[0m\u001b[0;34m,\u001b[0m \u001b[0my\u001b[0m \u001b[0;34m=\u001b[0m \u001b[0mX\u001b[0m\u001b[0;34m.\u001b[0m\u001b[0mto\u001b[0m\u001b[0;34m(\u001b[0m\u001b[0mdevice\u001b[0m\u001b[0;34m)\u001b[0m\u001b[0;34m,\u001b[0m \u001b[0my\u001b[0m\u001b[0;34m.\u001b[0m\u001b[0mto\u001b[0m\u001b[0;34m(\u001b[0m\u001b[0mdevice\u001b[0m\u001b[0;34m)\u001b[0m\u001b[0;34m\u001b[0m\u001b[0;34m\u001b[0m\u001b[0m\n\u001b[1;32m     34\u001b[0m \u001b[0;34m\u001b[0m\u001b[0m\n\u001b[0;32m---> 35\u001b[0;31m     \u001b[0my_hat\u001b[0m \u001b[0;34m=\u001b[0m \u001b[0mnet\u001b[0m\u001b[0;34m(\u001b[0m\u001b[0mX\u001b[0m\u001b[0;34m)\u001b[0m\u001b[0;34m\u001b[0m\u001b[0;34m\u001b[0m\u001b[0m\n\u001b[0m\u001b[1;32m     36\u001b[0m     \u001b[0ml\u001b[0m \u001b[0;34m=\u001b[0m \u001b[0mloss\u001b[0m\u001b[0;34m(\u001b[0m\u001b[0my_hat\u001b[0m\u001b[0;34m,\u001b[0m \u001b[0my\u001b[0m\u001b[0;34m)\u001b[0m\u001b[0;34m\u001b[0m\u001b[0;34m\u001b[0m\u001b[0m\n\u001b[1;32m     37\u001b[0m \u001b[0;34m\u001b[0m\u001b[0m\n",
      "\u001b[0;32m/usr/local/lib/python3.8/dist-packages/torch/nn/modules/module.py\u001b[0m in \u001b[0;36m_call_impl\u001b[0;34m(self, *input, **kwargs)\u001b[0m\n\u001b[1;32m   1128\u001b[0m         if not (self._backward_hooks or self._forward_hooks or self._forward_pre_hooks or _global_backward_hooks\n\u001b[1;32m   1129\u001b[0m                 or _global_forward_hooks or _global_forward_pre_hooks):\n\u001b[0;32m-> 1130\u001b[0;31m             \u001b[0;32mreturn\u001b[0m \u001b[0mforward_call\u001b[0m\u001b[0;34m(\u001b[0m\u001b[0;34m*\u001b[0m\u001b[0minput\u001b[0m\u001b[0;34m,\u001b[0m \u001b[0;34m**\u001b[0m\u001b[0mkwargs\u001b[0m\u001b[0;34m)\u001b[0m\u001b[0;34m\u001b[0m\u001b[0;34m\u001b[0m\u001b[0m\n\u001b[0m\u001b[1;32m   1131\u001b[0m         \u001b[0;31m# Do not call functions when jit is used\u001b[0m\u001b[0;34m\u001b[0m\u001b[0;34m\u001b[0m\u001b[0;34m\u001b[0m\u001b[0m\n\u001b[1;32m   1132\u001b[0m         \u001b[0mfull_backward_hooks\u001b[0m\u001b[0;34m,\u001b[0m \u001b[0mnon_full_backward_hooks\u001b[0m \u001b[0;34m=\u001b[0m \u001b[0;34m[\u001b[0m\u001b[0;34m]\u001b[0m\u001b[0;34m,\u001b[0m \u001b[0;34m[\u001b[0m\u001b[0;34m]\u001b[0m\u001b[0;34m\u001b[0m\u001b[0;34m\u001b[0m\u001b[0m\n",
      "\u001b[0;32m<ipython-input-177-31b3662d71e7>\u001b[0m in \u001b[0;36mforward\u001b[0;34m(self, X)\u001b[0m\n\u001b[1;32m     10\u001b[0m   \u001b[0;32mdef\u001b[0m \u001b[0mforward\u001b[0m\u001b[0;34m(\u001b[0m\u001b[0mself\u001b[0m\u001b[0;34m,\u001b[0m \u001b[0mX\u001b[0m\u001b[0;34m)\u001b[0m\u001b[0;34m:\u001b[0m\u001b[0;34m\u001b[0m\u001b[0;34m\u001b[0m\u001b[0m\n\u001b[1;32m     11\u001b[0m     \u001b[0mout\u001b[0m \u001b[0;34m=\u001b[0m \u001b[0mself\u001b[0m\u001b[0;34m.\u001b[0m\u001b[0membedding\u001b[0m\u001b[0;34m(\u001b[0m\u001b[0mX\u001b[0m\u001b[0;34m)\u001b[0m \u001b[0;31m# batch x seq x emb\u001b[0m\u001b[0;34m\u001b[0m\u001b[0;34m\u001b[0m\u001b[0m\n\u001b[0;32m---> 12\u001b[0;31m     \u001b[0mout\u001b[0m \u001b[0;34m=\u001b[0m \u001b[0mtorch\u001b[0m\u001b[0;34m.\u001b[0m\u001b[0msqueeze\u001b[0m\u001b[0;34m(\u001b[0m\u001b[0mself\u001b[0m\u001b[0;34m.\u001b[0m\u001b[0mrnn\u001b[0m\u001b[0;34m(\u001b[0m\u001b[0mout\u001b[0m\u001b[0;34m)\u001b[0m\u001b[0;34m[\u001b[0m\u001b[0;36m1\u001b[0m\u001b[0;34m]\u001b[0m\u001b[0;34m)\u001b[0m \u001b[0;31m# batch x rnn_hidden\u001b[0m\u001b[0;34m\u001b[0m\u001b[0;34m\u001b[0m\u001b[0m\n\u001b[0m\u001b[1;32m     13\u001b[0m     \u001b[0mout\u001b[0m \u001b[0;34m=\u001b[0m \u001b[0mself\u001b[0m\u001b[0;34m.\u001b[0m\u001b[0mdropout\u001b[0m\u001b[0;34m(\u001b[0m\u001b[0mout\u001b[0m\u001b[0;34m)\u001b[0m \u001b[0;31m# batch x rnn_hidden\u001b[0m\u001b[0;34m\u001b[0m\u001b[0;34m\u001b[0m\u001b[0m\n\u001b[1;32m     14\u001b[0m     \u001b[0mout\u001b[0m \u001b[0;34m=\u001b[0m \u001b[0mself\u001b[0m\u001b[0;34m.\u001b[0m\u001b[0mclassifier\u001b[0m\u001b[0;34m(\u001b[0m\u001b[0mout\u001b[0m\u001b[0;34m)\u001b[0m \u001b[0;31m# batch x num_classes\u001b[0m\u001b[0;34m\u001b[0m\u001b[0;34m\u001b[0m\u001b[0m\n",
      "\u001b[0;32m/usr/local/lib/python3.8/dist-packages/torch/nn/modules/module.py\u001b[0m in \u001b[0;36m_call_impl\u001b[0;34m(self, *input, **kwargs)\u001b[0m\n\u001b[1;32m   1128\u001b[0m         if not (self._backward_hooks or self._forward_hooks or self._forward_pre_hooks or _global_backward_hooks\n\u001b[1;32m   1129\u001b[0m                 or _global_forward_hooks or _global_forward_pre_hooks):\n\u001b[0;32m-> 1130\u001b[0;31m             \u001b[0;32mreturn\u001b[0m \u001b[0mforward_call\u001b[0m\u001b[0;34m(\u001b[0m\u001b[0;34m*\u001b[0m\u001b[0minput\u001b[0m\u001b[0;34m,\u001b[0m \u001b[0;34m**\u001b[0m\u001b[0mkwargs\u001b[0m\u001b[0;34m)\u001b[0m\u001b[0;34m\u001b[0m\u001b[0;34m\u001b[0m\u001b[0m\n\u001b[0m\u001b[1;32m   1131\u001b[0m         \u001b[0;31m# Do not call functions when jit is used\u001b[0m\u001b[0;34m\u001b[0m\u001b[0;34m\u001b[0m\u001b[0;34m\u001b[0m\u001b[0m\n\u001b[1;32m   1132\u001b[0m         \u001b[0mfull_backward_hooks\u001b[0m\u001b[0;34m,\u001b[0m \u001b[0mnon_full_backward_hooks\u001b[0m \u001b[0;34m=\u001b[0m \u001b[0;34m[\u001b[0m\u001b[0;34m]\u001b[0m\u001b[0;34m,\u001b[0m \u001b[0;34m[\u001b[0m\u001b[0;34m]\u001b[0m\u001b[0;34m\u001b[0m\u001b[0;34m\u001b[0m\u001b[0m\n",
      "\u001b[0;32m/usr/local/lib/python3.8/dist-packages/torch/nn/modules/rnn.py\u001b[0m in \u001b[0;36mforward\u001b[0;34m(self, input, hx)\u001b[0m\n\u001b[1;32m    948\u001b[0m         \u001b[0mself\u001b[0m\u001b[0;34m.\u001b[0m\u001b[0mcheck_forward_args\u001b[0m\u001b[0;34m(\u001b[0m\u001b[0minput\u001b[0m\u001b[0;34m,\u001b[0m \u001b[0mhx\u001b[0m\u001b[0;34m,\u001b[0m \u001b[0mbatch_sizes\u001b[0m\u001b[0;34m)\u001b[0m\u001b[0;34m\u001b[0m\u001b[0;34m\u001b[0m\u001b[0m\n\u001b[1;32m    949\u001b[0m         \u001b[0;32mif\u001b[0m \u001b[0mbatch_sizes\u001b[0m \u001b[0;32mis\u001b[0m \u001b[0;32mNone\u001b[0m\u001b[0;34m:\u001b[0m\u001b[0;34m\u001b[0m\u001b[0;34m\u001b[0m\u001b[0m\n\u001b[0;32m--> 950\u001b[0;31m             result = _VF.gru(input, hx, self._flat_weights, self.bias, self.num_layers,\n\u001b[0m\u001b[1;32m    951\u001b[0m                              self.dropout, self.training, self.bidirectional, self.batch_first)\n\u001b[1;32m    952\u001b[0m         \u001b[0;32melse\u001b[0m\u001b[0;34m:\u001b[0m\u001b[0;34m\u001b[0m\u001b[0;34m\u001b[0m\u001b[0m\n",
      "\u001b[0;31mKeyboardInterrupt\u001b[0m: "
     ]
    }
   ],
   "source": [
    "#Обучение сети\n",
    "train_model_rnn(net, train_iter, test_iter, loss, num_epochs, updater, task_path, file_name)"
   ]
  }
 ],
 "metadata": {
  "accelerator": "GPU",
  "colab": {
   "provenance": [],
   "toc_visible": true
  },
  "gpuClass": "standard",
  "kernelspec": {
   "display_name": "Python 3 (ipykernel)",
   "language": "python",
   "name": "python3"
  },
  "language_info": {
   "codemirror_mode": {
    "name": "ipython",
    "version": 3
   },
   "file_extension": ".py",
   "mimetype": "text/x-python",
   "name": "python",
   "nbconvert_exporter": "python",
   "pygments_lexer": "ipython3",
   "version": "3.9.7"
  }
 },
 "nbformat": 4,
 "nbformat_minor": 1
}
