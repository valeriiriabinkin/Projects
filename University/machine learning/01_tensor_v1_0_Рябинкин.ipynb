{
 "cells": [
  {
   "cell_type": "markdown",
   "metadata": {
    "id": "_gE94V3G1RCx"
   },
   "source": [
    "# 01. Знакомство с `torch.Tensor`\n",
    "\n",
    "V 0.1 04.02.2021"
   ]
  },
  {
   "cell_type": "markdown",
   "metadata": {
    "id": "TlWOXn0f1RC7"
   },
   "source": [
    "---"
   ]
  },
  {
   "cell_type": "markdown",
   "metadata": {
    "id": "lZfJ1FRM1RC8"
   },
   "source": [
    "При решении данных задач не подразумевается использования циклов или генераторов Python, если в задании не сказано обратного. Решение должно опираться на использование функционала библиотеки `torch`.\n",
    "\n",
    "[PyTorch documentation](https://pytorch.org/docs/stable/#pytorch-documentation)"
   ]
  },
  {
   "cell_type": "code",
   "execution_count": 4,
   "metadata": {
    "id": "b3AW8rF-1RC9"
   },
   "outputs": [],
   "source": [
    "import torch\n",
    "from torch.nn.functional import normalize\n",
    "import numpy as np"
   ]
  },
  {
   "cell_type": "markdown",
   "metadata": {
    "id": "vow49PuE1RC9"
   },
   "source": [
    "## 1.1 Создание тензоров и выполнение базовых операций над ними\n",
    "\n",
    "[Документация по функциям для создания тензоров](https://pytorch.org/docs/stable/torch.html#creation-ops)\n",
    "\n",
    "[Документация по функциям для работы с индексами](https://pytorch.org/docs/stable/torch.html#indexing-slicing-joining-mutating-ops)"
   ]
  },
  {
   "cell_type": "markdown",
   "metadata": {
    "id": "wBIwO1SB1RC-"
   },
   "source": [
    "1.1.1 Создайте двумерный тензор размера (8, 8). Используя как можно меньше операций, добейтесь расстановки кодов \"шахматных фигур\".\n",
    "\n",
    "Ожидаемый результат:\n",
    "\n",
    "```\n",
    "[[-4., -3., -2., -6., -5., -2., -3., -4.],\n",
    " [-1., -1., -1., -1., -1., -1., -1., -1.],\n",
    " [0., 0., 0., 0., 0., 0., 0., 0.],\n",
    " [0., 0., 0., 0., 0., 0., 0., 0.],\n",
    " [0., 0., 0., 0., 0., 0., 0., 0.],\n",
    " [0., 0., 0., 0., 0., 0., 0., 0.],\n",
    " [1., 1., 1., 1., 1., 1., 1., 1.],\n",
    " [4., 3., 2., 6., 5., 2., 3., 4.]]\n",
    "\n",
    "```"
   ]
  },
  {
   "cell_type": "code",
   "execution_count": 13,
   "metadata": {},
   "outputs": [
    {
     "data": {
      "text/plain": [
       "tensor([[-4., -3., -2., -6., -5., -2., -3., -4.],\n",
       "        [-1., -1., -1., -1., -1., -1., -1., -1.],\n",
       "        [ 0.,  0.,  0.,  0.,  0.,  0.,  0.,  0.],\n",
       "        [ 0.,  0.,  0.,  0.,  0.,  0.,  0.,  0.],\n",
       "        [ 0.,  0.,  0.,  0.,  0.,  0.,  0.,  0.],\n",
       "        [ 0.,  0.,  0.,  0.,  0.,  0.,  0.,  0.],\n",
       "        [ 1.,  1.,  1.,  1.,  1.,  1.,  1.,  1.],\n",
       "        [ 4.,  3.,  2.,  6.,  5.,  2.,  3.,  4.]])"
      ]
     },
     "execution_count": 13,
     "metadata": {},
     "output_type": "execute_result"
    }
   ],
   "source": [
    "x = torch.zeros(8, 8)\n",
    "x1 = torch.tensor([4, 3, 2, 6, 5, 2, 3, 4])\n",
    "x2 = torch.ones(1, 8)\n",
    "x[0] = -1 * x1\n",
    "x[1] = -1 * x2\n",
    "x[6] = x2\n",
    "x[7] = x1; x"
   ]
  },
  {
   "cell_type": "markdown",
   "metadata": {
    "id": "20x5RE1V1RC_"
   },
   "source": [
    "### 1.1.2 Средствами `torch` рассчитать произведения четных чисел от 2 до 20 на ближайшие к ним бОльшие нечетные числа."
   ]
  },
  {
   "cell_type": "code",
   "execution_count": 25,
   "metadata": {},
   "outputs": [
    {
     "data": {
      "text/plain": [
       "tensor([  6,  20,  42,  72, 110, 156, 210, 272, 342, 420])"
      ]
     },
     "execution_count": 25,
     "metadata": {},
     "output_type": "execute_result"
    }
   ],
   "source": [
    "x = torch.arange(2, 22, 2)\n",
    "x1 = torch.arange(3, 23, 2)\n",
    "x1*x"
   ]
  },
  {
   "cell_type": "markdown",
   "metadata": {
    "id": "N_-t5GRM1RC_"
   },
   "source": [
    "1.1.3 Создать тензор размера 11x7 вида: [[1, 2, 3, ..., 7], [11, 12, 13, ..., 17], [21, 22, 23, ..., 27], ..., [101, 102, 103, ..., 107]]"
   ]
  },
  {
   "cell_type": "code",
   "execution_count": 44,
   "metadata": {},
   "outputs": [
    {
     "name": "stderr",
     "output_type": "stream",
     "text": [
      "C:\\Users\\195238\\AppData\\Local\\Temp/ipykernel_13996/1749972685.py:1: UserWarning: torch.range is deprecated and will be removed in a future release because its behavior is inconsistent with Python's range builtin. Instead, use torch.arange, which produces values in [start, end).\n",
      "  x = torch.range(1,7)\n"
     ]
    }
   ],
   "source": [
    "x = torch.range(1,7)\n",
    "y = torch.zeros(11,7)\n",
    "y[0] = x\n",
    "for i in range(1, 11):\n",
    "    x1 = x+10\n",
    "    x = x1\n",
    "    y[i] = x1"
   ]
  },
  {
   "cell_type": "code",
   "execution_count": 45,
   "metadata": {},
   "outputs": [
    {
     "data": {
      "text/plain": [
       "tensor([[  1.,   2.,   3.,   4.,   5.,   6.,   7.],\n",
       "        [ 11.,  12.,  13.,  14.,  15.,  16.,  17.],\n",
       "        [ 21.,  22.,  23.,  24.,  25.,  26.,  27.],\n",
       "        [ 31.,  32.,  33.,  34.,  35.,  36.,  37.],\n",
       "        [ 41.,  42.,  43.,  44.,  45.,  46.,  47.],\n",
       "        [ 51.,  52.,  53.,  54.,  55.,  56.,  57.],\n",
       "        [ 61.,  62.,  63.,  64.,  65.,  66.,  67.],\n",
       "        [ 71.,  72.,  73.,  74.,  75.,  76.,  77.],\n",
       "        [ 81.,  82.,  83.,  84.,  85.,  86.,  87.],\n",
       "        [ 91.,  92.,  93.,  94.,  95.,  96.,  97.],\n",
       "        [101., 102., 103., 104., 105., 106., 107.]])"
      ]
     },
     "execution_count": 45,
     "metadata": {},
     "output_type": "execute_result"
    }
   ],
   "source": [
    "y"
   ]
  },
  {
   "cell_type": "markdown",
   "metadata": {
    "id": "oxVeUiHR1RC_"
   },
   "source": [
    "1.1.4 Написать функцию, которая для целых значений `n` и `m` будет возвращать тензор размера `n`x`m`, заполненный текстурой размера 2x2, состоящей из следующих значений:\n",
    "\n",
    "```\n",
    "0 1\n",
    "\n",
    "2 3\n",
    "\n",
    "```\n",
    "\n",
    "Пример для n = 4 и m = 5:\n",
    "\n",
    "```\n",
    "0 1 0 1 0\n",
    "\n",
    "2 3 2 3 2\n",
    "\n",
    "0 1 0 1 0\n",
    "\n",
    "2 3 2 3 2\n",
    "```"
   ]
  },
  {
   "cell_type": "code",
   "execution_count": 38,
   "metadata": {},
   "outputs": [],
   "source": [
    "def torch_gen(n,m):\n",
    "    x = torch.tensor([[0, 1],\n",
    "                      [2, 3]])\n",
    "    concat0 = x\n",
    "    for i in range(n):\n",
    "        concat = torch.cat((concat0, concat0), dim = 1)\n",
    "        concat0 = concat\n",
    "    for j in range(m):\n",
    "        concat1 = torch.cat((concat0, concat0))\n",
    "        concat0 = concat1\n",
    "    concat2 = torch.hsplit(concat0, [m, n])\n",
    "    return concat2[0][:n]"
   ]
  },
  {
   "cell_type": "code",
   "execution_count": 42,
   "metadata": {},
   "outputs": [
    {
     "data": {
      "text/plain": [
       "tensor([[0, 1, 0],\n",
       "        [2, 3, 2],\n",
       "        [0, 1, 0],\n",
       "        [2, 3, 2],\n",
       "        [0, 1, 0],\n",
       "        [2, 3, 2]])"
      ]
     },
     "execution_count": 42,
     "metadata": {},
     "output_type": "execute_result"
    }
   ],
   "source": [
    "torch_gen(6,3)"
   ]
  },
  {
   "cell_type": "markdown",
   "metadata": {
    "id": "WH9hxJse1RDA"
   },
   "source": [
    "1.1.5 Сгенерировать двумерный тензор `t` размерности (4, 7), состоящий из случайных действительных чисел, равномерно распределенных в дипазоне от 0 до 20. Нормализовать значения массива с помощью преобразования вида $ax+b$ так, что после нормализации максимальный элемент масива будет равен 1.0, минимальный 0.0"
   ]
  },
  {
   "cell_type": "code",
   "execution_count": 62,
   "metadata": {},
   "outputs": [],
   "source": [
    "x = torch.rand(4, 7)*20\n",
    "x_min, x_max = x.min(), x.max()\n",
    "new_min, new_max = 0, 1"
   ]
  },
  {
   "cell_type": "code",
   "execution_count": 63,
   "metadata": {},
   "outputs": [
    {
     "data": {
      "text/plain": [
       "tensor([[0.5391, 0.8317, 0.2404, 1.0000, 0.5063, 0.3574, 0.0710],\n",
       "        [0.3244, 0.9768, 0.6227, 0.0821, 0.8862, 0.3172, 0.7283],\n",
       "        [0.8536, 0.3754, 0.0000, 0.6388, 0.8461, 0.0740, 0.3967],\n",
       "        [0.1968, 0.3955, 0.6496, 0.7910, 0.8221, 0.4510, 0.1089]])"
      ]
     },
     "execution_count": 63,
     "metadata": {},
     "output_type": "execute_result"
    }
   ],
   "source": [
    "x_p = (x - x_min)/(x_max - x_min)*(new_max - new_min) + new_min; x_p"
   ]
  },
  {
   "cell_type": "markdown",
   "metadata": {
    "id": "vPqIeewXB-mM"
   },
   "source": [
    "[Random Sampling](https://pytorch.org/docs/stable/torch.html#random-sampling)\n",
    "\n",
    "[Distributions](https://pytorch.org/docs/stable/distributions.html)"
   ]
  },
  {
   "cell_type": "markdown",
   "metadata": {
    "id": "K_R6cwq11RDE"
   },
   "source": [
    "1.1.6 Задать два двумерных тензора `ar1` и `ar2` размерности (4, 7), состоящих из случайных целых чисел в пределах от 0 до 10. Построить двумерный тензор размерности (4, 7), каждый элемент которого представляет собой максимум из двух значений, находящихся на аналогичной позиции в массивах `ar1`, `ar2`.\n",
    "\n",
    "[Reductions ops](https://pytorch.org/docs/stable/torch.html#reduction-ops)"
   ]
  },
  {
   "cell_type": "code",
   "execution_count": 79,
   "metadata": {},
   "outputs": [
    {
     "data": {
      "text/plain": [
       "tensor([[6., 6., 0., 7., 8., 3., 9.],\n",
       "        [7., 7., 2., 1., 6., 4., 8.],\n",
       "        [4., 3., 7., 9., 2., 1., 4.],\n",
       "        [7., 4., 7., 9., 8., 2., 9.]])"
      ]
     },
     "execution_count": 79,
     "metadata": {},
     "output_type": "execute_result"
    }
   ],
   "source": [
    "ar1 = torch.randint(0, 10, (4, 7))\n",
    "ar2 = torch.randint(0, 10, (4, 7))\n",
    "ar3 = torch.zeros(4, 7)\n",
    "for i in range(4):\n",
    "    for j in range(7):\n",
    "        ar3[i][j] = torch.max(ar1[i][j], ar2[i][j])\n",
    "ar3"
   ]
  },
  {
   "cell_type": "markdown",
   "metadata": {
    "id": "x6zmMhyKBPWQ"
   },
   "source": [
    "1.1.7 Создать тензор из 20 случайных целых чисел от 0 до 100. Получить второе сверху значение в тензоре. Определить индекс этого значения."
   ]
  },
  {
   "cell_type": "code",
   "execution_count": 91,
   "metadata": {},
   "outputs": [
    {
     "data": {
      "text/plain": [
       "(tensor([[98, 89, 75, 16, 62, 23, 31, 88, 15, 17, 91, 37, 51, 83, 56, 13, 89, 16,\n",
       "          83, 60]]),\n",
       " tensor([13, 15, 16, 16, 17, 23, 31, 37, 51, 56, 60, 62, 75, 83, 83, 88, 89, 89,\n",
       "         91, 98]),\n",
       " tensor([15,  8,  3, 17,  9,  5,  6, 11, 12, 14, 19,  4,  2, 13, 18,  7,  1, 16,\n",
       "         10,  0]),\n",
       " tensor(10))"
      ]
     },
     "execution_count": 91,
     "metadata": {},
     "output_type": "execute_result"
    }
   ],
   "source": [
    "x = torch.randint(0, 100, (1, 20))\n",
    "sorted, indices = torch.sort(x[0], 0)\n",
    "x, sorted, indices, indices[-2]"
   ]
  },
  {
   "cell_type": "markdown",
   "metadata": {
    "id": "Xshsy8fD1RDE"
   },
   "source": [
    "## 1.2 Распространение"
   ]
  },
  {
   "cell_type": "markdown",
   "metadata": {
    "id": "jlP22HAJCo28"
   },
   "source": [
    "[Numpy broadcasting](https://numpy.org/devdocs/user/theory.broadcasting.html)\n",
    "\n",
    "[Torch broadcasting](https://pytorch.org/docs/stable/notes/broadcasting.html)"
   ]
  },
  {
   "cell_type": "markdown",
   "metadata": {
    "id": "uRD6-8Gd1RDF"
   },
   "source": [
    "1.2.1 Создать тензор 11x7 вида: `[[1, 2, 3, ..., 7], [11, 12, 13, ..., 17], [21, 22, 23, ..., 27], ..., [101, 102, 103, ..., 107]]`. При решении задачи применить технику распространения."
   ]
  },
  {
   "cell_type": "code",
   "execution_count": 96,
   "metadata": {},
   "outputs": [
    {
     "data": {
      "text/plain": [
       "tensor([[  1,   2,   3,   4,   5,   6,   7],\n",
       "        [ 11,  12,  13,  14,  15,  16,  17],\n",
       "        [ 21,  22,  23,  24,  25,  26,  27],\n",
       "        [ 31,  32,  33,  34,  35,  36,  37],\n",
       "        [ 41,  42,  43,  44,  45,  46,  47],\n",
       "        [ 51,  52,  53,  54,  55,  56,  57],\n",
       "        [ 61,  62,  63,  64,  65,  66,  67],\n",
       "        [ 71,  72,  73,  74,  75,  76,  77],\n",
       "        [ 81,  82,  83,  84,  85,  86,  87],\n",
       "        [ 91,  92,  93,  94,  95,  96,  97],\n",
       "        [101, 102, 103, 104, 105, 106, 107]])"
      ]
     },
     "execution_count": 96,
     "metadata": {},
     "output_type": "execute_result"
    }
   ],
   "source": [
    "tensor11_7 = torch.arange(11*7).reshape(11, 7) + torch.arange(0, 31, 3).reshape(11, 1) + 1; tensor11_7"
   ]
  },
  {
   "cell_type": "markdown",
   "metadata": {
    "id": "iSY9Iday1RDF"
   },
   "source": [
    "1.2.2 Вычесть одномерный тензор `b_1d` из двухмерного тензора `a_2d`, так, чтобы каждый элемент одномерного тензора вычитался из всех элементов соответствующих строк двумерного тензора.\n",
    "\n",
    "_Пример:_\n",
    "\n",
    "Для входа:\n",
    "```python\n",
    "a_2d = np.array([[3,3,3],[4,4,4],[5,5,5]])\n",
    "b_1d = np.array([1,2,3])\n",
    "```\n",
    "\n",
    "Ожидается резульат:\n",
    "\n",
    "```python\n",
    "[[2 2 2]\n",
    " [2 2 2]\n",
    " [2 2 2]]\n",
    "```"
   ]
  },
  {
   "cell_type": "code",
   "execution_count": 103,
   "metadata": {},
   "outputs": [],
   "source": [
    "a_2d = torch.tensor([[3,3,3],[4,4,4],[5,5,5]])\n",
    "b_1d = torch.tensor([1,2,3])"
   ]
  },
  {
   "cell_type": "code",
   "execution_count": 107,
   "metadata": {},
   "outputs": [
    {
     "data": {
      "text/plain": [
       "tensor([[2, 2, 2],\n",
       "        [2, 2, 2],\n",
       "        [2, 2, 2]])"
      ]
     },
     "execution_count": 107,
     "metadata": {},
     "output_type": "execute_result"
    }
   ],
   "source": [
    "a_2d - b_1d.reshape(3, 1)"
   ]
  },
  {
   "cell_type": "markdown",
   "metadata": {
    "id": "dFTvPsY91RDF"
   },
   "source": [
    "## 1.3 Индексы, маскирование и прихотливое индексирование\n",
    "\n",
    "[Документация по функциям для работы с индексами](https://pytorch.org/docs/stable/torch.html#indexing-slicing-joining-mutating-ops)"
   ]
  },
  {
   "cell_type": "markdown",
   "metadata": {
    "id": "McYtDYhH1RDG"
   },
   "source": [
    "1.3.1 Получить индексы, для которых элементы тензоров `a` и `b` совпадают.\n",
    "\n",
    "_Пример:_\n",
    "\n",
    "Для входа:\n",
    "```python\n",
    "a = np.array([1,2,3,2,3,4,3,4,5,6])\n",
    "b = np.array([7,2,10,2,7,4,9,4,9,8])\n",
    "```\n",
    "\n",
    "Ожидается резульат:\n",
    "\n",
    "```python\n",
    "array([1, 3, 5, 7])\n",
    "```"
   ]
  },
  {
   "cell_type": "code",
   "execution_count": 108,
   "metadata": {},
   "outputs": [],
   "source": [
    "a = torch.tensor([1,2,3,2,3,4,3,4,5,6])\n",
    "b = torch.tensor([7,2,10,2,7,4,9,4,9,8])"
   ]
  },
  {
   "cell_type": "code",
   "execution_count": 112,
   "metadata": {},
   "outputs": [
    {
     "data": {
      "text/plain": [
       "tensor([False,  True, False,  True, False,  True, False,  True, False, False])"
      ]
     },
     "execution_count": 112,
     "metadata": {},
     "output_type": "execute_result"
    }
   ],
   "source": [
    "a == b"
   ]
  },
  {
   "cell_type": "code",
   "execution_count": 110,
   "metadata": {},
   "outputs": [
    {
     "data": {
      "text/plain": [
       "(tensor([1, 3, 5, 7]),)"
      ]
     },
     "execution_count": 110,
     "metadata": {},
     "output_type": "execute_result"
    }
   ],
   "source": [
    "x = torch.nonzero(a == b, as_tuple = True); x"
   ]
  },
  {
   "cell_type": "markdown",
   "metadata": {
    "id": "MnBq3nfy1RDG"
   },
   "source": [
    "1.3.2 Инвертировать порядок элементов в двумерном тензоре `torch.arange(9).view(3,3)`.\n",
    "\n",
    "Ожидаемый результат:\n",
    "\n",
    "\n",
    "```python\n",
    "array([[8, 7, 6],\n",
    "       [5, 4, 3],\n",
    "       [2, 1, 0]])\n",
    "```"
   ]
  },
  {
   "cell_type": "code",
   "execution_count": 130,
   "metadata": {},
   "outputs": [
    {
     "data": {
      "text/plain": [
       "tensor([[8, 7, 6],\n",
       "        [5, 4, 3],\n",
       "        [2, 1, 0]])"
      ]
     },
     "execution_count": 130,
     "metadata": {},
     "output_type": "execute_result"
    }
   ],
   "source": [
    "x = torch.arange(9).view(3,3)\n",
    "x1 = x.reshape(-1,).sort(descending = True)[0].reshape(3,3); x1"
   ]
  },
  {
   "cell_type": "markdown",
   "metadata": {
    "id": "tANsLnOC1RDH"
   },
   "source": [
    "1.3.3 Из входного тензора a получить только элементы, находящиеся в диапазоне от 5 до 10.\n",
    "\n",
    "_Пример:_\n",
    "\n",
    "Для входа:\n",
    "```python\n",
    "a = np.array([2, 6, 1, 9, 10, 3, 27])\n",
    "```\n",
    "\n",
    "Ожидается резульат:\n",
    "\n",
    "```python\n",
    "array([6, 9, 10])\n",
    "```"
   ]
  },
  {
   "cell_type": "code",
   "execution_count": 132,
   "metadata": {},
   "outputs": [
    {
     "data": {
      "text/plain": [
       "tensor([ 5,  6,  7,  8,  9, 10])"
      ]
     },
     "execution_count": 132,
     "metadata": {},
     "output_type": "execute_result"
    }
   ],
   "source": [
    "a = torch.tensor([2, 6, 1, 9, 10, 3, 27])"
   ]
  },
  {
   "cell_type": "code",
   "execution_count": 136,
   "metadata": {},
   "outputs": [
    {
     "data": {
      "text/plain": [
       "tensor([ 6,  9, 10])"
      ]
     },
     "execution_count": 136,
     "metadata": {},
     "output_type": "execute_result"
    }
   ],
   "source": [
    "a = a[(a >= 5) & (a <= 10)]; a"
   ]
  },
  {
   "cell_type": "markdown",
   "metadata": {
    "id": "3vlK0gV21RDH"
   },
   "source": [
    "1.3.4 Поменять местами столбец 1 и 2 тензора `np.arange(9).reshape(3,3)`"
   ]
  },
  {
   "cell_type": "code",
   "execution_count": 150,
   "metadata": {},
   "outputs": [
    {
     "data": {
      "text/plain": [
       "tensor([[0, 2, 1],\n",
       "        [3, 5, 4],\n",
       "        [6, 8, 7]])"
      ]
     },
     "execution_count": 150,
     "metadata": {},
     "output_type": "execute_result"
    }
   ],
   "source": [
    "a = torch.arange(9).reshape(3,3)\n",
    "a[:, [0,2,1]]"
   ]
  },
  {
   "cell_type": "markdown",
   "metadata": {
    "id": "cheFtWhU1RDH"
   },
   "source": [
    "1.3.5 Создать тензор 8 на 10 из случайных целых чисел из диапазона от 0 до 10 и найти в ней строку (ее индекс и вывести саму строку), в которой сумма значений минимальна."
   ]
  },
  {
   "cell_type": "code",
   "execution_count": 187,
   "metadata": {},
   "outputs": [
    {
     "name": "stdout",
     "output_type": "stream",
     "text": [
      "0\n",
      "tensor([ 0,  2, 10,  7,  6,  7,  9,  9,  8,  6])\n"
     ]
    }
   ],
   "source": [
    "a = torch.randint(0, 11, size=(8, 10))\n",
    "index = arr.sum(axis=1).max(axis=0).indices.item()\n",
    "print(index)\n",
    "print(arr[index])"
   ]
  },
  {
   "cell_type": "markdown",
   "metadata": {
    "id": "grOCNU4XFE2B"
   },
   "source": [
    "1.3.6 Cоздать тензор из 20 случайных целых чисел от 0 до 100. Обрезать значения тензора (заменить значения, выходящие за диапазон, на крайние значения) снизу по значению 30, сверху по значению 70."
   ]
  },
  {
   "cell_type": "code",
   "execution_count": 189,
   "metadata": {},
   "outputs": [
    {
     "data": {
      "text/plain": [
       "tensor([[30, 70, 35, 56, 30, 70, 30, 45, 44, 30, 30, 69, 32, 70, 70, 30, 39, 30,\n",
       "         43, 43]])"
      ]
     },
     "execution_count": 189,
     "metadata": {},
     "output_type": "execute_result"
    }
   ],
   "source": [
    "x = torch.randint(0, 100, (1, 20))\n",
    "x[(x < 30)] = 30\n",
    "x[(x > 70)] = 70\n",
    "x"
   ]
  },
  {
   "cell_type": "markdown",
   "metadata": {
    "id": "HNfQjY8P1RDI"
   },
   "source": [
    "1.3.7 Создать два тензора размера 30 на 3 из случайных целых чисел из диапазона от 0 до 10 и найти все значения первого тензора, которые больше соответсвующих (по расположению) значений второго тензора. Подсчитать сумму этих значений."
   ]
  },
  {
   "cell_type": "code",
   "execution_count": 190,
   "metadata": {},
   "outputs": [],
   "source": [
    "x1 = torch.randint(0, 11, size=(30, 3))\n",
    "x2 = torch.randint(0, 11, size=(30, 3))"
   ]
  },
  {
   "cell_type": "code",
   "execution_count": 193,
   "metadata": {},
   "outputs": [
    {
     "name": "stdout",
     "output_type": "stream",
     "text": [
      "tensor([ 6,  8,  2,  6,  5,  3,  5,  4,  4,  7,  7, 10,  9,  6,  5,  7,  3,  7,\n",
      "         8,  3, 10,  4,  9,  2,  5,  6, 10, 10,  2,  6,  8,  9,  5,  1,  8,  6,\n",
      "         9,  5,  4])\n",
      "tensor(234)\n"
     ]
    }
   ],
   "source": [
    "print(x1[x1 > x2])\n",
    "print(x1[x1 > x2].sum())"
   ]
  },
  {
   "cell_type": "markdown",
   "metadata": {
    "id": "doBCxYJA1RDI"
   },
   "source": [
    "1.3.8 При помощи прихотливого индексирования для двухмерного массива размерности (20, 20), состоящего из случайных целых чисел в пределах от 0 до 10 получить массив элементов находящихся на диагонали, проходящей над основной диагональю."
   ]
  },
  {
   "cell_type": "code",
   "execution_count": 194,
   "metadata": {},
   "outputs": [
    {
     "data": {
      "text/plain": [
       "tensor([[ 4,  5,  4,  8,  0,  1, 10,  9,  4,  1,  6,  8,  5,  0, 10,  8,  3,  0,\n",
       "          8,  6],\n",
       "        [10,  5,  1,  0,  7,  3,  6,  3,  2,  1,  3,  8,  5,  7,  8, 10,  0,  8,\n",
       "          9,  1],\n",
       "        [ 0, 10,  5,  8,  1,  0,  2,  9,  7,  5,  0,  9,  7, 10,  2,  7,  3,  2,\n",
       "          3,  0],\n",
       "        [ 8,  1,  5,  0,  1,  4,  5,  7,  4,  9,  2,  5, 10,  0,  3,  3,  0,  1,\n",
       "          0,  7],\n",
       "        [ 9,  4, 10,  4,  7,  5,  9,  1,  7,  8,  5,  1,  3,  0, 10,  8, 10,  4,\n",
       "          0,  2],\n",
       "        [ 9,  7,  6,  6,  9,  3,  7,  3,  3,  7,  4,  0,  5,  6,  6,  5,  9,  7,\n",
       "          3, 10],\n",
       "        [ 1,  0,  9,  5,  3,  7,  7,  5,  0, 10,  3,  1,  4,  0,  9,  2, 10,  7,\n",
       "          3,  6],\n",
       "        [ 8,  6,  3,  5,  7,  8, 10,  5,  7,  6,  8,  3,  6, 10,  5,  7,  6,  7,\n",
       "          4,  1],\n",
       "        [ 5, 10,  2,  0,  2,  9,  9,  0,  0, 10,  4,  0,  5,  9,  2,  4,  0,  2,\n",
       "          2,  3],\n",
       "        [ 4,  9,  2,  2,  1,  0,  1,  0,  7,  9,  7,  8,  3,  4,  3,  3,  1,  8,\n",
       "          4,  6],\n",
       "        [10,  2,  3,  4,  9,  9,  1,  2,  2,  7,  9,  1,  8,  8,  4,  8,  4,  4,\n",
       "          8,  8],\n",
       "        [ 7,  8,  6,  0,  1,  5,  2,  6,  5,  9,  9,  1,  0,  6,  2,  3, 10,  5,\n",
       "          7, 10],\n",
       "        [ 3,  2,  8,  6,  7,  2,  1,  5,  7,  6, 10,  7,  8,  8,  5,  5,  3,  6,\n",
       "          1,  3],\n",
       "        [ 9,  9,  7,  5,  1,  9,  9,  5,  9,  1,  4,  9,  1,  0,  2, 10,  4,  8,\n",
       "          0,  4],\n",
       "        [10,  1,  5,  7,  2,  8,  1,  8,  1,  7,  1,  8,  9,  4, 10,  2,  3,  5,\n",
       "          2,  3],\n",
       "        [ 6,  5,  3,  2,  1,  3,  8,  6,  3,  0,  0,  2,  2,  3,  6,  5,  6,  0,\n",
       "          4,  7],\n",
       "        [ 2,  5,  4,  2,  9,  7,  9,  7,  8,  5, 10,  8, 10,  3,  3,  0,  5,  3,\n",
       "         10,  3],\n",
       "        [ 7,  0,  3,  7,  4,  0,  8,  0,  2,  3,  2,  0, 10,  3,  5,  3,  8,  2,\n",
       "          0,  8],\n",
       "        [ 0,  8,  9,  4,  8,  8,  2,  5,  8,  4,  9,  2, 10,  6,  3,  5,  5,  7,\n",
       "          5,  3],\n",
       "        [ 8,  2,  7,  4,  7,  7,  8,  4,  7,  4,  5,  1,  8,  5,  8,  5,  3,  7,\n",
       "          2,  9]])"
      ]
     },
     "execution_count": 194,
     "metadata": {},
     "output_type": "execute_result"
    }
   ],
   "source": [
    "x = torch.randint(0, 11, size=(20, 20)); x"
   ]
  },
  {
   "cell_type": "code",
   "execution_count": 198,
   "metadata": {},
   "outputs": [
    {
     "name": "stdout",
     "output_type": "stream",
     "text": [
      "tensor([ 5,  1,  8,  1,  5,  7,  5,  7, 10,  7,  1,  0,  8,  2,  2,  6,  3,  0,\n",
      "         3])\n"
     ]
    }
   ],
   "source": [
    "print(x[torch.arange(19), torch.arange(19) + 1])"
   ]
  },
  {
   "cell_type": "markdown",
   "metadata": {
    "id": "6M1lkfLp1RDJ"
   },
   "source": [
    "1.3.9 Задать два двухмерных тензора `ar1` и `ar2` размерности (5, 10), состоящих из случайных целых чисел в пределах от 0 до 10. Удвоить все значения `ar1`, которые совпадают со значениями `ar2`, расположенными на аналогичных позициях."
   ]
  },
  {
   "cell_type": "code",
   "execution_count": 196,
   "metadata": {},
   "outputs": [
    {
     "name": "stdout",
     "output_type": "stream",
     "text": [
      "tensor([[ 0, 10,  8,  8,  5,  8,  5,  3,  5,  7],\n",
      "        [ 6,  8,  8,  5,  3,  9,  2,  7,  9,  5],\n",
      "        [ 2,  1,  0,  9,  9,  5,  5,  8, 10,  5],\n",
      "        [ 6,  1,  6,  3,  5,  2,  1,  4,  6,  3],\n",
      "        [ 1,  3,  6,  1,  9,  7,  3,  9,  2,  6]])\n",
      "tensor([[ 4,  6, 10, 10,  2, 10, 10, 10,  4,  3],\n",
      "        [ 5,  9,  8,  5,  2,  7,  7,  4,  8,  6],\n",
      "        [ 1,  5,  4,  4,  0,  1,  6,  4,  7,  9],\n",
      "        [ 6,  4,  6,  9,  4,  9, 10,  5,  0, 10],\n",
      "        [ 8,  3,  5,  4,  3,  0,  5,  5,  9,  1]])\n"
     ]
    },
    {
     "data": {
      "text/plain": [
       "tensor([[ 0, 10,  8,  8,  5,  8,  5,  3,  5,  7],\n",
       "        [ 6,  8, 16, 10,  3,  9,  2,  7,  9,  5],\n",
       "        [ 2,  1,  0,  9,  9,  5,  5,  8, 10,  5],\n",
       "        [12,  1, 12,  3,  5,  2,  1,  4,  6,  3],\n",
       "        [ 1,  6,  6,  1,  9,  7,  3,  9,  2,  6]])"
      ]
     },
     "execution_count": 196,
     "metadata": {},
     "output_type": "execute_result"
    }
   ],
   "source": [
    "x1 = torch.randint(0, 11, size=(5, 10))\n",
    "x2 = torch.randint(0, 11, size=(5, 10))\n",
    "arr1[x1 == x2] *= 2; x1"
   ]
  },
  {
   "cell_type": "markdown",
   "metadata": {
    "id": "Qe2oVr4p1RDJ"
   },
   "source": [
    "1.3.10 Заданы три двухмерных тензора `ar1`, `ar2` и `ar3` размерности (4, 7), состоящие из случайных целых чисел в пределах от 0 до 10. Обнулить все элементы `ar1`, которые больше соответствующих (находящихся в соответствующих позициях) элементов `ar2` и меньше соответствующих элементов `ar3`."
   ]
  },
  {
   "cell_type": "code",
   "execution_count": 199,
   "metadata": {},
   "outputs": [],
   "source": [
    "x1 = torch.randint(0, 11, size=(4, 7))\n",
    "x2 = torch.randint(0, 11, size=(4, 7))\n",
    "x3 = torch.randint(0, 11, size=(4, 7))"
   ]
  },
  {
   "cell_type": "code",
   "execution_count": 200,
   "metadata": {},
   "outputs": [
    {
     "data": {
      "text/plain": [
       "tensor([[ 0,  1,  9,  4,  5,  3,  8],\n",
       "        [ 6,  8,  1,  9, 10,  2,  3],\n",
       "        [ 3,  1, 10,  0,  7,  5,  5],\n",
       "        [ 4,  0,  0,  1,  0, 10,  0]])"
      ]
     },
     "execution_count": 200,
     "metadata": {},
     "output_type": "execute_result"
    }
   ],
   "source": [
    "x1[(x1 > x2) & (x1 < x3)] = 0\n",
    "x1"
   ]
  },
  {
   "cell_type": "markdown",
   "metadata": {
    "id": "BTcRVeYh1RDK"
   },
   "source": [
    "1.3.11 Задан двумерный тензор `ar1` размерности (20, 5), состоящий из случайных целых чисел в пределах от 0 до 20. Определить, в каких столбцах не менее 5 раз встречается значение, максимальное по своей строке."
   ]
  },
  {
   "cell_type": "code",
   "execution_count": 201,
   "metadata": {},
   "outputs": [
    {
     "data": {
      "text/plain": [
       "tensor([[ 6, 17, 10,  1,  8],\n",
       "        [19,  1, 15, 13, 15],\n",
       "        [17,  3,  7,  6,  0],\n",
       "        [ 7, 17,  4,  7,  0],\n",
       "        [ 1, 20,  7,  4, 15],\n",
       "        [19,  0,  3,  2, 18],\n",
       "        [12,  8, 19, 14, 16],\n",
       "        [16,  0, 16,  1,  3],\n",
       "        [ 6, 14,  7,  2,  5],\n",
       "        [16,  1,  7,  2,  4],\n",
       "        [13,  1,  9,  2, 10],\n",
       "        [17,  6,  9,  9, 14],\n",
       "        [ 6, 12,  2, 10, 12],\n",
       "        [ 3, 13,  0, 10, 14],\n",
       "        [14, 12,  7, 11, 18],\n",
       "        [ 5,  2, 17, 15, 20],\n",
       "        [ 5,  9, 15, 12, 15],\n",
       "        [20,  5, 12, 16,  3],\n",
       "        [10, 13, 16, 14,  4],\n",
       "        [ 4, 14, 18, 17,  9]])"
      ]
     },
     "execution_count": 201,
     "metadata": {},
     "output_type": "execute_result"
    }
   ],
   "source": [
    "x1 = torch.randint(0, 21, size=(20, 5)); x1"
   ]
  },
  {
   "cell_type": "markdown",
   "metadata": {
    "id": "ZeYlNWNE1RDK"
   },
   "source": [
    "1.3.12 Задан двумерный тензор `ar1` размерности (4, 7), состоящий из случайных  чисел в пределах от 0 до 1. Обнулить все значения в массиве, расположенные строго правее и ниже максимального элемента массива. "
   ]
  },
  {
   "cell_type": "code",
   "execution_count": 224,
   "metadata": {},
   "outputs": [
    {
     "data": {
      "text/plain": [
       "tensor([[0.2620, 0.3031, 0.0056, 0.5875, 0.0898, 0.8112, 0.1211],\n",
       "        [0.0480, 0.1881, 0.8274, 0.8439, 0.0043, 0.3481, 0.1123],\n",
       "        [0.0247, 0.4352, 0.2191, 0.8919, 0.3819, 0.1573, 0.1550],\n",
       "        [0.1170, 0.6764, 0.7433, 0.6477, 0.0000, 0.0000, 0.0000]])"
      ]
     },
     "execution_count": 224,
     "metadata": {},
     "output_type": "execute_result"
    }
   ],
   "source": [
    "ar1 = torch.rand((4, 7))\n",
    "maximum = ar1.max().item()\n",
    "ar1[(ar1 == maximum).nonzero(as_tuple=True)[0][0] + 1:, (ar1 == maximum).nonzero(as_tuple=True)[1][0] + 1:] = 0; ar1"
   ]
  },
  {
   "cell_type": "code",
   "execution_count": 225,
   "metadata": {},
   "outputs": [
    {
     "data": {
      "text/plain": [
       "tensor(3)"
      ]
     },
     "execution_count": 225,
     "metadata": {},
     "output_type": "execute_result"
    }
   ],
   "source": [
    "(ar1 == maximum).nonzero(as_tuple=True)[1][0]"
   ]
  },
  {
   "cell_type": "markdown",
   "metadata": {
    "id": "pYxX90B11RDL"
   },
   "source": [
    "1.3.13 Построить \"one-hot encoding\" для одномерного тензора, содержащего целые числа (длина вектора заранее неизвестна, набор значений заранее неизвестен, при этом в итоговой матрице должны присутствовать столбцы для всех натуральных чисел вплоть до максимального встречающегося в исходном массиве).\n",
    "\n",
    "Пример:\n",
    "\n",
    "для тензора `torch.tensor([2, 3, 2, 2, 2, 1])`.\n",
    "\n",
    "Ожидается результат:\n",
    "\n",
    "```python\n",
    "tensor([[0., 1., 0.],\n",
    "        [0., 0., 1.],\n",
    "        [0., 1., 0.],\n",
    "        [0., 1., 0.],\n",
    "        [0., 1., 0.],\n",
    "        [1., 0., 0.]])\n",
    "```"
   ]
  },
  {
   "cell_type": "code",
   "execution_count": 240,
   "metadata": {},
   "outputs": [
    {
     "data": {
      "text/plain": [
       "tensor([[0., 1., 0., 0., 0.],\n",
       "        [0., 0., 0., 1., 0.],\n",
       "        [0., 1., 0., 0., 0.],\n",
       "        [0., 0., 0., 0., 1.],\n",
       "        [0., 1., 0., 0., 0.],\n",
       "        [1., 0., 0., 0., 0.]])"
      ]
     },
     "execution_count": 240,
     "metadata": {},
     "output_type": "execute_result"
    }
   ],
   "source": [
    "x = torch.tensor([2, 4, 2, 5, 2, 1])\n",
    "encoding = torch.zeros(x.size()[0], vec.max())\n",
    "encoding[torch.arange(x.size()[0]), x-1] = 1\n",
    "encoding"
   ]
  },
  {
   "cell_type": "markdown",
   "metadata": {
    "id": "GYU8DmNTDLN8"
   },
   "source": [
    "1.3.14 Создать тензор `arr` из 20 случайных целых чисел от 0 до 100. Найти самое частое значение в тензоре. \n",
    "Найти индексы в тензоре, соответствующие самому частому значению. Проверить, как работет алгоритм при двух значениях, имеющих наибольшую встречаемость, предложить приемлемое поведение алгоритма для этого случая. "
   ]
  },
  {
   "cell_type": "code",
   "execution_count": null,
   "metadata": {},
   "outputs": [],
   "source": []
  },
  {
   "cell_type": "markdown",
   "metadata": {
    "id": "UenAEfEG1RDN"
   },
   "source": [
    "## 1.4 Математические задачи"
   ]
  },
  {
   "cell_type": "markdown",
   "metadata": {
    "id": "6weDrqJR1RDN"
   },
   "source": [
    "1.4.1 Приблизительно (с погрешностью порядка 1%) рассчитать на какой части интервала от 0 до 10 значение функции x * sin(x) больше 0.5."
   ]
  },
  {
   "cell_type": "code",
   "execution_count": 244,
   "metadata": {},
   "outputs": [
    {
     "data": {
      "text/plain": [
       "tensor(0.5230)"
      ]
     },
     "execution_count": 244,
     "metadata": {},
     "output_type": "execute_result"
    }
   ],
   "source": [
    "n = 1000\n",
    "x = torch.linspace(0, 10, n)\n",
    "((x * torch.sin(x)) > 0.5).sum()/n"
   ]
  },
  {
   "cell_type": "markdown",
   "metadata": {
    "id": "B9xAv8TR1RDN"
   },
   "source": [
    "1.4.2 Найти все простые числа в пределах ста. (Для решения предлагается использовать Решето Эратосфена) Использовать не более 1 цикла (желательно)."
   ]
  },
  {
   "cell_type": "markdown",
   "metadata": {
    "id": "AHupFoTR1RDN"
   },
   "source": [
    "1.4.3 Найти евклидово расстояние между двумя одномерными тензорами одинаковой размерности, не используя готовые решения из библиотек."
   ]
  },
  {
   "cell_type": "code",
   "execution_count": 259,
   "metadata": {},
   "outputs": [
    {
     "name": "stdout",
     "output_type": "stream",
     "text": [
      "3.0\n"
     ]
    }
   ],
   "source": [
    "x = torch.tensor([1, 2, 3, 4, 5, 6, 7, 8, 9])\n",
    "y = torch.tensor([2, 3, 4, 5, 6, 7, 8, 9, 10])\n",
    "\n",
    "print(np.sqrt(((x - y) ** 2).sum().item()))"
   ]
  },
  {
   "cell_type": "markdown",
   "metadata": {
    "id": "j-ZvjWDKDVMQ"
   },
   "source": [
    "1.4.4 Создать двумерный тензор 20 на 3, содержащий случайные целые числа от 0 до 100. \n",
    "Интерпретируя тензор как 20 векторов из 3х компонент, отсортировать его по длине векторов."
   ]
  },
  {
   "cell_type": "code",
   "execution_count": 264,
   "metadata": {},
   "outputs": [
    {
     "name": "stdout",
     "output_type": "stream",
     "text": [
      "tensor([[ 57,  16,  17],\n",
      "        [ 58,  19,  17],\n",
      "        [  0,  61,  22],\n",
      "        [ 10,  55,  51],\n",
      "        [ 59,  41,  30],\n",
      "        [  3,  78,   0],\n",
      "        [ 34,  63,  35],\n",
      "        [  3,  55,  61],\n",
      "        [  5,  34,  76],\n",
      "        [ 17,  52,  66],\n",
      "        [ 74,  40,  46],\n",
      "        [ 72,  47,  47],\n",
      "        [ 97,   0,  23],\n",
      "        [ 67,   3,  75],\n",
      "        [ 59,  80,  35],\n",
      "        [ 82,  39,  58],\n",
      "        [ 64,  83,  28],\n",
      "        [ 87,  64,  34],\n",
      "        [100,  53,  17],\n",
      "        [ 92,  18,  88]])\n"
     ]
    }
   ],
   "source": [
    "x = torch.randint(0, 101, size=(20, 3))\n",
    "print(x[np.sqrt((x ** 2).sum(axis=1)).sort().indices])"
   ]
  },
  {
   "cell_type": "markdown",
   "metadata": {
    "id": "IkBRFTKa1RDO"
   },
   "source": [
    "1.4.5 Найти \"локальные максимумы\" в одномерном тензоре (т.е. значения, большие предыдущего и последующего) `torch.tensor([1, 3, 7, 1, 2, 6, 0, 1])` и вывести их индексы."
   ]
  },
  {
   "cell_type": "code",
   "execution_count": 270,
   "metadata": {},
   "outputs": [
    {
     "name": "stdout",
     "output_type": "stream",
     "text": [
      "tensor([ 2,  4,  3, -8,  4,  4]) tensor([-4, -3,  8, -4, -4,  9])\n"
     ]
    }
   ],
   "source": [
    "vec = torch.tensor([1, 3, 7, 10, 2, 6, 10, 1])\n",
    "a = torch.diff(vec)[:-1]\n",
    "b = torch.diff(vec.flip(0)).flip(0)[1:]\n",
    "print(a, b)"
   ]
  },
  {
   "cell_type": "code",
   "execution_count": 280,
   "metadata": {},
   "outputs": [
    {
     "name": "stdout",
     "output_type": "stream",
     "text": [
      "(tensor([2, 5]),)\n"
     ]
    }
   ],
   "source": [
    "print(((a > 0) & (b > 0)).nonzero(as_tuple=True))"
   ]
  },
  {
   "cell_type": "markdown",
   "metadata": {
    "id": "VXD58rlc1RDP"
   },
   "source": [
    "1.4.6 Задан произвольный массив numpy (например массив из 100 случайных числе от 0 до 1). Необходимо найти в нем число наиболее близкое к заданному."
   ]
  },
  {
   "cell_type": "markdown",
   "metadata": {
    "id": "81F_B2ij1RDP"
   },
   "source": [
    "1.4.7 Решить матричное уравнение `A*X*B=-C` - найти матрицу X. Где `A = [[-1, 2, 4], [-3, 1, 2], [-3, 0, 1]]`, `B=[[3, -1], [2, 1]]`, `C=[[7, 21], [11, 8], [8, 4]]`."
   ]
  },
  {
   "cell_type": "markdown",
   "metadata": {
    "id": "1P7O19bj1RDP"
   },
   "source": [
    "1.4.8 Проверить, является ли система векторов a1 = (3; −3; 0; 7),\n",
    "a2 = (2; 2; 4; 7), a3 = (1; 2; 3; 4), a4 = (5; −4; 1; 3) линейно зависимой?"
   ]
  },
  {
   "cell_type": "markdown",
   "metadata": {
    "id": "Jg_bzMVS1RDQ"
   },
   "source": [
    "1.4.9 Сгенирировать тензор из 200 случайных целых чисел, нормально распрделенных cо стандартным отклонением $\\sigma = 10$ и матожиданием $\\mu = 0$. Построить тензор гистограммы с 20 бинами. "
   ]
  }
 ],
 "metadata": {
  "colab": {
   "name": "01_tensor_v1_blank.ipynb",
   "provenance": [],
   "toc_visible": true
  },
  "kernelspec": {
   "display_name": "Python 3 (ipykernel)",
   "language": "python",
   "name": "python3"
  },
  "language_info": {
   "codemirror_mode": {
    "name": "ipython",
    "version": 3
   },
   "file_extension": ".py",
   "mimetype": "text/x-python",
   "name": "python",
   "nbconvert_exporter": "python",
   "pygments_lexer": "ipython3",
   "version": "3.9.7"
  }
 },
 "nbformat": 4,
 "nbformat_minor": 1
}
