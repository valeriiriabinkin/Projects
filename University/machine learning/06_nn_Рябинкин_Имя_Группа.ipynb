{
 "cells": [
  {
   "cell_type": "markdown",
   "id": "ece2b64f",
   "metadata": {},
   "source": [
    "# Введение в обучение искуcственных нейронных сетей"
   ]
  },
  {
   "cell_type": "markdown",
   "id": "c551c145",
   "metadata": {},
   "source": [
    "Материалы:\n",
    "* Макрушин С.В. \"Лекция 6: Введение в обучение искуcственных нейронных сетей и сверточные нейронные сети\"\n",
    "* Документация:\n",
    "    * https://pytorch.org/docs/stable/index.html\n",
    "    * https://pytorch.org/docs/stable/nn.html\n",
    "    * https://pytorch.org/docs/stable/optim.html\n",
    "    * https://scikit-learn.org/stable/modules/generated/sklearn.datasets.make_regression.html"
   ]
  },
  {
   "cell_type": "code",
   "execution_count": 1,
   "id": "945f065a",
   "metadata": {},
   "outputs": [],
   "source": [
    "import torch"
   ]
  },
  {
   "cell_type": "code",
   "execution_count": 2,
   "id": "7194f7a1",
   "metadata": {},
   "outputs": [
    {
     "data": {
      "text/plain": [
       "tensor([1.4013e-45])"
      ]
     },
     "execution_count": 2,
     "metadata": {},
     "output_type": "execute_result"
    }
   ],
   "source": [
    "x = torch.empty(1); x"
   ]
  },
  {
   "cell_type": "markdown",
   "id": "be5c04f8",
   "metadata": {},
   "source": [
    "## Тензоры"
   ]
  },
  {
   "cell_type": "markdown",
   "id": "f0cbfa58",
   "metadata": {},
   "source": [
    "1.1 Загрузить датасет `diabetes` из `sklearn` и представить его в виде тензоров `torch`. Вывести основные характеристики тензоров: размерность, тип, устройство."
   ]
  },
  {
   "cell_type": "markdown",
   "id": "2d2545ad",
   "metadata": {},
   "source": [
    "1.2 Сгенерировать трехмерный тензор `I`, имитирующий картинку в формате RGB. Размерность вектора: 3x200x200. Значения: интенсивность пикселя (от 0 до 255). Разбить тензор `T` на три двумерных тензора `R`, `G`, и `B`."
   ]
  },
  {
   "cell_type": "code",
   "execution_count": 15,
   "id": "7fceb5ca",
   "metadata": {},
   "outputs": [
    {
     "name": "stdout",
     "output_type": "stream",
     "text": [
      "tensor([[ 95,  44, 138,  ...,  91, 140, 107],\n",
      "        [157,  93, 104,  ..., 106,  40, 125],\n",
      "        [ 32,  87, 243,  ..., 181,  26,  96],\n",
      "        ...,\n",
      "        [224, 109, 166,  ...,  91,  65,  95],\n",
      "        [ 48,  83,  39,  ...,  47,  72, 226],\n",
      "        [251,  64,  41,  ..., 253, 145,   4]])\n",
      "tensor([[186,  58, 231,  ...,   3, 170,  37],\n",
      "        [ 23,  33, 216,  ..., 167,  10, 212],\n",
      "        [ 89, 103,  73,  ..., 189, 160,  96],\n",
      "        ...,\n",
      "        [  6,  33,  12,  ..., 108,  84,   7],\n",
      "        [ 37, 156,  27,  ..., 142,  52, 199],\n",
      "        [109, 109, 153,  ..., 201, 225,  34]])\n",
      "tensor([[ 19, 206, 239,  ...,  16, 244, 159],\n",
      "        [ 98, 121,  92,  ...,  59,  76,  92],\n",
      "        [ 30,  76,   1,  ...,  32, 189,  73],\n",
      "        ...,\n",
      "        [ 84, 216, 246,  ...,   1, 208,  25],\n",
      "        [149, 209,  33,  ..., 216,  74, 247],\n",
      "        [ 23,   1, 157,  ...,  98,  73, 105]])\n"
     ]
    }
   ],
   "source": [
    "I = torch.randint (0, 255, (3, 200, 200))\n",
    "for i in I:\n",
    "    print(i)"
   ]
  },
  {
   "cell_type": "markdown",
   "id": "9dee578e",
   "metadata": {},
   "source": [
    "1.3 Создать двумерный тензор размера 8х8, заполненный числами из стандартного нормального распределения. Написать функцию, которая принимает на вход тензор и возвращает его копию, в которой все отрицательные числа заменены на ноль."
   ]
  },
  {
   "cell_type": "code",
   "execution_count": 36,
   "id": "ae6b8d67",
   "metadata": {},
   "outputs": [
    {
     "name": "stdout",
     "output_type": "stream",
     "text": [
      "2 torch.FloatTensor 64\n",
      "torch.Size([8, 8]) torch.Size([8, 8])\n"
     ]
    },
    {
     "data": {
      "text/plain": [
       "8"
      ]
     },
     "execution_count": 36,
     "metadata": {},
     "output_type": "execute_result"
    }
   ],
   "source": [
    "x = torch.randn(8, 8)\n",
    "print( x.dim(),  x.type(), x.numel() )   # размерность, тип элементов, их количество\n",
    "print( x.size(), x.shape )\n",
    "x.size()[0]"
   ]
  },
  {
   "cell_type": "code",
   "execution_count": 37,
   "id": "0d5ebbc1",
   "metadata": {},
   "outputs": [],
   "source": [
    "def change_nigativ(tensor):\n",
    "    I = torch.zeros_like(tensor)\n",
    "    I1 = torch.where(tensor>0, tensor, I)\n",
    "    return I1\n",
    "            "
   ]
  },
  {
   "cell_type": "code",
   "execution_count": 38,
   "id": "d755c7bc",
   "metadata": {},
   "outputs": [],
   "source": [
    "# I = torch.randn(2, 3)\n",
    "# for i in I:\n",
    "#     for j in i:\n",
    "#         if j<0:\n",
    "#             j = 0\n",
    "# print(I)"
   ]
  },
  {
   "cell_type": "code",
   "execution_count": 39,
   "id": "5446428e",
   "metadata": {},
   "outputs": [
    {
     "data": {
      "text/plain": [
       "tensor([[0.0953, 0.2011, 0.3385, 1.1806, 0.0000, 0.0000, 0.0000, 0.9113],\n",
       "        [0.2216, 0.0000, 0.7760, 0.0000, 0.0000, 0.0000, 0.2295, 0.5694],\n",
       "        [1.7501, 0.0000, 0.0000, 0.0549, 0.0000, 0.0000, 0.5871, 0.0000],\n",
       "        [0.0000, 0.8875, 0.6712, 0.0000, 0.7832, 0.0000, 0.0000, 1.2533],\n",
       "        [0.0000, 0.6467, 0.2094, 0.6373, 0.0000, 0.0000, 0.7468, 0.0000],\n",
       "        [0.0000, 2.0264, 0.0000, 0.0000, 1.1094, 0.0000, 0.0000, 0.0000],\n",
       "        [1.5528, 1.2676, 0.0000, 0.0000, 0.0000, 0.0000, 0.7228, 0.0346],\n",
       "        [0.0000, 0.0000, 0.6556, 0.5818, 0.2805, 1.4293, 0.0000, 0.0000]])"
      ]
     },
     "execution_count": 39,
     "metadata": {},
     "output_type": "execute_result"
    }
   ],
   "source": [
    "change_nigativ(x)"
   ]
  },
  {
   "cell_type": "markdown",
   "id": "8026eae2",
   "metadata": {},
   "source": [
    "## 2. Автоматическое дифференцирование"
   ]
  },
  {
   "cell_type": "markdown",
   "id": "55f1d881",
   "metadata": {},
   "source": [
    "2.1 Пусть $z=||XW-Y||_F^2$. Известно, что $\\nabla_Wz = 2X^T(XW-Y)$. Создайте тензоры `X`, `W` и `Y` подходящих размеров и вычислите значение $\\nabla_Wz$."
   ]
  },
  {
   "cell_type": "markdown",
   "id": "ce533128",
   "metadata": {},
   "source": [
    "2.2 Вычислите значение $\\nabla_Wz$ для тех же значений `X`, `W` и `Y`, воспользовавшись автоматическим дифференцированием `torch`. Сравните результаты."
   ]
  },
  {
   "cell_type": "markdown",
   "id": "80f2e00f",
   "metadata": {},
   "source": [
    "# 3. Обучение нейронных сетей"
   ]
  },
  {
   "cell_type": "markdown",
   "id": "0e716755",
   "metadata": {},
   "source": [
    "3.1 При помощи функции `sklearn.dataset.make_regression` создать 2 тензора `X` и `y` типа `torch.float32` (значение параметра `noise` задайте равным 2). Разбить набор данных на обучающую и тестовую выборку в соотношении 80% на 20%. Решить задачу регрессии, воспользовавшись однослойной нейронной сетью. Оценить качество модели на обучающей и тестовой выборках, рассчитав показатель $R^2$. Сравните веса обученного слоя и истинные значения коэффициентов в модели."
   ]
  },
  {
   "cell_type": "markdown",
   "id": "d38c6301",
   "metadata": {},
   "source": [
    "3.2. Загрузите датасет из файла `3.2.csv`. Решите задачу 3.1, используя данных датасет. Добейтесь улучшения качества предсказания на счет использования многослойной нейронной сети."
   ]
  }
 ],
 "metadata": {
  "kernelspec": {
   "display_name": "Python 3 (ipykernel)",
   "language": "python",
   "name": "python3"
  },
  "language_info": {
   "codemirror_mode": {
    "name": "ipython",
    "version": 3
   },
   "file_extension": ".py",
   "mimetype": "text/x-python",
   "name": "python",
   "nbconvert_exporter": "python",
   "pygments_lexer": "ipython3",
   "version": "3.9.7"
  }
 },
 "nbformat": 4,
 "nbformat_minor": 5
}
