{
 "cells": [
  {
   "cell_type": "markdown",
   "metadata": {
    "id": "9RBEdu4N64-7"
   },
   "source": [
    "# Обратное распространение ошибки в многослойных сетях\n",
    "\n",
    "### Цели: \n",
    "- реализация градиентного спуска в `Numpy`\n",
    "\n",
    "### Датасет:\n",
    "- Digits: 10 классов изображений рукописных цифр\n",
    "- [sklearn.datasets.load_digits](http://scikit-learn.org/stable/modules/generated/sklearn.datasets.load_digits.html#sklearn.datasets.load_digits)"
   ]
  },
  {
   "cell_type": "code",
   "execution_count": null,
   "metadata": {
    "id": "ezuKuzQQ64--"
   },
   "outputs": [],
   "source": [
    "%matplotlib inline\n",
    "import matplotlib.pyplot as plt\n",
    "import numpy as np\n",
    "from sklearn.datasets import load_digits\n",
    "\n",
    "digits = load_digits()"
   ]
  },
  {
   "cell_type": "code",
   "execution_count": null,
   "metadata": {
    "colab": {
     "base_uri": "https://localhost:8080/",
     "height": 227
    },
    "executionInfo": {
     "elapsed": 580,
     "status": "ok",
     "timestamp": 1666725252917,
     "user": {
      "displayName": "Дмитрий Шигаров",
      "userId": "09240760155574685522"
     },
     "user_tz": -180
    },
    "id": "IBe0Kdh-64-_",
    "outputId": "ae5291aa-3500-4621-80e8-9900a414bb3c"
   },
   "outputs": [
    {
     "data": {
      "image/png": "[encoded data removed]",
      "text/plain": [
       "<Figure size 216x216 with 1 Axes>"
      ]
     },
     "metadata": {
      "needs_background": "light"
     },
     "output_type": "display_data"
    }
   ],
   "source": [
    "sample_index = 45\n",
    "plt.figure(figsize=(3, 3))\n",
    "plt.imshow(digits.images[sample_index], cmap=plt.cm.gray_r,\n",
    "           interpolation='nearest')\n",
    "plt.title(\"image label: %d\" % digits.target[sample_index]);"
   ]
  },
  {
   "cell_type": "markdown",
   "metadata": {
    "id": "3-FJ5UXN64_A"
   },
   "source": [
    "### Предобработка\n",
    "\n",
    "- Нормализация\n",
    "- Разделение выборки"
   ]
  },
  {
   "cell_type": "code",
   "execution_count": null,
   "metadata": {
    "id": "1qWw_mj164_B"
   },
   "outputs": [],
   "source": [
    "from sklearn import preprocessing\n",
    "from sklearn.model_selection import train_test_split\n",
    "\n",
    "data = np.asarray(digits.data, dtype='float32')\n",
    "target = np.asarray(digits.target, dtype='int32')\n",
    "\n",
    "X_train, X_test, y_train, y_test = train_test_split(\n",
    "    data, target, test_size=0.15, random_state=37)\n",
    "\n",
    "# mean = 0 ; standard deviation = 1.0\n",
    "scaler = preprocessing.StandardScaler()\n",
    "X_train = scaler.fit_transform(X_train)\n",
    "X_test = scaler.transform(X_test)\n",
    "\n",
    "# print(scaler.mean_)\n",
    "# print(scaler.scale_)"
   ]
  },
  {
   "cell_type": "code",
   "execution_count": null,
   "metadata": {
    "colab": {
     "base_uri": "https://localhost:8080/"
    },
    "executionInfo": {
     "elapsed": 3,
     "status": "ok",
     "timestamp": 1666725256926,
     "user": {
      "displayName": "Дмитрий Шигаров",
      "userId": "09240760155574685522"
     },
     "user_tz": -180
    },
    "id": "ubV-bYZi64_B",
    "outputId": "ce859198-203a-4e55-ba3b-9d4d60fc16e9"
   },
   "outputs": [
    {
     "data": {
      "text/plain": [
       "(1527, 64)"
      ]
     },
     "execution_count": 5,
     "metadata": {},
     "output_type": "execute_result"
    }
   ],
   "source": [
    "X_train.shape"
   ]
  },
  {
   "cell_type": "code",
   "execution_count": null,
   "metadata": {
    "colab": {
     "base_uri": "https://localhost:8080/"
    },
    "executionInfo": {
     "elapsed": 846,
     "status": "ok",
     "timestamp": 1666725259062,
     "user": {
      "displayName": "Дмитрий Шигаров",
      "userId": "09240760155574685522"
     },
     "user_tz": -180
    },
    "id": "shYEl4p364_C",
    "outputId": "f539abc3-b2d5-4885-9955-11a17bc52948"
   },
   "outputs": [
    {
     "data": {
      "text/plain": [
       "dtype('float32')"
      ]
     },
     "execution_count": 6,
     "metadata": {},
     "output_type": "execute_result"
    }
   ],
   "source": [
    "X_train.dtype"
   ]
  },
  {
   "cell_type": "code",
   "execution_count": null,
   "metadata": {
    "colab": {
     "base_uri": "https://localhost:8080/"
    },
    "executionInfo": {
     "elapsed": 8,
     "status": "ok",
     "timestamp": 1666725259063,
     "user": {
      "displayName": "Дмитрий Шигаров",
      "userId": "09240760155574685522"
     },
     "user_tz": -180
    },
    "id": "KBalRUdA64_C",
    "outputId": "a78fe064-a443-40d3-9580-73cfb07be60d"
   },
   "outputs": [
    {
     "data": {
      "text/plain": [
       "(270, 64)"
      ]
     },
     "execution_count": 7,
     "metadata": {},
     "output_type": "execute_result"
    }
   ],
   "source": [
    "X_test.shape"
   ]
  },
  {
   "cell_type": "code",
   "execution_count": null,
   "metadata": {
    "colab": {
     "base_uri": "https://localhost:8080/"
    },
    "executionInfo": {
     "elapsed": 6,
     "status": "ok",
     "timestamp": 1666725259063,
     "user": {
      "displayName": "Дмитрий Шигаров",
      "userId": "09240760155574685522"
     },
     "user_tz": -180
    },
    "id": "oyucv4-a64_D",
    "outputId": "c35c181d-cda5-4129-cc80-64dafbed4559"
   },
   "outputs": [
    {
     "data": {
      "text/plain": [
       "(1527,)"
      ]
     },
     "execution_count": 8,
     "metadata": {},
     "output_type": "execute_result"
    }
   ],
   "source": [
    "y_train.shape"
   ]
  },
  {
   "cell_type": "code",
   "execution_count": null,
   "metadata": {
    "colab": {
     "base_uri": "https://localhost:8080/"
    },
    "executionInfo": {
     "elapsed": 4,
     "status": "ok",
     "timestamp": 1666725259063,
     "user": {
      "displayName": "Дмитрий Шигаров",
      "userId": "09240760155574685522"
     },
     "user_tz": -180
    },
    "id": "8QvH5aAk64_D",
    "outputId": "3480b136-91b8-4edf-f7ad-d3c16b105db5"
   },
   "outputs": [
    {
     "data": {
      "text/plain": [
       "dtype('int32')"
      ]
     },
     "execution_count": 9,
     "metadata": {},
     "output_type": "execute_result"
    }
   ],
   "source": [
    "y_train.dtype"
   ]
  },
  {
   "cell_type": "markdown",
   "metadata": {
    "id": "MKgY_CDG64_E"
   },
   "source": [
    "# Реализация в NumPy\n",
    "\n",
    "## a) Логистическая регрессия\n",
    "\n",
    "В этом разделе мы реализуем модель логистической регрессии, которую можно обучать с помощью SGD с использованием numpy. \n",
    "Цели:\n",
    "\n",
    "- Реализовать простую прямую модель без скрытого слоя (эквивалентно логистической регрессии):\n",
    "\n",
    "примечание: важны форма (shape), транспонирование весов W относительно цели\n",
    "$y = softmax(\\mathbf{W} \\dot x + b)$\n",
    "\n",
    "- Создать функцию прогнозирования, которая возвращает наиболее вероятный класс с учетом входных данных $x$\n",
    "\n",
    "- Создать функцию оценки точности для пакета входных данных $X$ и соответствующих ожидаемых результатов $y_{true}$\n",
    "\n",
    "- Создать функцию градиента, которая вычисляет $\\frac{d}{dW} -\\log(softmax(W \\dot x + b))$ для $x$ и соответствующих ожидаемых результатов $y_{true}$ ; убедиться, что градиенты хорошо определены\n",
    "\n",
    "- Создайте функцию обучения, которая использует вывод функции градиента для обновления $\\mathbf{W}$ и $b$\n",
    "\n",
    "\n",
    "### Горячее кодирование (one-hot) данных метки класса\n",
    "\n",
    "Сначала давайте определим вспомогательную функцию для вычисления одного горячего кодирования целочисленного массива для фиксированного числа классов (аналогично keras' `to_categorical`):"
   ]
  },
  {
   "cell_type": "code",
   "execution_count": null,
   "metadata": {
    "id": "aAZHbfTL64_E"
   },
   "outputs": [],
   "source": [
    "def one_hot(n_classes, y):\n",
    "    return np.eye(n_classes)[y]"
   ]
  },
  {
   "cell_type": "code",
   "execution_count": null,
   "metadata": {
    "colab": {
     "base_uri": "https://localhost:8080/"
    },
    "executionInfo": {
     "elapsed": 1144,
     "status": "ok",
     "timestamp": 1666725260204,
     "user": {
      "displayName": "Дмитрий Шигаров",
      "userId": "09240760155574685522"
     },
     "user_tz": -180
    },
    "id": "4EFLnzHf64_E",
    "outputId": "d4b1ebf2-e179-4532-f100-ee353fe4aa4d"
   },
   "outputs": [
    {
     "data": {
      "text/plain": [
       "array([0., 0., 0., 1., 0., 0., 0., 0., 0., 0.])"
      ]
     },
     "execution_count": 11,
     "metadata": {},
     "output_type": "execute_result"
    }
   ],
   "source": [
    "one_hot(n_classes=10, y=3)"
   ]
  },
  {
   "cell_type": "code",
   "execution_count": null,
   "metadata": {
    "colab": {
     "base_uri": "https://localhost:8080/"
    },
    "executionInfo": {
     "elapsed": 4,
     "status": "ok",
     "timestamp": 1666725260204,
     "user": {
      "displayName": "Дмитрий Шигаров",
      "userId": "09240760155574685522"
     },
     "user_tz": -180
    },
    "id": "KhTNpVcN64_F",
    "outputId": "2c89ed9e-cf9e-4738-9392-5243ebf3c804"
   },
   "outputs": [
    {
     "data": {
      "text/plain": [
       "array([[1., 0., 0., 0., 0., 0., 0., 0., 0., 0.],\n",
       "       [0., 0., 0., 0., 1., 0., 0., 0., 0., 0.],\n",
       "       [0., 0., 0., 0., 0., 0., 0., 0., 0., 1.],\n",
       "       [0., 1., 0., 0., 0., 0., 0., 0., 0., 0.]])"
      ]
     },
     "execution_count": 12,
     "metadata": {},
     "output_type": "execute_result"
    }
   ],
   "source": [
    "one_hot(n_classes=10, y=[0, 4, 9, 1])"
   ]
  },
  {
   "cell_type": "markdown",
   "metadata": {
    "id": "rg65HHY-64_F"
   },
   "source": [
    "### Активация softmax\n",
    "\n",
    "Теперь давайте реализуем векторную функцию softmax:\n",
    "\n",
    "$$\n",
    "softmax(\\mathbf{x}) = \\frac{1}{\\sum_{i=1}^{n}{e^{x_i}}}\n",
    "\\cdot\n",
    "\\begin{bmatrix}\n",
    "  e^{x_1}\\\\\\\\\n",
    "  e^{x_2}\\\\\\\\\n",
    "  \\vdots\\\\\\\\\n",
    "  e^{x_n}\n",
    "\\end{bmatrix}\n",
    "$$"
   ]
  },
  {
   "cell_type": "code",
   "execution_count": null,
   "metadata": {
    "id": "1cYDhAiw64_F"
   },
   "outputs": [],
   "source": [
    "def softmax(x):\n",
    "    return np.exp(x) / np.exp(x).sum(axis=0,keepdims=True)"
   ]
  },
  {
   "cell_type": "markdown",
   "metadata": {
    "id": "FxGfNh3K64_F"
   },
   "source": [
    "Убедитесь, что это работает по произвольному вектору (и убедитесь, что сумма компонентов равна единице):"
   ]
  },
  {
   "cell_type": "code",
   "execution_count": null,
   "metadata": {
    "colab": {
     "base_uri": "https://localhost:8080/"
    },
    "executionInfo": {
     "elapsed": 16,
     "status": "ok",
     "timestamp": 1666725260821,
     "user": {
      "displayName": "Дмитрий Шигаров",
      "userId": "09240760155574685522"
     },
     "user_tz": -180
    },
    "id": "I3pTAqci64_G",
    "outputId": "ca9ca2fc-7f69-4682-b712-9c61d6684560"
   },
   "outputs": [
    {
     "name": "stdout",
     "output_type": "stream",
     "text": [
      "[9.99662391e-01 3.35349373e-04 2.25956630e-06]\n"
     ]
    }
   ],
   "source": [
    "print(softmax([10, 2, -3]))"
   ]
  },
  {
   "cell_type": "code",
   "execution_count": null,
   "metadata": {
    "colab": {
     "base_uri": "https://localhost:8080/"
    },
    "executionInfo": {
     "elapsed": 10,
     "status": "ok",
     "timestamp": 1666725260822,
     "user": {
      "displayName": "Дмитрий Шигаров",
      "userId": "09240760155574685522"
     },
     "user_tz": -180
    },
    "id": "VNLfMYAl8E8S",
    "outputId": "acb16071-e8d6-48c3-99b1-733b233c3b03"
   },
   "outputs": [
    {
     "name": "stdout",
     "output_type": "stream",
     "text": [
      "1.0\n"
     ]
    }
   ],
   "source": [
    "print(np.sum(softmax([10, 2, -3])))"
   ]
  },
  {
   "cell_type": "markdown",
   "metadata": {
    "id": "8puOpOee64_G"
   },
   "source": [
    "Обратите внимание, что наивная реализация softmax может быть не в состоянии обработать пакет активаций за один вызов:"
   ]
  },
  {
   "cell_type": "code",
   "execution_count": null,
   "metadata": {
    "colab": {
     "base_uri": "https://localhost:8080/"
    },
    "executionInfo": {
     "elapsed": 2,
     "status": "ok",
     "timestamp": 1666725261407,
     "user": {
      "displayName": "Дмитрий Шигаров",
      "userId": "09240760155574685522"
     },
     "user_tz": -180
    },
    "id": "sZMSWP9Y64_G",
    "outputId": "fa1e7e7f-9e3c-472c-be39-82958750ac80"
   },
   "outputs": [
    {
     "name": "stdout",
     "output_type": "stream",
     "text": [
      "[[9.99983299e-01 4.74258732e-02 9.99999959e-01]\n",
      " [1.67014218e-05 9.52574127e-01 4.13993755e-08]]\n"
     ]
    }
   ],
   "source": [
    "X = np.array([[10, 2, -3],\n",
    "              [-1, 5, -20]])\n",
    "print(softmax(X))"
   ]
  },
  {
   "cell_type": "markdown",
   "metadata": {
    "id": "MrZIwZZY64_G"
   },
   "source": [
    "Вот способ реализации softmax, который работает как для отдельного вектора активаций, так и для партии векторов активаций сразу:"
   ]
  },
  {
   "cell_type": "code",
   "execution_count": null,
   "metadata": {
    "colab": {
     "base_uri": "https://localhost:8080/"
    },
    "executionInfo": {
     "elapsed": 2,
     "status": "ok",
     "timestamp": 1666725262811,
     "user": {
      "displayName": "Дмитрий Шигаров",
      "userId": "09240760155574685522"
     },
     "user_tz": -180
    },
    "id": "ogwpIDND64_H",
    "outputId": "ff1533dd-59aa-4e6c-bc18-4b095202e690"
   },
   "outputs": [
    {
     "name": "stdout",
     "output_type": "stream",
     "text": [
      "softmax of a single vector:\n",
      "[9.99662391e-01 3.35349373e-04 2.25956630e-06]\n"
     ]
    }
   ],
   "source": [
    "def softmax(X):\n",
    "    exp = np.exp(X)\n",
    "    return exp / np.sum(exp, axis=-1, keepdims=True)\n",
    "\n",
    "\n",
    "print(\"softmax of a single vector:\")\n",
    "print(softmax([10, 2, -3]))"
   ]
  },
  {
   "cell_type": "markdown",
   "metadata": {
    "id": "HJZgmoMa64_H"
   },
   "source": [
    "Вероятности должны в сумме равняться 1:"
   ]
  },
  {
   "cell_type": "code",
   "execution_count": null,
   "metadata": {
    "colab": {
     "base_uri": "https://localhost:8080/"
    },
    "executionInfo": {
     "elapsed": 5,
     "status": "ok",
     "timestamp": 1666725263142,
     "user": {
      "displayName": "Дмитрий Шигаров",
      "userId": "09240760155574685522"
     },
     "user_tz": -180
    },
    "id": "AVsIg_1L64_H",
    "outputId": "048687d7-686e-41a9-dad9-e2a8e083e2bb"
   },
   "outputs": [
    {
     "name": "stdout",
     "output_type": "stream",
     "text": [
      "1.0\n"
     ]
    }
   ],
   "source": [
    "print(np.sum(softmax([10, 2, -3, 4])))"
   ]
  },
  {
   "cell_type": "code",
   "execution_count": null,
   "metadata": {
    "colab": {
     "base_uri": "https://localhost:8080/"
    },
    "executionInfo": {
     "elapsed": 6,
     "status": "ok",
     "timestamp": 1666725263395,
     "user": {
      "displayName": "Дмитрий Шигаров",
      "userId": "09240760155574685522"
     },
     "user_tz": -180
    },
    "id": "auegNCLC64_H",
    "outputId": "bf8f160e-24c2-4f4c-edcf-67626d599ad3"
   },
   "outputs": [
    {
     "name": "stdout",
     "output_type": "stream",
     "text": [
      "sotfmax of 2 vectors:\n",
      "[[9.99662391e-01 3.35349373e-04 2.25956630e-06]\n",
      " [2.47262316e-03 9.97527377e-01 1.38536042e-11]]\n"
     ]
    }
   ],
   "source": [
    "print(\"sotfmax of 2 vectors:\")\n",
    "X = np.array([[10, 2, -3],\n",
    "              [-1, 5, -20]])\n",
    "print(softmax(X))"
   ]
  },
  {
   "cell_type": "markdown",
   "metadata": {
    "id": "qG4A6Yir64_H"
   },
   "source": [
    "Сумма вероятностей для каждого входного вектора логитов должна быть равна 1:"
   ]
  },
  {
   "cell_type": "code",
   "execution_count": null,
   "metadata": {
    "colab": {
     "base_uri": "https://localhost:8080/"
    },
    "executionInfo": {
     "elapsed": 5,
     "status": "ok",
     "timestamp": 1666725264653,
     "user": {
      "displayName": "Дмитрий Шигаров",
      "userId": "09240760155574685522"
     },
     "user_tz": -180
    },
    "id": "PB3DaAlU64_I",
    "outputId": "5a16e19a-9a47-4e84-cf06-9ef5f4fdb165"
   },
   "outputs": [
    {
     "name": "stdout",
     "output_type": "stream",
     "text": [
      "[1. 1.]\n"
     ]
    }
   ],
   "source": [
    "print(np.sum(softmax(X), axis=1))"
   ]
  },
  {
   "cell_type": "markdown",
   "metadata": {
    "id": "bCBNachc64_I"
   },
   "source": [
    "Реализуйте функцию, которая получает истинный класс с горячим кодированием `Y_true` и некоторые предсказанные вероятности `Y_pred`, а возвращает отрицательную логарифмическую вероятность."
   ]
  },
  {
   "cell_type": "code",
   "execution_count": null,
   "metadata": {
    "colab": {
     "base_uri": "https://localhost:8080/"
    },
    "executionInfo": {
     "elapsed": 4,
     "status": "ok",
     "timestamp": 1666728497766,
     "user": {
      "displayName": "Дмитрий Шигаров",
      "userId": "09240760155574685522"
     },
     "user_tz": -180
    },
    "id": "NlmKt8y764_I",
    "outputId": "549334ce-6ae6-40e8-d978-32b7aa7592ba"
   },
   "outputs": [
    {
     "name": "stdout",
     "output_type": "stream",
     "text": [
      "0.020100570696907044\n"
     ]
    }
   ],
   "source": [
    "def nll(Y_true, Y_pred):\n",
    "    Y_true = np.asarray(Y_true)\n",
    "    Y_pred = np.asarray(Y_pred)\n",
    "    \n",
    "    # Ваше решение\n",
    "    return -np.sum(Y_true*np.log(Y_pred+0.0000001)+(1-Y_true)*np.log(1-Y_pred+0.0000001), axis=-1, keepdims=True)\n",
    "\n",
    "\n",
    "# Убедитесь, что он работает для простого образца \n",
    "print(nll([1, 0, 0], [0.99, 0.01, 0]))"
   ]
  },
  {
   "cell_type": "markdown",
   "metadata": {
    "id": "5Am3Ts8464_I"
   },
   "source": [
    "Убедитесь, что nll очень уверенного, но плохого прогноза намного выше положительного числа:"
   ]
  },
  {
   "cell_type": "code",
   "execution_count": null,
   "metadata": {
    "colab": {
     "base_uri": "https://localhost:8080/"
    },
    "executionInfo": {
     "elapsed": 240,
     "status": "ok",
     "timestamp": 1666728502926,
     "user": {
      "displayName": "Дмитрий Шигаров",
      "userId": "09240760155574685522"
     },
     "user_tz": -180
    },
    "id": "Zwc9GWJ364_I",
    "outputId": "835b4801-ea6b-4743-a2f7-cc6e186360d4"
   },
   "outputs": [
    {
     "name": "stdout",
     "output_type": "stream",
     "text": [
      "8.527233527319737\n"
     ]
    }
   ],
   "source": [
    "print(nll([1, 0, 0], [0.01, 0.01, .98]))"
   ]
  },
  {
   "cell_type": "markdown",
   "metadata": {
    "id": "gFqJtxZy64_I"
   },
   "source": [
    "Убедитесь, что ваша реализация может вычислить среднюю отрицательную логарифмическую вероятность группы прогнозов: `Y_pred` и `Y_true`, следовательно, могут быть представлены как 2D-массивы:"
   ]
  },
  {
   "cell_type": "code",
   "execution_count": null,
   "metadata": {
    "id": "vukHuTKy64_I"
   },
   "outputs": [],
   "source": [
    "def nll(Y_true, Y_pred):\n",
    "    Y_true = np.atleast_2d(Y_true)\n",
    "    Y_pred = np.atleast_2d(Y_pred)\n",
    "    nll = -np.sum(np.log(Y_pred+0.0000001)*Y_true,axis=1)\n",
    "    return nll.mean()"
   ]
  },
  {
   "cell_type": "code",
   "execution_count": null,
   "metadata": {
    "colab": {
     "base_uri": "https://localhost:8080/"
    },
    "executionInfo": {
     "elapsed": 273,
     "status": "ok",
     "timestamp": 1666731124015,
     "user": {
      "displayName": "Дмитрий Шигаров",
      "userId": "09240760155574685522"
     },
     "user_tz": -180
    },
    "id": "nooB8GNe64_I",
    "outputId": "a6c3fdd3-e40f-4054-e638-b6b12472c5af"
   },
   "outputs": [
    {
     "name": "stdout",
     "output_type": "stream",
     "text": [
      "0.003350011614471826\n"
     ]
    }
   ],
   "source": [
    "# Убедитесь, что средний NLL следующих 3 почти идеален\n",
    "# предсказания близки к 0\n",
    "Y_true = np.array([[0, 1, 0],\n",
    "                   [1, 0, 0],\n",
    "                   [0, 0, 1]])\n",
    "\n",
    "Y_pred = np.array([[0,   1,    0],\n",
    "                   [0.99, 0.01, 0],\n",
    "                   [0,   0,    1]])\n",
    "\n",
    "print(nll(Y_true, Y_pred))"
   ]
  },
  {
   "cell_type": "markdown",
   "metadata": {
    "id": "fVEmnq0r64_J"
   },
   "source": [
    "Давайте теперь изучим следующую линейную модель, обучаемую SGD, **один образец за один раз**."
   ]
  },
  {
   "cell_type": "code",
   "execution_count": null,
   "metadata": {
    "id": "rnl9D_4t64_J"
   },
   "outputs": [],
   "source": [
    "class LogisticRegression():\n",
    "\n",
    "    def __init__(self, input_size, output_size):\n",
    "        self.W = np.random.uniform(size=(input_size, output_size),\n",
    "                                   high=0.1, low=-0.1)\n",
    "        self.b = np.random.uniform(size=output_size,\n",
    "                                   high=0.1, low=-0.1)\n",
    "        self.output_size = output_size\n",
    "        \n",
    "    def forward(self, X):\n",
    "        Z = np.dot(X, self.W) + self.b\n",
    "        return softmax(Z)\n",
    "    \n",
    "    def predict(self, X):\n",
    "        if len(X.shape) == 1:\n",
    "            return np.argmax(self.forward(X))\n",
    "        else:\n",
    "            return np.argmax(self.forward(X), axis=1)\n",
    "    \n",
    "    def grad_loss(self, x, y_true):\n",
    "        y_pred = self.forward(x)\n",
    "        dnll_output =  y_pred - one_hot(self.output_size, y_true)\n",
    "        grad_W = np.outer(x, dnll_output)\n",
    "        grad_b = dnll_output\n",
    "        grads = {\"W\": grad_W, \"b\": grad_b}\n",
    "        return grads\n",
    "    \n",
    "    def train(self, x, y, learning_rate):\n",
    "        # Традиционное обновление SGD без momentum\n",
    "        grads = self.grad_loss(x, y)\n",
    "        self.W = self.W - learning_rate * grads[\"W\"]\n",
    "        self.b = self.b - learning_rate * grads[\"b\"]      \n",
    "        \n",
    "    def loss(self, X, y):\n",
    "        return nll(one_hot(self.output_size, y), self.forward(X))\n",
    "\n",
    "    def accuracy(self, X, y):\n",
    "        y_preds = np.argmax(self.forward(X), axis=1)\n",
    "        return np.mean(y_preds == y)"
   ]
  },
  {
   "cell_type": "code",
   "execution_count": null,
   "metadata": {
    "colab": {
     "base_uri": "https://localhost:8080/"
    },
    "executionInfo": {
     "elapsed": 2,
     "status": "ok",
     "timestamp": 1666731139823,
     "user": {
      "displayName": "Дмитрий Шигаров",
      "userId": "09240760155574685522"
     },
     "user_tz": -180
    },
    "id": "mX4irWaz64_J",
    "outputId": "eeeaee6d-652d-4f91-e973-16f3470e1f5b"
   },
   "outputs": [
    {
     "name": "stdout",
     "output_type": "stream",
     "text": [
      "Evaluation of the untrained model:\n",
      "train loss: 2.3151, train acc: 0.109, test acc: 0.115\n"
     ]
    }
   ],
   "source": [
    "# Создайте модель и проверьте ее прямой вывод\n",
    "n_features = X_train.shape[1]\n",
    "n_classes = len(np.unique(y_train))\n",
    "lr = LogisticRegression(n_features, n_classes)\n",
    "\n",
    "print(\"Evaluation of the untrained model:\")\n",
    "train_loss = lr.loss(X_train, y_train)\n",
    "train_acc = lr.accuracy(X_train, y_train)\n",
    "test_acc = lr.accuracy(X_test, y_test)\n",
    "\n",
    "print(\"train loss: %0.4f, train acc: %0.3f, test acc: %0.3f\"\n",
    "      % (train_loss, train_acc, test_acc))"
   ]
  },
  {
   "cell_type": "markdown",
   "metadata": {
    "id": "Lz2NkAgy64_J"
   },
   "source": [
    "Оцените случайно инициализированную модель на первом примере:"
   ]
  },
  {
   "cell_type": "code",
   "execution_count": null,
   "metadata": {
    "colab": {
     "base_uri": "https://localhost:8080/",
     "height": 295
    },
    "executionInfo": {
     "elapsed": 395,
     "status": "ok",
     "timestamp": 1666731141852,
     "user": {
      "displayName": "Дмитрий Шигаров",
      "userId": "09240760155574685522"
     },
     "user_tz": -180
    },
    "id": "86W271k264_J",
    "outputId": "20215741-e5a8-4b0e-a0d3-feba1958d83f"
   },
   "outputs": [
    {
     "data": {
      "image/png": "[encoded data removed]",
      "text/plain": [
       "<Figure size 720x288 with 2 Axes>"
      ]
     },
     "metadata": {
      "needs_background": "light"
     },
     "output_type": "display_data"
    }
   ],
   "source": [
    "def plot_prediction(model, sample_idx=0, classes=range(10)):\n",
    "    fig, (ax0, ax1) = plt.subplots(nrows=1, ncols=2, figsize=(10, 4))\n",
    "\n",
    "    ax0.imshow(scaler.inverse_transform(X_test[sample_idx:sample_idx+1]).reshape(8, 8),\n",
    "               cmap=plt.cm.gray_r, interpolation='nearest')\n",
    "    ax0.set_title(\"True image label: %d\" % y_test[sample_idx]);\n",
    "\n",
    "\n",
    "    ax1.bar(classes, one_hot(len(classes), y_test[sample_idx]), label='true')\n",
    "    ax1.bar(classes, model.forward(X_test[sample_idx]), label='prediction', color=\"red\")\n",
    "    ax1.set_xticks(classes)\n",
    "    prediction = model.predict(X_test[sample_idx])\n",
    "    ax1.set_title('Output probabilities (prediction: %d)'\n",
    "                  % prediction)\n",
    "    ax1.set_xlabel('Digit class')\n",
    "    ax1.legend()\n",
    "    \n",
    "plot_prediction(lr, sample_idx=0)"
   ]
  },
  {
   "cell_type": "code",
   "execution_count": null,
   "metadata": {
    "colab": {
     "base_uri": "https://localhost:8080/"
    },
    "executionInfo": {
     "elapsed": 258,
     "status": "ok",
     "timestamp": 1666731144315,
     "user": {
      "displayName": "Дмитрий Шигаров",
      "userId": "09240760155574685522"
     },
     "user_tz": -180
    },
    "id": "2nLoILK364_K",
    "outputId": "39cfd400-cc52-4128-8bde-c6f740d39ad0"
   },
   "outputs": [
    {
     "name": "stdout",
     "output_type": "stream",
     "text": [
      "Update #0, train loss: 2.2850, train acc: 0.137, test acc: 0.144\n",
      "Update #100, train loss: 1.2966, train acc: 0.737, test acc: 0.748\n",
      "Update #200, train loss: 0.8646, train acc: 0.847, test acc: 0.867\n",
      "Update #300, train loss: 0.6400, train acc: 0.898, test acc: 0.874\n",
      "Update #400, train loss: 0.5425, train acc: 0.900, test acc: 0.900\n",
      "Update #500, train loss: 0.4719, train acc: 0.911, test acc: 0.907\n",
      "Update #600, train loss: 0.4116, train acc: 0.923, test acc: 0.930\n",
      "Update #700, train loss: 0.3733, train acc: 0.929, test acc: 0.941\n",
      "Update #800, train loss: 0.3517, train acc: 0.932, test acc: 0.941\n",
      "Update #900, train loss: 0.3275, train acc: 0.931, test acc: 0.941\n",
      "Update #1000, train loss: 0.3034, train acc: 0.938, test acc: 0.948\n",
      "Update #1100, train loss: 0.2836, train acc: 0.944, test acc: 0.948\n",
      "Update #1200, train loss: 0.2726, train acc: 0.947, test acc: 0.963\n",
      "Update #1300, train loss: 0.2641, train acc: 0.948, test acc: 0.944\n",
      "Update #1400, train loss: 0.2492, train acc: 0.952, test acc: 0.948\n",
      "Update #1500, train loss: 0.2387, train acc: 0.950, test acc: 0.944\n"
     ]
    }
   ],
   "source": [
    "# Обучение на одну эпоху\n",
    "learning_rate = 0.01\n",
    "\n",
    "for i, (x, y) in enumerate(zip(X_train, y_train)):\n",
    "    lr.train(x, y, learning_rate)\n",
    "    if i % 100 == 0:\n",
    "        train_loss = lr.loss(X_train, y_train)\n",
    "        train_acc = lr.accuracy(X_train, y_train)\n",
    "        test_acc = lr.accuracy(X_test, y_test)\n",
    "        print(\"Update #%d, train loss: %0.4f, train acc: %0.3f, test acc: %0.3f\"\n",
    "              % (i, train_loss, train_acc, test_acc))"
   ]
  },
  {
   "cell_type": "markdown",
   "metadata": {
    "id": "4OQ54CGu64_K"
   },
   "source": [
    "Оцените обученную модель на первом примере:"
   ]
  },
  {
   "cell_type": "code",
   "execution_count": null,
   "metadata": {
    "colab": {
     "base_uri": "https://localhost:8080/",
     "height": 295
    },
    "executionInfo": {
     "elapsed": 667,
     "status": "ok",
     "timestamp": 1666731147419,
     "user": {
      "displayName": "Дмитрий Шигаров",
      "userId": "09240760155574685522"
     },
     "user_tz": -180
    },
    "id": "yOE3-Sqd64_K",
    "outputId": "440a9461-ecd1-49fb-9c3c-e762e3986aad"
   },
   "outputs": [
    {
     "data": {
      "image/png": "[encoded data removed]",
      "text/plain": [
       "<Figure size 720x288 with 2 Axes>"
      ]
     },
     "metadata": {
      "needs_background": "light"
     },
     "output_type": "display_data"
    }
   ],
   "source": [
    "plot_prediction(lr, sample_idx=0)"
   ]
  },
  {
   "cell_type": "markdown",
   "metadata": {
    "id": "kY2zn8FL64_K"
   },
   "source": [
    "## b) Прямое распространение\n",
    "\n",
    "Цель этого раздела — реализовать алгоритм обратного распространения ошибки (SGD с цепным правилом) в однослойной нейронной сети с использованием сигмовидной функции активации.\n",
    "Задача:\n",
    "- Реализовать  `sigmoid` и его поэлементные производные `dsigmoid`:\n",
    "\n",
    "$$\n",
    "sigmoid(x) = \\frac{1}{1 + e^{-x}}\n",
    "$$\n",
    "\n",
    "$$\n",
    "dsigmoid(x) = sigmoid(x) \\cdot (1 - sigmoid(x))\n",
    "$$"
   ]
  },
  {
   "cell_type": "code",
   "execution_count": null,
   "metadata": {
    "colab": {
     "base_uri": "https://localhost:8080/",
     "height": 265
    },
    "executionInfo": {
     "elapsed": 298,
     "status": "ok",
     "timestamp": 1666731573747,
     "user": {
      "displayName": "Дмитрий Шигаров",
      "userId": "09240760155574685522"
     },
     "user_tz": -180
    },
    "id": "WMFAY8YB64_K",
    "outputId": "2a3e8589-b955-432a-cf8c-ba8c3b9ba806"
   },
   "outputs": [
    {
     "data": {
      "image/png": "[encoded data removed]",
      "text/plain": [
       "<Figure size 432x288 with 1 Axes>"
      ]
     },
     "metadata": {
      "needs_background": "light"
     },
     "output_type": "display_data"
    }
   ],
   "source": [
    "def sigmoid(X):\n",
    "    # Ваше решение\n",
    "    return 1 / (1 + np.exp(-X))\n",
    "\n",
    "\n",
    "def dsigmoid(X):\n",
    "    sig=sigmoid(X)\n",
    "    return sig * (1 - sig)\n",
    "\n",
    "\n",
    "x = np.linspace(-5, 5, 100)\n",
    "plt.plot(x, sigmoid(x), label='sigmoid')\n",
    "plt.plot(x, dsigmoid(x), label='dsigmoid')\n",
    "plt.legend(loc='best');"
   ]
  },
  {
   "cell_type": "markdown",
   "metadata": {
    "id": "H2-out-i64_K"
   },
   "source": [
    "- Реализовать `forward` и `forward_keep_all` функции для модели со скрытым слоем с сигмовидной функцией активации:\n",
    "  - $\\mathbf{h} = sigmoid(\\mathbf{W}^h \\mathbf{x} + \\mathbf{b^h})$\n",
    "  - $\\mathbf{y} = softmax(\\mathbf{W}^o \\mathbf{h} + \\mathbf{b^o})$\n",
    "\n",
    "- Примечания: \n",
    "  - старайтесь, чтобы код был максимально похож на предыдущий;\n",
    "  - `forward` теперь имеет параметр сохранения активаций, чтобы также возвращать скрытые активации и предварительные активации;\n",
    "\n",
    "- Обновите функцию grad, чтобы вычислить все градиенты; убедитесь, что градиенты хорошо определены;\n",
    "\n",
    "- Реализуйте функции `train` и `loss`.\n",
    "\n",
    "**Бонус**: повторная реализация всего с нуля, но без рассмотрения решения «логистической регрессии» — отличное упражнение."
   ]
  },
  {
   "cell_type": "code",
   "execution_count": null,
   "metadata": {
    "id": "bZAVjnSK64_L"
   },
   "outputs": [],
   "source": [
    "EPSILON = 1e-8\n",
    "\n",
    "\n",
    "class NeuralNet():\n",
    "    \"\"\"MLP с 1 скрытым слоем с сигмоидной активацией\"\"\"\n",
    "    \n",
    "    def __init__(self, input_size, hidden_size, output_size):\n",
    "        # Ваше решение\n",
    "        self.W_h = np.random.uniform(size=(input_size, hidden_size), high=0.01, low=-0.01)\n",
    "        self.b_h = np.zeros(hidden_size)\n",
    "        self.W_o = np.random.uniform(\n",
    "            size=(hidden_size, output_size), high=0.01, low=-0.01)\n",
    "        self.b_o = np.zeros(output_size)\n",
    "        self.output_size = output_size\n",
    "            \n",
    "    def forward_keep_activations(self, X):\n",
    "        # Ваше решение\n",
    "        z_h = np.dot(X, self.W_h) + self.b_h\n",
    "        h = sigmoid(z_h)\n",
    "        z_o = np.dot(h, self.W_o) + self.b_o\n",
    "        y = softmax(z_o)\n",
    "        return y, h, z_h\n",
    "\n",
    "    def forward(self, X):\n",
    "        h = sigmoid(np.dot(X, self.W_h) + self.b_h)\n",
    "        y = softmax(np.dot(h, self.W_o) + self.b_o)\n",
    "        return y\n",
    "\n",
    "    def loss(self, X, y):\n",
    "        # Ваше решение\n",
    "        return nll(one_hot(self.output_size, y), self.forward(X))\n",
    "\n",
    "    def grad_loss(self, x, y_true):\n",
    "        # Ваше решение\n",
    "        y, h, z_h = self.forward_keep_activations(x)\n",
    "        grad_z_o = y - one_hot(self.output_size, y_true)\n",
    "\n",
    "        grad_W_o = np.outer(h, grad_z_o)\n",
    "        grad_b_o = grad_z_o\n",
    "        grad_h = np.dot(grad_z_o, np.transpose(self.W_o))\n",
    "        grad_z_h = grad_h * dsigmoid(z_h)\n",
    "        grad_W_h = np.outer(x, grad_z_h)\n",
    "        grad_b_h = grad_z_h\n",
    "        return {\"W_h\": grad_W_h, \"b_h\": grad_b_h, \"W_o\": grad_W_o, \"b_o\": grad_b_o}\n",
    "\n",
    "    def train(self, x, y, learning_rate):\n",
    "        # Ваше решение\n",
    "        grads = self.grad_loss(x, y)\n",
    "        self.W_h = self.W_h - learning_rate * grads[\"W_h\"]\n",
    "        self.b_h = self.b_h - learning_rate * grads[\"b_h\"]\n",
    "        self.W_o = self.W_o - learning_rate * grads[\"W_o\"]\n",
    "        self.b_o = self.b_o - learning_rate * grads[\"b_o\"]\n",
    "\n",
    "    def predict(self, X):\n",
    "        if len(X.shape) == 1:\n",
    "            return np.argmax(self.forward(X))\n",
    "        else:\n",
    "            return np.argmax(self.forward(X), axis=1)\n",
    "\n",
    "    def accuracy(self, X, y):\n",
    "        y_preds = np.argmax(self.forward(X), axis=1)\n",
    "        return np.mean(y_preds == y)"
   ]
  },
  {
   "cell_type": "code",
   "execution_count": null,
   "metadata": {
    "id": "PEgh9Hwf64_L"
   },
   "outputs": [],
   "source": [
    "n_hidden = 10\n",
    "model = NeuralNet(n_features, n_hidden, n_classes)"
   ]
  },
  {
   "cell_type": "code",
   "execution_count": null,
   "metadata": {
    "colab": {
     "base_uri": "https://localhost:8080/"
    },
    "executionInfo": {
     "elapsed": 2,
     "status": "ok",
     "timestamp": 1666742322447,
     "user": {
      "displayName": "Дмитрий Шигаров",
      "userId": "09240760155574685522"
     },
     "user_tz": -180
    },
    "id": "EfbtisD364_L",
    "outputId": "e7581a9a-b733-45a4-823c-afc7dba88e7a"
   },
   "outputs": [
    {
     "data": {
      "text/plain": [
       "2.3025607330760147"
      ]
     },
     "execution_count": 153,
     "metadata": {},
     "output_type": "execute_result"
    }
   ],
   "source": [
    "model.loss(X_train, y_train)"
   ]
  },
  {
   "cell_type": "code",
   "execution_count": null,
   "metadata": {
    "colab": {
     "base_uri": "https://localhost:8080/"
    },
    "executionInfo": {
     "elapsed": 1,
     "status": "ok",
     "timestamp": 1666742322792,
     "user": {
      "displayName": "Дмитрий Шигаров",
      "userId": "09240760155574685522"
     },
     "user_tz": -180
    },
    "id": "E-WFiksp64_L",
    "outputId": "da627e5f-c611-4529-dc76-7a9e89e0aa57"
   },
   "outputs": [
    {
     "data": {
      "text/plain": [
       "0.10019646365422397"
      ]
     },
     "execution_count": 154,
     "metadata": {},
     "output_type": "execute_result"
    }
   ],
   "source": [
    "model.accuracy(X_train, y_train)"
   ]
  },
  {
   "cell_type": "code",
   "execution_count": null,
   "metadata": {
    "colab": {
     "base_uri": "https://localhost:8080/",
     "height": 295
    },
    "executionInfo": {
     "elapsed": 803,
     "status": "ok",
     "timestamp": 1666741903780,
     "user": {
      "displayName": "Дмитрий Шигаров",
      "userId": "09240760155574685522"
     },
     "user_tz": -180
    },
    "id": "UnhZ8y5T64_L",
    "outputId": "6b68f46a-5a22-4fd7-81f8-131dfb01f5a9"
   },
   "outputs": [
    {
     "data": {
      "image/png": "[encoded data removed]",
      "text/plain": [
       "<Figure size 720x288 with 2 Axes>"
      ]
     },
     "metadata": {
      "needs_background": "light"
     },
     "output_type": "display_data"
    }
   ],
   "source": [
    "plot_prediction(model, sample_idx=5)"
   ]
  },
  {
   "cell_type": "code",
   "execution_count": null,
   "metadata": {
    "colab": {
     "base_uri": "https://localhost:8080/"
    },
    "executionInfo": {
     "elapsed": 3686,
     "status": "ok",
     "timestamp": 1666742327612,
     "user": {
      "displayName": "Дмитрий Шигаров",
      "userId": "09240760155574685522"
     },
     "user_tz": -180
    },
    "id": "jCWeKBa364_L",
    "outputId": "e3585cbf-377e-4320-dff4-8dab90a84524"
   },
   "outputs": [
    {
     "name": "stdout",
     "output_type": "stream",
     "text": [
      "Random init: train loss: 2.30256, train acc: 0.100, test acc: 0.107\n",
      "Epoch #1, train loss: 0.44369, train acc: 0.864, test acc: 0.804\n",
      "Epoch #2, train loss: 0.19883, train acc: 0.949, test acc: 0.911\n",
      "Epoch #3, train loss: 0.14788, train acc: 0.965, test acc: 0.933\n",
      "Epoch #4, train loss: 0.12730, train acc: 0.973, test acc: 0.937\n",
      "Epoch #5, train loss: 0.08740, train acc: 0.980, test acc: 0.937\n",
      "Epoch #6, train loss: 0.07132, train acc: 0.985, test acc: 0.948\n",
      "Epoch #7, train loss: 0.05481, train acc: 0.993, test acc: 0.959\n",
      "Epoch #8, train loss: 0.05453, train acc: 0.991, test acc: 0.956\n",
      "Epoch #9, train loss: 0.04548, train acc: 0.991, test acc: 0.967\n",
      "Epoch #10, train loss: 0.04061, train acc: 0.994, test acc: 0.967\n",
      "Epoch #11, train loss: 0.03359, train acc: 0.996, test acc: 0.970\n",
      "Epoch #12, train loss: 0.02978, train acc: 0.997, test acc: 0.974\n",
      "Epoch #13, train loss: 0.02756, train acc: 0.997, test acc: 0.967\n",
      "Epoch #14, train loss: 0.02548, train acc: 0.997, test acc: 0.967\n",
      "Epoch #15, train loss: 0.02254, train acc: 0.998, test acc: 0.974\n"
     ]
    }
   ],
   "source": [
    "losses, accuracies, accuracies_test = [], [], []\n",
    "losses.append(model.loss(X_train, y_train))\n",
    "accuracies.append(model.accuracy(X_train, y_train))\n",
    "accuracies_test.append(model.accuracy(X_test, y_test))\n",
    "\n",
    "print(\"Random init: train loss: %0.5f, train acc: %0.3f, test acc: %0.3f\"\n",
    "      % (losses[-1], accuracies[-1], accuracies_test[-1]))\n",
    "\n",
    "for epoch in range(15):\n",
    "    for i, (x, y) in enumerate(zip(X_train, y_train)):\n",
    "        model.train(x, y, 0.1)\n",
    "\n",
    "    losses.append(model.loss(X_train, y_train))\n",
    "    accuracies.append(model.accuracy(X_train, y_train))\n",
    "    accuracies_test.append(model.accuracy(X_test, y_test))\n",
    "    print(\"Epoch #%d, train loss: %0.5f, train acc: %0.3f, test acc: %0.3f\"\n",
    "          % (epoch + 1, losses[-1], accuracies[-1], accuracies_test[-1]))"
   ]
  },
  {
   "cell_type": "code",
   "execution_count": null,
   "metadata": {
    "colab": {
     "base_uri": "https://localhost:8080/",
     "height": 281
    },
    "executionInfo": {
     "elapsed": 264,
     "status": "ok",
     "timestamp": 1666742332284,
     "user": {
      "displayName": "Дмитрий Шигаров",
      "userId": "09240760155574685522"
     },
     "user_tz": -180
    },
    "id": "LfI0Rtdu64_M",
    "outputId": "6ebe6c97-c2d1-4564-cf3f-ebf3118f102f"
   },
   "outputs": [
    {
     "data": {
      "image/png": "[encoded data removed]",
      "text/plain": [
       "<Figure size 432x288 with 1 Axes>"
      ]
     },
     "metadata": {
      "needs_background": "light"
     },
     "output_type": "display_data"
    }
   ],
   "source": [
    "plt.plot(losses)\n",
    "plt.title(\"Training loss\");"
   ]
  },
  {
   "cell_type": "code",
   "execution_count": null,
   "metadata": {
    "colab": {
     "base_uri": "https://localhost:8080/",
     "height": 265
    },
    "executionInfo": {
     "elapsed": 414,
     "status": "ok",
     "timestamp": 1666742335355,
     "user": {
      "displayName": "Дмитрий Шигаров",
      "userId": "09240760155574685522"
     },
     "user_tz": -180
    },
    "id": "zj1jS6_h64_M",
    "outputId": "90766bf7-b8d1-44d3-d802-067ccc6d241c"
   },
   "outputs": [
    {
     "data": {
      "image/png": "[encoded data removed]",
      "text/plain": [
       "<Figure size 432x288 with 1 Axes>"
      ]
     },
     "metadata": {
      "needs_background": "light"
     },
     "output_type": "display_data"
    }
   ],
   "source": [
    "plt.plot(accuracies, label='train')\n",
    "plt.plot(accuracies_test, label='test')\n",
    "plt.ylim(0, 1.1)\n",
    "plt.ylabel(\"accuracy\")\n",
    "plt.legend(loc='best');"
   ]
  },
  {
   "cell_type": "code",
   "execution_count": null,
   "metadata": {
    "colab": {
     "base_uri": "https://localhost:8080/",
     "height": 295
    },
    "executionInfo": {
     "elapsed": 629,
     "status": "ok",
     "timestamp": 1666742338360,
     "user": {
      "displayName": "Дмитрий Шигаров",
      "userId": "09240760155574685522"
     },
     "user_tz": -180
    },
    "id": "VeZxjdS664_M",
    "outputId": "0ddfba63-486f-4396-88c4-5301f10123d3"
   },
   "outputs": [
    {
     "data": {
      "image/png": "[encoded data removed]",
      "text/plain": [
       "<Figure size 720x288 with 2 Axes>"
      ]
     },
     "metadata": {
      "needs_background": "light"
     },
     "output_type": "display_data"
    }
   ],
   "source": [
    "plot_prediction(model, sample_idx=4)"
   ]
  },
  {
   "cell_type": "markdown",
   "metadata": {
    "id": "AACa3t5364_M"
   },
   "source": [
    "## c) Упражнения\n",
    "\n",
    "### Посмотрите на худшие ошибки предсказания\n",
    "\n",
    "- Используйте numpy, чтобы найти тестовые образцы, для которых модель сделала худшие прогнозы,\n",
    "- Используйте `plot_prediction` посмотреть на предсказания модели по этим образцам\n",
    "- Вы бы могли сделать лучше?"
   ]
  },
  {
   "cell_type": "code",
   "execution_count": null,
   "metadata": {
    "colab": {
     "base_uri": "https://localhost:8080/",
     "height": 1000
    },
    "executionInfo": {
     "elapsed": 2740,
     "status": "ok",
     "timestamp": 1666744992286,
     "user": {
      "displayName": "Дмитрий Шигаров",
      "userId": "09240760155574685522"
     },
     "user_tz": -180
    },
    "id": "Dn5Mvhxa64_M",
    "outputId": "a5b66264-bb89-4e9f-f1d1-6912137461c8"
   },
   "outputs": [
    {
     "name": "stdout",
     "output_type": "stream",
     "text": [
      "test losses: [1.29287946 1.59110856 2.44778455 3.70736173 5.43738479]\n"
     ]
    },
    {
     "data": {
      "image/png": "[encoded data removed]",
      "text/plain": [
       "<Figure size 720x288 with 2 Axes>"
      ]
     },
     "metadata": {
      "needs_background": "light"
     },
     "output_type": "display_data"
    },
    {
     "data": {
      "image/png": "[encoded data removed]",
      "text/plain": [
       "<Figure size 720x288 with 2 Axes>"
      ]
     },
     "metadata": {
      "needs_background": "light"
     },
     "output_type": "display_data"
    },
    {
     "data": {
      "image/png": "[encoded data removed]",
      "text/plain": [
       "<Figure size 720x288 with 2 Axes>"
      ]
     },
     "metadata": {
      "needs_background": "light"
     },
     "output_type": "display_data"
    },
    {
     "data": {
      "image/png": "[encoded data removed]",
      "text/plain": [
       "<Figure size 720x288 with 2 Axes>"
      ]
     },
     "metadata": {
      "needs_background": "light"
     },
     "output_type": "display_data"
    },
    {
     "data": {
      "image/png": "[encoded data removed]",
      "text/plain": [
       "<Figure size 720x288 with 2 Axes>"
      ]
     },
     "metadata": {
      "needs_background": "light"
     },
     "output_type": "display_data"
    }
   ],
   "source": [
    "# Ваше решение\n",
    "test_losses = -np.sum(np.log(EPSILON + model.forward(X_test))* one_hot(10, y_test), axis=1)\n",
    "worst= test_losses.argsort()[-5:]\n",
    "print(\"test losses:\", test_losses[worst])\n",
    "for i in worst:\n",
    "    plot_prediction(model, sample_idx=i)"
   ]
  },
  {
   "cell_type": "markdown",
   "metadata": {
    "id": "zlGGU0AW64_M"
   },
   "source": [
    "### Настройки гиперпараметров\n",
    "\n",
    "- Экспериментируйте с различными гиперпараметрами:\n",
    "  - скорость обучения,\n",
    "  - размер скрытого слоя,\n",
    "  - схема инициализации: тест с 0 инициализацией против униформ-инициализации,\n",
    "  - посмотрите другие функции активации,\n",
    "  - добавьте второй скрытый слой.\n",
    "\n",
    "\n",
    "### Мини-батчи\n",
    "\n",
    "- Текущие реализации `train` и `grad_loss` в настоящее время принимают только один образец за раз:\n",
    "    - реализовать поддержку обучения с мини-партией из 32 образцов за раз вместо одного,\n",
    "    - поэкспериментируйте с разными размерами партий,\n",
    "    - контролировать норму средних градиентов на полной обучающей выборке в конце каждой эпохи.\n",
    "\n",
    "\n",
    "### Импульс\n",
    "\n",
    "- Бонус: Реализуйте Momentum\n",
    "\n",
    "\n",
    "### Вернемся в Keras\n",
    "\n",
    "- Реализуйте ту же сетевую архитектуру с Keras;\n",
    "\n",
    "- Убедитесь, что модель Keras может приблизительно воспроизводить поведение модели Numpy при использовании аналогичных значений гиперпараметров (размер модели, тип активации, значение скорости обучения и использование импульса);\n",
    "\n",
    "- Вычислите отрицательную логарифмическую вероятность выборки 42 в тестовом наборе (можно использовать `model.predict_proba`);\n",
    "\n",
    "- Вычислите среднее отрицательное логарифмическое правдоподобие на полном наборе тестов.\n",
    "\n",
    "- Является ли модель переобученной или недообученной? (убедитесь, что модель полностью сошлась, увеличив количество эпох до 50 или более, если необходимо)."
   ]
  },
  {
   "cell_type": "code",
   "execution_count": null,
   "metadata": {
    "id": "pFg2rBAV64_M"
   },
   "outputs": [],
   "source": [
    "#Ваше решение"
   ]
  },
  {
   "cell_type": "code",
   "execution_count": null,
   "metadata": {
    "colab": {
     "base_uri": "https://localhost:8080/",
     "height": 560
    },
    "executionInfo": {
     "elapsed": 3280,
     "status": "ok",
     "timestamp": 1666748098241,
     "user": {
      "displayName": "Дмитрий Шигаров",
      "userId": "09240760155574685522"
     },
     "user_tz": -180
    },
    "id": "ROaeY-iT6zXh",
    "outputId": "60114f69-efd9-4a1f-c199-dd35dd408cc4"
   },
   "outputs": [
    {
     "name": "stdout",
     "output_type": "stream",
     "text": [
      "Random init: train loss: 2.30262, train acc: 0.100, test acc: 0.107\n",
      "Epoch #1, train loss: 2.28636, train acc: 0.179, test acc: 0.137\n",
      "Epoch #2, train loss: 1.90972, train acc: 0.289, test acc: 0.237\n",
      "Epoch #3, train loss: 1.40132, train acc: 0.651, test acc: 0.622\n",
      "Epoch #4, train loss: 1.04984, train acc: 0.750, test acc: 0.719\n",
      "Epoch #5, train loss: 0.81676, train acc: 0.836, test acc: 0.804\n",
      "Epoch #6, train loss: 0.64882, train acc: 0.879, test acc: 0.841\n",
      "Epoch #7, train loss: 0.52246, train acc: 0.908, test acc: 0.878\n",
      "Epoch #8, train loss: 0.42778, train acc: 0.929, test acc: 0.893\n",
      "Epoch #9, train loss: 0.35811, train acc: 0.942, test acc: 0.919\n",
      "Epoch #10, train loss: 0.30693, train acc: 0.950, test acc: 0.930\n",
      "Epoch #11, train loss: 0.26878, train acc: 0.958, test acc: 0.926\n",
      "Epoch #12, train loss: 0.23960, train acc: 0.965, test acc: 0.926\n",
      "Epoch #13, train loss: 0.21666, train acc: 0.969, test acc: 0.930\n",
      "Epoch #14, train loss: 0.19815, train acc: 0.974, test acc: 0.937\n",
      "Epoch #15, train loss: 0.18292, train acc: 0.977, test acc: 0.941\n"
     ]
    },
    {
     "data": {
      "text/plain": [
       "[<matplotlib.lines.Line2D at 0x7f7fa677e390>]"
      ]
     },
     "execution_count": 171,
     "metadata": {},
     "output_type": "execute_result"
    },
    {
     "data": {
      "image/png": "[encoded data removed]",
      "text/plain": [
       "<Figure size 432x288 with 1 Axes>"
      ]
     },
     "metadata": {
      "needs_background": "light"
     },
     "output_type": "display_data"
    }
   ],
   "source": [
    "# lr = 0.01\n",
    "\n",
    "n_features = X_train.shape[1]\n",
    "n_classes = len(np.unique(y_train))\n",
    "n_hidden = 10\n",
    "model = NeuralNet(n_features, n_hidden, n_classes)\n",
    "losses, accuracies, accuracies_test = [], [], []\n",
    "losses.append(model.loss(X_train, y_train))\n",
    "accuracies.append(model.accuracy(X_train, y_train))\n",
    "accuracies_test.append(model.accuracy(X_test, y_test))\n",
    "\n",
    "print(\"Random init: train loss: %0.5f, train acc: %0.3f, test acc: %0.3f\"\n",
    "      % (losses[-1], accuracies[-1], accuracies_test[-1]))\n",
    "\n",
    "for epoch in range(15):\n",
    "    for i, (x, y) in enumerate(zip(X_train, y_train)):\n",
    "        model.train(x, y, 0.01)\n",
    "\n",
    "    losses.append(model.loss(X_train, y_train))\n",
    "    accuracies.append(model.accuracy(X_train, y_train))\n",
    "    accuracies_test.append(model.accuracy(X_test, y_test))\n",
    "    print(\"Epoch #%d, train loss: %0.5f, train acc: %0.3f, test acc: %0.3f\"\n",
    "          % (epoch + 1, losses[-1], accuracies[-1], accuracies_test[-1]))\n",
    "plt.plot(losses)"
   ]
  },
  {
   "cell_type": "code",
   "execution_count": null,
   "metadata": {
    "colab": {
     "base_uri": "https://localhost:8080/",
     "height": 282
    },
    "executionInfo": {
     "elapsed": 402,
     "status": "ok",
     "timestamp": 1666748098640,
     "user": {
      "displayName": "Дмитрий Шигаров",
      "userId": "09240760155574685522"
     },
     "user_tz": -180
    },
    "id": "ZAEEam1s7DnS",
    "outputId": "4f2eb158-1c51-4b10-d911-7c03cb355347"
   },
   "outputs": [
    {
     "data": {
      "text/plain": [
       "Text(0, 0.5, 'accuracy')"
      ]
     },
     "execution_count": 172,
     "metadata": {},
     "output_type": "execute_result"
    },
    {
     "data": {
      "image/png": "[encoded data removed]",
      "text/plain": [
       "<Figure size 432x288 with 1 Axes>"
      ]
     },
     "metadata": {
      "needs_background": "light"
     },
     "output_type": "display_data"
    }
   ],
   "source": [
    "plt.plot(accuracies, label='train')\n",
    "plt.plot(accuracies_test, label='test')\n",
    "plt.ylim(0, 1.1)\n",
    "plt.ylabel(\"accuracy\")"
   ]
  },
  {
   "cell_type": "markdown",
   "metadata": {
    "id": "T1rTE2rB7bLW"
   },
   "source": [
    "Learning rait=0.01\n",
    "малый Learning rait позволяет увеличичть точность модели, однако при слишком малом значении изменения в модели могут идти слишком медленно"
   ]
  },
  {
   "cell_type": "code",
   "execution_count": null,
   "metadata": {
    "colab": {
     "base_uri": "https://localhost:8080/",
     "height": 560
    },
    "executionInfo": {
     "elapsed": 5786,
     "status": "ok",
     "timestamp": 1666748352575,
     "user": {
      "displayName": "Дмитрий Шигаров",
      "userId": "09240760155574685522"
     },
     "user_tz": -180
    },
    "id": "KGT0zPse8PtX",
    "outputId": "8673e0b9-2fcf-4c0b-9025-323dd2065997"
   },
   "outputs": [
    {
     "name": "stdout",
     "output_type": "stream",
     "text": [
      "Random init: train loss: 2.30241, train acc: 0.097, test acc: 0.107\n",
      "Epoch #1, train loss: 2.28485, train acc: 0.103, test acc: 0.089\n",
      "Epoch #2, train loss: 1.55993, train acc: 0.650, test acc: 0.615\n",
      "Epoch #3, train loss: 0.91116, train acc: 0.790, test acc: 0.759\n",
      "Epoch #4, train loss: 0.60936, train acc: 0.843, test acc: 0.830\n",
      "Epoch #5, train loss: 0.44240, train acc: 0.897, test acc: 0.881\n",
      "Epoch #6, train loss: 0.33564, train acc: 0.931, test acc: 0.911\n",
      "Epoch #7, train loss: 0.26550, train acc: 0.948, test acc: 0.919\n",
      "Epoch #8, train loss: 0.21874, train acc: 0.957, test acc: 0.930\n",
      "Epoch #9, train loss: 0.18627, train acc: 0.965, test acc: 0.956\n",
      "Epoch #10, train loss: 0.16262, train acc: 0.969, test acc: 0.963\n",
      "Epoch #11, train loss: 0.14459, train acc: 0.974, test acc: 0.970\n",
      "Epoch #12, train loss: 0.13035, train acc: 0.977, test acc: 0.970\n",
      "Epoch #13, train loss: 0.11876, train acc: 0.982, test acc: 0.970\n",
      "Epoch #14, train loss: 0.10910, train acc: 0.984, test acc: 0.970\n",
      "Epoch #15, train loss: 0.10090, train acc: 0.986, test acc: 0.967\n"
     ]
    },
    {
     "data": {
      "text/plain": [
       "[<matplotlib.lines.Line2D at 0x7f7fa70a6190>]"
      ]
     },
     "execution_count": 173,
     "metadata": {},
     "output_type": "execute_result"
    },
    {
     "data": {
      "image/png": "[encoded data removed]",
      "text/plain": [
       "<Figure size 432x288 with 1 Axes>"
      ]
     },
     "metadata": {
      "needs_background": "light"
     },
     "output_type": "display_data"
    }
   ],
   "source": [
    "n_features = X_train.shape[1]\n",
    "n_classes = len(np.unique(y_train))\n",
    "n_hidden = 30\n",
    "model = NeuralNet(n_features, n_hidden, n_classes)\n",
    "losses, accuracies, accuracies_test = [], [], []\n",
    "losses.append(model.loss(X_train, y_train))\n",
    "accuracies.append(model.accuracy(X_train, y_train))\n",
    "accuracies_test.append(model.accuracy(X_test, y_test))\n",
    "\n",
    "print(\"Random init: train loss: %0.5f, train acc: %0.3f, test acc: %0.3f\"\n",
    "      % (losses[-1], accuracies[-1], accuracies_test[-1]))\n",
    "\n",
    "for epoch in range(15):\n",
    "    for i, (x, y) in enumerate(zip(X_train, y_train)):\n",
    "        model.train(x, y, 0.01)\n",
    "\n",
    "    losses.append(model.loss(X_train, y_train))\n",
    "    accuracies.append(model.accuracy(X_train, y_train))\n",
    "    accuracies_test.append(model.accuracy(X_test, y_test))\n",
    "    print(\"Epoch #%d, train loss: %0.5f, train acc: %0.3f, test acc: %0.3f\"\n",
    "          % (epoch + 1, losses[-1], accuracies[-1], accuracies_test[-1]))\n",
    "plt.plot(losses)"
   ]
  },
  {
   "cell_type": "code",
   "execution_count": null,
   "metadata": {
    "colab": {
     "base_uri": "https://localhost:8080/",
     "height": 282
    },
    "executionInfo": {
     "elapsed": 275,
     "status": "ok",
     "timestamp": 1666748354758,
     "user": {
      "displayName": "Дмитрий Шигаров",
      "userId": "09240760155574685522"
     },
     "user_tz": -180
    },
    "id": "1eURFZR68PtY",
    "outputId": "13ffb958-ed90-4eff-96f2-a805d4dc0b3e"
   },
   "outputs": [
    {
     "data": {
      "text/plain": [
       "Text(0, 0.5, 'accuracy')"
      ]
     },
     "execution_count": 174,
     "metadata": {},
     "output_type": "execute_result"
    },
    {
     "data": {
      "image/png": "[encoded data removed]",
      "text/plain": [
       "<Figure size 432x288 with 1 Axes>"
      ]
     },
     "metadata": {
      "needs_background": "light"
     },
     "output_type": "display_data"
    }
   ],
   "source": [
    "plt.plot(accuracies, label='train')\n",
    "plt.plot(accuracies_test, label='test')\n",
    "plt.ylim(0, 1.1)\n",
    "plt.ylabel(\"accuracy\")"
   ]
  },
  {
   "cell_type": "code",
   "execution_count": null,
   "metadata": {
    "colab": {
     "base_uri": "https://localhost:8080/",
     "height": 560
    },
    "executionInfo": {
     "elapsed": 2978,
     "status": "ok",
     "timestamp": 1666748460936,
     "user": {
      "displayName": "Дмитрий Шигаров",
      "userId": "09240760155574685522"
     },
     "user_tz": -180
    },
    "id": "cZa2kbT08vMX",
    "outputId": "6b726d5b-a0d8-4570-842a-e0e6f5248bd3"
   },
   "outputs": [
    {
     "name": "stdout",
     "output_type": "stream",
     "text": [
      "Random init: train loss: 2.30265, train acc: 0.099, test acc: 0.100\n",
      "Epoch #1, train loss: 2.30214, train acc: 0.109, test acc: 0.063\n",
      "Epoch #2, train loss: 2.24246, train acc: 0.125, test acc: 0.081\n",
      "Epoch #3, train loss: 2.02389, train acc: 0.394, test acc: 0.333\n",
      "Epoch #4, train loss: 1.83245, train acc: 0.413, test acc: 0.348\n",
      "Epoch #5, train loss: 1.68948, train acc: 0.420, test acc: 0.356\n",
      "Epoch #6, train loss: 1.58496, train acc: 0.430, test acc: 0.356\n",
      "Epoch #7, train loss: 1.50776, train acc: 0.401, test acc: 0.326\n",
      "Epoch #8, train loss: 1.44951, train acc: 0.400, test acc: 0.330\n",
      "Epoch #9, train loss: 1.40449, train acc: 0.399, test acc: 0.330\n",
      "Epoch #10, train loss: 1.36880, train acc: 0.401, test acc: 0.333\n",
      "Epoch #11, train loss: 1.33984, train acc: 0.403, test acc: 0.333\n",
      "Epoch #12, train loss: 1.31584, train acc: 0.405, test acc: 0.333\n",
      "Epoch #13, train loss: 1.29560, train acc: 0.407, test acc: 0.333\n",
      "Epoch #14, train loss: 1.27827, train acc: 0.407, test acc: 0.344\n",
      "Epoch #15, train loss: 1.26326, train acc: 0.415, test acc: 0.359\n"
     ]
    },
    {
     "data": {
      "text/plain": [
       "[<matplotlib.lines.Line2D at 0x7f7fa9113dd0>]"
      ]
     },
     "execution_count": 175,
     "metadata": {},
     "output_type": "execute_result"
    },
    {
     "data": {
      "image/png": "[encoded data removed]",
      "text/plain": [
       "<Figure size 432x288 with 1 Axes>"
      ]
     },
     "metadata": {
      "needs_background": "light"
     },
     "output_type": "display_data"
    }
   ],
   "source": [
    "n_features = X_train.shape[1]\n",
    "n_classes = len(np.unique(y_train))\n",
    "n_hidden = 2\n",
    "model = NeuralNet(n_features, n_hidden, n_classes)\n",
    "losses, accuracies, accuracies_test = [], [], []\n",
    "losses.append(model.loss(X_train, y_train))\n",
    "accuracies.append(model.accuracy(X_train, y_train))\n",
    "accuracies_test.append(model.accuracy(X_test, y_test))\n",
    "\n",
    "print(\"Random init: train loss: %0.5f, train acc: %0.3f, test acc: %0.3f\"\n",
    "      % (losses[-1], accuracies[-1], accuracies_test[-1]))\n",
    "\n",
    "for epoch in range(15):\n",
    "    for i, (x, y) in enumerate(zip(X_train, y_train)):\n",
    "        model.train(x, y, 0.01)\n",
    "\n",
    "    losses.append(model.loss(X_train, y_train))\n",
    "    accuracies.append(model.accuracy(X_train, y_train))\n",
    "    accuracies_test.append(model.accuracy(X_test, y_test))\n",
    "    print(\"Epoch #%d, train loss: %0.5f, train acc: %0.3f, test acc: %0.3f\"\n",
    "          % (epoch + 1, losses[-1], accuracies[-1], accuracies_test[-1]))\n",
    "plt.plot(losses)"
   ]
  },
  {
   "cell_type": "code",
   "execution_count": null,
   "metadata": {
    "colab": {
     "base_uri": "https://localhost:8080/",
     "height": 282
    },
    "executionInfo": {
     "elapsed": 263,
     "status": "ok",
     "timestamp": 1666748462545,
     "user": {
      "displayName": "Дмитрий Шигаров",
      "userId": "09240760155574685522"
     },
     "user_tz": -180
    },
    "id": "Z5uBsV4C8vMZ",
    "outputId": "721fa61a-b604-467d-8ba2-e0dc6f3ac507"
   },
   "outputs": [
    {
     "data": {
      "text/plain": [
       "Text(0, 0.5, 'accuracy')"
      ]
     },
     "execution_count": 176,
     "metadata": {},
     "output_type": "execute_result"
    },
    {
     "data": {
      "image/png": "[encoded data removed]",
      "text/plain": [
       "<Figure size 432x288 with 1 Axes>"
      ]
     },
     "metadata": {
      "needs_background": "light"
     },
     "output_type": "display_data"
    }
   ],
   "source": [
    "plt.plot(accuracies, label='train')\n",
    "plt.plot(accuracies_test, label='test')\n",
    "plt.ylim(0, 1.1)\n",
    "plt.ylabel(\"accuracy\")"
   ]
  },
  {
   "cell_type": "markdown",
   "metadata": {
    "id": "GeOkqsUj8jUG"
   },
   "source": [
    "hidden=30\n",
    "Увеличение размера скрытого слоя улучшило модель. Она стала более точной с меньшей ошибкой.\n",
    "hidden=2\n",
    "Малый размер слоев дает худше результаты. Большая ошибка и малая точность."
   ]
  },
  {
   "cell_type": "code",
   "execution_count": null,
   "metadata": {
    "id": "nSXSDUHx9nZv"
   },
   "outputs": [],
   "source": [
    "EPSILON = 1e-8\n",
    "class NeuralNet():\n",
    "    \"\"\"MLP с 1 скрытым слоем с сигмоидной активацией\"\"\"\n",
    "    \n",
    "    def __init__(self, input_size, hidden_size, output_size):\n",
    "        # Ваше решение\n",
    "        self.W_h = np.random.uniform(size=(input_size, hidden_size), high=0.01, low=-0.01)\n",
    "        self.b_h = np.zeros(hidden_size)\n",
    "        self.W_o = np.random.uniform(\n",
    "            size=(hidden_size, output_size), high=0.01, low=-0.01)\n",
    "        self.b_o = np.zeros(output_size)\n",
    "        self.output_size = output_size\n",
    "            \n",
    "    def forward_keep_activations(self, X):\n",
    "        # Ваше решение\n",
    "        z_h = np.dot(X, self.W_h) + self.b_h\n",
    "        h = sigmoid(z_h)\n",
    "        z_o = np.dot(h, self.W_o) + self.b_o\n",
    "        y = softmax(z_o)\n",
    "        return y, h, z_h\n",
    "\n",
    "    def forward(self, X):\n",
    "        y, h, z_h = self.forward_keep_activations(X)\n",
    "        return y\n",
    "\n",
    "    def loss(self, X, y):\n",
    "        # Ваше решение\n",
    "        return nll(one_hot(self.output_size, y), self.forward(X))\n",
    "\n",
    "    def grad_loss(self, x, y_true):\n",
    "        # Ваше решение\n",
    "        y, h, z_h = self.forward_keep_activations(x)\n",
    "        grad_z_o = y - one_hot(self.output_size, y_true)\n",
    "\n",
    "        grad_W_o = np.outer(h, grad_z_o)\n",
    "        grad_b_o = grad_z_o\n",
    "        grad_h = np.dot(grad_z_o, np.transpose(self.W_o))\n",
    "        grad_z_h = grad_h * dsigmoid(z_h)\n",
    "        grad_W_h = np.outer(x, grad_z_h)\n",
    "        grad_b_h = grad_z_h\n",
    "        return {\"W_h\": grad_W_h, \"b_h\": grad_b_h, \"W_o\": grad_W_o, \"b_o\": grad_b_o}\n",
    "\n",
    "    def train(self, x, y, learning_rate):\n",
    "        # Ваше решение\n",
    "        grads = self.grad_loss(x, y)\n",
    "        self.W_h = self.W_h - learning_rate * grads[\"W_h\"]\n",
    "        self.b_h = self.b_h - learning_rate * grads[\"b_h\"]\n",
    "        self.W_o = self.W_o - learning_rate * grads[\"W_o\"]\n",
    "        self.b_o = self.b_o - learning_rate * grads[\"b_o\"]\n",
    "\n",
    "    def predict(self, X):\n",
    "        if len(X.shape) == 1:\n",
    "            return np.argmax(self.forward(X))\n",
    "        else:\n",
    "            return np.argmax(self.forward(X), axis=1)\n",
    "\n",
    "    def accuracy(self, X, y):\n",
    "        y_preds = np.argmax(self.forward(X), axis=1)\n",
    "        return np.mean(y_preds == y)"
   ]
  },
  {
   "cell_type": "code",
   "execution_count": null,
   "metadata": {
    "colab": {
     "base_uri": "https://localhost:8080/",
     "height": 560
    },
    "executionInfo": {
     "elapsed": 1968,
     "status": "ok",
     "timestamp": 1666748770028,
     "user": {
      "displayName": "Дмитрий Шигаров",
      "userId": "09240760155574685522"
     },
     "user_tz": -180
    },
    "id": "Ps4zcZW999L4",
    "outputId": "ebb36825-261b-4fb0-bf26-9b5b7272723b"
   },
   "outputs": [
    {
     "name": "stdout",
     "output_type": "stream",
     "text": [
      "Random init: train loss: 2.30255, train acc: 0.102, test acc: 0.096\n",
      "Epoch #1, train loss: 2.29901, train acc: 0.109, test acc: 0.063\n",
      "Epoch #2, train loss: 2.20622, train acc: 0.192, test acc: 0.152\n",
      "Epoch #3, train loss: 2.02676, train acc: 0.320, test acc: 0.263\n",
      "Epoch #4, train loss: 1.83803, train acc: 0.399, test acc: 0.330\n",
      "Epoch #5, train loss: 1.68846, train acc: 0.399, test acc: 0.322\n",
      "Epoch #6, train loss: 1.57681, train acc: 0.401, test acc: 0.330\n",
      "Epoch #7, train loss: 1.49382, train acc: 0.403, test acc: 0.341\n",
      "Epoch #8, train loss: 1.43128, train acc: 0.407, test acc: 0.344\n",
      "Epoch #9, train loss: 1.38316, train acc: 0.410, test acc: 0.348\n",
      "Epoch #10, train loss: 1.34498, train acc: 0.417, test acc: 0.363\n",
      "Epoch #11, train loss: 1.31474, train acc: 0.423, test acc: 0.367\n",
      "Epoch #12, train loss: 1.29012, train acc: 0.426, test acc: 0.374\n",
      "Epoch #13, train loss: 1.26973, train acc: 0.431, test acc: 0.378\n",
      "Epoch #14, train loss: 1.25259, train acc: 0.434, test acc: 0.378\n",
      "Epoch #15, train loss: 1.23801, train acc: 0.434, test acc: 0.378\n"
     ]
    },
    {
     "data": {
      "text/plain": [
       "[<matplotlib.lines.Line2D at 0x7f7fa6686810>]"
      ]
     },
     "execution_count": 179,
     "metadata": {},
     "output_type": "execute_result"
    },
    {
     "data": {
      "image/png": "[encoded data removed]",
      "text/plain": [
       "<Figure size 432x288 with 1 Axes>"
      ]
     },
     "metadata": {
      "needs_background": "light"
     },
     "output_type": "display_data"
    }
   ],
   "source": [
    "n_features = X_train.shape[1]\n",
    "n_classes = len(np.unique(y_train))\n",
    "n_hidden = 2\n",
    "model = NeuralNet(n_features, n_hidden, n_classes)\n",
    "losses, accuracies, accuracies_test = [], [], []\n",
    "losses.append(model.loss(X_train, y_train))\n",
    "accuracies.append(model.accuracy(X_train, y_train))\n",
    "accuracies_test.append(model.accuracy(X_test, y_test))\n",
    "\n",
    "print(\"Random init: train loss: %0.5f, train acc: %0.3f, test acc: %0.3f\"\n",
    "      % (losses[-1], accuracies[-1], accuracies_test[-1]))\n",
    "\n",
    "for epoch in range(15):\n",
    "    for i, (x, y) in enumerate(zip(X_train, y_train)):\n",
    "        model.train(x, y, 0.01)\n",
    "\n",
    "    losses.append(model.loss(X_train, y_train))\n",
    "    accuracies.append(model.accuracy(X_train, y_train))\n",
    "    accuracies_test.append(model.accuracy(X_test, y_test))\n",
    "    print(\"Epoch #%d, train loss: %0.5f, train acc: %0.3f, test acc: %0.3f\"\n",
    "          % (epoch + 1, losses[-1], accuracies[-1], accuracies_test[-1]))\n",
    "plt.plot(losses)"
   ]
  },
  {
   "cell_type": "code",
   "execution_count": null,
   "metadata": {
    "colab": {
     "base_uri": "https://localhost:8080/",
     "height": 282
    },
    "executionInfo": {
     "elapsed": 410,
     "status": "ok",
     "timestamp": 1666748770429,
     "user": {
      "displayName": "Дмитрий Шигаров",
      "userId": "09240760155574685522"
     },
     "user_tz": -180
    },
    "id": "QiF9d3dj99L-",
    "outputId": "b4ed8ca8-d35e-401c-92a3-bd698105f0ac"
   },
   "outputs": [
    {
     "data": {
      "text/plain": [
       "Text(0, 0.5, 'accuracy')"
      ]
     },
     "execution_count": 180,
     "metadata": {},
     "output_type": "execute_result"
    },
    {
     "data": {
      "image/png": "[encoded data removed]",
      "text/plain": [
       "<Figure size 432x288 with 1 Axes>"
      ]
     },
     "metadata": {
      "needs_background": "light"
     },
     "output_type": "display_data"
    }
   ],
   "source": [
    "plt.plot(accuracies, label='train')\n",
    "plt.plot(accuracies_test, label='test')\n",
    "plt.ylim(0, 1.1)\n",
    "plt.ylabel(\"accuracy\")"
   ]
  },
  {
   "cell_type": "markdown",
   "metadata": {
    "id": "DqhZP7Uo-Fnf"
   },
   "source": [
    "0 инициализация \n",
    "Модель обладает плохим качеттвом. Большая ошибка и малая точность."
   ]
  },
  {
   "cell_type": "code",
   "execution_count": null,
   "metadata": {
    "id": "tPj-5fzx-XlA"
   },
   "outputs": [],
   "source": [
    "EPSILON = 1e-8\n",
    "def relu(Z):\n",
    "    R = np.maximum(0, Z)\n",
    "    return R\n",
    "\n",
    "class NeuralNet():\n",
    "    \"\"\"MLP с 1 скрытым слоем с сигмоидной активацией\"\"\"\n",
    "    \n",
    "    def __init__(self, input_size, hidden_size, output_size):\n",
    "        # Ваше решение\n",
    "        self.W_h = np.random.uniform(size=(input_size, hidden_size), high=0.01, low=-0.01)\n",
    "        self.b_h = np.zeros(hidden_size)\n",
    "        self.W_o = np.random.uniform(\n",
    "            size=(hidden_size, output_size), high=0.01, low=-0.01)\n",
    "        self.b_o = np.zeros(output_size)\n",
    "        self.output_size = output_size\n",
    "            \n",
    "    def forward_keep_activations(self, X):\n",
    "        # Ваше решение\n",
    "        z_h = np.dot(X, self.W_h) + self.b_h\n",
    "        h = sigmoid(z_h)\n",
    "        z_o = np.dot(h, self.W_o) + self.b_o\n",
    "        y = relu(z_o)\n",
    "        return y, h, z_h\n",
    "\n",
    "    def forward(self, X):\n",
    "        h = sigmoid(np.dot(X, self.W_h) + self.b_h)\n",
    "        y = relu(np.dot(h, self.W_o) + self.b_o)\n",
    "        return y\n",
    "\n",
    "    def loss(self, X, y):\n",
    "        # Ваше решение\n",
    "        return nll(one_hot(self.output_size, y), self.forward(X))\n",
    "\n",
    "    def grad_loss(self, x, y_true):\n",
    "        # Ваше решение\n",
    "        y, h, z_h = self.forward_keep_activations(x)\n",
    "        grad_z_o = y - one_hot(self.output_size, y_true)\n",
    "\n",
    "        grad_W_o = np.outer(h, grad_z_o)\n",
    "        grad_b_o = grad_z_o\n",
    "        grad_h = np.dot(grad_z_o, np.transpose(self.W_o))\n",
    "        grad_z_h = grad_h * dsigmoid(z_h)\n",
    "        grad_W_h = np.outer(x, grad_z_h)\n",
    "        grad_b_h = grad_z_h\n",
    "        return {\"W_h\": grad_W_h, \"b_h\": grad_b_h, \"W_o\": grad_W_o, \"b_o\": grad_b_o}\n",
    "\n",
    "    def train(self, x, y, learning_rate):\n",
    "        # Ваше решение\n",
    "        grads = self.grad_loss(x, y)\n",
    "        self.W_h = self.W_h - learning_rate * grads[\"W_h\"]\n",
    "        self.b_h = self.b_h - learning_rate * grads[\"b_h\"]\n",
    "        self.W_o = self.W_o - learning_rate * grads[\"W_o\"]\n",
    "        self.b_o = self.b_o - learning_rate * grads[\"b_o\"]\n",
    "\n",
    "    def predict(self, X):\n",
    "        if len(X.shape) == 1:\n",
    "            return np.argmax(self.forward(X))\n",
    "        else:\n",
    "            return np.argmax(self.forward(X), axis=1)\n",
    "\n",
    "    def accuracy(self, X, y):\n",
    "        y_preds = np.argmax(self.forward(X), axis=1)\n",
    "        return np.mean(y_preds == y)"
   ]
  },
  {
   "cell_type": "code",
   "execution_count": null,
   "metadata": {
    "colab": {
     "base_uri": "https://localhost:8080/",
     "height": 560
    },
    "executionInfo": {
     "elapsed": 3112,
     "status": "ok",
     "timestamp": 1666749154796,
     "user": {
      "displayName": "Дмитрий Шигаров",
      "userId": "09240760155574685522"
     },
     "user_tz": -180
    },
    "id": "yBQg0MqG-Sj_",
    "outputId": "92da5330-6aee-45e3-fbf4-5f5f9f66b9a7"
   },
   "outputs": [
    {
     "name": "stdout",
     "output_type": "stream",
     "text": [
      "Random init: train loss: 12.99966, train acc: 0.102, test acc: 0.096\n",
      "Epoch #1, train loss: 2.31689, train acc: 0.248, test acc: 0.244\n",
      "Epoch #2, train loss: 1.55191, train acc: 0.571, test acc: 0.563\n",
      "Epoch #3, train loss: 1.06091, train acc: 0.815, test acc: 0.781\n",
      "Epoch #4, train loss: 0.76196, train acc: 0.847, test acc: 0.811\n",
      "Epoch #5, train loss: 0.55337, train acc: 0.868, test acc: 0.826\n",
      "Epoch #6, train loss: 0.43189, train acc: 0.910, test acc: 0.878\n",
      "Epoch #7, train loss: 0.36290, train acc: 0.936, test acc: 0.911\n",
      "Epoch #8, train loss: 0.31149, train acc: 0.955, test acc: 0.926\n",
      "Epoch #9, train loss: 0.27759, train acc: 0.965, test acc: 0.926\n",
      "Epoch #10, train loss: 0.26050, train acc: 0.969, test acc: 0.937\n",
      "Epoch #11, train loss: 0.24205, train acc: 0.972, test acc: 0.944\n",
      "Epoch #12, train loss: 0.22754, train acc: 0.975, test acc: 0.948\n",
      "Epoch #13, train loss: 0.21578, train acc: 0.977, test acc: 0.952\n",
      "Epoch #14, train loss: 0.19907, train acc: 0.977, test acc: 0.952\n",
      "Epoch #15, train loss: 0.19031, train acc: 0.980, test acc: 0.956\n"
     ]
    },
    {
     "data": {
      "text/plain": [
       "[<matplotlib.lines.Line2D at 0x7f7fa67992d0>]"
      ]
     },
     "execution_count": 187,
     "metadata": {},
     "output_type": "execute_result"
    },
    {
     "data": {
      "image/png": "[encoded data removed]",
      "text/plain": [
       "<Figure size 432x288 with 1 Axes>"
      ]
     },
     "metadata": {
      "needs_background": "light"
     },
     "output_type": "display_data"
    }
   ],
   "source": [
    "# lr = 0.01\n",
    "\n",
    "n_features = X_train.shape[1]\n",
    "n_classes = len(np.unique(y_train))\n",
    "n_hidden = 10\n",
    "model = NeuralNet(n_features, n_hidden, n_classes)\n",
    "losses, accuracies, accuracies_test = [], [], []\n",
    "losses.append(model.loss(X_train, y_train))\n",
    "accuracies.append(model.accuracy(X_train, y_train))\n",
    "accuracies_test.append(model.accuracy(X_test, y_test))\n",
    "\n",
    "print(\"Random init: train loss: %0.5f, train acc: %0.3f, test acc: %0.3f\"\n",
    "      % (losses[-1], accuracies[-1], accuracies_test[-1]))\n",
    "\n",
    "for epoch in range(15):\n",
    "    for i, (x, y) in enumerate(zip(X_train, y_train)):\n",
    "        model.train(x, y, 0.01)\n",
    "\n",
    "    losses.append(model.loss(X_train, y_train))\n",
    "    accuracies.append(model.accuracy(X_train, y_train))\n",
    "    accuracies_test.append(model.accuracy(X_test, y_test))\n",
    "    print(\"Epoch #%d, train loss: %0.5f, train acc: %0.3f, test acc: %0.3f\"\n",
    "          % (epoch + 1, losses[-1], accuracies[-1], accuracies_test[-1]))\n",
    "plt.plot(losses)"
   ]
  },
  {
   "cell_type": "code",
   "execution_count": null,
   "metadata": {
    "colab": {
     "base_uri": "https://localhost:8080/",
     "height": 282
    },
    "executionInfo": {
     "elapsed": 274,
     "status": "ok",
     "timestamp": 1666749157265,
     "user": {
      "displayName": "Дмитрий Шигаров",
      "userId": "09240760155574685522"
     },
     "user_tz": -180
    },
    "id": "2FJDql58-SkA",
    "outputId": "8a62846f-fd81-4325-92ed-578bc9bbacee"
   },
   "outputs": [
    {
     "data": {
      "text/plain": [
       "Text(0, 0.5, 'accuracy')"
      ]
     },
     "execution_count": 188,
     "metadata": {},
     "output_type": "execute_result"
    },
    {
     "data": {
      "image/png": "[encoded data removed]",
      "text/plain": [
       "<Figure size 432x288 with 1 Axes>"
      ]
     },
     "metadata": {
      "needs_background": "light"
     },
     "output_type": "display_data"
    }
   ],
   "source": [
    "plt.plot(accuracies, label='train')\n",
    "plt.plot(accuracies_test, label='test')\n",
    "plt.ylim(0, 1.1)\n",
    "plt.ylabel(\"accuracy\")"
   ]
  },
  {
   "cell_type": "markdown",
   "metadata": {
    "id": "KLrC80Fm-SkA"
   },
   "source": [
    "Использование Активации relu с Learning rait=0.01 дает хорошую точноть модели с низкой ошибкой, однко другие параметры могут улучщить резултаты."
   ]
  },
  {
   "cell_type": "markdown",
   "metadata": {
    "id": "lm5cKaX5AbyU"
   },
   "source": [
    "Работа с Keras"
   ]
  },
  {
   "cell_type": "code",
   "execution_count": null,
   "metadata": {
    "colab": {
     "base_uri": "https://localhost:8080/"
    },
    "executionInfo": {
     "elapsed": 9876,
     "status": "ok",
     "timestamp": 1666749453043,
     "user": {
      "displayName": "Дмитрий Шигаров",
      "userId": "09240760155574685522"
     },
     "user_tz": -180
    },
    "id": "iIVLgxQvAgwI",
    "outputId": "89bbc7a1-b622-4cb1-88a2-0522fbc1691e"
   },
   "outputs": [
    {
     "name": "stderr",
     "output_type": "stream",
     "text": [
      "/usr/local/lib/python3.7/dist-packages/keras/optimizers/optimizer_v2/gradient_descent.py:108: UserWarning: The `lr` argument is deprecated, use `learning_rate` instead.\n",
      "  super(SGD, self).__init__(name, **kwargs)\n"
     ]
    },
    {
     "name": "stdout",
     "output_type": "stream",
     "text": [
      "Epoch 1/15\n",
      "48/48 [==============================] - 1s 2ms/step - loss: 0.8468 - accuracy: 0.7531\n",
      "Epoch 2/15\n",
      "48/48 [==============================] - 0s 2ms/step - loss: 0.2213 - accuracy: 0.9476\n",
      "Epoch 3/15\n",
      "48/48 [==============================] - 0s 3ms/step - loss: 0.1496 - accuracy: 0.9620\n",
      "Epoch 4/15\n",
      "48/48 [==============================] - 0s 2ms/step - loss: 0.1292 - accuracy: 0.9673\n",
      "Epoch 5/15\n",
      "48/48 [==============================] - 0s 2ms/step - loss: 0.0905 - accuracy: 0.9823\n",
      "Epoch 6/15\n",
      "48/48 [==============================] - 0s 2ms/step - loss: 0.0802 - accuracy: 0.9817\n",
      "Epoch 7/15\n",
      "48/48 [==============================] - 0s 2ms/step - loss: 0.0685 - accuracy: 0.9849\n",
      "Epoch 8/15\n",
      "48/48 [==============================] - 0s 2ms/step - loss: 0.0567 - accuracy: 0.9882\n",
      "Epoch 9/15\n",
      "48/48 [==============================] - 0s 2ms/step - loss: 0.0465 - accuracy: 0.9908\n",
      "Epoch 10/15\n",
      "48/48 [==============================] - 0s 2ms/step - loss: 0.0441 - accuracy: 0.9915\n",
      "Epoch 11/15\n",
      "48/48 [==============================] - 0s 3ms/step - loss: 0.0363 - accuracy: 0.9941\n",
      "Epoch 12/15\n",
      "48/48 [==============================] - 0s 2ms/step - loss: 0.0302 - accuracy: 0.9967\n",
      "Epoch 13/15\n",
      "48/48 [==============================] - 0s 2ms/step - loss: 0.0273 - accuracy: 0.9974\n",
      "Epoch 14/15\n",
      "48/48 [==============================] - 0s 2ms/step - loss: 0.0242 - accuracy: 0.9974\n",
      "Epoch 15/15\n",
      "48/48 [==============================] - 0s 2ms/step - loss: 0.0230 - accuracy: 0.9993\n"
     ]
    }
   ],
   "source": [
    "from tensorflow.keras.models import Sequential\n",
    "from tensorflow.keras.layers import Dense\n",
    "from tensorflow.keras.optimizers import SGD\n",
    "from tensorflow.keras.utils import to_categorical\n",
    "\n",
    "n_features = 8 * 8\n",
    "n_classes = 10\n",
    "n_hidden = 10\n",
    "\n",
    "keras_model = Sequential()\n",
    "keras_model.add(Dense(n_hidden, input_dim=n_features, activation='sigmoid'))\n",
    "keras_model.add(Dense(n_classes, activation='softmax'))\n",
    "\n",
    "keras_model.compile(optimizer=SGD(lr=3),\n",
    "                    loss='categorical_crossentropy', metrics=['accuracy'])\n",
    "\n",
    "keras_model.fit(X_train, to_categorical(y_train), epochs=15, batch_size=32);"
   ]
  },
  {
   "cell_type": "code",
   "execution_count": null,
   "metadata": {
    "colab": {
     "base_uri": "https://localhost:8080/",
     "height": 298
    },
    "executionInfo": {
     "elapsed": 677,
     "status": "ok",
     "timestamp": 1666749467814,
     "user": {
      "displayName": "Дмитрий Шигаров",
      "userId": "09240760155574685522"
     },
     "user_tz": -180
    },
    "id": "D_8doGavAoRv",
    "outputId": "083d9488-a419-408d-e0c5-0d8a2d7df599"
   },
   "outputs": [
    {
     "data": {
      "text/plain": [
       "Text(0.5, 1.0, 'true label: 8')"
      ]
     },
     "execution_count": 190,
     "metadata": {},
     "output_type": "execute_result"
    },
    {
     "data": {
      "image/png": "[encoded data removed]",
      "text/plain": [
       "<Figure size 432x288 with 1 Axes>"
      ]
     },
     "metadata": {
      "needs_background": "light"
     },
     "output_type": "display_data"
    }
   ],
   "source": [
    "sample_idx = 42\n",
    "plt.imshow(scaler.inverse_transform(X_test[[sample_idx]]).reshape(8, 8), cmap=plt.cm.gray_r, interpolation='nearest')\n",
    "plt.title(\"true label: %d\" % y_test[sample_idx])"
   ]
  },
  {
   "cell_type": "code",
   "execution_count": null,
   "metadata": {
    "colab": {
     "base_uri": "https://localhost:8080/"
    },
    "executionInfo": {
     "elapsed": 240,
     "status": "ok",
     "timestamp": 1666749541457,
     "user": {
      "displayName": "Дмитрий Шигаров",
      "userId": "09240760155574685522"
     },
     "user_tz": -180
    },
    "id": "AvVRmYzeAxcR",
    "outputId": "2980b0bf-4424-4f7b-80ce-7a50cd620f6f"
   },
   "outputs": [
    {
     "name": "stdout",
     "output_type": "stream",
     "text": [
      "0: 0.00001\n",
      "1: 0.00045\n",
      "2: 0.00001\n",
      "3: 0.00000\n",
      "4: 0.00296\n",
      "5: 0.00002\n",
      "6: 0.00007\n",
      "7: 0.00000\n",
      "8: 0.99645\n",
      "9: 0.00004\n"
     ]
    }
   ],
   "source": [
    "probabilities = keras_model.predict(X_test, verbose=0)\n",
    "for class_idx, prob in enumerate(probabilities[sample_idx]):\n",
    "    print(\"%d: %0.5f\" % (class_idx, prob))"
   ]
  },
  {
   "cell_type": "code",
   "execution_count": null,
   "metadata": {
    "id": "jCm6HvXREi6K"
   },
   "outputs": [],
   "source": [
    "y_pred=[]\n",
    "for i in range(len(X_test)):\n",
    "  y_pred.append(np.argmax(keras_model.predict(X_test[[i]], verbose=0)))\n"
   ]
  },
  {
   "cell_type": "code",
   "execution_count": null,
   "metadata": {
    "colab": {
     "base_uri": "https://localhost:8080/",
     "height": 300
    },
    "executionInfo": {
     "elapsed": 862,
     "status": "ok",
     "timestamp": 1666750226672,
     "user": {
      "displayName": "Дмитрий Шигаров",
      "userId": "09240760155574685522"
     },
     "user_tz": -180
    },
    "id": "n9dar6jAIHqW",
    "outputId": "9dbd8a4b-a0e7-4809-8967-0c5ca52331a6"
   },
   "outputs": [
    {
     "data": {
      "text/plain": [
       "Text(0.5, 15.0, 'Предсказанные значения')"
      ]
     },
     "execution_count": 218,
     "metadata": {},
     "output_type": "execute_result"
    },
    {
     "data": {
      "image/png": "[encoded data removed]",
      "text/plain": [
       "<Figure size 432x288 with 2 Axes>"
      ]
     },
     "metadata": {
      "needs_background": "light"
     },
     "output_type": "display_data"
    }
   ],
   "source": [
    "import numpy as np; np.random.seed(0)\n",
    "import seaborn as sns\n",
    "import pandas as pd\n",
    "from sklearn.metrics import confusion_matrix\n",
    "sns.heatmap(pd.DataFrame(\n",
    "   confusion_matrix(y_test, y_pred)),\n",
    "    annot=True)\n",
    "plt.ylabel('Действительные значения')\n",
    "plt.xlabel('Предсказанные значения')"
   ]
  },
  {
   "cell_type": "markdown",
   "metadata": {
    "id": "UFbYFmtHDjyM"
   },
   "source": [
    "Можно увидеть что практически всегда модель дает верные предсказания, что говорит о хорошем качестве модели."
   ]
  }
 ],
 "metadata": {
  "colab": {
   "collapsed_sections": [],
   "provenance": []
  },
  "kernelspec": {
   "display_name": "Python 3 (ipykernel)",
   "language": "python",
   "name": "python3"
  },
  "language_info": {
   "codemirror_mode": {
    "name": "ipython",
    "version": 3
   },
   "file_extension": ".py",
   "mimetype": "text/x-python",
   "name": "python",
   "nbconvert_exporter": "python",
   "pygments_lexer": "ipython3",
   "version": "3.9.7"
  }
 },
 "nbformat": 4,
 "nbformat_minor": 1
}
