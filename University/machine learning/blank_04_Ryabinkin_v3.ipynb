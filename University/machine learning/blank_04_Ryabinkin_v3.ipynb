{
 "cells": [
  {
   "cell_type": "code",
   "execution_count": 5,
   "metadata": {
    "id": "u49LZV9dKFWi"
   },
   "outputs": [],
   "source": [
    "import matplotlib.pyplot as plt\n",
    "from torchvision import datasets, transforms\n",
    "import torchvision\n",
    "import torch\n",
    "import torch.nn as nn\n",
    "import torch.optim as optim\n",
    "from torch.utils.data import DataLoader, random_split\n",
    "import torch.nn.functional as F\n",
    "import math\n",
    "import time\n",
    "import matplotlib.pyplot as plt\n",
    "import numpy as np\n",
    "import pandas as pd\n",
    "from torch.autograd import Variable\n",
    "import glob\n",
    "import os\n",
    "from torchvision.datasets import ImageFolder\n",
    "from tqdm.notebook import tqdm\n",
    "import sys\n",
    "import torch.utils.data\n",
    "from torchvision import models\n",
    "# from torch.summary import summary"
   ]
  },
  {
   "cell_type": "markdown",
   "metadata": {
    "id": "403Mis3LAgED"
   },
   "source": [
    "## 1. Классификация предметов одежды (датасет Fashion MNIST)\n"
   ]
  },
  {
   "cell_type": "markdown",
   "metadata": {
    "id": "Mn6r8tMDQsaU"
   },
   "source": [
    "\n",
    "### 1.1 Решить задачу классификации, не используя сверточные слои. \n",
    "* Предложить архитектуру модели для решения задачи\n",
    "* Посчитать количество параметров модели.\n",
    "* Обучить модель\n",
    "* Вывести график функции потерь по эпохам. \n",
    "* Используя тестовое множество\n",
    "\n",
    "  * Продемонстрировать работу модели: вывести несколько изображений, указать над ними правильный класс и класс, предсказанный моделью. \n",
    "\n",
    "  * Вывести матрицу ошибок.\n",
    "\n",
    "  * Вывести значение accuracy на тестовом множестве.\n",
    "* Сохранить модель"
   ]
  },
  {
   "cell_type": "code",
   "execution_count": null,
   "metadata": {},
   "outputs": [],
   "source": [
    "# Device configuration\n",
    "device = torch.device('cuda' if torch.cuda.is_available() else 'cpu')"
   ]
  },
  {
   "cell_type": "code",
   "execution_count": null,
   "metadata": {},
   "outputs": [],
   "source": [
    "torch.cuda.is_available()"
   ]
  },
  {
   "cell_type": "code",
   "execution_count": null,
   "metadata": {},
   "outputs": [],
   "source": [
    "#LOAD DATA\n",
    "\n",
    "# parameters:\n",
    "positive_class_label = 3\n",
    "# Hyper-parameters #1\n",
    "batch_size = 100 # big batches\n",
    "validation_split = .2\n",
    "random_seed= 42\n",
    "shuffle_dataset = True\n",
    "\n",
    "# MNIST dataset\n",
    "train_dataset = torchvision.datasets.MNIST(root='./data', train = True, transform = transforms.ToTensor(), download = True)\n",
    "train_batch_qty = math.ceil(len(train_dataset)/batch_size)\n",
    "test_dataset = torchvision.datasets.MNIST(root = './data', train = False, transform = transforms.ToTensor())\n",
    "test_batch_qty = math.ceil(len(test_dataset)/batch_size)\n",
    "\n",
    "# Data loader\n",
    "train_dl = torch.utils.data.DataLoader(dataset = train_dataset, batch_size = batch_size, shuffle = shuffle_dataset)\n",
    "test_dl = torch.utils.data.DataLoader(dataset = test_dataset, batch_size = batch_size, shuffle = False)\n",
    "\n",
    "dataset_num_classes = 10\n",
    "dataset_input_size = 28 * 28 "
   ]
  },
  {
   "cell_type": "code",
   "execution_count": null,
   "metadata": {},
   "outputs": [],
   "source": [
    "\n",
    "class NClases(nn.Module):\n",
    "    def __init__(self, input_size, hidden_size, num_classes): # new parameter: num_classes\n",
    "        super(NClases, self).__init__()\n",
    "        self.input_size = input_size\n",
    "        self.l1 = nn.Linear(input_size, hidden_size) \n",
    "        self.relu = nn.ReLU() \n",
    "        self.l2 = nn.Linear(hidden_size, num_classes)\n",
    "        \n",
    "    def forward(self, x):\n",
    "        out = self.l1(x)\n",
    "        out = self.relu(out)\n",
    "        out = self.l2(out)\n",
    "        # no activation and no softmax at the end\n",
    "        return out"
   ]
  },
  {
   "cell_type": "code",
   "execution_count": null,
   "metadata": {},
   "outputs": [],
   "source": [
    "# DEFINE MODEL\n",
    "\n",
    "# Hyper-parameters #2\n",
    "input_size = dataset_input_size \n",
    "hidden_size = 500 \n",
    "num_classes = dataset_num_classes\n",
    "print(f'input_size:{input_size}, hidden_size:{hidden_size}, num_classes:{num_classes}')\n",
    "\n",
    "num_epochs = 10\n",
    "learning_rate = 0.001\n",
    "\n",
    "\n",
    "model = NClases(input_size, hidden_size, num_classes).to(device)\n",
    "\n",
    "\n",
    "criterion = nn.CrossEntropyLoss()\n",
    "optimizer = torch.optim.Adam(model.parameters(), lr=learning_rate)      "
   ]
  },
  {
   "cell_type": "code",
   "execution_count": null,
   "metadata": {},
   "outputs": [],
   "source": [
    "from tqdm.notebook import tqdm\n",
    "import sys"
   ]
  },
  {
   "cell_type": "code",
   "execution_count": null,
   "metadata": {},
   "outputs": [],
   "source": [
    "def train(model, device, train_dl, optimizer):\n",
    "    #set model in train() mode:\n",
    "    model.train()\n",
    "    \n",
    "    total_loss = 0.0\n",
    "    total_samples = 0.0\n",
    "    correct_samples = 0.0\n",
    "    \n",
    "    for i, (inputs, targets) in tqdm(enumerate(train_dl), total=train_batch_qty, desc='Training minibatch loop '):\n",
    "        inputs, targets = inputs.to(device), targets.to(device)        \n",
    "        inputs = inputs.reshape(-1, 28*28).to(device)\n",
    "#         print(inputs.size(), targets.size(), targets)\n",
    "#         assert False\n",
    "        \n",
    "        # Forward pass\n",
    "        outputs = model(inputs)\n",
    "        loss = criterion(outputs, targets.squeeze()) \n",
    "        \n",
    "        # Backward and optimize        \n",
    "        # zero grad before new step        \n",
    "        optimizer.zero_grad()                        \n",
    "        loss.backward()\n",
    "        optimizer.step()   \n",
    "\n",
    "        # calculating the total_loss for checking\n",
    "        total_loss += loss           \n",
    "        \n",
    "        # PREDICTIONS \n",
    "        total_samples += targets.shape[0]   \n",
    "        _, predictions_indices = torch.max(outputs, 1) # dim=1 - dimension to reduce\n",
    "        correct_samples += torch.sum(predictions_indices==targets)\n",
    "#         if i == 0:\n",
    "#             print(f'outputs: {outputs}, predictions_indices:{predictions_indices}, \\\n",
    "#             targets:{targets}, correct_samples:{correct_samples}, total_samples: {total_samples}')        \n",
    "        \n",
    "    train_accuracy = float(correct_samples) / total_samples        \n",
    "    \n",
    "    return total_loss, train_accuracy                        "
   ]
  },
  {
   "cell_type": "code",
   "execution_count": null,
   "metadata": {},
   "outputs": [],
   "source": [
    "# TESTING THE MODEL\n",
    "def test(model, device, test_dl):\n",
    "    #set model in eval() mode (it skips Dropout etc):\n",
    "    model.eval()\n",
    "    \n",
    "    total_samples = 0.0\n",
    "    correct_samples = 0.0 \n",
    "    \n",
    "    # set the requires_grad flag to false as we are in the test mode\n",
    "    with torch.no_grad():\n",
    "        for i, (inputs, targets) in tqdm(enumerate(test_dl), total=test_batch_qty, desc='Testing minibatch loop:'):\n",
    "            #LOAD THE DATA IN A BATCH                       \n",
    "            inputs, targets = inputs.to(device), targets.to(device)        \n",
    "            inputs = inputs.reshape(-1, 28*28).to(device)            \n",
    "                       \n",
    "            # apply model to input data\n",
    "            outputs = model(inputs)        \n",
    "                       \n",
    "            #PREDICTIONS\n",
    "            total_samples += targets.shape[0]   \n",
    "            _, predictions_indices = torch.max(outputs, 1) # dim=1 - dimension to reduce\n",
    "            correct_samples += torch.sum(predictions_indices==targets)                    \n",
    "        \n",
    "    test_accuracy = correct_samples / total_samples        \n",
    "    \n",
    "    return test_accuracy              "
   ]
  },
  {
   "cell_type": "code",
   "execution_count": null,
   "metadata": {},
   "outputs": [],
   "source": [
    "%%time\n",
    "for_losses = []\n",
    "n_total_steps = len(train_dl)\n",
    "\n",
    "for epoch in range(num_epochs):\n",
    "    total_loss, train_accuracy = train(model, device, train_dl, optimizer)\n",
    "    test_accuracy = test(model, device, test_dl)\n",
    "    for_losses.append(total_loss.cpu().detach().numpy())\n",
    "    print (f'Epoch [{epoch+1}/{num_epochs}], Loss: {total_loss:.4f}, Train acc: {train_accuracy:.4f}, Test acc: {test_accuracy:.4f}')                                    "
   ]
  },
  {
   "cell_type": "code",
   "execution_count": null,
   "metadata": {},
   "outputs": [],
   "source": [
    "plt.plot(np.arange(len(for_losses)), for_losses)"
   ]
  },
  {
   "cell_type": "code",
   "execution_count": null,
   "metadata": {},
   "outputs": [],
   "source": [
    "for_test = np.random.randint(len(test_dataset), size=5)"
   ]
  },
  {
   "cell_type": "code",
   "execution_count": null,
   "metadata": {},
   "outputs": [],
   "source": [
    "data = test_dataset.data.reshape(-1,28*28).float().to(device)\n",
    "targets = test_dataset.targets.to(device)"
   ]
  },
  {
   "cell_type": "code",
   "execution_count": null,
   "metadata": {},
   "outputs": [],
   "source": [
    "data[for_test]"
   ]
  },
  {
   "cell_type": "code",
   "execution_count": null,
   "metadata": {},
   "outputs": [],
   "source": [
    "torch.max(model(data[for_test]), 1)"
   ]
  },
  {
   "cell_type": "code",
   "execution_count": null,
   "metadata": {},
   "outputs": [],
   "source": [
    "targets[for_test]"
   ]
  },
  {
   "cell_type": "code",
   "execution_count": null,
   "metadata": {},
   "outputs": [],
   "source": [
    "heat_map_matrix = np.zeros((10, 10))\n",
    "with torch.no_grad():\n",
    "    correct = 0\n",
    "    total = 0\n",
    "    for images, labels in zip(test_dataset.data, test_dataset.targets):\n",
    "        images = images.reshape(-1, 28*28).float().to(device)\n",
    "        labels = labels\n",
    "        outputs = model(images)\n",
    "        _, predicted = torch.max(outputs.data, 1)\n",
    "        correct += (predicted.to(device) == labels.to(device)).sum().item()\n",
    "        heat_map_matrix[labels.cpu()][predicted.cpu()] += 1\n",
    "        print(predicted)"
   ]
  },
  {
   "cell_type": "code",
   "execution_count": null,
   "metadata": {},
   "outputs": [],
   "source": [
    "import seaborn as sns\n",
    "import pandas as pd\n",
    "heat_map_matrix = pd.DataFrame(heat_map_matrix, columns=test_dataset.classes)\n",
    "heat_map_matrix.index = test_dataset.classes\n",
    "plt.figure(1, (15, 10))\n",
    "sns.heatmap(heat_map_matrix, annot=True, fmt='g')\n",
    "plt.show()"
   ]
  },
  {
   "cell_type": "code",
   "execution_count": null,
   "metadata": {},
   "outputs": [],
   "source": [
    "torch.save(model, 'modelka.pt')"
   ]
  },
  {
   "cell_type": "markdown",
   "metadata": {
    "id": "GmsMQUPP-XUh"
   },
   "source": [
    "### 1.2 Решить задачу 1.1, используя сверточную нейронную сеть. \n",
    "* Добиться значения accuracy на тестовом множестве не менее 90%\n",
    "* Визуализировать результаты работы первого сверточного слоя"
   ]
  },
  {
   "cell_type": "code",
   "execution_count": null,
   "metadata": {},
   "outputs": [],
   "source": [
    "# Device configuration\n",
    "device = torch.device('cuda' if torch.cuda.is_available() else 'cpu')"
   ]
  },
  {
   "cell_type": "code",
   "execution_count": null,
   "metadata": {},
   "outputs": [],
   "source": [
    "torch.cuda.is_available()"
   ]
  },
  {
   "cell_type": "code",
   "execution_count": null,
   "metadata": {},
   "outputs": [],
   "source": [
    "#LOAD DATA\n",
    "\n",
    "# Hyper-parameters #1\n",
    "batch_size = 100 # big batches\n",
    "shuffle_dataset = True\n",
    "trans = transforms.Compose([transforms.ToTensor(), transforms.Normalize((0.1307,), (0.3081,))]) \n",
    "\n",
    "# MNIST dataset\n",
    "train_dataset = torchvision.datasets.FashionMNIST(root='./data', train = True, transform = trans, download = True)\n",
    "train_batch_qty = math.ceil(len(train_dataset)/batch_size)\n",
    "test_dataset = torchvision.datasets.FashionMNIST(root = './data', train = False, transform = trans)\n",
    "test_batch_qty = math.ceil(len(test_dataset)/batch_size)\n",
    "\n",
    "# Data loader\n",
    "train_dl = torch.utils.data.DataLoader(dataset = train_dataset, batch_size = batch_size, shuffle = shuffle_dataset)\n",
    "test_dl = torch.utils.data.DataLoader(dataset = test_dataset, batch_size = batch_size, shuffle = False)\n",
    "\n",
    "dataset_num_classes = 10\n",
    "dataset_input_size = 28 * 28"
   ]
  },
  {
   "cell_type": "code",
   "execution_count": null,
   "metadata": {},
   "outputs": [],
   "source": [
    "\n",
    "class ConvNet(nn.Module):\n",
    "    def __init__(self): # new parameter: num_classes\n",
    "        super(ConvNet, self).__init__()\n",
    "        self.layer1 = nn.Sequential( nn.Conv2d(1, 32, kernel_size=5, stride=1, padding=2), \n",
    "        nn.ReLU(), nn.MaxPool2d(kernel_size=2, stride=2)) \n",
    "        self.layer2 = nn.Sequential( nn.Conv2d(32, 64, kernel_size=5, stride=1, padding=2), \n",
    "        nn.ReLU(), nn.MaxPool2d(kernel_size=2, stride=2)) \n",
    "        self.drop_out = nn.Dropout() \n",
    "        self.fc1 = nn.Linear(7 * 7 * 64, 1000) \n",
    "        self.fc2 = nn.Linear(1000, 10)\n",
    "        \n",
    "        \n",
    "    def forward(self, x):\n",
    "        out = self.layer1(x) \n",
    "        out = self.layer2(out) \n",
    "        out = out.reshape(out.size(0), -1) \n",
    "        out = self.drop_out(out) \n",
    "        out = self.fc1(out) \n",
    "        out = self.fc2(out) \n",
    "        return out"
   ]
  },
  {
   "cell_type": "code",
   "execution_count": null,
   "metadata": {},
   "outputs": [],
   "source": [
    "num_epochs = 5 \n",
    "num_classes = 10\n",
    "learning_rate = 0.001"
   ]
  },
  {
   "cell_type": "code",
   "execution_count": null,
   "metadata": {},
   "outputs": [],
   "source": [
    "model = ConvNet()\n",
    "criterion = nn.CrossEntropyLoss()\n",
    "optimizer = torch.optim.Adam(model.parameters(), lr=learning_rate)"
   ]
  },
  {
   "cell_type": "code",
   "execution_count": null,
   "metadata": {},
   "outputs": [],
   "source": [
    "total_step = len(train_dl)\n",
    "loss_list = []\n",
    "acc_list = []\n",
    "for epoch in range(num_epochs):\n",
    "    for i, (images, labels) in enumerate(train_dl):\n",
    "        # Прямой запуск\n",
    "        outputs = model(images)\n",
    "        loss = criterion(outputs, labels)\n",
    "        loss_list.append(loss.item())\n",
    "\n",
    "        # Обратное распространение и оптимизатор\n",
    "        optimizer.zero_grad()\n",
    "        loss.backward()\n",
    "        optimizer.step()\n",
    "\n",
    "        # Отслеживание точности\n",
    "        total = labels.size(0)\n",
    "        _, predicted = torch.max(outputs.data, 1)\n",
    "        correct = (predicted == labels).sum().item()\n",
    "        acc_list.append(correct / total)\n",
    "\n",
    "        if (i + 1) % 100 == 0:\n",
    "            print('Epoch [{}/{}], Step [{}/{}], Loss: {:.4f}, Accuracy: {:.2f}%'\n",
    "                  .format(epoch + 1, num_epochs, i + 1, total_step, loss.item(),\n",
    "                          (correct / total) * 100))"
   ]
  },
  {
   "cell_type": "code",
   "execution_count": null,
   "metadata": {},
   "outputs": [],
   "source": [
    "model.eval()\n",
    "with torch.no_grad():\n",
    "    correct = 0\n",
    "    total = 0\n",
    "    for images, labels in test_dl:\n",
    "        outputs = model(images)\n",
    "        _, predicted = torch.max(outputs.data, 1)\n",
    "        total += labels.size(0)\n",
    "        correct += (predicted == labels).sum().item()\n",
    "\n",
    "    print('Test Accuracy of the model on the 10000 test images: {} %'.format((correct / total) * 100))"
   ]
  },
  {
   "cell_type": "markdown",
   "metadata": {
    "id": "cm6_9B3ZKLq9"
   },
   "source": [
    "##  2. Классификация изображений (датасет CIFAR 10) "
   ]
  },
  {
   "cell_type": "markdown",
   "metadata": {
    "id": "VNTZa9yWQvSF"
   },
   "source": [
    "\n",
    "### 2.1 Решить задачу классификации, не используя сверточные слои. \n",
    "\n",
    "* Нормализовать данные (если необходимо)\n",
    "* Предложить архитектуру модели для решения задачи\n",
    "* Посчитать количество параметров модели.\n",
    "* Обучить модель\n",
    "* Вывести график функции потерь по эпохам. \n",
    "* Используя тестовое множество\n",
    "\n",
    "  * Продемонстрировать работу модели: вывести несколько изображений, указать над ними правильный класс и класс, предсказанный моделью. \n",
    "\n",
    "  * Вывести матрицу ошибок.\n",
    "\n",
    "  * Вывести значение accuracy на тестовом множестве.\n",
    "* Сохранить модель"
   ]
  },
  {
   "cell_type": "code",
   "execution_count": null,
   "metadata": {},
   "outputs": [],
   "source": [
    "dataset = torchvision.datasets.CIFAR10(root='data/', download=True, transform=transforms.ToTensor())"
   ]
  },
  {
   "cell_type": "code",
   "execution_count": null,
   "metadata": {},
   "outputs": [],
   "source": [
    "transform = transforms.Compose(\n",
    "    [transforms.ToTensor(),\n",
    "     transforms.Normalize((0.5, 0.5, 0.5), (0.5, 0.5, 0.5))])\n",
    "\n",
    "batch_size = 100\n",
    "\n",
    "trainset = torchvision.datasets.CIFAR10(root='./data', train=True,\n",
    "                                        download=True, transform=transform)\n",
    "trainloader = torch.utils.data.DataLoader(trainset, batch_size=batch_size,\n",
    "                                          shuffle=True, num_workers=2)\n",
    "\n",
    "testset = torchvision.datasets.CIFAR10(root='./data', train=False,\n",
    "                                       download=True, transform=transform)\n",
    "testloader = torch.utils.data.DataLoader(testset, batch_size=batch_size,\n",
    "                                         shuffle=False, num_workers=2)\n"
   ]
  },
  {
   "cell_type": "code",
   "execution_count": null,
   "metadata": {},
   "outputs": [],
   "source": [
    "train_batch_qty = math.ceil(len(trainset)/batch_size)\n",
    "test_batch_qty = math.ceil(len(testset)/batch_size)"
   ]
  },
  {
   "cell_type": "code",
   "execution_count": null,
   "metadata": {},
   "outputs": [],
   "source": [
    "img, label = dataset[0]\n",
    "img_shape = img.shape\n",
    "img_shape"
   ]
  },
  {
   "cell_type": "code",
   "execution_count": null,
   "metadata": {},
   "outputs": [],
   "source": [
    "classes = dataset.classes\n",
    "classes, len(classes)"
   ]
  },
  {
   "cell_type": "code",
   "execution_count": null,
   "metadata": {},
   "outputs": [],
   "source": [
    "input_size = 3*32*32\n",
    "num_classes = 10"
   ]
  },
  {
   "cell_type": "code",
   "execution_count": null,
   "metadata": {},
   "outputs": [],
   "source": [
    "# DEFINE MODEL\n",
    "\n",
    "# Hyper-parameters #2\n",
    "hidden_size = 3*33*33\n",
    "print(f'input_size:{input_size}, hidden_size:{hidden_size}, num_classes:{num_classes}')\n",
    "\n",
    "num_epochs = 10\n",
    "learning_rate = 0.001\n",
    "\n",
    "\n",
    "model = CIFAR10Model(input_size, hidden_size, num_classes).to(device)\n",
    "\n",
    "\n",
    "criterion = nn.CrossEntropyLoss()\n",
    "optimizer = torch.optim.Adam(model.parameters(), lr=learning_rate)      "
   ]
  },
  {
   "cell_type": "code",
   "execution_count": null,
   "metadata": {},
   "outputs": [],
   "source": [
    "def train1(model, device, train_dl, optimizer):\n",
    "    #set model in train() mode:\n",
    "    model.train()\n",
    "    \n",
    "    total_loss = 0.0\n",
    "    total_samples = 0.0\n",
    "    correct_samples = 0.0\n",
    "    \n",
    "    for i, (inputs, targets) in tqdm(enumerate(train_dl), total=train_batch_qty, desc='Training minibatch loop '):\n",
    "        inputs, targets = inputs.to(device), targets.to(device)        \n",
    "        inputs = inputs.reshape(-1, 3*32*32).to(device)\n",
    "#         print(inputs.size(), targets.size(), targets)\n",
    "#         assert False\n",
    "        \n",
    "        # Forward pass\n",
    "        outputs = model(inputs)\n",
    "        loss = criterion(outputs, targets.squeeze()) \n",
    "        \n",
    "        # Backward and optimize        \n",
    "        # zero grad before new step        \n",
    "        optimizer.zero_grad()                        \n",
    "        loss.backward()\n",
    "        optimizer.step()   \n",
    "\n",
    "        # calculating the total_loss for checking\n",
    "        total_loss += loss           \n",
    "        \n",
    "        # PREDICTIONS \n",
    "        total_samples += targets.shape[0]   \n",
    "        _, predictions_indices = torch.max(outputs, 1) # dim=1 - dimension to reduce\n",
    "        correct_samples += torch.sum(predictions_indices==targets)\n",
    "#         if i == 0:\n",
    "#             print(f'outputs: {outputs}, predictions_indices:{predictions_indices}, \\\n",
    "#             targets:{targets}, correct_samples:{correct_samples}, total_samples: {total_samples}')        \n",
    "        \n",
    "    train_accuracy = float(correct_samples) / total_samples        \n",
    "    \n",
    "    return total_loss, train_accuracy                        "
   ]
  },
  {
   "cell_type": "code",
   "execution_count": null,
   "metadata": {},
   "outputs": [],
   "source": [
    "# TESTING THE MODEL\n",
    "def test1(model, device, test_dl):\n",
    "    #set model in eval() mode (it skips Dropout etc):\n",
    "    model.eval()\n",
    "    \n",
    "    total_samples = 0.0\n",
    "    correct_samples = 0.0 \n",
    "    \n",
    "    # set the requires_grad flag to false as we are in the test mode\n",
    "    with torch.no_grad():\n",
    "        for i, (inputs, targets) in tqdm(enumerate(test_dl), total=test_batch_qty, desc='Testing minibatch loop:'):\n",
    "            #LOAD THE DATA IN A BATCH                       \n",
    "            inputs, targets = inputs.to(device), targets.to(device)        \n",
    "            inputs = inputs.reshape(-1, 3*32*32).to(device)            \n",
    "                       \n",
    "            # apply model to input data\n",
    "            outputs = model(inputs)        \n",
    "                       \n",
    "            #PREDICTIONS\n",
    "            total_samples += targets.shape[0]   \n",
    "            _, predictions_indices = torch.max(outputs, 1) # dim=1 - dimension to reduce\n",
    "            correct_samples += torch.sum(predictions_indices==targets)                    \n",
    "        \n",
    "    test_accuracy = correct_samples / total_samples        \n",
    "    \n",
    "    return test_accuracy              "
   ]
  },
  {
   "cell_type": "code",
   "execution_count": null,
   "metadata": {
    "scrolled": false
   },
   "outputs": [],
   "source": [
    "%%time\n",
    "for_losses = []\n",
    "n_total_steps = len(trainloader)\n",
    "\n",
    "for epoch in range(num_epochs):\n",
    "    total_loss, train_accuracy = train1(model, device, trainloader, optimizer)\n",
    "    test_accuracy = test1(model, device, testloader)\n",
    "    for_losses.append(total_loss.cpu().detach().numpy())\n",
    "    print (f'Epoch [{epoch+1}/{num_epochs}], Loss: {total_loss:.4f}, Train acc: {train_accuracy:.4f}, Test acc: {test_accuracy:.4f}')                 "
   ]
  },
  {
   "cell_type": "code",
   "execution_count": null,
   "metadata": {},
   "outputs": [],
   "source": [
    "plt.plot(np.arange(len(for_losses)), for_losses)"
   ]
  },
  {
   "cell_type": "code",
   "execution_count": null,
   "metadata": {},
   "outputs": [],
   "source": [
    "for_test = np.random.randint(len(test_dataset), size=5)"
   ]
  },
  {
   "cell_type": "code",
   "execution_count": null,
   "metadata": {},
   "outputs": [],
   "source": [
    "data = test_dataset.data.reshape(-1,28*28).float().to(device)\n",
    "targets = test_dataset.targets.to(device)"
   ]
  },
  {
   "cell_type": "code",
   "execution_count": null,
   "metadata": {},
   "outputs": [],
   "source": [
    "data[for_test]"
   ]
  },
  {
   "cell_type": "code",
   "execution_count": null,
   "metadata": {},
   "outputs": [],
   "source": [
    "torch.max(model(data[for_test]), 1)"
   ]
  },
  {
   "cell_type": "code",
   "execution_count": null,
   "metadata": {},
   "outputs": [],
   "source": [
    "targets[for_test]"
   ]
  },
  {
   "cell_type": "code",
   "execution_count": null,
   "metadata": {},
   "outputs": [],
   "source": [
    "heat_map_matrix = np.zeros((10, 10))\n",
    "with torch.no_grad():\n",
    "    correct = 0\n",
    "    total = 0\n",
    "    for images, labels in zip(test_dataset.data, test_dataset.targets):\n",
    "        images = images.reshape(-1, 28*28).float().to(device)\n",
    "        labels = labels\n",
    "        outputs = model(images)\n",
    "        _, predicted = torch.max(outputs.data, 1)\n",
    "        correct += (predicted.to(device) == labels.to(device)).sum().item()\n",
    "        heat_map_matrix[labels.cpu()][predicted.cpu()] += 1\n",
    "        print(predicted)"
   ]
  },
  {
   "cell_type": "code",
   "execution_count": null,
   "metadata": {},
   "outputs": [],
   "source": [
    "import seaborn as sns\n",
    "import pandas as pd\n",
    "heat_map_matrix = pd.DataFrame(heat_map_matrix, columns=test_dataset.classes)\n",
    "heat_map_matrix.index = test_dataset.classes\n",
    "plt.figure(1, (15, 10))\n",
    "sns.heatmap(heat_map_matrix, annot=True, fmt='g')\n",
    "plt.show()"
   ]
  },
  {
   "cell_type": "code",
   "execution_count": null,
   "metadata": {},
   "outputs": [],
   "source": []
  },
  {
   "cell_type": "markdown",
   "metadata": {
    "id": "IIxHLbKcDCFA"
   },
   "source": [
    "### 2.2 Решить задачу 2.1, используя сверточную нейронную сеть. \n",
    "* Добиться значения accuracy на тестовом множестве не менее 70%.\n",
    "* Визуализировать результаты работы первого сверточного слоя"
   ]
  },
  {
   "cell_type": "code",
   "execution_count": null,
   "metadata": {},
   "outputs": [],
   "source": [
    "dataset = torchvision.datasets.CIFAR10(root='data/', download=True, transform=transforms.ToTensor())"
   ]
  },
  {
   "cell_type": "code",
   "execution_count": null,
   "metadata": {},
   "outputs": [],
   "source": [
    "transform = transforms.Compose(\n",
    "    [transforms.ToTensor(),\n",
    "     transforms.Normalize((0.5, 0.5, 0.5), (0.5, 0.5, 0.5))])\n",
    "\n",
    "batch_size = 100\n",
    "\n",
    "trainset = torchvision.datasets.CIFAR10(root='./data', train=True,\n",
    "                                        download=True, transform=transform)\n",
    "trainloader = torch.utils.data.DataLoader(trainset, batch_size=batch_size,\n",
    "                                          shuffle=True, num_workers=2)\n",
    "\n",
    "testset = torchvision.datasets.CIFAR10(root='./data', train=False,\n",
    "                                       download=True, transform=transform)\n",
    "testloader = torch.utils.data.DataLoader(testset, batch_size=batch_size,\n",
    "                                         shuffle=False, num_workers=2)\n"
   ]
  },
  {
   "cell_type": "code",
   "execution_count": null,
   "metadata": {},
   "outputs": [],
   "source": [
    "dataiter = iter(trainloader); dataiter\n",
    "images, labels = dataiter.next()"
   ]
  },
  {
   "cell_type": "code",
   "execution_count": null,
   "metadata": {},
   "outputs": [],
   "source": [
    "images, labels"
   ]
  },
  {
   "cell_type": "code",
   "execution_count": null,
   "metadata": {},
   "outputs": [],
   "source": [
    "train_batch_qty = math.ceil(len(trainset)/batch_size)\n",
    "test_batch_qty = math.ceil(len(testset)/batch_size)"
   ]
  },
  {
   "cell_type": "code",
   "execution_count": null,
   "metadata": {},
   "outputs": [],
   "source": [
    "num_epochs = 5 \n",
    "num_classes = 10\n",
    "learning_rate = 0.001"
   ]
  },
  {
   "cell_type": "code",
   "execution_count": null,
   "metadata": {},
   "outputs": [],
   "source": [
    "class CIFAR10Model(nn.Module):\n",
    "    def __init__(self): # new parameter: num_classes\n",
    "        super(CIFAR10Model, self).__init__()\n",
    "        self.layer1 = nn.Sequential( nn.Conv2d(3, 32, kernel_size=5, stride=1, padding=2), \n",
    "        nn.ReLU(), nn.MaxPool2d(kernel_size=2, stride=2)) \n",
    "        self.layer2 = nn.Sequential( nn.Conv2d(32, 64, kernel_size=5, stride=1, padding=2), \n",
    "        nn.ReLU(), nn.MaxPool2d(kernel_size=2, stride=2)) \n",
    "        self.drop_out = nn.Dropout() \n",
    "        self.fc1 = nn.Linear(8 * 8 * 64, 1000)\n",
    "        self.relu = nn.ReLU()\n",
    "        self.fc2 = nn.Linear(1000, 10)\n",
    "        \n",
    "    def forward(self, x):\n",
    "        out = self.layer1(x) \n",
    "        out = self.layer2(out) \n",
    "        out = out.reshape(out.size(0), -1) \n",
    "        out = self.drop_out(out) \n",
    "        out = self.fc1(out)\n",
    "        out = self.fc2(out) \n",
    "        return out"
   ]
  },
  {
   "cell_type": "code",
   "execution_count": null,
   "metadata": {},
   "outputs": [],
   "source": [
    "model = CIFAR10Model()\n",
    "criterion = nn.CrossEntropyLoss()\n",
    "optimizer = torch.optim.Adam(model.parameters(), lr=learning_rate)"
   ]
  },
  {
   "cell_type": "code",
   "execution_count": null,
   "metadata": {},
   "outputs": [],
   "source": [
    "total_step = len(trainloader)\n",
    "loss_list = []\n",
    "acc_list = []\n",
    "for epoch in range(num_epochs):\n",
    "    for i, (images, labels) in enumerate(trainloader):\n",
    "        # Прямой запуск\n",
    "        outputs = model(images)\n",
    "        loss = criterion(outputs, labels)\n",
    "        loss_list.append(loss.item())\n",
    "\n",
    "        # Обратное распространение и оптимизатор\n",
    "        optimizer.zero_grad()\n",
    "        loss.backward()\n",
    "        optimizer.step()\n",
    "\n",
    "        # Отслеживание точности\n",
    "        total = labels.size(0)\n",
    "        _, predicted = torch.max(outputs.data, 1)\n",
    "        correct = (predicted == labels).sum().item()\n",
    "        acc_list.append(correct / total)\n",
    "\n",
    "        if (i + 1) % 100 == 0:\n",
    "            print('Epoch [{}/{}], Step [{}/{}], Loss: {:.4f}, Accuracy: {:.2f}%'\n",
    "                  .format(epoch + 1, num_epochs, i + 1, total_step, loss.item(),\n",
    "                          (correct / total) * 100))"
   ]
  },
  {
   "cell_type": "code",
   "execution_count": null,
   "metadata": {},
   "outputs": [],
   "source": [
    "model.eval()\n",
    "with torch.no_grad():\n",
    "    correct = 0\n",
    "    total = 0\n",
    "    for images, labels in testloader:\n",
    "        outputs = model(images)\n",
    "        _, predicted = torch.max(outputs.data, 1)\n",
    "        total += labels.size(0)\n",
    "        correct += (predicted == labels).sum().item()\n",
    "\n",
    "    print('Test Accuracy of the model on the 10000 test images: {} %'.format((correct / total) * 100))"
   ]
  },
  {
   "cell_type": "markdown",
   "metadata": {
    "id": "nPg8k4YTFOgc"
   },
   "source": [
    "## 3. Загрузка изображений из внешних источников"
   ]
  },
  {
   "cell_type": "markdown",
   "metadata": {
    "id": "1hLnpe_570wd"
   },
   "source": [
    "### 3.1 Решить задачу классификации обезьян (датасет [monkey.zip](https://disk.yandex.ru/d/OxYgY4S7aR6ulQ)).\n",
    "* Загрузить архив с данными на диск\n",
    "* Создать датасет на основе файлов при помощи `torchvision.datasets.ImageFolder`\n",
    "* Преобразовать изображения к тензорами одного размера (например, 400х400). Потестировать другие преобразования из `torchvision.transforms`\n",
    "* Предложить архитектуру модели для решения задачи. Обучить модель.\n",
    "* Используя тестовое множество\n",
    "\n",
    "  * Продемонстрировать работу модели: вывести несколько изображений, указать над ними правильный класс и класс, предсказанный моделью. \n",
    "\n",
    "  * Вывести матрицу ошибок.\n",
    "\n",
    "  * Вывести значение accuracy на тестовом множестве.\n",
    "  * Добиться значения accuracy на тестовом множестве не менее 60%"
   ]
  },
  {
   "cell_type": "code",
   "execution_count": 6,
   "metadata": {},
   "outputs": [],
   "source": [
    "DATA_DIR = 'C:/Users/nabr9/Documents/monkeys'\n",
    "\n",
    "TRAIN_DIR = DATA_DIR + '/training/training/'                           \n",
    "VAL_DIR = DATA_DIR + '/validation/validation/'                             \n",
    "LABEL_FIL=DATA_DIR +\"/monkey_labels.txt\""
   ]
  },
  {
   "cell_type": "code",
   "execution_count": 7,
   "metadata": {},
   "outputs": [],
   "source": [
    "train_tfms = torchvision.transforms.Compose([\n",
    "    torchvision.transforms.Resize((100, 100)),\n",
    "    torchvision.transforms.ToTensor(), torchvision.transforms.Normalize((0.5, 0.5, 0.5), (0.5, 0.5, 0.5))])\n",
    "\n",
    "valid_tfms = torchvision.transforms.Compose([\n",
    "    torchvision.transforms.Resize((100, 100)),\n",
    "    torchvision.transforms.ToTensor(), torchvision.transforms.Normalize((0.5, 0.5, 0.5), (0.5, 0.5, 0.5))])"
   ]
  },
  {
   "cell_type": "code",
   "execution_count": 8,
   "metadata": {},
   "outputs": [],
   "source": [
    "train_ds = ImageFolder ( TRAIN_DIR , transform = train_tfms)\n",
    "val_ds = ImageFolder ( VAL_DIR , transform = valid_tfms)"
   ]
  },
  {
   "cell_type": "code",
   "execution_count": 9,
   "metadata": {},
   "outputs": [],
   "source": [
    "batch_size = 16"
   ]
  },
  {
   "cell_type": "code",
   "execution_count": 10,
   "metadata": {},
   "outputs": [],
   "source": [
    "train_dl = torch.utils.data.DataLoader(train_ds, batch_size, shuffle=True, \n",
    "                          num_workers=4, pin_memory=True)\n",
    "val_dl = torch.utils.data.DataLoader(val_ds, batch_size,\n",
    "                        num_workers=4, pin_memory=True)"
   ]
  },
  {
   "cell_type": "code",
   "execution_count": 11,
   "metadata": {},
   "outputs": [
    {
     "data": {
      "text/plain": [
       "69"
      ]
     },
     "execution_count": 11,
     "metadata": {},
     "output_type": "execute_result"
    }
   ],
   "source": [
    "math.ceil(len(train_ds)/batch_size)"
   ]
  },
  {
   "cell_type": "code",
   "execution_count": 12,
   "metadata": {},
   "outputs": [
    {
     "data": {
      "text/plain": [
       "17"
      ]
     },
     "execution_count": 12,
     "metadata": {},
     "output_type": "execute_result"
    }
   ],
   "source": [
    "math.ceil(len(val_ds)/batch_size)"
   ]
  },
  {
   "cell_type": "code",
   "execution_count": 13,
   "metadata": {},
   "outputs": [],
   "source": [
    "def train(model, device, train_dl, optimizer, total):\n",
    "    #set model in train() mode:\n",
    "    model.train()\n",
    "    \n",
    "    total_loss = 0.0\n",
    "    total_samples = 0.0\n",
    "    correct_samples = 0.0\n",
    "    \n",
    "    for i, (inputs, targets) in tqdm(enumerate(train_dl), total= total, desc='Training minibatch loop '):\n",
    "\n",
    "        \n",
    "        # Forward pass\n",
    "        outputs = model(inputs)\n",
    "        loss = criterion(outputs, targets.squeeze())\n",
    "        \n",
    "        # Backward and optimize        \n",
    "        # zero grad before new step        \n",
    "        optimizer.zero_grad()                        \n",
    "        loss.backward()\n",
    "        optimizer.step()   \n",
    "\n",
    "        # calculating the total_loss for checking\n",
    "        total_loss += loss           \n",
    "        \n",
    "        # PREDICTIONS \n",
    "        total_samples += targets.shape[0]   \n",
    "        _, predictions_indices = torch.max(outputs, 1) # dim=1 - dimension to reduce\n",
    "        correct_samples += torch.sum(predictions_indices==targets)\n",
    "\n",
    "    train_accuracy = float(correct_samples) / total_samples        \n",
    "    \n",
    "    return total_loss, train_accuracy                        "
   ]
  },
  {
   "cell_type": "code",
   "execution_count": 14,
   "metadata": {},
   "outputs": [],
   "source": [
    "# TESTING THE MODEL\n",
    "def test(model, device, test_dl, total):\n",
    "    #set model in eval() mode (it skips Dropout etc):\n",
    "    model.eval()\n",
    "    \n",
    "    total_samples = 0.0\n",
    "    correct_samples = 0.0 \n",
    "    \n",
    "    # set the requires_grad flag to false as we are in the test mode\n",
    "    with torch.no_grad():\n",
    "        for i, (inputs, targets) in tqdm(enumerate(test_dl), total=total, desc='Testing minibatch loop:'):       \n",
    "                       \n",
    "            # apply model to input data\n",
    "            outputs = model(inputs)        \n",
    "                       \n",
    "            #PREDICTIONS\n",
    "            total_samples += targets.shape[0]   \n",
    "            _, predictions_indices = torch.max(outputs, 1) # dim=1 - dimension to reduce\n",
    "            correct_samples += torch.sum(predictions_indices==targets)                    \n",
    "        \n",
    "    test_accuracy = correct_samples / total_samples        \n",
    "    \n",
    "    return test_accuracy              "
   ]
  },
  {
   "cell_type": "code",
   "execution_count": 15,
   "metadata": {},
   "outputs": [],
   "source": [
    "class MonkeyModel(nn.Module):\n",
    "    def __init__(self):\n",
    "        super(MonkeyModel, self).__init__()\n",
    "        self.layer1 = nn.Sequential(nn.Conv2d(3, 9, kernel_size=5, stride=1, padding = 1), \n",
    "        nn.ReLU(), nn.MaxPool2d(kernel_size=2, stride=2))\n",
    "        self.layer2 = nn.Sequential(nn.Conv2d(9, 16, kernel_size=5, stride=1, padding = 1), \n",
    "        nn.ReLU(), nn.MaxPool2d(kernel_size=2, stride=2))\n",
    "        self.layer3 = nn.Sequential( nn.Conv2d(16, 32, kernel_size=5, stride=1, padding = 1),\n",
    "        nn.ReLU(), nn.MaxPool2d(kernel_size=2, stride=2))\n",
    "        self.drop_out = nn.Dropout()\n",
    "        self.fc1 = nn.Linear(3200, 1000)\n",
    "        self.fc2 = nn.Linear(1000, 10)\n",
    "        \n",
    "    def forward(self, x):\n",
    "        out = self.layer1(x) \n",
    "        out = self.layer2(out)\n",
    "        out = self.layer3(out)\n",
    "        out = out.reshape(out.size(0), -1)\n",
    "        out = self.drop_out(out)\n",
    "        out = self.fc1(out)\n",
    "        out = self.fc2(out)\n",
    "        return out"
   ]
  },
  {
   "cell_type": "code",
   "execution_count": 16,
   "metadata": {},
   "outputs": [],
   "source": [
    "num_epochs = 15\n",
    "num_classes = 10\n",
    "learning_rate = 0.001"
   ]
  },
  {
   "cell_type": "code",
   "execution_count": 17,
   "metadata": {},
   "outputs": [
    {
     "name": "stdout",
     "output_type": "stream",
     "text": [
      "Requirement already satisfied: GPUtil in c:\\users\\nabr9\\anaconda3\\lib\\site-packages (1.4.0)\n",
      "Initial GPU Usage\n",
      "| ID | GPU | MEM |\n",
      "------------------\n",
      "|  0 |  2% | 10% |\n",
      "GPU Usage after emptying the cache\n",
      "| ID | GPU | MEM |\n",
      "------------------\n",
      "|  0 |  2% | 11% |\n"
     ]
    }
   ],
   "source": [
    "!pip install GPUtil\n",
    "\n",
    "import torch\n",
    "from GPUtil import showUtilization as gpu_usage\n",
    "from numba import cuda\n",
    "\n",
    "def free_gpu_cache():\n",
    "    print(\"Initial GPU Usage\")\n",
    "    gpu_usage()                             \n",
    "\n",
    "    torch.cuda.empty_cache()\n",
    "\n",
    "    cuda.select_device(0)\n",
    "    cuda.close()\n",
    "    cuda.select_device(0)\n",
    "\n",
    "    print(\"GPU Usage after emptying the cache\")\n",
    "    gpu_usage()\n",
    "\n",
    "free_gpu_cache() "
   ]
  },
  {
   "cell_type": "code",
   "execution_count": 18,
   "metadata": {},
   "outputs": [
    {
     "data": {
      "text/plain": [
       "device(type='cuda')"
      ]
     },
     "execution_count": 18,
     "metadata": {},
     "output_type": "execute_result"
    }
   ],
   "source": [
    "def get_device():\n",
    "    if torch.cuda.is_available():\n",
    "        return torch.device(\"cuda\")\n",
    "    else:\n",
    "        return torch.device(\"cpu\")\n",
    "        \n",
    "def to_device(data, device):\n",
    "    if isinstance(data, (list, tuple)):\n",
    "        return [to_device(x, device) for x in data]\n",
    "    return data.to(device, non_blocking=True)\n",
    "\n",
    "class DeviceDataLoader():\n",
    "    def __init__(self, dl, device):\n",
    "        self.dl = dl\n",
    "        self.device = device\n",
    "        \n",
    "    def __iter__(self):\n",
    "        for x in self.dl:\n",
    "            yield to_device(x, self.device)\n",
    "            \n",
    "    def __len__(self):\n",
    "        return len(self.dl)\n",
    "    \n",
    "device = get_device()\n",
    "device"
   ]
  },
  {
   "cell_type": "code",
   "execution_count": 19,
   "metadata": {},
   "outputs": [],
   "source": [
    "train_dl = DeviceDataLoader(train_dl, device)\n",
    "val_dl = DeviceDataLoader(val_dl, device)"
   ]
  },
  {
   "cell_type": "code",
   "execution_count": 20,
   "metadata": {},
   "outputs": [],
   "source": [
    "model = MonkeyModel()\n",
    "model = to_device(model, device)"
   ]
  },
  {
   "cell_type": "code",
   "execution_count": 21,
   "metadata": {},
   "outputs": [],
   "source": [
    "criterion = nn.CrossEntropyLoss()\n",
    "optimizer = torch.optim.Adam(model.parameters(), lr=learning_rate)   "
   ]
  },
  {
   "cell_type": "code",
   "execution_count": 22,
   "metadata": {},
   "outputs": [
    {
     "data": {
      "application/vnd.jupyter.widget-view+json": {
       "model_id": "e002eba764914caabdc8d1d0f17f3ca4",
       "version_major": 2,
       "version_minor": 0
      },
      "text/plain": [
       "Training minibatch loop :   0%|          | 0/69 [00:00<?, ?it/s]"
      ]
     },
     "metadata": {},
     "output_type": "display_data"
    },
    {
     "data": {
      "application/vnd.jupyter.widget-view+json": {
       "model_id": "81044e961a174e53a16c8aa6f92f7657",
       "version_major": 2,
       "version_minor": 0
      },
      "text/plain": [
       "Testing minibatch loop::   0%|          | 0/17 [00:00<?, ?it/s]"
      ]
     },
     "metadata": {},
     "output_type": "display_data"
    },
    {
     "name": "stdout",
     "output_type": "stream",
     "text": [
      "Epoch [1/15], Loss: 131.4127, Train acc: 0.3099, Test acc: 0.4485\n"
     ]
    },
    {
     "data": {
      "application/vnd.jupyter.widget-view+json": {
       "model_id": "b5a1bdc9ab9449c8ad20ad8f368b4393",
       "version_major": 2,
       "version_minor": 0
      },
      "text/plain": [
       "Training minibatch loop :   0%|          | 0/69 [00:00<?, ?it/s]"
      ]
     },
     "metadata": {},
     "output_type": "display_data"
    },
    {
     "data": {
      "application/vnd.jupyter.widget-view+json": {
       "model_id": "3f639c9c67e64a2ebbcd05c007b40b49",
       "version_major": 2,
       "version_minor": 0
      },
      "text/plain": [
       "Testing minibatch loop::   0%|          | 0/17 [00:00<?, ?it/s]"
      ]
     },
     "metadata": {},
     "output_type": "display_data"
    },
    {
     "name": "stdout",
     "output_type": "stream",
     "text": [
      "Epoch [2/15], Loss: 101.6406, Train acc: 0.4722, Test acc: 0.4632\n"
     ]
    },
    {
     "data": {
      "application/vnd.jupyter.widget-view+json": {
       "model_id": "47bc650cac10417babae38dc01317505",
       "version_major": 2,
       "version_minor": 0
      },
      "text/plain": [
       "Training minibatch loop :   0%|          | 0/69 [00:00<?, ?it/s]"
      ]
     },
     "metadata": {},
     "output_type": "display_data"
    },
    {
     "data": {
      "application/vnd.jupyter.widget-view+json": {
       "model_id": "e22b7e97ea094574a8a202d8b2246563",
       "version_major": 2,
       "version_minor": 0
      },
      "text/plain": [
       "Testing minibatch loop::   0%|          | 0/17 [00:00<?, ?it/s]"
      ]
     },
     "metadata": {},
     "output_type": "display_data"
    },
    {
     "name": "stdout",
     "output_type": "stream",
     "text": [
      "Epoch [3/15], Loss: 86.3110, Train acc: 0.5542, Test acc: 0.5662\n"
     ]
    },
    {
     "data": {
      "application/vnd.jupyter.widget-view+json": {
       "model_id": "34e8fb7c19d14bbd9884155eae936461",
       "version_major": 2,
       "version_minor": 0
      },
      "text/plain": [
       "Training minibatch loop :   0%|          | 0/69 [00:00<?, ?it/s]"
      ]
     },
     "metadata": {},
     "output_type": "display_data"
    },
    {
     "data": {
      "application/vnd.jupyter.widget-view+json": {
       "model_id": "d74be8ecda30404692ea7379458562c6",
       "version_major": 2,
       "version_minor": 0
      },
      "text/plain": [
       "Testing minibatch loop::   0%|          | 0/17 [00:00<?, ?it/s]"
      ]
     },
     "metadata": {},
     "output_type": "display_data"
    },
    {
     "name": "stdout",
     "output_type": "stream",
     "text": [
      "Epoch [4/15], Loss: 76.7256, Train acc: 0.6217, Test acc: 0.5257\n"
     ]
    },
    {
     "data": {
      "application/vnd.jupyter.widget-view+json": {
       "model_id": "87adb430584c4a0ba7005c07fbdc0945",
       "version_major": 2,
       "version_minor": 0
      },
      "text/plain": [
       "Training minibatch loop :   0%|          | 0/69 [00:00<?, ?it/s]"
      ]
     },
     "metadata": {},
     "output_type": "display_data"
    },
    {
     "data": {
      "application/vnd.jupyter.widget-view+json": {
       "model_id": "8370fc66eb6543a88d3fb0e5cefc96a2",
       "version_major": 2,
       "version_minor": 0
      },
      "text/plain": [
       "Testing minibatch loop::   0%|          | 0/17 [00:00<?, ?it/s]"
      ]
     },
     "metadata": {},
     "output_type": "display_data"
    },
    {
     "name": "stdout",
     "output_type": "stream",
     "text": [
      "Epoch [5/15], Loss: 66.5421, Train acc: 0.6773, Test acc: 0.6213\n"
     ]
    },
    {
     "data": {
      "application/vnd.jupyter.widget-view+json": {
       "model_id": "7a7538158b984fb591cc56b7b27601aa",
       "version_major": 2,
       "version_minor": 0
      },
      "text/plain": [
       "Training minibatch loop :   0%|          | 0/69 [00:00<?, ?it/s]"
      ]
     },
     "metadata": {},
     "output_type": "display_data"
    },
    {
     "data": {
      "application/vnd.jupyter.widget-view+json": {
       "model_id": "8564f02dcf4e40f6a883c1e7b3ba607a",
       "version_major": 2,
       "version_minor": 0
      },
      "text/plain": [
       "Testing minibatch loop::   0%|          | 0/17 [00:00<?, ?it/s]"
      ]
     },
     "metadata": {},
     "output_type": "display_data"
    },
    {
     "name": "stdout",
     "output_type": "stream",
     "text": [
      "Epoch [6/15], Loss: 53.2609, Train acc: 0.7366, Test acc: 0.5441\n"
     ]
    },
    {
     "data": {
      "application/vnd.jupyter.widget-view+json": {
       "model_id": "e008a77ea80245ee9633118cc702489e",
       "version_major": 2,
       "version_minor": 0
      },
      "text/plain": [
       "Training minibatch loop :   0%|          | 0/69 [00:00<?, ?it/s]"
      ]
     },
     "metadata": {},
     "output_type": "display_data"
    },
    {
     "data": {
      "application/vnd.jupyter.widget-view+json": {
       "model_id": "22c2e459f6af47b5ae164dab0f4e97a0",
       "version_major": 2,
       "version_minor": 0
      },
      "text/plain": [
       "Testing minibatch loop::   0%|          | 0/17 [00:00<?, ?it/s]"
      ]
     },
     "metadata": {},
     "output_type": "display_data"
    },
    {
     "name": "stdout",
     "output_type": "stream",
     "text": [
      "Epoch [7/15], Loss: 47.6544, Train acc: 0.7566, Test acc: 0.5588\n"
     ]
    },
    {
     "data": {
      "application/vnd.jupyter.widget-view+json": {
       "model_id": "38d296f5dd6d48a09ffcb404edf04298",
       "version_major": 2,
       "version_minor": 0
      },
      "text/plain": [
       "Training minibatch loop :   0%|          | 0/69 [00:00<?, ?it/s]"
      ]
     },
     "metadata": {},
     "output_type": "display_data"
    },
    {
     "data": {
      "application/vnd.jupyter.widget-view+json": {
       "model_id": "f6846d33573d4e71a06f3a9dd7f17cdd",
       "version_major": 2,
       "version_minor": 0
      },
      "text/plain": [
       "Testing minibatch loop::   0%|          | 0/17 [00:00<?, ?it/s]"
      ]
     },
     "metadata": {},
     "output_type": "display_data"
    },
    {
     "name": "stdout",
     "output_type": "stream",
     "text": [
      "Epoch [8/15], Loss: 41.5808, Train acc: 0.7867, Test acc: 0.6287\n"
     ]
    },
    {
     "data": {
      "application/vnd.jupyter.widget-view+json": {
       "model_id": "798987f04f5b4c868e8fde24cb97a5b9",
       "version_major": 2,
       "version_minor": 0
      },
      "text/plain": [
       "Training minibatch loop :   0%|          | 0/69 [00:00<?, ?it/s]"
      ]
     },
     "metadata": {},
     "output_type": "display_data"
    },
    {
     "data": {
      "application/vnd.jupyter.widget-view+json": {
       "model_id": "82c8f9cffd4b4541b96529dfdfcec027",
       "version_major": 2,
       "version_minor": 0
      },
      "text/plain": [
       "Testing minibatch loop::   0%|          | 0/17 [00:00<?, ?it/s]"
      ]
     },
     "metadata": {},
     "output_type": "display_data"
    },
    {
     "name": "stdout",
     "output_type": "stream",
     "text": [
      "Epoch [9/15], Loss: 34.8441, Train acc: 0.8122, Test acc: 0.5846\n"
     ]
    },
    {
     "data": {
      "application/vnd.jupyter.widget-view+json": {
       "model_id": "ef79d87e0432418698aec64e3d0f8333",
       "version_major": 2,
       "version_minor": 0
      },
      "text/plain": [
       "Training minibatch loop :   0%|          | 0/69 [00:00<?, ?it/s]"
      ]
     },
     "metadata": {},
     "output_type": "display_data"
    },
    {
     "data": {
      "application/vnd.jupyter.widget-view+json": {
       "model_id": "6f90ae1f8dc7475996133e8bb1562e49",
       "version_major": 2,
       "version_minor": 0
      },
      "text/plain": [
       "Testing minibatch loop::   0%|          | 0/17 [00:00<?, ?it/s]"
      ]
     },
     "metadata": {},
     "output_type": "display_data"
    },
    {
     "name": "stdout",
     "output_type": "stream",
     "text": [
      "Epoch [10/15], Loss: 30.3261, Train acc: 0.8478, Test acc: 0.5735\n"
     ]
    },
    {
     "data": {
      "application/vnd.jupyter.widget-view+json": {
       "model_id": "3c6ce31010cf4768a55cb927878b508d",
       "version_major": 2,
       "version_minor": 0
      },
      "text/plain": [
       "Training minibatch loop :   0%|          | 0/69 [00:00<?, ?it/s]"
      ]
     },
     "metadata": {},
     "output_type": "display_data"
    },
    {
     "data": {
      "application/vnd.jupyter.widget-view+json": {
       "model_id": "88f19411866243c7bc4e9eab6e46a2d1",
       "version_major": 2,
       "version_minor": 0
      },
      "text/plain": [
       "Testing minibatch loop::   0%|          | 0/17 [00:00<?, ?it/s]"
      ]
     },
     "metadata": {},
     "output_type": "display_data"
    },
    {
     "name": "stdout",
     "output_type": "stream",
     "text": [
      "Epoch [11/15], Loss: 28.5383, Train acc: 0.8541, Test acc: 0.6103\n"
     ]
    },
    {
     "data": {
      "application/vnd.jupyter.widget-view+json": {
       "model_id": "a31047e04a0645249d96c641c7696154",
       "version_major": 2,
       "version_minor": 0
      },
      "text/plain": [
       "Training minibatch loop :   0%|          | 0/69 [00:00<?, ?it/s]"
      ]
     },
     "metadata": {},
     "output_type": "display_data"
    },
    {
     "data": {
      "application/vnd.jupyter.widget-view+json": {
       "model_id": "3d63bef68c9d43e2a73fd9b06ad0c26c",
       "version_major": 2,
       "version_minor": 0
      },
      "text/plain": [
       "Testing minibatch loop::   0%|          | 0/17 [00:00<?, ?it/s]"
      ]
     },
     "metadata": {},
     "output_type": "display_data"
    },
    {
     "name": "stdout",
     "output_type": "stream",
     "text": [
      "Epoch [12/15], Loss: 20.7399, Train acc: 0.8970, Test acc: 0.6213\n"
     ]
    },
    {
     "data": {
      "application/vnd.jupyter.widget-view+json": {
       "model_id": "cc50dfa4bb7c404bab261470b9181c8d",
       "version_major": 2,
       "version_minor": 0
      },
      "text/plain": [
       "Training minibatch loop :   0%|          | 0/69 [00:00<?, ?it/s]"
      ]
     },
     "metadata": {},
     "output_type": "display_data"
    },
    {
     "data": {
      "application/vnd.jupyter.widget-view+json": {
       "model_id": "d1aabecdd7694cfd9051d368e2480c9b",
       "version_major": 2,
       "version_minor": 0
      },
      "text/plain": [
       "Testing minibatch loop::   0%|          | 0/17 [00:00<?, ?it/s]"
      ]
     },
     "metadata": {},
     "output_type": "display_data"
    },
    {
     "name": "stdout",
     "output_type": "stream",
     "text": [
      "Epoch [13/15], Loss: 23.8917, Train acc: 0.8897, Test acc: 0.6324\n"
     ]
    },
    {
     "data": {
      "application/vnd.jupyter.widget-view+json": {
       "model_id": "6971894aea0b4a768b85eb727b9ea6ba",
       "version_major": 2,
       "version_minor": 0
      },
      "text/plain": [
       "Training minibatch loop :   0%|          | 0/69 [00:00<?, ?it/s]"
      ]
     },
     "metadata": {},
     "output_type": "display_data"
    },
    {
     "data": {
      "application/vnd.jupyter.widget-view+json": {
       "model_id": "db07b48d2bcf41d883c96a511c2799ef",
       "version_major": 2,
       "version_minor": 0
      },
      "text/plain": [
       "Testing minibatch loop::   0%|          | 0/17 [00:00<?, ?it/s]"
      ]
     },
     "metadata": {},
     "output_type": "display_data"
    },
    {
     "name": "stdout",
     "output_type": "stream",
     "text": [
      "Epoch [14/15], Loss: 14.3577, Train acc: 0.9253, Test acc: 0.6213\n"
     ]
    },
    {
     "data": {
      "application/vnd.jupyter.widget-view+json": {
       "model_id": "97d9fb98f09a4e0e98aec46833df5535",
       "version_major": 2,
       "version_minor": 0
      },
      "text/plain": [
       "Training minibatch loop :   0%|          | 0/69 [00:00<?, ?it/s]"
      ]
     },
     "metadata": {},
     "output_type": "display_data"
    },
    {
     "data": {
      "application/vnd.jupyter.widget-view+json": {
       "model_id": "4c7a6593807646d389d9314035aa283c",
       "version_major": 2,
       "version_minor": 0
      },
      "text/plain": [
       "Testing minibatch loop::   0%|          | 0/17 [00:00<?, ?it/s]"
      ]
     },
     "metadata": {},
     "output_type": "display_data"
    },
    {
     "name": "stdout",
     "output_type": "stream",
     "text": [
      "Epoch [15/15], Loss: 17.2514, Train acc: 0.9134, Test acc: 0.6434\n",
      "Wall time: 3min 33s\n"
     ]
    }
   ],
   "source": [
    "%%time\n",
    "for_losses = []\n",
    "n_total_steps = len(train_dl)\n",
    "\n",
    "\n",
    "for epoch in range(num_epochs):\n",
    "    total_loss, train_accuracy = train(model, device, train_dl, optimizer, total = math.ceil(len(train_ds)/batch_size))\n",
    "    test_accuracy = test(model, device, val_dl, total = math.ceil(len(val_ds)/batch_size))\n",
    "    for_losses.append(total_loss.cpu().detach().numpy())\n",
    "    print (f'Epoch [{epoch+1}/{num_epochs}], Loss: {total_loss:.4f}, Train acc: {train_accuracy:.4f}, Test acc: {test_accuracy:.4f}')                                    "
   ]
  },
  {
   "cell_type": "code",
   "execution_count": 23,
   "metadata": {},
   "outputs": [],
   "source": [
    "def prediction(images, model):\n",
    "    xb = to_device(images.unsqueeze(0), device)\n",
    "    out = model(xb)\n",
    "    _, preds = torch.max(out, dim=1)\n",
    "    prediction = list(categories)[preds[0].item()]\n",
    "    return prediction"
   ]
  },
  {
   "cell_type": "code",
   "execution_count": 24,
   "metadata": {},
   "outputs": [],
   "source": [
    "categories = {\n",
    "    \n",
    "    \"mantled_howler\":0,\n",
    "    \"patas_monkey\":1,\n",
    "    \"bald_uakari\":2,\n",
    "    \"japanese_macaque\":3,\n",
    "    \"pygmy_marmoset\":4,\n",
    "    \"white_headed_capuchin\":5,\n",
    "    \"silvery_marmoset\":6,\n",
    "    \"common_squirrel_monkey\":7,\n",
    "    \"black_headed_night_monkey\":8,\n",
    "    \"nilgiri_langur\":9\n",
    "}"
   ]
  },
  {
   "cell_type": "code",
   "execution_count": 25,
   "metadata": {},
   "outputs": [
    {
     "name": "stderr",
     "output_type": "stream",
     "text": [
      "Clipping input data to the valid range for imshow with RGB data ([0..1] for floats or [0..255] for integers).\n"
     ]
    },
    {
     "name": "stdout",
     "output_type": "stream",
     "text": [
      "Label: mantled_howler\n",
      "Prediction: mantled_howler\n"
     ]
    },
    {
     "data": {
      "text/plain": [
       "<matplotlib.image.AxesImage at 0x17b23c4bbb0>"
      ]
     },
     "execution_count": 25,
     "metadata": {},
     "output_type": "execute_result"
    },
    {
     "data": {
      "image/png": "[encoded data removed]",
      "text/plain": [
       "<Figure size 432x288 with 1 Axes>"
      ]
     },
     "metadata": {
      "needs_background": "light"
     },
     "output_type": "display_data"
    }
   ],
   "source": [
    "images, labels = val_ds[20]\n",
    "print(\"Label:\", list(categories)[labels])\n",
    "print(\"Prediction:\", prediction(images, model))\n",
    "plt.imshow(images.permute(1,2,0))"
   ]
  },
  {
   "cell_type": "code",
   "execution_count": 26,
   "metadata": {},
   "outputs": [
    {
     "name": "stderr",
     "output_type": "stream",
     "text": [
      "Clipping input data to the valid range for imshow with RGB data ([0..1] for floats or [0..255] for integers).\n"
     ]
    },
    {
     "name": "stdout",
     "output_type": "stream",
     "text": [
      "Label: common_squirrel_monkey\n",
      "Prediction: common_squirrel_monkey\n"
     ]
    },
    {
     "data": {
      "text/plain": [
       "<matplotlib.image.AxesImage at 0x17b2715a100>"
      ]
     },
     "execution_count": 26,
     "metadata": {},
     "output_type": "execute_result"
    },
    {
     "data": {
      "image/png": "[encoded data removed]",
      "text/plain": [
       "<Figure size 432x288 with 1 Axes>"
      ]
     },
     "metadata": {
      "needs_background": "light"
     },
     "output_type": "display_data"
    }
   ],
   "source": [
    "images, labels = val_ds[200]\n",
    "print(\"Label:\", list(categories)[labels])\n",
    "print(\"Prediction:\", prediction(images, model))\n",
    "plt.imshow(images.permute(1,2,0))"
   ]
  },
  {
   "cell_type": "markdown",
   "metadata": {
    "id": "5-tMy4qJ9j1k"
   },
   "source": [
    "### 3.2 Решить задачу классификации собак и кошек (датасет [cats_dogs.zip](https://disk.yandex.ru/d/wQtt5O1JF9ctnA)).\n",
    "* Загрузить архив с данными на диск\n",
    "* Создать датасет на основе файлов при помощи `torchvision.datasets.ImageFolder`\n",
    "* Преобразовать изображения к тензорами одного размера (например, 400х400). Потестировать другие преобразования из `torchvision.transforms`\n",
    "* Предложить архитектуру модели для решения задачи. Обучить модель.\n",
    "* Используя тестовое множество\n",
    "\n",
    "  * Продемонстрировать работу модели: вывести несколько изображений, указать над ними правильный класс и класс, предсказанный моделью. \n",
    "\n",
    "  * Вывести матрицу ошибок.\n",
    "\n",
    "  * Вывести значение accuracy на тестовом множестве.\n",
    "  * Добиться значения accuracy на тестовом множестве не менее 80%"
   ]
  },
  {
   "cell_type": "code",
   "execution_count": 2,
   "metadata": {},
   "outputs": [],
   "source": [
    "DATA_DIR = 'C:/Users/nabr9/Documents/catsdogs'\n",
    "\n",
    "TRAIN_DIR = DATA_DIR + '/train/'"
   ]
  },
  {
   "cell_type": "code",
   "execution_count": null,
   "metadata": {},
   "outputs": [],
   "source": [
    "# def load_images_from_folder(folder,only_path = False, label = \"\"):\n",
    "#     if only_path == False:\n",
    "#         images = []\n",
    "#         file_name=[]\n",
    "#         for filename in os.listdir(folder):\n",
    "#             img = plt.imread(os.path.join(folder,filename))\n",
    "            \n",
    "#             if img is not None:\n",
    "#                 end=filename.find(\".\")\n",
    "#                 file_name.append(file[0:end])\n",
    "#                 images.append(img)\n",
    "                \n",
    "#         return images, file_name\n",
    "#     else:\n",
    "#         path = []\n",
    "#         for filename in os.listdir(folder):\n",
    "#             img_path = os.path.join(folder,filename)\n",
    "#             if img_path is not None:\n",
    "#                 path.append([label,img_path])\n",
    "#         return path"
   ]
  },
  {
   "cell_type": "code",
   "execution_count": null,
   "metadata": {},
   "outputs": [],
   "source": [
    "# images = []\n",
    "# path = TRAIN_DIR\n",
    "# for f in os.listdir(path):\n",
    "#     if \"jpg\" in os.listdir(path+f)[0]:\n",
    "#         images += load_images_from_folder(path+f,True,label = f)\n",
    "      \n",
    "#     else: \n",
    "#         for d in os.listdir(path+f):\n",
    "#             images += load_images_from_folder(path+f+\"/\"+d,True,label = f)\n",
    "            \n",
    "                        \n",
    "# # Create a dataframe with the paths and the label for each monkey species\n",
    "# train_df = pd.DataFrame(images, columns = [\"animal_class\", \"path_img\"])\n",
    "# train_len=len(train_df[\"path_img\"])\n"
   ]
  },
  {
   "cell_type": "code",
   "execution_count": null,
   "metadata": {},
   "outputs": [],
   "source": [
    "# train_df"
   ]
  },
  {
   "cell_type": "code",
   "execution_count": 3,
   "metadata": {},
   "outputs": [],
   "source": [
    "train_tfms = torchvision.transforms.Compose([\n",
    "    torchvision.transforms.Resize((100, 100)),\n",
    "    torchvision.transforms.ToTensor(), torchvision.transforms.Normalize((0.5, 0.5, 0.5), (0.5, 0.5, 0.5))])\n",
    "\n",
    "valid_tfms = torchvision.transforms.Compose([\n",
    "    torchvision.transforms.Resize((100, 100)),\n",
    "    torchvision.transforms.ToTensor(), torchvision.transforms.Normalize((0.5, 0.5, 0.5), (0.5, 0.5, 0.5))])"
   ]
  },
  {
   "cell_type": "code",
   "execution_count": 4,
   "metadata": {},
   "outputs": [],
   "source": [
    "train_ds = ImageFolder (TRAIN_DIR , transform = train_tfms)"
   ]
  },
  {
   "cell_type": "code",
   "execution_count": 5,
   "metadata": {},
   "outputs": [],
   "source": [
    "test_set_size = int(len(train_ds) * 0.8)\n",
    "valid_set_size = len(train_ds) - test_set_size\n",
    "_, valid_ds = torch.utils.data.random_split(train_ds, [test_set_size, valid_set_size])"
   ]
  },
  {
   "cell_type": "code",
   "execution_count": 6,
   "metadata": {},
   "outputs": [],
   "source": [
    "batch_size = 16"
   ]
  },
  {
   "cell_type": "code",
   "execution_count": 7,
   "metadata": {},
   "outputs": [],
   "source": [
    "train_dl = torch.utils.data.DataLoader(train_ds, batch_size, shuffle=True, \n",
    "                          num_workers=4, pin_memory=True)\n",
    "val_dl = torch.utils.data.DataLoader(valid_ds, batch_size,\n",
    "                        num_workers=4, pin_memory=True)"
   ]
  },
  {
   "cell_type": "code",
   "execution_count": 8,
   "metadata": {},
   "outputs": [
    {
     "data": {
      "text/plain": [
       "1563"
      ]
     },
     "execution_count": 8,
     "metadata": {},
     "output_type": "execute_result"
    }
   ],
   "source": [
    "math.ceil(len(train_ds)/batch_size)"
   ]
  },
  {
   "cell_type": "code",
   "execution_count": 9,
   "metadata": {},
   "outputs": [
    {
     "data": {
      "text/plain": [
       "313"
      ]
     },
     "execution_count": 9,
     "metadata": {},
     "output_type": "execute_result"
    }
   ],
   "source": [
    "math.ceil(len(valid_ds)/batch_size)"
   ]
  },
  {
   "cell_type": "code",
   "execution_count": 17,
   "metadata": {},
   "outputs": [],
   "source": [
    "class DogsCatsModel(nn.Module):\n",
    "    def __init__(self):\n",
    "        super(DogsCatsModel, self).__init__()\n",
    "        self.layer1 = nn.Sequential(nn.Conv2d(3, 9, kernel_size=5, stride=1, padding = 1), \n",
    "        nn.ReLU(), nn.MaxPool2d(kernel_size=2, stride=2))\n",
    "        self.layer2 = nn.Sequential(nn.Conv2d(9, 16, kernel_size=5, stride=1, padding = 1), \n",
    "        nn.ReLU(), nn.MaxPool2d(kernel_size=2, stride=2))\n",
    "        self.layer3 = nn.Sequential( nn.Conv2d(16, 32, kernel_size=5, stride=1, padding = 1),\n",
    "        nn.ReLU(), nn.MaxPool2d(kernel_size=2, stride=2))\n",
    "        self.drop_out = nn.Dropout()\n",
    "        self.fc1 = nn.Linear(3200, 1000)\n",
    "        self.fc2 = nn.Linear(1000, 2)\n",
    "        \n",
    "    def forward(self, x):\n",
    "        out = self.layer1(x) \n",
    "        out = self.layer2(out)\n",
    "        out = self.layer3(out)\n",
    "        out = out.reshape(out.size(0), -1)\n",
    "        out = self.drop_out(out)\n",
    "        out = self.fc1(out)\n",
    "        out = self.fc2(out)\n",
    "        return out"
   ]
  },
  {
   "cell_type": "code",
   "execution_count": 13,
   "metadata": {},
   "outputs": [],
   "source": [
    "num_epochs = 10\n",
    "num_classes = 2\n",
    "learning_rate = 0.001"
   ]
  },
  {
   "cell_type": "code",
   "execution_count": null,
   "metadata": {},
   "outputs": [],
   "source": [
    "!pip install GPUtil\n",
    "\n",
    "import torch\n",
    "from GPUtil import showUtilization as gpu_usage\n",
    "from numba import cuda\n",
    "\n",
    "def free_gpu_cache():\n",
    "    print(\"Initial GPU Usage\")\n",
    "    gpu_usage()                             \n",
    "\n",
    "    torch.cuda.empty_cache()\n",
    "\n",
    "    cuda.select_device(0)\n",
    "    cuda.close()\n",
    "    cuda.select_device(0)\n",
    "\n",
    "    print(\"GPU Usage after emptying the cache\")\n",
    "    gpu_usage()\n",
    "\n",
    "free_gpu_cache() "
   ]
  },
  {
   "cell_type": "code",
   "execution_count": 15,
   "metadata": {},
   "outputs": [],
   "source": [
    "train_dl = DeviceDataLoader(train_dl, device)\n",
    "val_dl = DeviceDataLoader(val_dl, device)"
   ]
  },
  {
   "cell_type": "code",
   "execution_count": 18,
   "metadata": {},
   "outputs": [],
   "source": [
    "model = DogsCatsModel()\n",
    "model = to_device(model, device)"
   ]
  },
  {
   "cell_type": "code",
   "execution_count": 19,
   "metadata": {},
   "outputs": [],
   "source": [
    "criterion = nn.CrossEntropyLoss()\n",
    "optimizer = torch.optim.Adam(model.parameters(), lr=learning_rate)   "
   ]
  },
  {
   "cell_type": "code",
   "execution_count": 20,
   "metadata": {},
   "outputs": [
    {
     "data": {
      "application/vnd.jupyter.widget-view+json": {
       "model_id": "91b5fd58fc5d4d79841bbf170b514295",
       "version_major": 2,
       "version_minor": 0
      },
      "text/plain": [
       "Training minibatch loop :   0%|          | 0/1563 [00:00<?, ?it/s]"
      ]
     },
     "metadata": {},
     "output_type": "display_data"
    },
    {
     "data": {
      "application/vnd.jupyter.widget-view+json": {
       "model_id": "0e8ea92fa6574d1e8cbe8f60236fb21b",
       "version_major": 2,
       "version_minor": 0
      },
      "text/plain": [
       "Testing minibatch loop::   0%|          | 0/313 [00:00<?, ?it/s]"
      ]
     },
     "metadata": {},
     "output_type": "display_data"
    },
    {
     "name": "stdout",
     "output_type": "stream",
     "text": [
      "Epoch [1/10], Loss: 1000.8884, Train acc: 0.6296, Test acc: 0.7206\n"
     ]
    },
    {
     "data": {
      "application/vnd.jupyter.widget-view+json": {
       "model_id": "ca2b5d88f948467b96d1f742a0217aee",
       "version_major": 2,
       "version_minor": 0
      },
      "text/plain": [
       "Training minibatch loop :   0%|          | 0/1563 [00:00<?, ?it/s]"
      ]
     },
     "metadata": {},
     "output_type": "display_data"
    },
    {
     "data": {
      "application/vnd.jupyter.widget-view+json": {
       "model_id": "0714121d98794fd8be1006a8a6f6859a",
       "version_major": 2,
       "version_minor": 0
      },
      "text/plain": [
       "Testing minibatch loop::   0%|          | 0/313 [00:00<?, ?it/s]"
      ]
     },
     "metadata": {},
     "output_type": "display_data"
    },
    {
     "name": "stdout",
     "output_type": "stream",
     "text": [
      "Epoch [2/10], Loss: 855.7239, Train acc: 0.7244, Test acc: 0.7738\n"
     ]
    },
    {
     "data": {
      "application/vnd.jupyter.widget-view+json": {
       "model_id": "16c00911b942454083d5e93bc3e704c6",
       "version_major": 2,
       "version_minor": 0
      },
      "text/plain": [
       "Training minibatch loop :   0%|          | 0/1563 [00:00<?, ?it/s]"
      ]
     },
     "metadata": {},
     "output_type": "display_data"
    },
    {
     "data": {
      "application/vnd.jupyter.widget-view+json": {
       "model_id": "713398749834431da8600a756811a2eb",
       "version_major": 2,
       "version_minor": 0
      },
      "text/plain": [
       "Testing minibatch loop::   0%|          | 0/313 [00:00<?, ?it/s]"
      ]
     },
     "metadata": {},
     "output_type": "display_data"
    },
    {
     "name": "stdout",
     "output_type": "stream",
     "text": [
      "Epoch [3/10], Loss: 766.5944, Train acc: 0.7668, Test acc: 0.7992\n"
     ]
    },
    {
     "data": {
      "application/vnd.jupyter.widget-view+json": {
       "model_id": "9f2ca82f1b204c4787b9fe22724e41a8",
       "version_major": 2,
       "version_minor": 0
      },
      "text/plain": [
       "Training minibatch loop :   0%|          | 0/1563 [00:00<?, ?it/s]"
      ]
     },
     "metadata": {},
     "output_type": "display_data"
    },
    {
     "data": {
      "application/vnd.jupyter.widget-view+json": {
       "model_id": "885fb1ca147442a1bf71439e7a766e0f",
       "version_major": 2,
       "version_minor": 0
      },
      "text/plain": [
       "Testing minibatch loop::   0%|          | 0/313 [00:00<?, ?it/s]"
      ]
     },
     "metadata": {},
     "output_type": "display_data"
    },
    {
     "name": "stdout",
     "output_type": "stream",
     "text": [
      "Epoch [4/10], Loss: 721.3104, Train acc: 0.7817, Test acc: 0.8204\n"
     ]
    },
    {
     "data": {
      "application/vnd.jupyter.widget-view+json": {
       "model_id": "c088c71c215e4f7f8a09dad29a280143",
       "version_major": 2,
       "version_minor": 0
      },
      "text/plain": [
       "Training minibatch loop :   0%|          | 0/1563 [00:00<?, ?it/s]"
      ]
     },
     "metadata": {},
     "output_type": "display_data"
    },
    {
     "data": {
      "application/vnd.jupyter.widget-view+json": {
       "model_id": "be15628afa3546b6bc7d9d77c2f63d1a",
       "version_major": 2,
       "version_minor": 0
      },
      "text/plain": [
       "Testing minibatch loop::   0%|          | 0/313 [00:00<?, ?it/s]"
      ]
     },
     "metadata": {},
     "output_type": "display_data"
    },
    {
     "name": "stdout",
     "output_type": "stream",
     "text": [
      "Epoch [5/10], Loss: 694.3309, Train acc: 0.7968, Test acc: 0.8298\n"
     ]
    },
    {
     "data": {
      "application/vnd.jupyter.widget-view+json": {
       "model_id": "f36f3d9c5b4c4aba8a46fdce36f93769",
       "version_major": 2,
       "version_minor": 0
      },
      "text/plain": [
       "Training minibatch loop :   0%|          | 0/1563 [00:00<?, ?it/s]"
      ]
     },
     "metadata": {},
     "output_type": "display_data"
    },
    {
     "data": {
      "application/vnd.jupyter.widget-view+json": {
       "model_id": "f05f1b6072784e25a93981af3dd8d61f",
       "version_major": 2,
       "version_minor": 0
      },
      "text/plain": [
       "Testing minibatch loop::   0%|          | 0/313 [00:00<?, ?it/s]"
      ]
     },
     "metadata": {},
     "output_type": "display_data"
    },
    {
     "name": "stdout",
     "output_type": "stream",
     "text": [
      "Epoch [6/10], Loss: 671.0231, Train acc: 0.8030, Test acc: 0.8380\n"
     ]
    },
    {
     "data": {
      "application/vnd.jupyter.widget-view+json": {
       "model_id": "9cfcc2ebd9714c098b5b0423172349e7",
       "version_major": 2,
       "version_minor": 0
      },
      "text/plain": [
       "Training minibatch loop :   0%|          | 0/1563 [00:00<?, ?it/s]"
      ]
     },
     "metadata": {},
     "output_type": "display_data"
    },
    {
     "data": {
      "application/vnd.jupyter.widget-view+json": {
       "model_id": "eeb6ed86f80445558efb9ec90e9a63e5",
       "version_major": 2,
       "version_minor": 0
      },
      "text/plain": [
       "Testing minibatch loop::   0%|          | 0/313 [00:00<?, ?it/s]"
      ]
     },
     "metadata": {},
     "output_type": "display_data"
    },
    {
     "name": "stdout",
     "output_type": "stream",
     "text": [
      "Epoch [7/10], Loss: 662.5340, Train acc: 0.8060, Test acc: 0.8130\n"
     ]
    },
    {
     "data": {
      "application/vnd.jupyter.widget-view+json": {
       "model_id": "87adb89f3fa34102bae2126f6a444c8b",
       "version_major": 2,
       "version_minor": 0
      },
      "text/plain": [
       "Training minibatch loop :   0%|          | 0/1563 [00:00<?, ?it/s]"
      ]
     },
     "metadata": {},
     "output_type": "display_data"
    },
    {
     "data": {
      "application/vnd.jupyter.widget-view+json": {
       "model_id": "5d62c670d4bb4ede8c889f80a17d5c30",
       "version_major": 2,
       "version_minor": 0
      },
      "text/plain": [
       "Testing minibatch loop::   0%|          | 0/313 [00:00<?, ?it/s]"
      ]
     },
     "metadata": {},
     "output_type": "display_data"
    },
    {
     "name": "stdout",
     "output_type": "stream",
     "text": [
      "Epoch [8/10], Loss: 648.3226, Train acc: 0.8098, Test acc: 0.8328\n"
     ]
    },
    {
     "data": {
      "application/vnd.jupyter.widget-view+json": {
       "model_id": "d3fc56516aa64bd991f13ddc2b749400",
       "version_major": 2,
       "version_minor": 0
      },
      "text/plain": [
       "Training minibatch loop :   0%|          | 0/1563 [00:00<?, ?it/s]"
      ]
     },
     "metadata": {},
     "output_type": "display_data"
    },
    {
     "data": {
      "application/vnd.jupyter.widget-view+json": {
       "model_id": "5bbe96c68cb4449880858ad98f12199e",
       "version_major": 2,
       "version_minor": 0
      },
      "text/plain": [
       "Testing minibatch loop::   0%|          | 0/313 [00:00<?, ?it/s]"
      ]
     },
     "metadata": {},
     "output_type": "display_data"
    },
    {
     "name": "stdout",
     "output_type": "stream",
     "text": [
      "Epoch [9/10], Loss: 624.7253, Train acc: 0.8201, Test acc: 0.8502\n"
     ]
    },
    {
     "data": {
      "application/vnd.jupyter.widget-view+json": {
       "model_id": "4dd5c7c1e5ed40ac8cadd4b340ec0170",
       "version_major": 2,
       "version_minor": 0
      },
      "text/plain": [
       "Training minibatch loop :   0%|          | 0/1563 [00:00<?, ?it/s]"
      ]
     },
     "metadata": {},
     "output_type": "display_data"
    },
    {
     "data": {
      "application/vnd.jupyter.widget-view+json": {
       "model_id": "2669da1258fa464bbca5c01fdc5d2d18",
       "version_major": 2,
       "version_minor": 0
      },
      "text/plain": [
       "Testing minibatch loop::   0%|          | 0/313 [00:00<?, ?it/s]"
      ]
     },
     "metadata": {},
     "output_type": "display_data"
    },
    {
     "name": "stdout",
     "output_type": "stream",
     "text": [
      "Epoch [10/10], Loss: 618.2356, Train acc: 0.8210, Test acc: 0.8456\n",
      "Wall time: 4min 43s\n"
     ]
    }
   ],
   "source": [
    "%%time\n",
    "for_losses = []\n",
    "n_total_steps = len(train_dl)\n",
    "\n",
    "\n",
    "for epoch in range(num_epochs):\n",
    "    total_loss, train_accuracy = train(model, device, train_dl, optimizer, total = math.ceil(len(train_ds)/batch_size))\n",
    "    test_accuracy = test(model, device, val_dl, total = math.ceil(len(valid_ds)/batch_size))\n",
    "    for_losses.append(total_loss.cpu().detach().numpy())\n",
    "    print (f'Epoch [{epoch+1}/{num_epochs}], Loss: {total_loss:.4f}, Train acc: {train_accuracy:.4f}, Test acc: {test_accuracy:.4f}')                                    "
   ]
  },
  {
   "cell_type": "code",
   "execution_count": 21,
   "metadata": {},
   "outputs": [
    {
     "data": {
      "text/plain": [
       "[<matplotlib.lines.Line2D at 0x1799953a3d0>]"
      ]
     },
     "execution_count": 21,
     "metadata": {},
     "output_type": "execute_result"
    },
    {
     "data": {
      "image/png": "[encoded data removed]",
      "text/plain": [
       "<Figure size 432x288 with 1 Axes>"
      ]
     },
     "metadata": {
      "needs_background": "light"
     },
     "output_type": "display_data"
    }
   ],
   "source": [
    "plt.plot(np.arange(len(for_losses)), for_losses)"
   ]
  },
  {
   "cell_type": "code",
   "execution_count": null,
   "metadata": {},
   "outputs": [],
   "source": [
    "# for_test = np.random.randint(len(valid_ds), size=5)"
   ]
  },
  {
   "cell_type": "code",
   "execution_count": null,
   "metadata": {},
   "outputs": [],
   "source": [
    "# data = valid_ds.data.reshape(-1,100).float().to(device)\n",
    "# targets = test_dataset.targets.to(device)"
   ]
  },
  {
   "cell_type": "code",
   "execution_count": null,
   "metadata": {},
   "outputs": [],
   "source": [
    "# data[for_test]"
   ]
  },
  {
   "cell_type": "code",
   "execution_count": null,
   "metadata": {},
   "outputs": [],
   "source": [
    "# torch.max(model(data[for_test]), 1)"
   ]
  },
  {
   "cell_type": "code",
   "execution_count": null,
   "metadata": {},
   "outputs": [],
   "source": [
    "# targets[for_test]"
   ]
  },
  {
   "cell_type": "code",
   "execution_count": null,
   "metadata": {},
   "outputs": [],
   "source": [
    "# heat_map_matrix = np.zeros((10, 10))\n",
    "# with torch.no_grad():\n",
    "#     correct = 0\n",
    "#     total = 0\n",
    "#     for images, labels in zip(test_dataset.data, test_dataset.targets):\n",
    "#         images = images.reshape(-1, 28*28).float().to(device)\n",
    "#         labels = labels\n",
    "#         outputs = model(images)\n",
    "#         _, predicted = torch.max(outputs.data, 1)\n",
    "#         correct += (predicted.to(device) == labels.to(device)).sum().item()\n",
    "#         heat_map_matrix[labels.cpu()][predicted.cpu()] += 1\n",
    "#         print(predicted)"
   ]
  },
  {
   "cell_type": "code",
   "execution_count": null,
   "metadata": {},
   "outputs": [],
   "source": [
    "# import seaborn as sns\n",
    "# import pandas as pd\n",
    "# heat_map_matrix = pd.DataFrame(heat_map_matrix, columns=test_dataset.classes)\n",
    "# heat_map_matrix.index = test_dataset.classes\n",
    "# plt.figure(1, (15, 10))\n",
    "# sns.heatmap(heat_map_matrix, annot=True, fmt='g')\n",
    "# plt.show()"
   ]
  },
  {
   "cell_type": "markdown",
   "metadata": {
    "id": "EqvleAgxfC6B"
   },
   "source": [
    "# 4. Transfer Learning"
   ]
  },
  {
   "cell_type": "markdown",
   "metadata": {
    "id": "ZjNUwuho9tm9"
   },
   "source": [
    "### 4.1 Решить задачу 3.1, воспользовавшись предобученной моделью VGG16\n",
    "* Загрузить данные для обучения\n",
    "* Преобразования: размер 224x224, нормализация с параметрами `mean=(0.485, 0.456, 0.406), std=(0.229, 0.224, 0.225)`\n",
    "* Заменить последний полносвязный слой модели в соответствии с задачей\n",
    "* Дообучить модель (не замораживать веса). Вычислить значение accuracy на тестовом множестве\n",
    "* Дообучить модель (заморозить все веса, кроме последнего блока слоев (`classifier`)). \n",
    "* Вычислить значение accuracy на тестовом множестве.\n"
   ]
  },
  {
   "cell_type": "code",
   "execution_count": 1,
   "metadata": {},
   "outputs": [],
   "source": [
    "DATA_DIR = 'C:/Users/nabr9/Documents/monkeys'\n",
    "\n",
    "TRAIN_DIR = DATA_DIR + '/training/training/'                           \n",
    "VAL_DIR = DATA_DIR + '/validation/validation/'                             \n",
    "LABEL_FIL=DATA_DIR +\"/monkey_labels.txt\""
   ]
  },
  {
   "cell_type": "code",
   "execution_count": 4,
   "metadata": {},
   "outputs": [],
   "source": [
    "train_tfms = torchvision.transforms.Compose([\n",
    "    torchvision.transforms.Resize((224, 224)),\n",
    "    torchvision.transforms.ToTensor(), torchvision.transforms.Normalize((0.485, 0.456, 0.406), (0.229, 0.224, 0.225))])\n",
    "\n",
    "valid_tfms = torchvision.transforms.Compose([\n",
    "    torchvision.transforms.Resize((224, 224)),\n",
    "    torchvision.transforms.ToTensor(), torchvision.transforms.Normalize((0.485, 0.456, 0.406), (0.229, 0.224, 0.225))])"
   ]
  },
  {
   "cell_type": "code",
   "execution_count": 5,
   "metadata": {},
   "outputs": [],
   "source": [
    "train_ds = ImageFolder ( TRAIN_DIR , transform = train_tfms)\n",
    "val_ds = ImageFolder ( VAL_DIR , transform = valid_tfms)"
   ]
  },
  {
   "cell_type": "code",
   "execution_count": 19,
   "metadata": {},
   "outputs": [],
   "source": [
    "batch_size = 16"
   ]
  },
  {
   "cell_type": "code",
   "execution_count": 7,
   "metadata": {},
   "outputs": [],
   "source": [
    "train_dl = torch.utils.data.DataLoader(train_ds, batch_size = 16, shuffle=True, \n",
    "                          num_workers=4, pin_memory=True)\n",
    "val_dl = torch.utils.data.DataLoader(val_ds, batch_size = 16,\n",
    "                        num_workers=4, pin_memory=True)"
   ]
  },
  {
   "cell_type": "code",
   "execution_count": 10,
   "metadata": {},
   "outputs": [],
   "source": [
    "train_dl = DeviceDataLoader(train_dl, device)\n",
    "val_dl = DeviceDataLoader(val_dl, device)"
   ]
  },
  {
   "cell_type": "code",
   "execution_count": 11,
   "metadata": {},
   "outputs": [],
   "source": [
    "vgg16 = models.vgg16(pretrained=True)"
   ]
  },
  {
   "cell_type": "code",
   "execution_count": 12,
   "metadata": {},
   "outputs": [
    {
     "name": "stdout",
     "output_type": "stream",
     "text": [
      "VGG(\n",
      "  (features): Sequential(\n",
      "    (0): Conv2d(3, 64, kernel_size=(3, 3), stride=(1, 1), padding=(1, 1))\n",
      "    (1): ReLU(inplace=True)\n",
      "    (2): Conv2d(64, 64, kernel_size=(3, 3), stride=(1, 1), padding=(1, 1))\n",
      "    (3): ReLU(inplace=True)\n",
      "    (4): MaxPool2d(kernel_size=2, stride=2, padding=0, dilation=1, ceil_mode=False)\n",
      "    (5): Conv2d(64, 128, kernel_size=(3, 3), stride=(1, 1), padding=(1, 1))\n",
      "    (6): ReLU(inplace=True)\n",
      "    (7): Conv2d(128, 128, kernel_size=(3, 3), stride=(1, 1), padding=(1, 1))\n",
      "    (8): ReLU(inplace=True)\n",
      "    (9): MaxPool2d(kernel_size=2, stride=2, padding=0, dilation=1, ceil_mode=False)\n",
      "    (10): Conv2d(128, 256, kernel_size=(3, 3), stride=(1, 1), padding=(1, 1))\n",
      "    (11): ReLU(inplace=True)\n",
      "    (12): Conv2d(256, 256, kernel_size=(3, 3), stride=(1, 1), padding=(1, 1))\n",
      "    (13): ReLU(inplace=True)\n",
      "    (14): Conv2d(256, 256, kernel_size=(3, 3), stride=(1, 1), padding=(1, 1))\n",
      "    (15): ReLU(inplace=True)\n",
      "    (16): MaxPool2d(kernel_size=2, stride=2, padding=0, dilation=1, ceil_mode=False)\n",
      "    (17): Conv2d(256, 512, kernel_size=(3, 3), stride=(1, 1), padding=(1, 1))\n",
      "    (18): ReLU(inplace=True)\n",
      "    (19): Conv2d(512, 512, kernel_size=(3, 3), stride=(1, 1), padding=(1, 1))\n",
      "    (20): ReLU(inplace=True)\n",
      "    (21): Conv2d(512, 512, kernel_size=(3, 3), stride=(1, 1), padding=(1, 1))\n",
      "    (22): ReLU(inplace=True)\n",
      "    (23): MaxPool2d(kernel_size=2, stride=2, padding=0, dilation=1, ceil_mode=False)\n",
      "    (24): Conv2d(512, 512, kernel_size=(3, 3), stride=(1, 1), padding=(1, 1))\n",
      "    (25): ReLU(inplace=True)\n",
      "    (26): Conv2d(512, 512, kernel_size=(3, 3), stride=(1, 1), padding=(1, 1))\n",
      "    (27): ReLU(inplace=True)\n",
      "    (28): Conv2d(512, 512, kernel_size=(3, 3), stride=(1, 1), padding=(1, 1))\n",
      "    (29): ReLU(inplace=True)\n",
      "    (30): MaxPool2d(kernel_size=2, stride=2, padding=0, dilation=1, ceil_mode=False)\n",
      "  )\n",
      "  (avgpool): AdaptiveAvgPool2d(output_size=(7, 7))\n",
      "  (classifier): Sequential(\n",
      "    (0): Linear(in_features=25088, out_features=4096, bias=True)\n",
      "    (1): ReLU(inplace=True)\n",
      "    (2): Dropout(p=0.5, inplace=False)\n",
      "    (3): Linear(in_features=4096, out_features=4096, bias=True)\n",
      "    (4): ReLU(inplace=True)\n",
      "    (5): Dropout(p=0.5, inplace=False)\n",
      "    (6): Linear(in_features=4096, out_features=10, bias=True)\n",
      "  )\n",
      ")\n"
     ]
    }
   ],
   "source": [
    "for param in vgg16.features.parameters():\n",
    "    param.requires_grad = False \n",
    "vgg16.classifier[6].out_features = 10\n",
    "vgg16 = to_device(vgg16, device)\n",
    "print(vgg16)"
   ]
  },
  {
   "cell_type": "code",
   "execution_count": 13,
   "metadata": {},
   "outputs": [],
   "source": [
    "# optimizer\n",
    "optimizer = optim.SGD(vgg16.classifier.parameters(), lr=0.001, momentum=0.9)\n",
    "# loss function\n",
    "criterion = nn.CrossEntropyLoss()"
   ]
  },
  {
   "cell_type": "code",
   "execution_count": 21,
   "metadata": {},
   "outputs": [],
   "source": [
    "num_epochs = 15"
   ]
  },
  {
   "cell_type": "code",
   "execution_count": 22,
   "metadata": {},
   "outputs": [
    {
     "data": {
      "application/vnd.jupyter.widget-view+json": {
       "model_id": "99c7a09e24a04f6e9f3dbb1c6c2a35ed",
       "version_major": 2,
       "version_minor": 0
      },
      "text/plain": [
       "Training minibatch loop :   0%|          | 0/69 [00:00<?, ?it/s]"
      ]
     },
     "metadata": {},
     "output_type": "display_data"
    },
    {
     "data": {
      "application/vnd.jupyter.widget-view+json": {
       "model_id": "bc71328a8f3c4646bb699c5aee20a0b0",
       "version_major": 2,
       "version_minor": 0
      },
      "text/plain": [
       "Testing minibatch loop::   0%|          | 0/17 [00:00<?, ?it/s]"
      ]
     },
     "metadata": {},
     "output_type": "display_data"
    },
    {
     "name": "stdout",
     "output_type": "stream",
     "text": [
      "Epoch [1/15], Loss: 13.0714, Train acc: 0.9490, Test acc: 0.9779\n"
     ]
    },
    {
     "data": {
      "application/vnd.jupyter.widget-view+json": {
       "model_id": "57fad2b8fb2440b6ae8f164c9df6da9c",
       "version_major": 2,
       "version_minor": 0
      },
      "text/plain": [
       "Training minibatch loop :   0%|          | 0/69 [00:00<?, ?it/s]"
      ]
     },
     "metadata": {},
     "output_type": "display_data"
    },
    {
     "data": {
      "application/vnd.jupyter.widget-view+json": {
       "model_id": "ac8aa04be536436aaa7c757fdb550f55",
       "version_major": 2,
       "version_minor": 0
      },
      "text/plain": [
       "Testing minibatch loop::   0%|          | 0/17 [00:00<?, ?it/s]"
      ]
     },
     "metadata": {},
     "output_type": "display_data"
    },
    {
     "name": "stdout",
     "output_type": "stream",
     "text": [
      "Epoch [2/15], Loss: 3.8983, Train acc: 0.9863, Test acc: 0.9743\n"
     ]
    },
    {
     "data": {
      "application/vnd.jupyter.widget-view+json": {
       "model_id": "891dd10e04d248008ced9e873a2fd426",
       "version_major": 2,
       "version_minor": 0
      },
      "text/plain": [
       "Training minibatch loop :   0%|          | 0/69 [00:00<?, ?it/s]"
      ]
     },
     "metadata": {},
     "output_type": "display_data"
    },
    {
     "data": {
      "application/vnd.jupyter.widget-view+json": {
       "model_id": "f5a81bf107154e8c82defa8f28438bb1",
       "version_major": 2,
       "version_minor": 0
      },
      "text/plain": [
       "Testing minibatch loop::   0%|          | 0/17 [00:00<?, ?it/s]"
      ]
     },
     "metadata": {},
     "output_type": "display_data"
    },
    {
     "name": "stdout",
     "output_type": "stream",
     "text": [
      "Epoch [3/15], Loss: 1.6199, Train acc: 0.9954, Test acc: 0.9779\n"
     ]
    },
    {
     "data": {
      "application/vnd.jupyter.widget-view+json": {
       "model_id": "e07305088f1546798efb7f58158fbb33",
       "version_major": 2,
       "version_minor": 0
      },
      "text/plain": [
       "Training minibatch loop :   0%|          | 0/69 [00:00<?, ?it/s]"
      ]
     },
     "metadata": {},
     "output_type": "display_data"
    },
    {
     "data": {
      "application/vnd.jupyter.widget-view+json": {
       "model_id": "ccf68da73846471890eeedc3645b36bf",
       "version_major": 2,
       "version_minor": 0
      },
      "text/plain": [
       "Testing minibatch loop::   0%|          | 0/17 [00:00<?, ?it/s]"
      ]
     },
     "metadata": {},
     "output_type": "display_data"
    },
    {
     "name": "stdout",
     "output_type": "stream",
     "text": [
      "Epoch [4/15], Loss: 1.3731, Train acc: 0.9945, Test acc: 0.9743\n"
     ]
    },
    {
     "data": {
      "application/vnd.jupyter.widget-view+json": {
       "model_id": "27979631ca7648bb8b276b692d66df64",
       "version_major": 2,
       "version_minor": 0
      },
      "text/plain": [
       "Training minibatch loop :   0%|          | 0/69 [00:00<?, ?it/s]"
      ]
     },
     "metadata": {},
     "output_type": "display_data"
    },
    {
     "data": {
      "application/vnd.jupyter.widget-view+json": {
       "model_id": "fbc2237562e845f9956dd3e26d46b64b",
       "version_major": 2,
       "version_minor": 0
      },
      "text/plain": [
       "Testing minibatch loop::   0%|          | 0/17 [00:00<?, ?it/s]"
      ]
     },
     "metadata": {},
     "output_type": "display_data"
    },
    {
     "name": "stdout",
     "output_type": "stream",
     "text": [
      "Epoch [5/15], Loss: 1.3639, Train acc: 0.9945, Test acc: 0.9779\n"
     ]
    },
    {
     "data": {
      "application/vnd.jupyter.widget-view+json": {
       "model_id": "5fec830b0d86442b96782c246cd4f423",
       "version_major": 2,
       "version_minor": 0
      },
      "text/plain": [
       "Training minibatch loop :   0%|          | 0/69 [00:00<?, ?it/s]"
      ]
     },
     "metadata": {},
     "output_type": "display_data"
    },
    {
     "data": {
      "application/vnd.jupyter.widget-view+json": {
       "model_id": "d7138ea127c844bca3f97b534f299085",
       "version_major": 2,
       "version_minor": 0
      },
      "text/plain": [
       "Testing minibatch loop::   0%|          | 0/17 [00:00<?, ?it/s]"
      ]
     },
     "metadata": {},
     "output_type": "display_data"
    },
    {
     "name": "stdout",
     "output_type": "stream",
     "text": [
      "Epoch [6/15], Loss: 1.2030, Train acc: 0.9964, Test acc: 0.9779\n"
     ]
    },
    {
     "data": {
      "application/vnd.jupyter.widget-view+json": {
       "model_id": "4707714287a64a0dbd5774fd702d8478",
       "version_major": 2,
       "version_minor": 0
      },
      "text/plain": [
       "Training minibatch loop :   0%|          | 0/69 [00:00<?, ?it/s]"
      ]
     },
     "metadata": {},
     "output_type": "display_data"
    },
    {
     "data": {
      "application/vnd.jupyter.widget-view+json": {
       "model_id": "e32242ec63ca4f599457ba88daef4703",
       "version_major": 2,
       "version_minor": 0
      },
      "text/plain": [
       "Testing minibatch loop::   0%|          | 0/17 [00:00<?, ?it/s]"
      ]
     },
     "metadata": {},
     "output_type": "display_data"
    },
    {
     "name": "stdout",
     "output_type": "stream",
     "text": [
      "Epoch [7/15], Loss: 0.5368, Train acc: 0.9982, Test acc: 0.9779\n"
     ]
    },
    {
     "data": {
      "application/vnd.jupyter.widget-view+json": {
       "model_id": "4f52c066d92147bf97059bab30e4f7a1",
       "version_major": 2,
       "version_minor": 0
      },
      "text/plain": [
       "Training minibatch loop :   0%|          | 0/69 [00:00<?, ?it/s]"
      ]
     },
     "metadata": {},
     "output_type": "display_data"
    },
    {
     "data": {
      "application/vnd.jupyter.widget-view+json": {
       "model_id": "637f20a8fba24dd686b5b42ca35d0a39",
       "version_major": 2,
       "version_minor": 0
      },
      "text/plain": [
       "Testing minibatch loop::   0%|          | 0/17 [00:00<?, ?it/s]"
      ]
     },
     "metadata": {},
     "output_type": "display_data"
    },
    {
     "name": "stdout",
     "output_type": "stream",
     "text": [
      "Epoch [8/15], Loss: 0.7827, Train acc: 0.9991, Test acc: 0.9779\n"
     ]
    },
    {
     "data": {
      "application/vnd.jupyter.widget-view+json": {
       "model_id": "ebf77cd08851420abacdcb305c1d0b5b",
       "version_major": 2,
       "version_minor": 0
      },
      "text/plain": [
       "Training minibatch loop :   0%|          | 0/69 [00:00<?, ?it/s]"
      ]
     },
     "metadata": {},
     "output_type": "display_data"
    },
    {
     "data": {
      "application/vnd.jupyter.widget-view+json": {
       "model_id": "56d9b7183c294aa6831358e7537f7c0b",
       "version_major": 2,
       "version_minor": 0
      },
      "text/plain": [
       "Testing minibatch loop::   0%|          | 0/17 [00:00<?, ?it/s]"
      ]
     },
     "metadata": {},
     "output_type": "display_data"
    },
    {
     "name": "stdout",
     "output_type": "stream",
     "text": [
      "Epoch [9/15], Loss: 0.7139, Train acc: 0.9964, Test acc: 0.9890\n"
     ]
    },
    {
     "data": {
      "application/vnd.jupyter.widget-view+json": {
       "model_id": "0a23edf1c32746839da2af6ca68b8ff8",
       "version_major": 2,
       "version_minor": 0
      },
      "text/plain": [
       "Training minibatch loop :   0%|          | 0/69 [00:00<?, ?it/s]"
      ]
     },
     "metadata": {},
     "output_type": "display_data"
    },
    {
     "data": {
      "application/vnd.jupyter.widget-view+json": {
       "model_id": "42bc7ac6c9914aaea39cdd0f9a7ae14d",
       "version_major": 2,
       "version_minor": 0
      },
      "text/plain": [
       "Testing minibatch loop::   0%|          | 0/17 [00:00<?, ?it/s]"
      ]
     },
     "metadata": {},
     "output_type": "display_data"
    },
    {
     "name": "stdout",
     "output_type": "stream",
     "text": [
      "Epoch [10/15], Loss: 0.3750, Train acc: 0.9991, Test acc: 0.9853\n"
     ]
    },
    {
     "data": {
      "application/vnd.jupyter.widget-view+json": {
       "model_id": "07bb1f687a6349f0aa15a258f91bbc6d",
       "version_major": 2,
       "version_minor": 0
      },
      "text/plain": [
       "Training minibatch loop :   0%|          | 0/69 [00:00<?, ?it/s]"
      ]
     },
     "metadata": {},
     "output_type": "display_data"
    },
    {
     "data": {
      "application/vnd.jupyter.widget-view+json": {
       "model_id": "c6c3829392474c488082e1de76b08284",
       "version_major": 2,
       "version_minor": 0
      },
      "text/plain": [
       "Testing minibatch loop::   0%|          | 0/17 [00:00<?, ?it/s]"
      ]
     },
     "metadata": {},
     "output_type": "display_data"
    },
    {
     "name": "stdout",
     "output_type": "stream",
     "text": [
      "Epoch [11/15], Loss: 0.4758, Train acc: 0.9982, Test acc: 0.9853\n"
     ]
    },
    {
     "data": {
      "application/vnd.jupyter.widget-view+json": {
       "model_id": "4573ded9f5024522801222522c2d2f9c",
       "version_major": 2,
       "version_minor": 0
      },
      "text/plain": [
       "Training minibatch loop :   0%|          | 0/69 [00:00<?, ?it/s]"
      ]
     },
     "metadata": {},
     "output_type": "display_data"
    },
    {
     "data": {
      "application/vnd.jupyter.widget-view+json": {
       "model_id": "0d32a58a02b04548852f6cd26b51bfd1",
       "version_major": 2,
       "version_minor": 0
      },
      "text/plain": [
       "Testing minibatch loop::   0%|          | 0/17 [00:00<?, ?it/s]"
      ]
     },
     "metadata": {},
     "output_type": "display_data"
    },
    {
     "name": "stdout",
     "output_type": "stream",
     "text": [
      "Epoch [12/15], Loss: 0.3570, Train acc: 1.0000, Test acc: 0.9816\n"
     ]
    },
    {
     "data": {
      "application/vnd.jupyter.widget-view+json": {
       "model_id": "bf2abd1f58824f0cb09eda03245bdec8",
       "version_major": 2,
       "version_minor": 0
      },
      "text/plain": [
       "Training minibatch loop :   0%|          | 0/69 [00:00<?, ?it/s]"
      ]
     },
     "metadata": {},
     "output_type": "display_data"
    },
    {
     "data": {
      "application/vnd.jupyter.widget-view+json": {
       "model_id": "90f920bc9a0741f389889061e326a044",
       "version_major": 2,
       "version_minor": 0
      },
      "text/plain": [
       "Testing minibatch loop::   0%|          | 0/17 [00:00<?, ?it/s]"
      ]
     },
     "metadata": {},
     "output_type": "display_data"
    },
    {
     "name": "stdout",
     "output_type": "stream",
     "text": [
      "Epoch [13/15], Loss: 0.3351, Train acc: 0.9991, Test acc: 0.9779\n"
     ]
    },
    {
     "data": {
      "application/vnd.jupyter.widget-view+json": {
       "model_id": "9ee62ca8cdf147d689d903e4d47aa178",
       "version_major": 2,
       "version_minor": 0
      },
      "text/plain": [
       "Training minibatch loop :   0%|          | 0/69 [00:00<?, ?it/s]"
      ]
     },
     "metadata": {},
     "output_type": "display_data"
    },
    {
     "data": {
      "application/vnd.jupyter.widget-view+json": {
       "model_id": "6613448a5abf430faa406bbe325f0a70",
       "version_major": 2,
       "version_minor": 0
      },
      "text/plain": [
       "Testing minibatch loop::   0%|          | 0/17 [00:00<?, ?it/s]"
      ]
     },
     "metadata": {},
     "output_type": "display_data"
    },
    {
     "name": "stdout",
     "output_type": "stream",
     "text": [
      "Epoch [14/15], Loss: 0.4523, Train acc: 0.9991, Test acc: 0.9853\n"
     ]
    },
    {
     "data": {
      "application/vnd.jupyter.widget-view+json": {
       "model_id": "6892099190dc4097adc0faa269b238ca",
       "version_major": 2,
       "version_minor": 0
      },
      "text/plain": [
       "Training minibatch loop :   0%|          | 0/69 [00:00<?, ?it/s]"
      ]
     },
     "metadata": {},
     "output_type": "display_data"
    },
    {
     "data": {
      "application/vnd.jupyter.widget-view+json": {
       "model_id": "4e4e48c5d7234d68b764b95d79974b3e",
       "version_major": 2,
       "version_minor": 0
      },
      "text/plain": [
       "Testing minibatch loop::   0%|          | 0/17 [00:00<?, ?it/s]"
      ]
     },
     "metadata": {},
     "output_type": "display_data"
    },
    {
     "name": "stdout",
     "output_type": "stream",
     "text": [
      "Epoch [15/15], Loss: 0.3513, Train acc: 0.9982, Test acc: 0.9890\n",
      "Wall time: 3min 44s\n"
     ]
    }
   ],
   "source": [
    "%%time\n",
    "for_losses = []\n",
    "n_total_steps = len(train_dl)\n",
    "\n",
    "\n",
    "for epoch in range(num_epochs):\n",
    "    total_loss, train_accuracy = train(vgg16, device, train_dl, optimizer, total = math.ceil(len(train_ds)/batch_size))\n",
    "    test_accuracy = test(vgg16, device, val_dl, total = math.ceil(len(val_ds)/batch_size))\n",
    "    for_losses.append(total_loss.cpu().detach().numpy())\n",
    "    print (f'Epoch [{epoch+1}/{num_epochs}], Loss: {total_loss:.4f}, Train acc: {train_accuracy:.4f}, Test acc: {test_accuracy:.4f}')                                    "
   ]
  },
  {
   "cell_type": "code",
   "execution_count": 23,
   "metadata": {},
   "outputs": [],
   "source": [
    "vgg16 = models.vgg16(pretrained=True)"
   ]
  },
  {
   "cell_type": "code",
   "execution_count": 24,
   "metadata": {},
   "outputs": [
    {
     "name": "stdout",
     "output_type": "stream",
     "text": [
      "VGG(\n",
      "  (features): Sequential(\n",
      "    (0): Conv2d(3, 64, kernel_size=(3, 3), stride=(1, 1), padding=(1, 1))\n",
      "    (1): ReLU(inplace=True)\n",
      "    (2): Conv2d(64, 64, kernel_size=(3, 3), stride=(1, 1), padding=(1, 1))\n",
      "    (3): ReLU(inplace=True)\n",
      "    (4): MaxPool2d(kernel_size=2, stride=2, padding=0, dilation=1, ceil_mode=False)\n",
      "    (5): Conv2d(64, 128, kernel_size=(3, 3), stride=(1, 1), padding=(1, 1))\n",
      "    (6): ReLU(inplace=True)\n",
      "    (7): Conv2d(128, 128, kernel_size=(3, 3), stride=(1, 1), padding=(1, 1))\n",
      "    (8): ReLU(inplace=True)\n",
      "    (9): MaxPool2d(kernel_size=2, stride=2, padding=0, dilation=1, ceil_mode=False)\n",
      "    (10): Conv2d(128, 256, kernel_size=(3, 3), stride=(1, 1), padding=(1, 1))\n",
      "    (11): ReLU(inplace=True)\n",
      "    (12): Conv2d(256, 256, kernel_size=(3, 3), stride=(1, 1), padding=(1, 1))\n",
      "    (13): ReLU(inplace=True)\n",
      "    (14): Conv2d(256, 256, kernel_size=(3, 3), stride=(1, 1), padding=(1, 1))\n",
      "    (15): ReLU(inplace=True)\n",
      "    (16): MaxPool2d(kernel_size=2, stride=2, padding=0, dilation=1, ceil_mode=False)\n",
      "    (17): Conv2d(256, 512, kernel_size=(3, 3), stride=(1, 1), padding=(1, 1))\n",
      "    (18): ReLU(inplace=True)\n",
      "    (19): Conv2d(512, 512, kernel_size=(3, 3), stride=(1, 1), padding=(1, 1))\n",
      "    (20): ReLU(inplace=True)\n",
      "    (21): Conv2d(512, 512, kernel_size=(3, 3), stride=(1, 1), padding=(1, 1))\n",
      "    (22): ReLU(inplace=True)\n",
      "    (23): MaxPool2d(kernel_size=2, stride=2, padding=0, dilation=1, ceil_mode=False)\n",
      "    (24): Conv2d(512, 512, kernel_size=(3, 3), stride=(1, 1), padding=(1, 1))\n",
      "    (25): ReLU(inplace=True)\n",
      "    (26): Conv2d(512, 512, kernel_size=(3, 3), stride=(1, 1), padding=(1, 1))\n",
      "    (27): ReLU(inplace=True)\n",
      "    (28): Conv2d(512, 512, kernel_size=(3, 3), stride=(1, 1), padding=(1, 1))\n",
      "    (29): ReLU(inplace=True)\n",
      "    (30): MaxPool2d(kernel_size=2, stride=2, padding=0, dilation=1, ceil_mode=False)\n",
      "  )\n",
      "  (avgpool): AdaptiveAvgPool2d(output_size=(7, 7))\n",
      "  (classifier): Sequential(\n",
      "    (0): Linear(in_features=25088, out_features=4096, bias=True)\n",
      "    (1): ReLU(inplace=True)\n",
      "    (2): Dropout(p=0.5, inplace=False)\n",
      "    (3): Linear(in_features=4096, out_features=4096, bias=True)\n",
      "    (4): ReLU(inplace=True)\n",
      "    (5): Dropout(p=0.5, inplace=False)\n",
      "    (6): Linear(in_features=4096, out_features=10, bias=True)\n",
      "  )\n",
      ")\n"
     ]
    }
   ],
   "source": [
    "for param in vgg16.features.parameters():\n",
    "    param.requires_grad = True\n",
    "vgg16.classifier[6].out_features = 10\n",
    "vgg16 = to_device(vgg16, device)\n",
    "print(vgg16)"
   ]
  },
  {
   "cell_type": "code",
   "execution_count": 25,
   "metadata": {},
   "outputs": [],
   "source": [
    "# optimizer\n",
    "optimizer = optim.SGD(vgg16.classifier.parameters(), lr=0.001, momentum=0.9)\n",
    "# loss function\n",
    "criterion = nn.CrossEntropyLoss()"
   ]
  },
  {
   "cell_type": "code",
   "execution_count": 27,
   "metadata": {
    "scrolled": true
   },
   "outputs": [
    {
     "data": {
      "application/vnd.jupyter.widget-view+json": {
       "model_id": "f4efa81894834bef8aa027971cd1a396",
       "version_major": 2,
       "version_minor": 0
      },
      "text/plain": [
       "Training minibatch loop :   0%|          | 0/69 [00:00<?, ?it/s]"
      ]
     },
     "metadata": {},
     "output_type": "display_data"
    },
    {
     "data": {
      "application/vnd.jupyter.widget-view+json": {
       "model_id": "cf1ae0858a0146609d19e7e71e38ead1",
       "version_major": 2,
       "version_minor": 0
      },
      "text/plain": [
       "Testing minibatch loop::   0%|          | 0/17 [00:00<?, ?it/s]"
      ]
     },
     "metadata": {},
     "output_type": "display_data"
    },
    {
     "name": "stdout",
     "output_type": "stream",
     "text": [
      "Epoch [1/15], Loss: 210.8528, Train acc: 0.5397, Test acc: 0.9522\n"
     ]
    },
    {
     "data": {
      "application/vnd.jupyter.widget-view+json": {
       "model_id": "2338d42f8c544a669acde10c49e9832f",
       "version_major": 2,
       "version_minor": 0
      },
      "text/plain": [
       "Training minibatch loop :   0%|          | 0/69 [00:00<?, ?it/s]"
      ]
     },
     "metadata": {},
     "output_type": "display_data"
    },
    {
     "data": {
      "application/vnd.jupyter.widget-view+json": {
       "model_id": "c81d1d8810944b8db5d8367eecad392d",
       "version_major": 2,
       "version_minor": 0
      },
      "text/plain": [
       "Testing minibatch loop::   0%|          | 0/17 [00:00<?, ?it/s]"
      ]
     },
     "metadata": {},
     "output_type": "display_data"
    },
    {
     "name": "stdout",
     "output_type": "stream",
     "text": [
      "Epoch [2/15], Loss: 11.3171, Train acc: 0.9562, Test acc: 0.9669\n"
     ]
    },
    {
     "data": {
      "application/vnd.jupyter.widget-view+json": {
       "model_id": "45d1851cfe7f41edbcb95a21138fcff4",
       "version_major": 2,
       "version_minor": 0
      },
      "text/plain": [
       "Training minibatch loop :   0%|          | 0/69 [00:00<?, ?it/s]"
      ]
     },
     "metadata": {},
     "output_type": "display_data"
    },
    {
     "data": {
      "application/vnd.jupyter.widget-view+json": {
       "model_id": "2399e42f0906424fa8e65ad2692dbd42",
       "version_major": 2,
       "version_minor": 0
      },
      "text/plain": [
       "Testing minibatch loop::   0%|          | 0/17 [00:00<?, ?it/s]"
      ]
     },
     "metadata": {},
     "output_type": "display_data"
    },
    {
     "name": "stdout",
     "output_type": "stream",
     "text": [
      "Epoch [3/15], Loss: 4.1110, Train acc: 0.9818, Test acc: 0.9706\n"
     ]
    },
    {
     "data": {
      "application/vnd.jupyter.widget-view+json": {
       "model_id": "75755175a1d7482f8e85e79b9e6e2601",
       "version_major": 2,
       "version_minor": 0
      },
      "text/plain": [
       "Training minibatch loop :   0%|          | 0/69 [00:00<?, ?it/s]"
      ]
     },
     "metadata": {},
     "output_type": "display_data"
    },
    {
     "data": {
      "application/vnd.jupyter.widget-view+json": {
       "model_id": "8386d35a88714ea9a77d4ccc98005000",
       "version_major": 2,
       "version_minor": 0
      },
      "text/plain": [
       "Testing minibatch loop::   0%|          | 0/17 [00:00<?, ?it/s]"
      ]
     },
     "metadata": {},
     "output_type": "display_data"
    },
    {
     "name": "stdout",
     "output_type": "stream",
     "text": [
      "Epoch [4/15], Loss: 2.7364, Train acc: 0.9881, Test acc: 0.9706\n"
     ]
    },
    {
     "data": {
      "application/vnd.jupyter.widget-view+json": {
       "model_id": "aca5217a16924e69adb51482c8ddb771",
       "version_major": 2,
       "version_minor": 0
      },
      "text/plain": [
       "Training minibatch loop :   0%|          | 0/69 [00:00<?, ?it/s]"
      ]
     },
     "metadata": {},
     "output_type": "display_data"
    },
    {
     "data": {
      "application/vnd.jupyter.widget-view+json": {
       "model_id": "2332fb1e139341c4bf9a4487100b4c6a",
       "version_major": 2,
       "version_minor": 0
      },
      "text/plain": [
       "Testing minibatch loop::   0%|          | 0/17 [00:00<?, ?it/s]"
      ]
     },
     "metadata": {},
     "output_type": "display_data"
    },
    {
     "name": "stdout",
     "output_type": "stream",
     "text": [
      "Epoch [5/15], Loss: 2.1063, Train acc: 0.9927, Test acc: 0.9853\n"
     ]
    },
    {
     "data": {
      "application/vnd.jupyter.widget-view+json": {
       "model_id": "3dcc8df504dd4ba79b542895d334886f",
       "version_major": 2,
       "version_minor": 0
      },
      "text/plain": [
       "Training minibatch loop :   0%|          | 0/69 [00:00<?, ?it/s]"
      ]
     },
     "metadata": {},
     "output_type": "display_data"
    },
    {
     "data": {
      "application/vnd.jupyter.widget-view+json": {
       "model_id": "3205d77758c14981a39d0edd5383fe9f",
       "version_major": 2,
       "version_minor": 0
      },
      "text/plain": [
       "Testing minibatch loop::   0%|          | 0/17 [00:00<?, ?it/s]"
      ]
     },
     "metadata": {},
     "output_type": "display_data"
    },
    {
     "name": "stdout",
     "output_type": "stream",
     "text": [
      "Epoch [6/15], Loss: 1.2664, Train acc: 0.9973, Test acc: 0.9816\n"
     ]
    },
    {
     "data": {
      "application/vnd.jupyter.widget-view+json": {
       "model_id": "412801d4f45f46efb986572dcb8eea6b",
       "version_major": 2,
       "version_minor": 0
      },
      "text/plain": [
       "Training minibatch loop :   0%|          | 0/69 [00:00<?, ?it/s]"
      ]
     },
     "metadata": {},
     "output_type": "display_data"
    },
    {
     "data": {
      "application/vnd.jupyter.widget-view+json": {
       "model_id": "ab0ab2c37619406891e7c24b6e406ddd",
       "version_major": 2,
       "version_minor": 0
      },
      "text/plain": [
       "Testing minibatch loop::   0%|          | 0/17 [00:00<?, ?it/s]"
      ]
     },
     "metadata": {},
     "output_type": "display_data"
    },
    {
     "name": "stdout",
     "output_type": "stream",
     "text": [
      "Epoch [7/15], Loss: 0.7441, Train acc: 0.9982, Test acc: 0.9816\n"
     ]
    },
    {
     "data": {
      "application/vnd.jupyter.widget-view+json": {
       "model_id": "17254b9f3e1e423b9c188bdcd2a70dbc",
       "version_major": 2,
       "version_minor": 0
      },
      "text/plain": [
       "Training minibatch loop :   0%|          | 0/69 [00:00<?, ?it/s]"
      ]
     },
     "metadata": {},
     "output_type": "display_data"
    },
    {
     "data": {
      "application/vnd.jupyter.widget-view+json": {
       "model_id": "bc63d3e1923d4134bae536f4d143d674",
       "version_major": 2,
       "version_minor": 0
      },
      "text/plain": [
       "Testing minibatch loop::   0%|          | 0/17 [00:00<?, ?it/s]"
      ]
     },
     "metadata": {},
     "output_type": "display_data"
    },
    {
     "name": "stdout",
     "output_type": "stream",
     "text": [
      "Epoch [8/15], Loss: 0.6890, Train acc: 0.9973, Test acc: 0.9779\n"
     ]
    },
    {
     "data": {
      "application/vnd.jupyter.widget-view+json": {
       "model_id": "f022d44bca1d4870b5c76d696d92cc1b",
       "version_major": 2,
       "version_minor": 0
      },
      "text/plain": [
       "Training minibatch loop :   0%|          | 0/69 [00:00<?, ?it/s]"
      ]
     },
     "metadata": {},
     "output_type": "display_data"
    },
    {
     "data": {
      "application/vnd.jupyter.widget-view+json": {
       "model_id": "04e8a54cb10c42f7a1284f76c9d8ce85",
       "version_major": 2,
       "version_minor": 0
      },
      "text/plain": [
       "Testing minibatch loop::   0%|          | 0/17 [00:00<?, ?it/s]"
      ]
     },
     "metadata": {},
     "output_type": "display_data"
    },
    {
     "name": "stdout",
     "output_type": "stream",
     "text": [
      "Epoch [9/15], Loss: 0.3548, Train acc: 1.0000, Test acc: 0.9816\n"
     ]
    },
    {
     "data": {
      "application/vnd.jupyter.widget-view+json": {
       "model_id": "60c0e741c9a4413bafd358848ffcfeac",
       "version_major": 2,
       "version_minor": 0
      },
      "text/plain": [
       "Training minibatch loop :   0%|          | 0/69 [00:00<?, ?it/s]"
      ]
     },
     "metadata": {},
     "output_type": "display_data"
    },
    {
     "data": {
      "application/vnd.jupyter.widget-view+json": {
       "model_id": "318e6e4ceb6d49b7af38b97de22ef636",
       "version_major": 2,
       "version_minor": 0
      },
      "text/plain": [
       "Testing minibatch loop::   0%|          | 0/17 [00:00<?, ?it/s]"
      ]
     },
     "metadata": {},
     "output_type": "display_data"
    },
    {
     "name": "stdout",
     "output_type": "stream",
     "text": [
      "Epoch [10/15], Loss: 0.3934, Train acc: 0.9991, Test acc: 0.9816\n"
     ]
    },
    {
     "data": {
      "application/vnd.jupyter.widget-view+json": {
       "model_id": "149b67e218f84bad9ccf967604136812",
       "version_major": 2,
       "version_minor": 0
      },
      "text/plain": [
       "Training minibatch loop :   0%|          | 0/69 [00:00<?, ?it/s]"
      ]
     },
     "metadata": {},
     "output_type": "display_data"
    },
    {
     "data": {
      "application/vnd.jupyter.widget-view+json": {
       "model_id": "4880d492b70f4906b1ad754300aeef98",
       "version_major": 2,
       "version_minor": 0
      },
      "text/plain": [
       "Testing minibatch loop::   0%|          | 0/17 [00:00<?, ?it/s]"
      ]
     },
     "metadata": {},
     "output_type": "display_data"
    },
    {
     "name": "stdout",
     "output_type": "stream",
     "text": [
      "Epoch [11/15], Loss: 0.4217, Train acc: 0.9991, Test acc: 0.9816\n"
     ]
    },
    {
     "data": {
      "application/vnd.jupyter.widget-view+json": {
       "model_id": "6ba611c5fa1d4379ab191e52863a7106",
       "version_major": 2,
       "version_minor": 0
      },
      "text/plain": [
       "Training minibatch loop :   0%|          | 0/69 [00:00<?, ?it/s]"
      ]
     },
     "metadata": {},
     "output_type": "display_data"
    },
    {
     "data": {
      "application/vnd.jupyter.widget-view+json": {
       "model_id": "afb80dc453a94e489da18d703932ee00",
       "version_major": 2,
       "version_minor": 0
      },
      "text/plain": [
       "Testing minibatch loop::   0%|          | 0/17 [00:00<?, ?it/s]"
      ]
     },
     "metadata": {},
     "output_type": "display_data"
    },
    {
     "name": "stdout",
     "output_type": "stream",
     "text": [
      "Epoch [12/15], Loss: 0.2324, Train acc: 1.0000, Test acc: 0.9816\n"
     ]
    },
    {
     "data": {
      "application/vnd.jupyter.widget-view+json": {
       "model_id": "7aebc32086ee4832bb68c2cd6ad1b50a",
       "version_major": 2,
       "version_minor": 0
      },
      "text/plain": [
       "Training minibatch loop :   0%|          | 0/69 [00:00<?, ?it/s]"
      ]
     },
     "metadata": {},
     "output_type": "display_data"
    },
    {
     "data": {
      "application/vnd.jupyter.widget-view+json": {
       "model_id": "de6281c414be44fc851d66bc6fda27db",
       "version_major": 2,
       "version_minor": 0
      },
      "text/plain": [
       "Testing minibatch loop::   0%|          | 0/17 [00:00<?, ?it/s]"
      ]
     },
     "metadata": {},
     "output_type": "display_data"
    },
    {
     "name": "stdout",
     "output_type": "stream",
     "text": [
      "Epoch [13/15], Loss: 0.2467, Train acc: 1.0000, Test acc: 0.9816\n"
     ]
    },
    {
     "data": {
      "application/vnd.jupyter.widget-view+json": {
       "model_id": "83137018ed1546ba9aa8d21c5cf1d846",
       "version_major": 2,
       "version_minor": 0
      },
      "text/plain": [
       "Training minibatch loop :   0%|          | 0/69 [00:00<?, ?it/s]"
      ]
     },
     "metadata": {},
     "output_type": "display_data"
    },
    {
     "data": {
      "application/vnd.jupyter.widget-view+json": {
       "model_id": "43a5dce945f34a64a886177f33e8dc7c",
       "version_major": 2,
       "version_minor": 0
      },
      "text/plain": [
       "Testing minibatch loop::   0%|          | 0/17 [00:00<?, ?it/s]"
      ]
     },
     "metadata": {},
     "output_type": "display_data"
    },
    {
     "name": "stdout",
     "output_type": "stream",
     "text": [
      "Epoch [14/15], Loss: 0.2134, Train acc: 1.0000, Test acc: 0.9816\n"
     ]
    },
    {
     "data": {
      "application/vnd.jupyter.widget-view+json": {
       "model_id": "fb46847df7da40719ed384c41051367d",
       "version_major": 2,
       "version_minor": 0
      },
      "text/plain": [
       "Training minibatch loop :   0%|          | 0/69 [00:00<?, ?it/s]"
      ]
     },
     "metadata": {},
     "output_type": "display_data"
    },
    {
     "data": {
      "application/vnd.jupyter.widget-view+json": {
       "model_id": "0812cbedfacc4d67b2035c12272b9762",
       "version_major": 2,
       "version_minor": 0
      },
      "text/plain": [
       "Testing minibatch loop::   0%|          | 0/17 [00:00<?, ?it/s]"
      ]
     },
     "metadata": {},
     "output_type": "display_data"
    },
    {
     "name": "stdout",
     "output_type": "stream",
     "text": [
      "Epoch [15/15], Loss: 0.2485, Train acc: 1.0000, Test acc: 0.9816\n",
      "Wall time: 4min 33s\n"
     ]
    }
   ],
   "source": [
    "%%time\n",
    "for_losses = []\n",
    "n_total_steps = len(train_dl)\n",
    "\n",
    "\n",
    "for epoch in range(num_epochs):\n",
    "    total_loss, train_accuracy = train(vgg16, device, train_dl, optimizer, total = math.ceil(len(train_ds)/batch_size))\n",
    "    test_accuracy = test(vgg16, device, val_dl, total = math.ceil(len(val_ds)/batch_size))\n",
    "    for_losses.append(total_loss.cpu().detach().numpy())\n",
    "    print (f'Epoch [{epoch+1}/{num_epochs}], Loss: {total_loss:.4f}, Train acc: {train_accuracy:.4f}, Test acc: {test_accuracy:.4f}')                                    "
   ]
  },
  {
   "cell_type": "markdown",
   "metadata": {
    "id": "Dt_hXy5a5CE8"
   },
   "source": [
    "### 4.2 Решить задачу 3.2, воспользовавшись подходящей предобученной моделью\n",
    "* Не использовать VGG16 (вместо нее можно взять resnet18 или другую)\n",
    "* Загрузить данные для обучения\n",
    "* Преобразования: размер 224x224, нормализация с параметрами `mean=(0.485, 0.456, 0.406), std=(0.229, 0.224, 0.225)`\n",
    "* Заменить последний полносвязный слой модели в соответствии с задачей\n",
    "* Дообучить модель. \n",
    "* Вычислить значение accuracy на тестовом множестве (добиться значения не меньше 97-98%)"
   ]
  },
  {
   "cell_type": "code",
   "execution_count": 6,
   "metadata": {},
   "outputs": [],
   "source": [
    "model_ft = models.resnet18(pretrained=True)\n",
    "num_ftrs = model_ft.fc.in_features\n",
    "# Here the size of each output sample is set to 2.\n",
    "# Alternatively, it can be generalized to nn.Linear(num_ftrs, len(class_names)).\n",
    "model_ft.fc = nn.Linear(num_ftrs, 2)\n",
    "\n",
    "model_ft = model_ft.to(device)\n",
    "\n",
    "criterion = nn.CrossEntropyLoss()\n",
    "\n",
    "# Observe that all parameters are being optimized\n",
    "optimizer_ft = optim.SGD(model_ft.parameters(), lr=0.001, momentum=0.9)\n"
   ]
  },
  {
   "cell_type": "code",
   "execution_count": 7,
   "metadata": {},
   "outputs": [],
   "source": [
    "DATA_DIR = 'C:/Users/nabr9/Documents/catsdogs'\n",
    "\n",
    "TRAIN_DIR = DATA_DIR + '/train/'"
   ]
  },
  {
   "cell_type": "code",
   "execution_count": 8,
   "metadata": {},
   "outputs": [],
   "source": [
    "train_tfms = torchvision.transforms.Compose([\n",
    "    torchvision.transforms.Resize((224, 224)),\n",
    "    torchvision.transforms.ToTensor(), torchvision.transforms.Normalize((0.485, 0.456, 0.406), (0.229, 0.224, 0.225))])\n",
    "\n",
    "valid_tfms = torchvision.transforms.Compose([\n",
    "    torchvision.transforms.Resize((224, 224)),\n",
    "    torchvision.transforms.ToTensor(), torchvision.transforms.Normalize((0.485, 0.456, 0.406), (0.229, 0.224, 0.225))])"
   ]
  },
  {
   "cell_type": "code",
   "execution_count": 9,
   "metadata": {},
   "outputs": [],
   "source": [
    "train_ds = ImageFolder (TRAIN_DIR , transform = train_tfms)"
   ]
  },
  {
   "cell_type": "code",
   "execution_count": 10,
   "metadata": {},
   "outputs": [],
   "source": [
    "test_set_size = int(len(train_ds) * 0.8)\n",
    "valid_set_size = len(train_ds) - test_set_size\n",
    "_, valid_ds = torch.utils.data.random_split(train_ds, [test_set_size, valid_set_size])"
   ]
  },
  {
   "cell_type": "code",
   "execution_count": 11,
   "metadata": {},
   "outputs": [],
   "source": [
    "batch_size = 16"
   ]
  },
  {
   "cell_type": "code",
   "execution_count": 12,
   "metadata": {},
   "outputs": [],
   "source": [
    "train_dl = torch.utils.data.DataLoader(train_ds, batch_size, shuffle=True, \n",
    "                          num_workers=4, pin_memory=True)\n",
    "val_dl = torch.utils.data.DataLoader(valid_ds, batch_size,\n",
    "                        num_workers=4, pin_memory=True)"
   ]
  },
  {
   "cell_type": "code",
   "execution_count": 13,
   "metadata": {},
   "outputs": [
    {
     "data": {
      "text/plain": [
       "1563"
      ]
     },
     "execution_count": 13,
     "metadata": {},
     "output_type": "execute_result"
    }
   ],
   "source": [
    "math.ceil(len(train_ds)/batch_size)"
   ]
  },
  {
   "cell_type": "code",
   "execution_count": 14,
   "metadata": {},
   "outputs": [
    {
     "data": {
      "text/plain": [
       "313"
      ]
     },
     "execution_count": 14,
     "metadata": {},
     "output_type": "execute_result"
    }
   ],
   "source": [
    "math.ceil(len(valid_ds)/batch_size)"
   ]
  },
  {
   "cell_type": "code",
   "execution_count": null,
   "metadata": {},
   "outputs": [],
   "source": []
  },
  {
   "cell_type": "code",
   "execution_count": 15,
   "metadata": {},
   "outputs": [],
   "source": [
    "model_ft = models.resnet18(pretrained=True)\n",
    "num_ftrs = model_ft.fc.in_features\n",
    "# Here the size of each output sample is set to 2.\n",
    "# Alternatively, it can be generalized to nn.Linear(num_ftrs, len(class_names)).\n",
    "model_ft.fc = nn.Linear(num_ftrs, 2)\n",
    "\n",
    "criterion = nn.CrossEntropyLoss()\n",
    "\n",
    "# Observe that all parameters are being optimized\n",
    "optimizer = optim.SGD(model_ft.parameters(), lr=0.001, momentum=0.9)\n"
   ]
  },
  {
   "cell_type": "code",
   "execution_count": 18,
   "metadata": {},
   "outputs": [],
   "source": [
    "train_dl = DeviceDataLoader(train_dl, device)\n",
    "val_dl = DeviceDataLoader(val_dl, device)\n",
    "\n",
    "for param in model_ft.parameters():\n",
    "    param.requires_grad = True\n",
    "model = to_device(model_ft, device)"
   ]
  },
  {
   "cell_type": "code",
   "execution_count": 20,
   "metadata": {},
   "outputs": [
    {
     "data": {
      "application/vnd.jupyter.widget-view+json": {
       "model_id": "eb6306cb3ea749919f5db1b1aae923a3",
       "version_major": 2,
       "version_minor": 0
      },
      "text/plain": [
       "Training minibatch loop :   0%|          | 0/1563 [00:00<?, ?it/s]"
      ]
     },
     "metadata": {},
     "output_type": "display_data"
    },
    {
     "data": {
      "application/vnd.jupyter.widget-view+json": {
       "model_id": "e04f5d5c228246b7ba219c033893b91b",
       "version_major": 2,
       "version_minor": 0
      },
      "text/plain": [
       "Testing minibatch loop::   0%|          | 0/313 [00:00<?, ?it/s]"
      ]
     },
     "metadata": {},
     "output_type": "display_data"
    },
    {
     "name": "stdout",
     "output_type": "stream",
     "text": [
      "Epoch [1/15], Loss: 55.1785, Train acc: 0.9872, Test acc: 0.9988\n"
     ]
    },
    {
     "data": {
      "application/vnd.jupyter.widget-view+json": {
       "model_id": "d8721f3da1194dc180d957acabebf78d",
       "version_major": 2,
       "version_minor": 0
      },
      "text/plain": [
       "Training minibatch loop :   0%|          | 0/1563 [00:00<?, ?it/s]"
      ]
     },
     "metadata": {},
     "output_type": "display_data"
    },
    {
     "data": {
      "application/vnd.jupyter.widget-view+json": {
       "model_id": "6f841a86ff314e7198b8cf5873c90633",
       "version_major": 2,
       "version_minor": 0
      },
      "text/plain": [
       "Testing minibatch loop::   0%|          | 0/313 [00:00<?, ?it/s]"
      ]
     },
     "metadata": {},
     "output_type": "display_data"
    },
    {
     "name": "stdout",
     "output_type": "stream",
     "text": [
      "Epoch [2/15], Loss: 27.6733, Train acc: 0.9942, Test acc: 0.9986\n"
     ]
    },
    {
     "data": {
      "application/vnd.jupyter.widget-view+json": {
       "model_id": "74e2af5cf46c430ebf54c804f171a1e1",
       "version_major": 2,
       "version_minor": 0
      },
      "text/plain": [
       "Training minibatch loop :   0%|          | 0/1563 [00:00<?, ?it/s]"
      ]
     },
     "metadata": {},
     "output_type": "display_data"
    },
    {
     "data": {
      "application/vnd.jupyter.widget-view+json": {
       "model_id": "4d52548f68044abaa0e4c76e934bded9",
       "version_major": 2,
       "version_minor": 0
      },
      "text/plain": [
       "Testing minibatch loop::   0%|          | 0/313 [00:00<?, ?it/s]"
      ]
     },
     "metadata": {},
     "output_type": "display_data"
    },
    {
     "name": "stdout",
     "output_type": "stream",
     "text": [
      "Epoch [3/15], Loss: 18.2230, Train acc: 0.9962, Test acc: 0.9998\n"
     ]
    },
    {
     "data": {
      "application/vnd.jupyter.widget-view+json": {
       "model_id": "6c6cbb15f3254b659a96939e3af89879",
       "version_major": 2,
       "version_minor": 0
      },
      "text/plain": [
       "Training minibatch loop :   0%|          | 0/1563 [00:00<?, ?it/s]"
      ]
     },
     "metadata": {},
     "output_type": "display_data"
    },
    {
     "data": {
      "application/vnd.jupyter.widget-view+json": {
       "model_id": "b51195b22f37487b98fcc57519b146e5",
       "version_major": 2,
       "version_minor": 0
      },
      "text/plain": [
       "Testing minibatch loop::   0%|          | 0/313 [00:00<?, ?it/s]"
      ]
     },
     "metadata": {},
     "output_type": "display_data"
    },
    {
     "name": "stdout",
     "output_type": "stream",
     "text": [
      "Epoch [4/15], Loss: 10.4604, Train acc: 0.9983, Test acc: 1.0000\n"
     ]
    },
    {
     "data": {
      "application/vnd.jupyter.widget-view+json": {
       "model_id": "738a648cf4ae448983bd3cfa59935785",
       "version_major": 2,
       "version_minor": 0
      },
      "text/plain": [
       "Training minibatch loop :   0%|          | 0/1563 [00:00<?, ?it/s]"
      ]
     },
     "metadata": {},
     "output_type": "display_data"
    },
    {
     "data": {
      "application/vnd.jupyter.widget-view+json": {
       "model_id": "13824ff0110945eea70bcf87ce601211",
       "version_major": 2,
       "version_minor": 0
      },
      "text/plain": [
       "Testing minibatch loop::   0%|          | 0/313 [00:00<?, ?it/s]"
      ]
     },
     "metadata": {},
     "output_type": "display_data"
    },
    {
     "name": "stdout",
     "output_type": "stream",
     "text": [
      "Epoch [5/15], Loss: 8.6708, Train acc: 0.9986, Test acc: 0.9994\n"
     ]
    },
    {
     "data": {
      "application/vnd.jupyter.widget-view+json": {
       "model_id": "c0d2f47799cb48be9e58b2d0ad1d3fcb",
       "version_major": 2,
       "version_minor": 0
      },
      "text/plain": [
       "Training minibatch loop :   0%|          | 0/1563 [00:00<?, ?it/s]"
      ]
     },
     "metadata": {},
     "output_type": "display_data"
    },
    {
     "data": {
      "application/vnd.jupyter.widget-view+json": {
       "model_id": "933a1d778acd4f89bd8393c0a2313193",
       "version_major": 2,
       "version_minor": 0
      },
      "text/plain": [
       "Testing minibatch loop::   0%|          | 0/313 [00:00<?, ?it/s]"
      ]
     },
     "metadata": {},
     "output_type": "display_data"
    },
    {
     "name": "stdout",
     "output_type": "stream",
     "text": [
      "Epoch [6/15], Loss: 6.2065, Train acc: 0.9991, Test acc: 1.0000\n"
     ]
    },
    {
     "data": {
      "application/vnd.jupyter.widget-view+json": {
       "model_id": "cd0b4b9399d347399d33c1a1af2b9910",
       "version_major": 2,
       "version_minor": 0
      },
      "text/plain": [
       "Training minibatch loop :   0%|          | 0/1563 [00:00<?, ?it/s]"
      ]
     },
     "metadata": {},
     "output_type": "display_data"
    },
    {
     "data": {
      "application/vnd.jupyter.widget-view+json": {
       "model_id": "9c18e732b1c142caa18240390f6cd65f",
       "version_major": 2,
       "version_minor": 0
      },
      "text/plain": [
       "Testing minibatch loop::   0%|          | 0/313 [00:00<?, ?it/s]"
      ]
     },
     "metadata": {},
     "output_type": "display_data"
    },
    {
     "name": "stdout",
     "output_type": "stream",
     "text": [
      "Epoch [7/15], Loss: 7.5234, Train acc: 0.9987, Test acc: 0.9996\n"
     ]
    },
    {
     "data": {
      "application/vnd.jupyter.widget-view+json": {
       "model_id": "b1be7b179ea645b882aa6d7e85e1235e",
       "version_major": 2,
       "version_minor": 0
      },
      "text/plain": [
       "Training minibatch loop :   0%|          | 0/1563 [00:00<?, ?it/s]"
      ]
     },
     "metadata": {},
     "output_type": "display_data"
    },
    {
     "data": {
      "application/vnd.jupyter.widget-view+json": {
       "model_id": "7f2684a05ac943dba7dd64a83bc44c14",
       "version_major": 2,
       "version_minor": 0
      },
      "text/plain": [
       "Testing minibatch loop::   0%|          | 0/313 [00:00<?, ?it/s]"
      ]
     },
     "metadata": {},
     "output_type": "display_data"
    },
    {
     "name": "stdout",
     "output_type": "stream",
     "text": [
      "Epoch [8/15], Loss: 3.5982, Train acc: 0.9996, Test acc: 1.0000\n"
     ]
    },
    {
     "data": {
      "application/vnd.jupyter.widget-view+json": {
       "model_id": "c6b615bb0ab043cebce3c145420a68c1",
       "version_major": 2,
       "version_minor": 0
      },
      "text/plain": [
       "Training minibatch loop :   0%|          | 0/1563 [00:00<?, ?it/s]"
      ]
     },
     "metadata": {},
     "output_type": "display_data"
    },
    {
     "data": {
      "application/vnd.jupyter.widget-view+json": {
       "model_id": "a7b44267430a4ca4b4db859ef3e39452",
       "version_major": 2,
       "version_minor": 0
      },
      "text/plain": [
       "Testing minibatch loop::   0%|          | 0/313 [00:00<?, ?it/s]"
      ]
     },
     "metadata": {},
     "output_type": "display_data"
    },
    {
     "name": "stdout",
     "output_type": "stream",
     "text": [
      "Epoch [9/15], Loss: 2.1494, Train acc: 0.9997, Test acc: 1.0000\n"
     ]
    },
    {
     "data": {
      "application/vnd.jupyter.widget-view+json": {
       "model_id": "20a9af052258454983656dedd962602e",
       "version_major": 2,
       "version_minor": 0
      },
      "text/plain": [
       "Training minibatch loop :   0%|          | 0/1563 [00:00<?, ?it/s]"
      ]
     },
     "metadata": {},
     "output_type": "display_data"
    },
    {
     "data": {
      "application/vnd.jupyter.widget-view+json": {
       "model_id": "949d2ea522d546bb9723671cad84b58c",
       "version_major": 2,
       "version_minor": 0
      },
      "text/plain": [
       "Testing minibatch loop::   0%|          | 0/313 [00:00<?, ?it/s]"
      ]
     },
     "metadata": {},
     "output_type": "display_data"
    },
    {
     "name": "stdout",
     "output_type": "stream",
     "text": [
      "Epoch [10/15], Loss: 1.1297, Train acc: 0.9998, Test acc: 0.9998\n"
     ]
    },
    {
     "data": {
      "application/vnd.jupyter.widget-view+json": {
       "model_id": "8c36654073a94992a479ac22499d7ea6",
       "version_major": 2,
       "version_minor": 0
      },
      "text/plain": [
       "Training minibatch loop :   0%|          | 0/1563 [00:00<?, ?it/s]"
      ]
     },
     "metadata": {},
     "output_type": "display_data"
    },
    {
     "data": {
      "application/vnd.jupyter.widget-view+json": {
       "model_id": "8a410880fa5b4515add979cd44fbc506",
       "version_major": 2,
       "version_minor": 0
      },
      "text/plain": [
       "Testing minibatch loop::   0%|          | 0/313 [00:00<?, ?it/s]"
      ]
     },
     "metadata": {},
     "output_type": "display_data"
    },
    {
     "name": "stdout",
     "output_type": "stream",
     "text": [
      "Epoch [11/15], Loss: 1.6598, Train acc: 0.9997, Test acc: 1.0000\n"
     ]
    },
    {
     "data": {
      "application/vnd.jupyter.widget-view+json": {
       "model_id": "ad797c0a2adb41f084e09671c0c8a055",
       "version_major": 2,
       "version_minor": 0
      },
      "text/plain": [
       "Training minibatch loop :   0%|          | 0/1563 [00:00<?, ?it/s]"
      ]
     },
     "metadata": {},
     "output_type": "display_data"
    },
    {
     "data": {
      "application/vnd.jupyter.widget-view+json": {
       "model_id": "3c8b2bc95daa4673b7b97b10ad9671f9",
       "version_major": 2,
       "version_minor": 0
      },
      "text/plain": [
       "Testing minibatch loop::   0%|          | 0/313 [00:00<?, ?it/s]"
      ]
     },
     "metadata": {},
     "output_type": "display_data"
    },
    {
     "name": "stdout",
     "output_type": "stream",
     "text": [
      "Epoch [12/15], Loss: 1.8702, Train acc: 0.9997, Test acc: 0.9998\n"
     ]
    },
    {
     "data": {
      "application/vnd.jupyter.widget-view+json": {
       "model_id": "02fe2c5f4ac04dc5b94acd2dddbb021f",
       "version_major": 2,
       "version_minor": 0
      },
      "text/plain": [
       "Training minibatch loop :   0%|          | 0/1563 [00:00<?, ?it/s]"
      ]
     },
     "metadata": {},
     "output_type": "display_data"
    },
    {
     "data": {
      "application/vnd.jupyter.widget-view+json": {
       "model_id": "b6b0aad4ef3042d8a18b21fec5053af3",
       "version_major": 2,
       "version_minor": 0
      },
      "text/plain": [
       "Testing minibatch loop::   0%|          | 0/313 [00:00<?, ?it/s]"
      ]
     },
     "metadata": {},
     "output_type": "display_data"
    },
    {
     "name": "stdout",
     "output_type": "stream",
     "text": [
      "Epoch [13/15], Loss: 7.5949, Train acc: 0.9993, Test acc: 0.9998\n"
     ]
    },
    {
     "data": {
      "application/vnd.jupyter.widget-view+json": {
       "model_id": "8976bce294724dfcb43c5efb60e2467d",
       "version_major": 2,
       "version_minor": 0
      },
      "text/plain": [
       "Training minibatch loop :   0%|          | 0/1563 [00:00<?, ?it/s]"
      ]
     },
     "metadata": {},
     "output_type": "display_data"
    },
    {
     "data": {
      "application/vnd.jupyter.widget-view+json": {
       "model_id": "5e23e52c18fa467db598c395f2e0c4f1",
       "version_major": 2,
       "version_minor": 0
      },
      "text/plain": [
       "Testing minibatch loop::   0%|          | 0/313 [00:00<?, ?it/s]"
      ]
     },
     "metadata": {},
     "output_type": "display_data"
    },
    {
     "name": "stdout",
     "output_type": "stream",
     "text": [
      "Epoch [14/15], Loss: 0.9475, Train acc: 0.9999, Test acc: 0.9998\n"
     ]
    },
    {
     "data": {
      "application/vnd.jupyter.widget-view+json": {
       "model_id": "ea803d08247b4dec9091e249c9d11fc1",
       "version_major": 2,
       "version_minor": 0
      },
      "text/plain": [
       "Training minibatch loop :   0%|          | 0/1563 [00:00<?, ?it/s]"
      ]
     },
     "metadata": {},
     "output_type": "display_data"
    },
    {
     "data": {
      "application/vnd.jupyter.widget-view+json": {
       "model_id": "4b90be6d68eb4b6db9ce769c21822455",
       "version_major": 2,
       "version_minor": 0
      },
      "text/plain": [
       "Testing minibatch loop::   0%|          | 0/313 [00:00<?, ?it/s]"
      ]
     },
     "metadata": {},
     "output_type": "display_data"
    },
    {
     "name": "stdout",
     "output_type": "stream",
     "text": [
      "Epoch [15/15], Loss: 0.8588, Train acc: 0.9999, Test acc: 0.9998\n",
      "Wall time: 14min 14s\n"
     ]
    }
   ],
   "source": [
    "%%time\n",
    "for_losses = []\n",
    "n_total_steps = len(train_dl)\n",
    "\n",
    "\n",
    "for epoch in range(15):\n",
    "    total_loss, train_accuracy = train(model, device, train_dl, optimizer, total = math.ceil(len(train_ds)/batch_size))\n",
    "    test_accuracy = test(model, device, val_dl, total = math.ceil(len(valid_ds)/batch_size))\n",
    "    for_losses.append(total_loss.cpu().detach().numpy())\n",
    "    print (f'Epoch [{epoch+1}/{15}], Loss: {total_loss:.4f}, Train acc: {train_accuracy:.4f}, Test acc: {test_accuracy:.4f}')     "
   ]
  },
  {
   "cell_type": "code",
   "execution_count": null,
   "metadata": {},
   "outputs": [],
   "source": []
  }
 ],
 "metadata": {
  "accelerator": "GPU",
  "colab": {
   "collapsed_sections": [],
   "provenance": [],
   "toc_visible": true
  },
  "kernelspec": {
   "display_name": "Python 3 (ipykernel)",
   "language": "python",
   "name": "python3"
  },
  "language_info": {
   "codemirror_mode": {
    "name": "ipython",
    "version": 3
   },
   "file_extension": ".py",
   "mimetype": "text/x-python",
   "name": "python",
   "nbconvert_exporter": "python",
   "pygments_lexer": "ipython3",
   "version": "3.9.7"
  }
 },
 "nbformat": 4,
 "nbformat_minor": 1
}
