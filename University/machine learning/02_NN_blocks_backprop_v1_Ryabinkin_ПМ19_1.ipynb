{
  "cells": [
    {
      "cell_type": "code",
      "execution_count": 1,
      "metadata": {
        "id": "PqC4R7SGseKa"
      },
      "outputs": [],
      "source": [
        "import torch"
      ]
    },
    {
      "cell_type": "markdown",
      "metadata": {
        "id": "0J2RM8f5wP33"
      },
      "source": [
        "## 2.1 Создание нейронов и полносвязных слоев"
      ]
    },
    {
      "cell_type": "markdown",
      "metadata": {
        "id": "_2ArJn_nsdZC"
      },
      "source": [
        "2.1.1. Используя операции над матрицами и векторами из библиотеки `torch`, реализовать нейрон с заданными весами `weights` и `bias`. Прогнать вектор `inputs` через нейрон и вывести результат. "
      ]
    },
    {
      "cell_type": "code",
      "execution_count": null,
      "metadata": {
        "id": "f4agkY9WqPwe"
      },
      "outputs": [],
      "source": [
        "class Neuron:\n",
        "      def __init__(self, weights, bias):\n",
        "        self.weights = weights\n",
        "        self.bias = bias\n",
        "        pass\n",
        "\n",
        "      def forward(self, inputs):\n",
        "        output = torch.dot(weights, inputs) + self.bias    \n",
        "        return output"
      ]
    },
    {
      "cell_type": "code",
      "execution_count": null,
      "metadata": {
        "id": "HJRkSkHHsb7u"
      },
      "outputs": [],
      "source": [
        "inputs = torch.tensor([1.0, 2.0, 3.0, 4.0])\n",
        "weights = torch.tensor([-0.2, 0.3, -0.5, 0.7])\n",
        "bias = 3.14\n",
        "neu = Neuron(weights, bias)"
      ]
    },
    {
      "cell_type": "code",
      "execution_count": null,
      "metadata": {
        "id": "KNY7_wF79m_5",
        "outputId": "ac4b8d9e-442d-43b6-fa0a-14a50b442ca1"
      },
      "outputs": [
        {
          "data": {
            "text/plain": [
              "tensor(4.8400)"
            ]
          },
          "execution_count": 14,
          "metadata": {},
          "output_type": "execute_result"
        }
      ],
      "source": [
        "neu.forward(inputs)"
      ]
    },
    {
      "cell_type": "markdown",
      "metadata": {
        "id": "1qJvnwiyty37"
      },
      "source": [
        "2.1.2 Используя операции над матрицами и векторами из библиотеки `torch`, реализовать полносвязный слой с заданными весами `weights` и `biases`. Прогнать вектор `inputs` через слой и вывести результат. "
      ]
    },
    {
      "cell_type": "code",
      "execution_count": null,
      "metadata": {
        "id": "fVWF3a9vtx90"
      },
      "outputs": [],
      "source": [
        "class Linear:\n",
        "      def __init__(self, weights, bias):\n",
        "        self.weights = weights\n",
        "        self.bias = bias\n",
        "        pass\n",
        "\n",
        "      def forward(self, inputs):\n",
        "        output = torch.matmul(inputs, weights) + self.biases\n",
        "        return output"
      ]
    },
    {
      "cell_type": "code",
      "execution_count": null,
      "metadata": {
        "id": "Fo-JFnHPuFCS"
      },
      "outputs": [],
      "source": [
        "inputs = torch.tensor([[1.0, 2.0, 3.0, 4.0]])\n",
        "weights = torch.tensor([[-0.2, 0.3, -0.5, 0.7],\n",
        "                        [0.5, -0.91, 0.26, -0.5],\n",
        "                        [-0.26, -0.27, 0.17, 0.87]]).T\n",
        "\n",
        "biases = torch.tensor([3.14, 2.71, 7.2])"
      ]
    },
    {
      "cell_type": "code",
      "execution_count": null,
      "metadata": {
        "id": "34QesSQW9m_6",
        "outputId": "742765ec-7fa7-4224-e483-1f1075752a1c"
      },
      "outputs": [
        {
          "data": {
            "text/plain": [
              "tensor([[ 2.9400,  3.2100,  6.9400],\n",
              "        [ 3.7400,  0.8900,  6.6600],\n",
              "        [ 1.6400,  3.4900,  7.7100],\n",
              "        [ 5.9400,  0.7100, 10.6800]])"
            ]
          },
          "execution_count": 69,
          "metadata": {},
          "output_type": "execute_result"
        }
      ],
      "source": [
        "neu = Linear(weights, bias)\n",
        "neu.forward(inputs)"
      ]
    },
    {
      "cell_type": "markdown",
      "metadata": {
        "id": "mQtsJzcxuyGd"
      },
      "source": [
        "2.1.3 Реализовать полносвязный слой из __2.1.2__ таким образом, чтобы он мог принимать на вход матрицу (батч) с данными. Продемонстрировать работу.\n",
        "Результатом прогона сквозь слой должна быть матрица размера `batch_size` x `n_neurons`.\n"
      ]
    },
    {
      "cell_type": "code",
      "execution_count": null,
      "metadata": {
        "id": "rGjDV-NL9m_7"
      },
      "outputs": [],
      "source": [
        "class Linear:\n",
        "      def __init__(self, weights, bias):\n",
        "        self.weights = weights\n",
        "        self.bias = bias\n",
        "\n",
        "      def forward(self, inputs):\n",
        "        output = torch.matmul(inputs, weights) + self.biases\n",
        "        return output"
      ]
    },
    {
      "cell_type": "code",
      "execution_count": null,
      "metadata": {
        "id": "Z8IizmtsuhO1"
      },
      "outputs": [],
      "source": [
        "inputs = torch.tensor([[1, 2, 3, 2.5], \n",
        "                       [2, 5, -1, 2], \n",
        "                       [-1.5, 2.7, 3.3, -0.8]])"
      ]
    },
    {
      "cell_type": "code",
      "execution_count": null,
      "metadata": {
        "id": "a3Hc_iuG9m_7",
        "outputId": "de257921-b4e1-40ca-c338-3612754525db"
      },
      "outputs": [
        {
          "data": {
            "text/plain": [
              "tensor([[ 2.9400,  3.7100,  7.5900],\n",
              "        [ 3.7400, -1.8400,  6.4710],\n",
              "        [ 1.6400,  2.4500,  7.7610],\n",
              "        [ 4.8900,  1.7100,  6.5040]])"
            ]
          },
          "execution_count": 59,
          "metadata": {},
          "output_type": "execute_result"
        }
      ],
      "source": [
        "neu = Linear(weights, bias)\n",
        "neu.forward(inputs)"
      ]
    },
    {
      "cell_type": "markdown",
      "metadata": {
        "id": "OQ2OxH4_vBLu"
      },
      "source": [
        "2.1.4 Используя операции над матрицами и векторами из библиотеки `torch`, реализовать полносвязный слой из `n_neurons` нейронов с `n_features` весами у каждого нейрона (инициализируются из стандартного нормального распределения). Прогнать вектор `inputs` через слой и вывести результат. Результатом прогона сквозь слой должна быть матрица размера `batch_size` x `n_neurons`."
      ]
    },
    {
      "cell_type": "code",
      "execution_count": null,
      "metadata": {
        "id": "IOv52EdovASs"
      },
      "outputs": [],
      "source": [
        "class Linear:\n",
        "      def __init__(self, n_features, n_neurons):\n",
        "        self.w = torch.randn(n_neurons, n_features)\n",
        "        self.b = torch.randn(n_neurons)\n",
        "        pass\n",
        "\n",
        "      def forward(self, inputs):\n",
        "        return torch.matmul(inputs, self.w) + self.b"
      ]
    },
    {
      "cell_type": "code",
      "execution_count": null,
      "metadata": {
        "id": "5jkAcEQo9m_7",
        "outputId": "adb4d679-3bf6-4718-e447-9ff627ec2f4e"
      },
      "outputs": [
        {
          "data": {
            "text/plain": [
              "tensor([[ 7.2674,  4.9830, -7.7018, -0.4211, -5.2151],\n",
              "        [ 2.0390,  4.8124, -1.6678,  3.2246, -8.1055],\n",
              "        [ 5.1547, -0.6974, -3.5237, -2.4117, -6.5945]])"
            ]
          },
          "execution_count": 177,
          "metadata": {},
          "output_type": "execute_result"
        }
      ],
      "source": [
        "inputs = torch.tensor([[1, 2, 3, 2.5], \n",
        "                       [2, 5, -1, 2], \n",
        "                       [-1.5, 2.7, 3.3, -0.8]])\n",
        "\n",
        "n_neurons, n_features = 5, 4\n",
        "\n",
        "nn_4 = Linear(n_features, n_neurons).forward(inputs); nn_4"
      ]
    },
    {
      "cell_type": "markdown",
      "metadata": {
        "id": "IPG4UqL4wajI"
      },
      "source": [
        "2.1.5 Используя решение из __2.1.4__, создать 2 полносвязных слоя и пропустить матрицу `inputs` последовательно через эти два слоя. Количество нейронов в первом слое выбрать произвольно, количество нейронов во втором слое выбрать так, чтобы результатом прогона являлась матрица (3x7). "
      ]
    },
    {
      "cell_type": "code",
      "execution_count": null,
      "metadata": {
        "id": "RjjQIQlTxJE6"
      },
      "outputs": [],
      "source": [
        "inputs = torch.tensor([[1, 2, 3, 2.5], \n",
        "                       [2, 5, -1, 2], \n",
        "                       [-1.5, 2.7, 3.3, -0.8]])"
      ]
    },
    {
      "cell_type": "code",
      "execution_count": null,
      "metadata": {
        "id": "zguEVfQR9m_9",
        "outputId": "fa16f58d-1815-49ad-c927-44739377990b"
      },
      "outputs": [
        {
          "data": {
            "text/plain": [
              "tensor([[ 3.3834, -5.4573,  0.9270, -3.1700, -3.5572, -0.5477,  1.9104],\n",
              "        [ 4.4967, -6.5501,  6.2990, -5.3863,  4.5801,  1.0482,  1.9520],\n",
              "        [ 3.2120, -6.7175, -3.0371, -1.3277, -8.9775, -1.1923,  1.2636]])"
            ]
          },
          "execution_count": 171,
          "metadata": {},
          "output_type": "execute_result"
        }
      ],
      "source": [
        "a, b = Linear(4, 3), Linear(3, 7)\n",
        "b.forward(a.forward(inputs))"
      ]
    },
    {
      "cell_type": "markdown",
      "metadata": {
        "id": "cRVH_2K7xTBC"
      },
      "source": [
        "## 2.2 Создание функций активации"
      ]
    },
    {
      "cell_type": "markdown",
      "metadata": {
        "id": "B9kngE6Fxs9D"
      },
      "source": [
        "2.2.1 Используя операции над матрицами и векторами из библиотеки `torch`, реализовать функцию активации ReLU:\n",
        "\n",
        "![](https://wikimedia.org/api/rest_v1/media/math/render/svg/f4353f4e3e484130504049599d2e7b040793e1eb)\n",
        "\n",
        "Создать матрицу размера (4,3), заполненную числами из стандартного нормального распределения, и проверить работоспособность функции активации."
      ]
    },
    {
      "cell_type": "code",
      "execution_count": null,
      "metadata": {
        "id": "iM2u9anm9m_9"
      },
      "outputs": [],
      "source": [
        "from torch.nn import ReLU"
      ]
    },
    {
      "cell_type": "code",
      "execution_count": null,
      "metadata": {
        "id": "jZLvMRByxSTC"
      },
      "outputs": [],
      "source": [
        "class ReLU1:\n",
        "    def forward(self, inputs):\n",
        "        self.inputs = inputs\n",
        "        inputs[(inputs < 0)] = 0\n",
        "        return inputs"
      ]
    },
    {
      "cell_type": "code",
      "execution_count": null,
      "metadata": {
        "id": "G7XHS92r9m_9"
      },
      "outputs": [],
      "source": [
        "m = ReLU1()"
      ]
    },
    {
      "cell_type": "code",
      "execution_count": null,
      "metadata": {
        "id": "1xr-x_I79m_-",
        "outputId": "02d6081e-c6a5-441a-b345-4df323adc0c8"
      },
      "outputs": [
        {
          "data": {
            "text/plain": [
              "tensor([[ 1.3268,  1.5782, -0.7202],\n",
              "        [-0.6921, -0.4556,  1.4412],\n",
              "        [-0.0512,  0.6448, -0.6462],\n",
              "        [ 0.2759,  0.5214, -3.6641]])"
            ]
          },
          "execution_count": 161,
          "metadata": {},
          "output_type": "execute_result"
        }
      ],
      "source": [
        "inputi = torch.randn(4, 3); inputi"
      ]
    },
    {
      "cell_type": "code",
      "execution_count": null,
      "metadata": {
        "id": "M0IRNoIt9m_-",
        "outputId": "25e01dda-e73d-4d7a-9be1-3e239b357a03"
      },
      "outputs": [
        {
          "data": {
            "text/plain": [
              "tensor([[1.3296, 0.1498, 0.0000],\n",
              "        [0.0000, 0.0000, 0.0000],\n",
              "        [0.0000, 2.0738, 0.0000],\n",
              "        [0.9025, 0.0000, 0.0000]])"
            ]
          },
          "execution_count": 82,
          "metadata": {},
          "output_type": "execute_result"
        }
      ],
      "source": [
        "output = m.forward(inputi); output"
      ]
    },
    {
      "cell_type": "markdown",
      "metadata": {
        "id": "puExCWiKyTtb"
      },
      "source": [
        "2.2.2 Используя операции над матрицами и векторами из библиотеки `torch`, реализовать функцию активации softmax:\n",
        "\n",
        "![](https://wikimedia.org/api/rest_v1/media/math/render/svg/6d7500d980c313da83e4117da701bf7c8f1982f5)\n",
        "\n",
        "Создать матрицу размера (4,3), заполненную числами из стандартного нормального распределения, и проверить работоспособность функции активации. Строки матрицы трактовать как выходы линейного слоя некоторого классификатора для 4 различных примеров."
      ]
    },
    {
      "cell_type": "code",
      "execution_count": null,
      "metadata": {
        "id": "VGW_urez9m_-"
      },
      "outputs": [],
      "source": [
        "from torch.nn import Softmax"
      ]
    },
    {
      "cell_type": "code",
      "execution_count": null,
      "metadata": {
        "id": "CV0ADnMi9m_-"
      },
      "outputs": [],
      "source": [
        "m = Softmax()"
      ]
    },
    {
      "cell_type": "code",
      "execution_count": null,
      "metadata": {
        "id": "BPQrxqq49m_-",
        "outputId": "25bd7150-04cd-4db1-fab2-bf27a4a092ca"
      },
      "outputs": [
        {
          "name": "stderr",
          "output_type": "stream",
          "text": [
            "C:\\Users\\nabr9\\AppData\\Local\\Temp/ipykernel_13720/1256584602.py:1: UserWarning: Implicit dimension choice for softmax has been deprecated. Change the call to include dim=X as an argument.\n",
            "  output = m(inputi); output\n"
          ]
        },
        {
          "data": {
            "text/plain": [
              "tensor([[0.4358, 0.2205, 0.3437],\n",
              "        [0.8322, 0.1303, 0.0375],\n",
              "        [0.5710, 0.3539, 0.0751],\n",
              "        [0.1682, 0.1623, 0.6695]])"
            ]
          },
          "execution_count": 97,
          "metadata": {},
          "output_type": "execute_result"
        }
      ],
      "source": [
        "output = m(inputi); output"
      ]
    },
    {
      "cell_type": "code",
      "execution_count": 5,
      "metadata": {
        "id": "fXNcFlqqyKHl"
      },
      "outputs": [],
      "source": [
        "class Softmax:\n",
        "      def forward(self, inputs):\n",
        "        self.inputs = inputs\n",
        "        exponential = torch.exp(inputs)\n",
        "        probabilities = exponential.T / torch.sum(exponential, 1)\n",
        "        return probabilities.T"
      ]
    },
    {
      "cell_type": "code",
      "execution_count": null,
      "metadata": {
        "colab": {
          "base_uri": "https://localhost:8080/"
        },
        "id": "1fRmOMHm9m__",
        "outputId": "8d6a89be-c38f-4dfb-a2e6-8b7f14cae541"
      },
      "outputs": [
        {
          "output_type": "execute_result",
          "data": {
            "text/plain": [
              "tensor([[0.0641, 0.1744, 0.4740, 0.2875],\n",
              "        [0.0452, 0.9074, 0.0022, 0.0452],\n",
              "        [0.0052, 0.3488, 0.6355, 0.0105]])"
            ]
          },
          "metadata": {},
          "execution_count": 8
        }
      ],
      "source": [
        "Softmax().forward(inputi)"
      ]
    },
    {
      "cell_type": "markdown",
      "metadata": {
        "id": "vxVK2TYez_Ye"
      },
      "source": [
        "2.2.3 Используя операции над матрицами и векторами из библиотеки `torch`, реализовать функцию активации ELU:\n",
        "\n",
        "![](https://wikimedia.org/api/rest_v1/media/math/render/svg/eb23becd37c3602c4838e53f532163279192e4fd)\n",
        "\n",
        "Создать матрицу размера (4,3), заполненную числами из стандартного нормального распределения, и проверить работоспособность функции активации."
      ]
    },
    {
      "cell_type": "code",
      "execution_count": null,
      "metadata": {
        "id": "o912e84I9m__"
      },
      "outputs": [],
      "source": [
        "from torch.nn import ELU"
      ]
    },
    {
      "cell_type": "code",
      "execution_count": null,
      "metadata": {
        "id": "VdD7PMgT9m__"
      },
      "outputs": [],
      "source": [
        "m = ELU()"
      ]
    },
    {
      "cell_type": "code",
      "execution_count": null,
      "metadata": {
        "id": "_MhLyJSL9m__",
        "outputId": "5130e376-b04a-44b1-b712-c3600abc209d"
      },
      "outputs": [
        {
          "data": {
            "text/plain": [
              "tensor([[ 0.4925, -0.1721,  0.2553],\n",
              "        [ 1.2305, -0.4643, -0.8458],\n",
              "        [ 0.0668, -0.3374, -0.8593],\n",
              "        [-0.3394, -0.3627,  0.9669]])"
            ]
          },
          "execution_count": 124,
          "metadata": {},
          "output_type": "execute_result"
        }
      ],
      "source": [
        "m(inputi)"
      ]
    },
    {
      "cell_type": "code",
      "execution_count": null,
      "metadata": {
        "id": "mD_eIfVr9nAA"
      },
      "outputs": [],
      "source": [
        "import math"
      ]
    },
    {
      "cell_type": "code",
      "execution_count": null,
      "metadata": {
        "id": "NzMz7HDLySxK"
      },
      "outputs": [],
      "source": [
        "class ELU:\n",
        "    def __init__(self, alpha):\n",
        "        self.alpha = alpha\n",
        "\n",
        "    def forward(self, inputs):\n",
        "        d = inputs[(inputs < 0)]\n",
        "        c = torch.zeros_like(d)\n",
        "        c = self.alpha*(torch.exp(d) - 1)\n",
        "        inputs[(inputs < 0)] = c\n",
        "        return inputs\n",
        "    "
      ]
    },
    {
      "cell_type": "code",
      "execution_count": null,
      "metadata": {
        "id": "KLvAviCG9nAA",
        "outputId": "5afeb2d0-5c40-4c40-c8ed-ea2aac082ef6"
      },
      "outputs": [
        {
          "data": {
            "text/plain": [
              "tensor([[ 1.3268,  1.5782, -0.5134],\n",
              "        [-0.4995, -0.3659,  1.4412],\n",
              "        [-0.0499,  0.6448, -0.4759],\n",
              "        [ 0.2759,  0.5214, -0.9744]])"
            ]
          },
          "execution_count": 168,
          "metadata": {},
          "output_type": "execute_result"
        }
      ],
      "source": [
        "ELU(1).forward(inputi)"
      ]
    },
    {
      "cell_type": "markdown",
      "metadata": {
        "id": "0peh8r-20Pof"
      },
      "source": [
        "## 2.3 Создание функции потерь"
      ]
    },
    {
      "cell_type": "markdown",
      "metadata": {
        "id": "EY-k3eEs0f7f"
      },
      "source": [
        "2.3.1 Используя операции над матрицами и векторами из библиотеки `torch`, реализовать функцию потерь MSE:\n",
        "\n",
        "![](https://wikimedia.org/api/rest_v1/media/math/render/svg/e258221518869aa1c6561bb75b99476c4734108e)\n",
        "\n",
        "Создать полносвязный слой с 1 нейроном, прогнать через него батч `inputs` и посчитать значение MSE, трактуя вектор `y` как вектор правильных ответов."
      ]
    },
    {
      "cell_type": "code",
      "execution_count": null,
      "metadata": {
        "id": "f9-wdj5Tz-br"
      },
      "outputs": [],
      "source": [
        "class MSELoss:\n",
        "      def forward(self, y_true, y_pred):\n",
        "        diff = y_pred - y_true\n",
        "        differences_squared = diff ** 2 \n",
        "        mean_diff = torch.mean(differences_squared)\n",
        "        return mean_diff.item()"
      ]
    },
    {
      "cell_type": "code",
      "execution_count": null,
      "metadata": {
        "id": "NAyuDU9F1Vuz"
      },
      "outputs": [],
      "source": [
        "inputs = torch.tensor([[1, 2, 3, 2.5], \n",
        "                       [2, 5, -1, 2], \n",
        "                       [-1.5, 2.7, 3.3, -0.8]])\n",
        "\n",
        "y = torch.tensor([2, 3, 4])"
      ]
    },
    {
      "cell_type": "code",
      "execution_count": null,
      "metadata": {
        "colab": {
          "base_uri": "https://localhost:8080/"
        },
        "id": "NDu-0ZP_9nAA",
        "outputId": "f964aae6-8ecd-4b7b-cd08-edca5ea96b3b"
      },
      "outputs": [
        {
          "output_type": "execute_result",
          "data": {
            "text/plain": [
              "24.164337158203125"
            ]
          },
          "metadata": {},
          "execution_count": 23
        }
      ],
      "source": [
        "n_neurons = 1\n",
        "nn = Linear(inputs.shape[1], n_neurons)\n",
        "y_p = nn.forward(inputs)\n",
        "mse = MSELoss()\n",
        "mse.forward(y, y_p)"
      ]
    },
    {
      "cell_type": "code",
      "execution_count": null,
      "metadata": {
        "id": "QjsAtMea9nAB",
        "outputId": "fb38c6e1-2197-4a3f-b377-69915904f388"
      },
      "outputs": [
        {
          "data": {
            "text/plain": [
              "12.111837387084961"
            ]
          },
          "execution_count": 188,
          "metadata": {},
          "output_type": "execute_result"
        }
      ],
      "source": [
        "MSELoss().forward(y_true = y, n_features = n_features, n_neurons = n_neurons, inputs = inputs)"
      ]
    },
    {
      "cell_type": "code",
      "execution_count": null,
      "metadata": {
        "id": "zOufh6Kj9nAB"
      },
      "outputs": [],
      "source": [
        "#???"
      ]
    },
    {
      "cell_type": "markdown",
      "metadata": {
        "id": "uaR7rILd1eWR"
      },
      "source": [
        "2.3.2 Используя операции над матрицами и векторами из библиотеки `torch`, реализовать функцию потерь Categorical Cross-Entropy:\n",
        "\n",
        "<img src=\"https://i.ibb.co/93gy1dN/Screenshot-9.png\" width=\"200\">\n",
        "\n",
        "Создать полносвязный слой с 3 нейронами и прогнать через него батч `inputs`. Полученный результат пропустить через функцию активации softmax. Посчитать значение CCE, трактуя вектор `y` как вектор правильных ответов."
      ]
    },
    {
      "cell_type": "code",
      "execution_count": 2,
      "metadata": {
        "id": "hQl8pJsT3HcF"
      },
      "outputs": [],
      "source": [
        "class CategoricalCrossentropyLoss:\n",
        "        def forward(self, y_true, y_pred):\n",
        "            y_log = torch.log(y_pred)\n",
        "            res = y_log.gather(dim = 1, index = y_true.view(-1, 1).type(torch.int64))\n",
        "            return -(torch.sum(res))"
      ]
    },
    {
      "cell_type": "code",
      "execution_count": 3,
      "metadata": {
        "id": "s7Qoupfo1ZGJ"
      },
      "outputs": [],
      "source": [
        "inputi = torch.tensor([[1, 2, 3, 2.5], \n",
        "                        [2, 5, -1, 2], \n",
        "                        [-1.5, 2.7, 3.3, -0.8]])\n",
        "y = torch.tensor([1, 0, 0])"
      ]
    },
    {
      "cell_type": "code",
      "source": [
        "m = Softmax()\n",
        "y_p = Softmax().forward(inputi)"
      ],
      "metadata": {
        "id": "K_K2DWMbBt0o"
      },
      "execution_count": 6,
      "outputs": []
    },
    {
      "cell_type": "code",
      "source": [
        "n = CategoricalCrossentropyLoss()\n",
        "d = n.forward(y, y_p); d"
      ],
      "metadata": {
        "colab": {
          "base_uri": "https://localhost:8080/"
        },
        "id": "UAmQfiEkAO-X",
        "outputId": "e78cae11-f537-4fd7-9e3b-71fc8cd5d454"
      },
      "execution_count": 7,
      "outputs": [
        {
          "output_type": "execute_result",
          "data": {
            "text/plain": [
              "tensor(10.0971)"
            ]
          },
          "metadata": {},
          "execution_count": 7
        }
      ]
    },
    {
      "cell_type": "markdown",
      "source": [],
      "metadata": {
        "id": "Z_myBAZpGjwL"
      }
    },
    {
      "cell_type": "markdown",
      "metadata": {
        "id": "fA6dbanf44_4"
      },
      "source": [
        "2.3.3 Модифицировать 2.3.1, добавив L2-регуляризацию.\n",
        "\n",
        "![](https://wikimedia.org/api/rest_v1/media/math/render/svg/d92ca2429275bfdc0474523babbafe014ca8b580)\n"
      ]
    },
    {
      "cell_type": "code",
      "execution_count": null,
      "metadata": {
        "id": "ADsZxD-h4_Os"
      },
      "outputs": [],
      "source": [
        "class MSELossL2:\n",
        "  def __init__(self, lambda_):\n",
        "    self.lambda_ = lambda_\n",
        "\n",
        "  def data_loss(self, y_pred, y_true):\n",
        "    return torch.sum((y_true - y_pred)**2)\n",
        "\n",
        "  def reg_loss(self, layer):\n",
        "    return self.lambda_*(torch.sum(layer**2))\n",
        "\n",
        "  def forward(self, y_pred, y_true):\n",
        "    return self.data_loss(y_pred, y_true) + self.reg_loss(y_pred, y_true)"
      ]
    },
    {
      "cell_type": "markdown",
      "metadata": {
        "id": "w049ZSdR6qQi"
      },
      "source": [
        "## 2.4 Обратное распространение ошибки"
      ]
    },
    {
      "cell_type": "markdown",
      "metadata": {
        "id": "pBtCfSME9W7Q"
      },
      "source": [
        "2.4.1 Используя один нейрон и SGD (1 пример за шаг), решите задачу регрессии"
      ]
    },
    {
      "cell_type": "code",
      "execution_count": 10,
      "metadata": {
        "id": "4xmI-QJ66WAF",
        "colab": {
          "base_uri": "https://localhost:8080/"
        },
        "outputId": "36e64bb3-db72-45b9-e2bf-3bdd75a3901e"
      },
      "outputs": [
        {
          "output_type": "stream",
          "name": "stdout",
          "text": [
            "tensor([[ 7.6780e-01, -6.8620e-01,  1.2631e+00, -2.8872e-01],\n",
            "        [-1.7734e+00,  1.1224e+00, -8.8477e-01, -1.4543e-01],\n",
            "        [-1.2609e+00, -1.5720e+00,  1.9641e+00, -6.6260e-01],\n",
            "        [ 6.0457e-01,  1.1431e-02,  4.2441e-01,  1.1050e+00],\n",
            "        [-2.5719e-01,  1.8615e+00, -1.4998e-01, -1.0188e-01],\n",
            "        [ 1.1408e+00, -1.2100e-02, -2.3553e-02,  1.3068e-01],\n",
            "        [ 1.4180e-01,  1.1271e+00, -4.1172e-02, -1.2714e+00],\n",
            "        [ 1.9371e+00,  1.7808e+00, -6.9528e-01, -2.1304e-01],\n",
            "        [ 2.9651e-02, -2.3654e-01, -1.0546e-01, -1.8394e-01],\n",
            "        [ 1.2465e+00, -8.9073e-01, -3.5347e-01,  8.1038e-01],\n",
            "        [-1.3281e+00, -7.2703e-01, -1.4838e+00,  7.6372e-02],\n",
            "        [-1.1437e+00,  9.4183e-01, -3.3054e-01,  1.5276e+00],\n",
            "        [ 5.9651e-01, -7.3723e-02,  2.4682e-01, -1.4206e+00],\n",
            "        [-9.1149e-02,  3.4789e-01, -1.6677e+00, -1.3477e-01],\n",
            "        [-1.1009e+00,  1.1292e+00, -7.5064e-01,  4.1360e-01],\n",
            "        [-3.2711e-01,  7.2586e-01, -1.1065e-02, -1.5242e+00],\n",
            "        [ 2.8627e-01,  1.5272e+00, -7.5137e-02, -2.6099e-01],\n",
            "        [ 3.9475e-01, -6.0042e-02,  3.1497e-01, -2.5221e-01],\n",
            "        [ 2.4320e-01,  4.1031e-01, -1.0461e+00,  2.2896e-01],\n",
            "        [ 1.9780e+00, -4.3885e-01,  1.1100e+00, -5.0644e-01],\n",
            "        [-1.0531e+00, -4.8883e-01, -1.7041e-01,  3.4368e-01],\n",
            "        [-3.1861e-01,  2.0217e+00, -3.8428e-01, -1.2762e+00],\n",
            "        [ 6.1321e-01,  1.0435e+00,  7.7670e-01,  1.0419e+00],\n",
            "        [-5.1121e-01,  1.0368e-01, -1.4922e+00,  1.5245e+00],\n",
            "        [-5.8752e-01,  1.3243e+00,  2.9865e+00, -2.6548e-01],\n",
            "        [-1.8720e+00, -1.2845e-02,  1.0900e+00,  8.2824e-01],\n",
            "        [-6.7071e-01,  1.4194e-01, -2.5955e-02, -3.0141e-02],\n",
            "        [-1.4717e+00,  5.9524e-02,  1.9163e-01,  1.3135e+00],\n",
            "        [-1.7613e+00, -2.8023e-01,  6.5240e-01,  1.0887e-01],\n",
            "        [ 5.2944e-01,  1.4270e+00, -2.0687e-01, -1.0681e-01],\n",
            "        [-1.3559e+00,  3.4570e-01,  1.1244e+00, -3.9598e-01],\n",
            "        [-9.2604e-01, -4.2530e-01,  1.0487e+00, -2.0582e+00],\n",
            "        [-8.1991e-01, -8.6866e-01,  8.7542e-01, -3.0759e-01],\n",
            "        [ 8.4278e-01, -1.0440e-01, -4.3692e-01, -3.3473e-01],\n",
            "        [ 5.5723e-01, -1.6581e+00,  3.8347e-01, -1.7990e-01],\n",
            "        [ 9.7023e-02,  1.6090e+00, -2.7023e-04,  1.4867e+00],\n",
            "        [ 4.5464e-01, -1.0856e+00,  4.1741e-01,  3.4353e-02],\n",
            "        [ 9.2516e-02,  2.0554e-01, -1.4117e+00,  1.4520e+00],\n",
            "        [-1.0597e+00, -3.0822e-01, -9.4284e-01,  1.2423e+00],\n",
            "        [-1.4206e+00, -5.6199e-01,  3.5279e-02, -6.2352e-01],\n",
            "        [ 1.6180e-01, -1.7102e+00, -3.1850e-01, -1.9538e-01],\n",
            "        [ 1.0129e+00, -2.6306e-01,  4.8591e-01, -1.2167e+00],\n",
            "        [ 3.0039e-01, -4.2880e-01, -6.0278e-01, -1.8027e+00],\n",
            "        [ 7.4499e-01, -1.0858e+00, -3.1218e-01, -2.5274e+00],\n",
            "        [-1.0002e+00, -7.5040e-02, -1.6531e-01,  8.0312e-01],\n",
            "        [-2.0701e-02,  6.9722e-01, -1.1987e+00,  1.0879e+00],\n",
            "        [ 4.2879e-01, -5.0593e-01,  9.9416e-02, -6.3505e-01],\n",
            "        [-3.5231e-01,  1.8912e-02, -5.1135e-01,  1.3461e+00],\n",
            "        [ 4.9948e-01, -2.3632e+00,  9.5313e-01,  3.7713e-01],\n",
            "        [ 6.4957e-02,  4.1275e-01, -7.7974e-01,  6.6620e-02],\n",
            "        [-1.4549e-01,  5.1767e-01, -7.9416e-01, -9.7924e-01],\n",
            "        [ 9.1257e-01, -4.4365e-01, -3.5514e-01, -1.4503e+00],\n",
            "        [-7.2785e-02, -9.0089e-02,  1.8504e+00,  5.9102e-01],\n",
            "        [-7.8662e-01, -5.5651e-01,  7.9717e-01,  1.9596e+00],\n",
            "        [-1.3578e+00, -2.3555e-01,  1.2990e+00, -9.9875e-01],\n",
            "        [ 4.4593e-01,  1.4242e+00, -1.5899e+00, -8.5886e-01],\n",
            "        [-1.1208e+00,  1.9269e+00, -1.6371e-01, -4.5702e-01],\n",
            "        [ 1.1494e+00,  9.6278e-01, -2.4171e+00,  5.5025e-01],\n",
            "        [ 1.4241e+00, -5.4607e-01, -6.0905e-01, -4.7678e-01],\n",
            "        [-4.1387e-01, -1.4894e+00,  3.5517e-01,  8.5736e-02],\n",
            "        [ 2.9551e-01, -1.3562e+00,  5.8273e-01, -8.3537e-01],\n",
            "        [ 3.0408e-01, -2.7872e+00,  6.8323e-01,  7.9444e-01],\n",
            "        [ 1.3338e+00, -3.9870e-01, -7.7649e-01, -1.5513e+00],\n",
            "        [ 1.1999e+00,  7.8127e-02, -8.2784e-01,  1.8444e+00],\n",
            "        [ 4.2479e-01,  5.6695e-01, -8.4647e-01,  1.7115e+00],\n",
            "        [ 1.0818e+00, -4.7719e-01, -7.5626e-01, -4.0072e-01],\n",
            "        [ 5.5098e-01,  2.1309e+00, -1.0283e-01,  9.3713e-01],\n",
            "        [-1.5247e+00,  1.4629e+00, -2.9863e-01,  6.1507e-02],\n",
            "        [-4.9708e-01, -1.4139e+00, -9.6592e-03,  1.4648e+00],\n",
            "        [ 2.7619e-01,  3.6085e-01,  4.6426e-01,  1.0096e+00],\n",
            "        [-2.2231e-02, -4.6492e-01, -4.3319e-01, -1.7920e+00],\n",
            "        [-1.0527e+00,  4.8450e-01,  2.4715e+00, -6.7662e-01],\n",
            "        [ 2.3470e+00,  1.9519e-01, -5.4318e-01, -6.9665e-01],\n",
            "        [-2.7014e-01,  1.3084e-01, -6.1523e-01, -9.1456e-01],\n",
            "        [-1.7951e-01,  3.5404e-02,  2.8017e+00,  2.2483e+00],\n",
            "        [-5.3887e-01, -4.9068e-01, -3.4534e-01,  1.0408e+00],\n",
            "        [ 2.1373e-01, -1.2066e+00,  1.5501e+00,  3.9867e-01],\n",
            "        [-1.1380e+00, -5.2550e-01,  4.1106e-01,  1.0420e-01],\n",
            "        [-9.1749e-01,  6.5806e-01, -6.9780e-01,  7.2968e-01],\n",
            "        [ 1.3537e+00,  6.3390e-01, -5.3973e-01, -9.4289e-01],\n",
            "        [ 2.1122e-02,  9.5403e-02,  7.5222e-01, -1.7578e+00],\n",
            "        [-3.5027e-01,  5.4405e-01, -7.2865e-01,  1.2248e+00],\n",
            "        [-9.9859e-01, -2.7466e-02, -4.5485e-01,  3.0715e-01],\n",
            "        [ 2.4002e-01, -7.1849e-01, -9.2815e-01, -1.8430e+00],\n",
            "        [ 1.7286e-01,  1.9004e+00, -1.9077e-01, -1.8468e-01],\n",
            "        [ 9.9793e-02,  7.7117e-01, -1.4128e-01,  1.0105e+00],\n",
            "        [ 1.1133e+00,  2.3300e-02,  6.1924e-01,  3.1708e-01],\n",
            "        [-2.0367e+00, -8.4137e-01, -3.0910e-01,  5.7535e-01],\n",
            "        [-1.8946e+00, -2.1048e-01,  2.5278e+00,  1.6250e-01],\n",
            "        [ 8.5174e-01,  4.8381e-01,  8.5763e-01,  9.1879e-02],\n",
            "        [-7.5388e-01, -1.9999e+00,  4.7446e-02,  7.8419e-01],\n",
            "        [ 1.4171e+00,  1.5048e+00,  3.5051e-01,  8.7177e-01],\n",
            "        [ 3.7427e+00, -2.0170e-01, -2.2263e+00, -9.1153e-03],\n",
            "        [ 2.7400e-01, -1.2967e-01, -2.3371e+00,  2.5351e+00],\n",
            "        [-1.0219e+00,  5.6784e-01, -4.6514e-01, -2.5941e-02],\n",
            "        [-1.3050e+00,  1.6935e+00, -2.2202e-01, -1.4650e-02],\n",
            "        [ 1.2547e+00,  6.4405e-01, -1.0809e-01, -1.7837e+00],\n",
            "        [-1.2309e+00, -1.0219e-01, -1.5900e+00, -1.0197e+00],\n",
            "        [-1.6425e+00,  4.3850e-01, -2.0612e-01,  1.3203e+00],\n",
            "        [ 1.9097e-01,  1.7654e-01, -3.7399e-01,  6.7293e-01]]) tensor([-4.1879e+01,  2.2202e+01, -2.2488e+02,  7.4207e+01,  1.5658e+02,\n",
            "         5.3217e+01,  5.6303e+01,  2.3711e+02, -2.7868e+01,  5.5103e+00,\n",
            "        -1.2004e+02,  1.0345e+02, -4.1199e+01,  2.2247e+01,  7.5070e+01,\n",
            "        -1.1199e+01,  1.4210e+02,  1.1177e+00,  5.7841e+01,  2.2824e+01,\n",
            "        -7.4575e+01,  1.1881e+02,  1.6705e+02,  5.2452e+01,  8.7530e+01,\n",
            "        -4.4340e+01, -1.6119e+01, -5.2015e-01, -9.4971e+01,  1.4966e+02,\n",
            "        -4.1410e+01, -1.6474e+02, -1.2686e+02,  1.2186e+01, -1.3602e+02,\n",
            "         2.1580e+02, -7.8551e+01,  8.4347e+01, -2.0428e+01, -1.3782e+02,\n",
            "        -1.5850e+02, -3.2248e+01, -1.0299e+02, -1.7527e+02, -1.4752e+01,\n",
            "         1.0946e+02, -5.4821e+01,  4.4218e+01, -1.7950e+02,  4.3744e+01,\n",
            "         1.1532e-01, -6.3385e+01,  1.4979e+01, -5.6107e-01, -1.2049e+02,\n",
            "         1.1338e+02,  1.1098e+02,  1.6012e+02, -9.9590e+00, -1.5034e+02,\n",
            "        -1.4703e+02, -2.0921e+02, -4.5875e+01,  1.3640e+02,  1.4293e+02,\n",
            "        -1.4945e+01,  2.5970e+02,  7.3102e+01, -8.8559e+01,  8.8441e+01,\n",
            "        -1.1945e+02, -2.7135e+01,  8.8048e+01, -3.7953e+01,  9.2724e+01,\n",
            "        -2.3473e+01, -8.3960e+01, -9.1462e+01,  5.2897e+01,  7.5937e+01,\n",
            "        -6.4083e+01,  8.7409e+01, -3.1466e+01, -1.3406e+02,  1.7485e+02,\n",
            "         1.1853e+02,  6.3494e+01, -1.3890e+02, -9.1131e+01,  8.5357e+01,\n",
            "        -1.8222e+02,  2.3616e+02,  1.3907e+02,  1.0673e+02,  8.2126e+00,\n",
            "         1.0043e+02,  3.7189e+01, -1.0495e+02,  2.7256e+01,  5.3230e+01]) torch.Size([100, 4])\n"
          ]
        }
      ],
      "source": [
        "from sklearn.datasets import make_regression\n",
        "\n",
        "X, y, coef = make_regression(n_features=4, n_informative=4, coef=True, bias=0.5)\n",
        "X = torch.tensor(X, dtype = torch.float)\n",
        "y = torch.tensor(y, dtype = torch.float)\n",
        "print(X, y, X.size())"
      ]
    },
    {
      "cell_type": "markdown",
      "metadata": {
        "id": "KpPSPYSpD9Ey"
      },
      "source": [
        "[Граф вычислений для этой задачи](https://i.ibb.co/2dhDxZx/photo-2021-02-15-17-18-04.jpg)"
      ]
    },
    {
      "cell_type": "markdown",
      "metadata": {
        "id": "Fc1sXtGd_J-y"
      },
      "source": [
        "2.4.1.1 Реализуйте класс `SquaredLoss`\n"
      ]
    },
    {
      "cell_type": "code",
      "execution_count": 54,
      "metadata": {
        "id": "llFigkqd_JRU"
      },
      "outputs": [],
      "source": [
        "class SquaredLoss:\n",
        "  def forward(self, y_pred, y_true):\n",
        "    return torch.mean(torch.sum((y_true - y_pred)**2))\n",
        "\n",
        "  def backward(self, y_pred, y_true):\n",
        "    self.dinput = ((2* (y_pred - y_true)))\n"
      ]
    },
    {
      "cell_type": "markdown",
      "metadata": {
        "id": "GY7ForfM97UQ"
      },
      "source": [
        "2.4.1.2. Модифицируйте класс `Neuron` из __2.1.1__:\n",
        "\n",
        "  1) Сделайте так, чтобы веса нейрона инициализировались из стандартного нормального распределения\n",
        "\n",
        "  2) Реализуйте расчет градиента относительно весов `weights` и `bias`"
      ]
    },
    {
      "cell_type": "code",
      "execution_count": 51,
      "metadata": {
        "id": "L0KqxPJU9kAN"
      },
      "outputs": [],
      "source": [
        "class Neuron:\n",
        "  def __init__(self, n_inputs):\n",
        "    # <создать атрибуты объекта weights и bias>\n",
        "    self.weights = torch.randn(n_inputs, 1)\n",
        "    self.bias = torch.randn(1)\n",
        "  \n",
        "  def forward(self, inputs):\n",
        "    self.inputs = inputs\n",
        "    res = torch.matmul(inputs, self.weights) + self.bias\n",
        "    return res\n",
        "  \n",
        "  def backward(self, dvalue):\n",
        "    # dvalue - значение производной, которое приходит нейрону от следующего слоя сети\n",
        "    # в данном случае это будет значение df/dc (созданное методом backwards у объекта MSELoss)\n",
        "    self.dweights = (self.inputs*dvalue).unsqueeze(1)\n",
        "    self.dinput =  dvalue*self.weights\n",
        "    self.dbias = torch.mean(dvalue, dim=0)\n"
      ]
    },
    {
      "cell_type": "markdown",
      "metadata": {
        "id": "rKcO4zOLACxM"
      },
      "source": [
        "2.4.1.3 Допишите цикл для настройки весов нейрона\n",
        "\n",
        "[SGD](https://ru.wikipedia.org/wiki/%D0%A1%D1%82%D0%BE%D1%85%D0%B0%D1%81%D1%82%D0%B8%D1%87%D0%B5%D1%81%D0%BA%D0%B8%D0%B9_%D0%B3%D1%80%D0%B0%D0%B4%D0%B8%D0%B5%D0%BD%D1%82%D0%BD%D1%8B%D0%B9_%D1%81%D0%BF%D1%83%D1%81%D0%BA)\n",
        "\n",
        "![](https://wikimedia.org/api/rest_v1/media/math/render/svg/dda3670f8a8996a0d3bf80856bb4a166cc8db6d4)"
      ]
    },
    {
      "cell_type": "code",
      "execution_count": 55,
      "metadata": {
        "id": "_g_FvwvmALJd",
        "colab": {
          "base_uri": "https://localhost:8080/"
        },
        "outputId": "37d14c7b-2dc4-46d0-9f4f-19a2ed501428"
      },
      "outputs": [
        {
          "output_type": "stream",
          "name": "stdout",
          "text": [
            "эпоха 0 tensor(0.0326)\n",
            "эпоха 1 tensor(1.8859e-08)\n",
            "эпоха 2 tensor(2.3283e-10)\n",
            "эпоха 3 tensor(1.3097e-10)\n",
            "эпоха 4 tensor(2.3283e-10)\n",
            "эпоха 5 tensor(2.3283e-10)\n",
            "эпоха 6 tensor(2.3283e-10)\n",
            "эпоха 7 tensor(2.3283e-10)\n",
            "эпоха 8 tensor(2.3283e-10)\n",
            "эпоха 9 tensor(2.3283e-10)\n",
            "эпоха 10 tensor(2.3283e-10)\n",
            "эпоха 11 tensor(2.3283e-10)\n",
            "эпоха 12 tensor(2.3283e-10)\n",
            "эпоха 13 tensor(2.3283e-10)\n",
            "эпоха 14 tensor(2.3283e-10)\n",
            "эпоха 15 tensor(2.3283e-10)\n",
            "эпоха 16 tensor(2.3283e-10)\n",
            "эпоха 17 tensor(2.3283e-10)\n",
            "эпоха 18 tensor(2.3283e-10)\n",
            "эпоха 19 tensor(2.3283e-10)\n",
            "эпоха 20 tensor(2.3283e-10)\n",
            "эпоха 21 tensor(2.3283e-10)\n",
            "эпоха 22 tensor(2.3283e-10)\n",
            "эпоха 23 tensor(2.3283e-10)\n",
            "эпоха 24 tensor(2.3283e-10)\n",
            "эпоха 25 tensor(2.3283e-10)\n",
            "эпоха 26 tensor(2.3283e-10)\n",
            "эпоха 27 tensor(2.3283e-10)\n",
            "эпоха 28 tensor(2.3283e-10)\n",
            "эпоха 29 tensor(2.3283e-10)\n",
            "эпоха 30 tensor(2.3283e-10)\n",
            "эпоха 31 tensor(2.3283e-10)\n",
            "эпоха 32 tensor(2.3283e-10)\n",
            "эпоха 33 tensor(2.3283e-10)\n",
            "эпоха 34 tensor(2.3283e-10)\n",
            "эпоха 35 tensor(2.3283e-10)\n",
            "эпоха 36 tensor(2.3283e-10)\n",
            "эпоха 37 tensor(2.3283e-10)\n",
            "эпоха 38 tensor(2.3283e-10)\n",
            "эпоха 39 tensor(2.3283e-10)\n",
            "эпоха 40 tensor(2.3283e-10)\n",
            "эпоха 41 tensor(2.3283e-10)\n",
            "эпоха 42 tensor(2.3283e-10)\n",
            "эпоха 43 tensor(2.3283e-10)\n",
            "эпоха 44 tensor(2.3283e-10)\n",
            "эпоха 45 tensor(2.3283e-10)\n",
            "эпоха 46 tensor(2.3283e-10)\n",
            "эпоха 47 tensor(2.3283e-10)\n",
            "эпоха 48 tensor(2.3283e-10)\n",
            "эпоха 49 tensor(2.3283e-10)\n",
            "эпоха 50 tensor(2.3283e-10)\n",
            "эпоха 51 tensor(2.3283e-10)\n",
            "эпоха 52 tensor(2.3283e-10)\n",
            "эпоха 53 tensor(2.3283e-10)\n",
            "эпоха 54 tensor(2.3283e-10)\n",
            "эпоха 55 tensor(2.3283e-10)\n",
            "эпоха 56 tensor(2.3283e-10)\n",
            "эпоха 57 tensor(2.3283e-10)\n",
            "эпоха 58 tensor(2.3283e-10)\n",
            "эпоха 59 tensor(2.3283e-10)\n",
            "эпоха 60 tensor(2.3283e-10)\n",
            "эпоха 61 tensor(2.3283e-10)\n",
            "эпоха 62 tensor(2.3283e-10)\n",
            "эпоха 63 tensor(2.3283e-10)\n",
            "эпоха 64 tensor(2.3283e-10)\n",
            "эпоха 65 tensor(2.3283e-10)\n",
            "эпоха 66 tensor(2.3283e-10)\n",
            "эпоха 67 tensor(2.3283e-10)\n",
            "эпоха 68 tensor(2.3283e-10)\n",
            "эпоха 69 tensor(2.3283e-10)\n",
            "эпоха 70 tensor(2.3283e-10)\n",
            "эпоха 71 tensor(2.3283e-10)\n",
            "эпоха 72 tensor(2.3283e-10)\n",
            "эпоха 73 tensor(2.3283e-10)\n",
            "эпоха 74 tensor(2.3283e-10)\n",
            "эпоха 75 tensor(2.3283e-10)\n",
            "эпоха 76 tensor(2.3283e-10)\n",
            "эпоха 77 tensor(2.3283e-10)\n",
            "эпоха 78 tensor(2.3283e-10)\n",
            "эпоха 79 tensor(2.3283e-10)\n",
            "эпоха 80 tensor(2.3283e-10)\n",
            "эпоха 81 tensor(2.3283e-10)\n",
            "эпоха 82 tensor(2.3283e-10)\n",
            "эпоха 83 tensor(2.3283e-10)\n",
            "эпоха 84 tensor(2.3283e-10)\n",
            "эпоха 85 tensor(2.3283e-10)\n",
            "эпоха 86 tensor(2.3283e-10)\n",
            "эпоха 87 tensor(2.3283e-10)\n",
            "эпоха 88 tensor(2.3283e-10)\n",
            "эпоха 89 tensor(2.3283e-10)\n",
            "эпоха 90 tensor(2.3283e-10)\n",
            "эпоха 91 tensor(2.3283e-10)\n",
            "эпоха 92 tensor(2.3283e-10)\n",
            "эпоха 93 tensor(2.3283e-10)\n",
            "эпоха 94 tensor(2.3283e-10)\n",
            "эпоха 95 tensor(2.3283e-10)\n",
            "эпоха 96 tensor(2.3283e-10)\n",
            "эпоха 97 tensor(2.3283e-10)\n",
            "эпоха 98 tensor(2.3283e-10)\n",
            "эпоха 99 tensor(2.3283e-10)\n"
          ]
        }
      ],
      "source": [
        "n_inputs = 4 # <размерность элемента выборки >\n",
        "learning_rate = 0.1 #  скорость обучения\n",
        "n_epoch = 100 #  количество эпох\n",
        "\n",
        "neuron = Neuron(n_inputs)\n",
        "loss = SquaredLoss()\n",
        "\n",
        "losses = []\n",
        "for epoch in range(100):\n",
        "  for x, yy in zip(X, y):\n",
        "    y_pred = neuron.forward(x)\n",
        "    curr_loss = loss.forward(y_pred, yy)\n",
        "    losses.append(curr_loss)\n",
        "\n",
        "    # backprop\n",
        "    # <вызов методов backward>\n",
        "    loss.backward(y_pred, yy)\n",
        "    neuron.backward(loss.dinput)\n",
        "    # <шаг оптимизации для весов (weights и bias) нейрона>\n",
        "    neuron.weights -= learning_rate * neuron.dweights\n",
        "    neuron.bias -= learning_rate * neuron.dbias\n",
        "  print('эпоха', epoch, curr_loss)"
      ]
    },
    {
      "cell_type": "markdown",
      "metadata": {
        "id": "ebibge9VEgF7"
      },
      "source": [
        "2.4.2 Решите задачу 2.4.1, используя пакетный градиентный спуск"
      ]
    },
    {
      "cell_type": "markdown",
      "metadata": {
        "id": "as-QeWSdOELd"
      },
      "source": [
        "Вычисления для этой задачи: \n",
        "[1](https://i.ibb.co/rmtQT6P/photo-2021-02-15-18-00-43.jpg)\n",
        "[2](https://i.ibb.co/NmCFVnQ/photo-2021-02-15-18-01-17.jpg)"
      ]
    },
    {
      "cell_type": "markdown",
      "metadata": {
        "id": "dr9qq4H_J3zt"
      },
      "source": [
        "2.4.1.1 Модифицируйте класс `MSELoss` из __2.3.1__, реализовав расчет производной относительно предыдущего слоя с учетом того, что теперь работа ведется с батчами, а не с индивидуальными примерами\n",
        " "
      ]
    },
    {
      "cell_type": "code",
      "execution_count": null,
      "metadata": {
        "id": "L8wjk9iPMQ4x"
      },
      "outputs": [],
      "source": [
        "class MSELoss:\n",
        "  def forward(self, y_pred, y_true):\n",
        "    return # <реализовать логику MSE>\n",
        "\n",
        "  def backward(self, y_pred, y_true):\n",
        "    self.dinput = # df/dy^\n"
      ]
    },
    {
      "cell_type": "markdown",
      "metadata": {
        "id": "E3fSHCEtJjX8"
      },
      "source": [
        "2.4.2.2. Модифицируйте класс `Neuron` из __2.4.1.2__:\n",
        "\n",
        "  1) Реализуйте метод `forward` таким образом, чтобы он мог принимать на вход матрицу (батч) с данными. \n",
        "\n",
        "  2) Реализуйте расчет градиента относительно весов `weights` и `bias` с учетом того, что теперь работа ведется с батчами, а не с индивидуальными примерами"
      ]
    },
    {
      "cell_type": "code",
      "execution_count": null,
      "metadata": {
        "id": "o_OpuAP0Jpz1"
      },
      "outputs": [],
      "source": [
        "class Neuron:\n",
        "  def __init__(self, n_inputs):\n",
        "    # <создать атрибуты объекта weights и bias>\n",
        "    pass\n",
        "  \n",
        "  def forward(self, inputs):\n",
        "    return # <реализовать логику нейрона>\n",
        "  \n",
        "  def backward(self, dvalue):\n",
        "    # dvalue - значение градиента, которое приходит нейрону от следующего слоя сети\n",
        "    # в данном случае это будет градиент L по y^ (созданный методом backwards у объекта MSELoss)\n",
        "    self.dweights = # df/dW\n",
        "    self.dbias = # df/db\n"
      ]
    },
    {
      "cell_type": "markdown",
      "metadata": {
        "id": "zO-NZrgKMBFx"
      },
      "source": [
        "2.4.2.3 Допишите цикл для настройки весов нейрона"
      ]
    },
    {
      "cell_type": "code",
      "execution_count": null,
      "metadata": {
        "id": "Zqwm_7eqJim1"
      },
      "outputs": [],
      "source": [
        "n_inputs = 100 # <размерность элемента выборки >\n",
        "learning_rate = 0.1 #  скорость обучения\n",
        "n_epoch = 100 #  количество эпох\n",
        "\n",
        "neuron = Neuron(n_inputs)\n",
        "loss = MSELoss()\n",
        "\n",
        "\n",
        "for epoch in range(100):\n",
        "    # forward pass\n",
        "    y_pred = # <прогон через нейрон>\n",
        "    curr_loss = # <прогон через функцию потерь>\n",
        "    losses.append(curr_loss)\n",
        "\n",
        "    # backprop\n",
        "    # <вызов методов backward>\n",
        "    # обратите внимание на последовательность вызовов: от конца к началу\n",
        "\n",
        "    # <шаг оптимизации для весов (weights и bias) нейрона>"
      ]
    },
    {
      "cell_type": "markdown",
      "metadata": {
        "id": "16VtP159OdMk"
      },
      "source": [
        "2.4.3  Используя один полносвязный слой и  пакетный градиетный спуск, решите задачу регрессии из __2.4.1__"
      ]
    },
    {
      "cell_type": "markdown",
      "metadata": {
        "id": "uj5febreSSZ7"
      },
      "source": [
        "2.4.3.1 Модифицируйте класс `Linear` из __2.1.4__. ([вычисление градиентов](https://i.ibb.co/kgVR6m6/photo-2021-02-15-21-30-28.jpg))"
      ]
    },
    {
      "cell_type": "code",
      "execution_count": null,
      "metadata": {
        "id": "9zWuhaLdSB2_"
      },
      "outputs": [],
      "source": [
        "class Linear:\n",
        "  def __init__(self, n_features, n_neurons):\n",
        "    # <создать атрибуты объекта weights и biases>\n",
        "    pass\n",
        "  \n",
        "  def forward(self, inputs):\n",
        "    return # <реализовать логику слоя>\n",
        "\n",
        "  def backward(self, dvalues):\n",
        "    self.dweights = # df/dW\n",
        "    self.dbiases = # df/db\n",
        "    self.dinputs = # df/dX"
      ]
    },
    {
      "cell_type": "markdown",
      "metadata": {
        "id": "j3w1hT9MS_Lt"
      },
      "source": [
        "2.4.3.2 Создайте слой с одним нейроном. Используя класс MSELoss из 2.4.2, убедитесь, что модель обучается"
      ]
    },
    {
      "cell_type": "markdown",
      "metadata": {
        "id": "RTkJV-F8TVuN"
      },
      "source": [
        "2.4.4 Используя наработки из 2.4, создайте нейросеть и решите задачу регрессии.\n",
        "\n",
        "Предлагаемая архитектура: \n",
        "1. Полносвязный слой с 10 нейронами\n",
        "2. Активация ReLU\n",
        "3. Полносвязный слой с 1 нейроном"
      ]
    },
    {
      "cell_type": "code",
      "execution_count": null,
      "metadata": {
        "id": "axUjpPz-SvS1"
      },
      "outputs": [],
      "source": [
        "X = torch.linspace(-1, 1, 100).view(-1, 1)\n",
        "y = X.pow(2) + 0.2 * torch.rand(X.size()) "
      ]
    },
    {
      "cell_type": "code",
      "execution_count": null,
      "metadata": {
        "id": "LXoiNxkpTziV"
      },
      "outputs": [],
      "source": [
        "class Activation_ReLU:\n",
        "  def forward(self, inputs):\n",
        "    self.inputs = inputs\n",
        "    self.output = inputs.clip(min=0)\n",
        "    return self.output\n",
        "  \n",
        "  def backward(self, dvalues):\n",
        "    self.dinputs = dvalues.clone()\n",
        "    self.dinputs[self.inputs <= 0] = 0"
      ]
    },
    {
      "cell_type": "code",
      "execution_count": null,
      "metadata": {
        "id": "tXhspwW6T44T"
      },
      "outputs": [],
      "source": [
        "# создание компонентов сети\n",
        "# fc1 = \n",
        "# relu1 = \n",
        "# fc2 = \n",
        "\n",
        "loss = MSELoss()\n",
        "lr = 0.02\n",
        "\n",
        "ys = []\n",
        "for epoch in range(2001):\n",
        "  # <forward pass>\n",
        "  # fc1 > relu1 > fc2 > loss\n",
        "\n",
        "  data_loss = # <прогон через функцию потерь>\n",
        "\n",
        "  if epoch % 200 == 0:\n",
        "    print(f'epoch {epoch} mean loss {data_loss}')\n",
        "    ys.append(out)\n",
        "  \n",
        "  # <backprop> \n",
        "  # loss > fc2 > relu1 > fc1\n",
        "\n",
        "  # <шаг оптимизации для fc1>\n",
        "\n",
        "  # <шаг оптимизации для fc2>\n"
      ]
    },
    {
      "cell_type": "code",
      "execution_count": null,
      "metadata": {
        "id": "kpKi0OfoUkwk"
      },
      "outputs": [],
      "source": [
        "import matplotlib.pyplot as plt\n",
        "\n",
        "fig, axs = plt.subplots(len(ys), 1, figsize=(10, 40))\n",
        "for ax, y_ in zip(axs, ys):\n",
        "  ax.scatter(X.numpy(), y.numpy(), color = \"orange\")\n",
        "  ax.plot(X.numpy(), y_.numpy(), 'g-', lw=3)\n",
        "  ax.set_xlim(-1.05, 1.5)\n",
        "  ax.set_ylim(-0.25, 1.25)"
      ]
    }
  ],
  "metadata": {
    "colab": {
      "provenance": [],
      "collapsed_sections": []
    },
    "kernelspec": {
      "display_name": "Python 3 (ipykernel)",
      "language": "python",
      "name": "python3"
    },
    "language_info": {
      "codemirror_mode": {
        "name": "ipython",
        "version": 3
      },
      "file_extension": ".py",
      "mimetype": "text/x-python",
      "name": "python",
      "nbconvert_exporter": "python",
      "pygments_lexer": "ipython3",
      "version": "3.9.7"
    }
  },
  "nbformat": 4,
  "nbformat_minor": 0
}