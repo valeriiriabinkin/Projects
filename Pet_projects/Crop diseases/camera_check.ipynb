{
 "cells": [
  {
   "cell_type": "code",
   "execution_count": 1,
   "id": "ca9548f6",
   "metadata": {},
   "outputs": [],
   "source": [
    "import matplotlib.pyplot as plt\n",
    "import cv2\n",
    "import numpy as np\n",
    "from IPython.display import display, Image\n",
    "import ipywidgets as widgets\n",
    "import threading\n",
    "import tensorflow as tf\n",
    "from keras.models import load_model\n",
    "from keras.preprocessing import image\n",
    "from tensorflow.keras.utils import img_to_array\n",
    "from tensorflow.keras.applications.resnet50 import preprocess_input, decode_predictions\n",
    "import numpy as np\n",
    "import time\n",
    "from PIL import Image"
   ]
  },
  {
   "cell_type": "code",
   "execution_count": 2,
   "id": "195b3f55",
   "metadata": {},
   "outputs": [],
   "source": [
    "def camera_use(model_name, img_width, img_height, timer):\n",
    "    Timer = int(timer)\n",
    "    camera = cv2.VideoCapture(0)\n",
    "    prev = time.time()\n",
    "    while Timer >= 0:\n",
    "        cur = time.time()\n",
    "\n",
    "        if cur-prev >= 1:\n",
    "            prev = cur\n",
    "            Timer = Timer-1\n",
    "    else:\n",
    "        return_value, image = camera.read()\n",
    "        cv2.imshow('a', image)\n",
    "        cv2.imwrite('camera.jpg', image)\n",
    "        cv2.imwrite('camera2.jpg', image)\n",
    "    camera.release()\n",
    "    cv2.destroyAllWindows()\n",
    "    image = tf.keras.utils.load_img('camera.jpg', target_size=(img_width, img_height))\n",
    "    img_array = img_to_array(image)\n",
    "    img_batch = np.expand_dims(img_array, axis=0)\n",
    "    img_preprocessed = preprocess_input(img_batch)\n",
    "    model = load_model(model_name)\n",
    "    training_ds = tf.keras.preprocessing.image_dataset_from_directory(\n",
    "    r'C:\\Users\\nabr9\\OneDrive\\Documents\\диплом\\data\\data\\train',\n",
    "    seed=42,\n",
    "    image_size= (img_height, img_width),\n",
    "    batch_size=100)\n",
    "    prediction = model.predict(img_preprocessed)\n",
    "    calss_pred = prediction.argmax(axis=-1)\n",
    "    result = training_ds.class_names[calss_pred[0]]\n",
    "    \n",
    "    image = Image.open('camera2.jpg')\n",
    "    return result, image.show()"
   ]
  },
  {
   "cell_type": "code",
   "execution_count": 3,
   "id": "0f92f1fd",
   "metadata": {},
   "outputs": [
    {
     "name": "stdout",
     "output_type": "stream",
     "text": [
      "Found 77873 files belonging to 43 classes.\n",
      "1/1 [==============================] - 0s 174ms/step\n"
     ]
    },
    {
     "data": {
      "text/plain": [
       "('Corn_(maize)___Common_rust_', None)"
      ]
     },
     "execution_count": 3,
     "metadata": {},
     "output_type": "execute_result"
    }
   ],
   "source": [
    "camera_use('model.h5', 200, 200, 5)"
   ]
  },
  {
   "cell_type": "code",
   "execution_count": null,
   "id": "848d5e42",
   "metadata": {},
   "outputs": [],
   "source": []
  },
  {
   "cell_type": "code",
   "execution_count": 8,
   "id": "dc8b7ab8",
   "metadata": {},
   "outputs": [],
   "source": [
    "# camera = cv2.VideoCapture(0)\n",
    "# for i in range(20):\n",
    "#     if i == 18:\n",
    "#         return_value, image = camera.read()\n",
    "#         cv2.imwrite('opencv'+str(i)+'.png', image)\n",
    "#         check = 'opencv'+str(i)+'.png'\n",
    "# del(camera)"
   ]
  },
  {
   "cell_type": "code",
   "execution_count": 36,
   "id": "26ba2bec",
   "metadata": {},
   "outputs": [],
   "source": [
    "# img_width, img_height = 200, 200\n",
    "# img = tf.keras.utils.load_img(check, target_size=(img_width, img_height))\n",
    "# img_array = img_to_array(img)\n",
    "# img_batch = np.expand_dims(img_array, axis=0)\n",
    "# img_preprocessed = preprocess_input(img_batch)"
   ]
  },
  {
   "cell_type": "code",
   "execution_count": 37,
   "id": "ffc1c75f",
   "metadata": {},
   "outputs": [],
   "source": [
    "# model = load_model('model.h5')"
   ]
  },
  {
   "cell_type": "code",
   "execution_count": 38,
   "id": "fbc19e7e",
   "metadata": {},
   "outputs": [],
   "source": [
    "# prediction = model.predict(img_preprocessed); prediction"
   ]
  },
  {
   "cell_type": "code",
   "execution_count": 39,
   "id": "cc5560fc",
   "metadata": {},
   "outputs": [],
   "source": [
    "# calss_pred = prediction.argmax(axis=-1)"
   ]
  },
  {
   "cell_type": "code",
   "execution_count": 40,
   "id": "e844a6e6",
   "metadata": {},
   "outputs": [],
   "source": [
    "# calss_pred[0]"
   ]
  },
  {
   "cell_type": "code",
   "execution_count": 41,
   "id": "08800415",
   "metadata": {},
   "outputs": [],
   "source": [
    "# training_ds = tf.keras.preprocessing.image_dataset_from_directory(\n",
    "#     r'C:\\Users\\nabr9\\OneDrive\\Documents\\диплом\\New Plant Diseases Dataset(Augmented)\\New Plant Diseases Dataset(Augmented)\\train',\n",
    "#     seed=42,\n",
    "#     image_size= (img_height, img_width),\n",
    "#     batch_size=100\n",
    "\n",
    "# )"
   ]
  },
  {
   "cell_type": "code",
   "execution_count": 42,
   "id": "4baafa00",
   "metadata": {},
   "outputs": [],
   "source": [
    "# class_names = training_ds.class_names; class_names"
   ]
  },
  {
   "cell_type": "code",
   "execution_count": 43,
   "id": "ac196387",
   "metadata": {},
   "outputs": [],
   "source": [
    "# class_names[calss_pred[0]]"
   ]
  }
 ],
 "metadata": {
  "kernelspec": {
   "display_name": "Python 3 (ipykernel)",
   "language": "python",
   "name": "python3"
  },
  "language_info": {
   "codemirror_mode": {
    "name": "ipython",
    "version": 3
   },
   "file_extension": ".py",
   "mimetype": "text/x-python",
   "name": "python",
   "nbconvert_exporter": "python",
   "pygments_lexer": "ipython3",
   "version": "3.9.13"
  }
 },
 "nbformat": 4,
 "nbformat_minor": 5
}
